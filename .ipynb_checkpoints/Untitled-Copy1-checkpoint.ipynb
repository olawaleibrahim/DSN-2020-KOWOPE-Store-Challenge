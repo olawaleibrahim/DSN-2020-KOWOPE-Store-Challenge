{
 "cells": [
  {
   "cell_type": "code",
   "execution_count": 1,
   "metadata": {},
   "outputs": [],
   "source": [
    "import pandas as pd\n",
    "import numpy as np\n",
    "import matplotlib.pyplot as plt\n",
    "import seaborn as sns\n",
    "import sklearn\n",
    "from sklearn.ensemble import RandomForestClassifier\n",
    "#!pip install catboost\n",
    "#import catboost as cat\n",
    "from sklearn.linear_model import LinearRegression, LogisticRegression\n",
    "from catboost import CatBoostClassifier\n",
    "from sklearn import preprocessing\n",
    "import sklearn.model_selection as ms\n",
    "from sklearn.model_selection import GridSearchCV, KFold, StratifiedKFold\n",
    "from sklearn.metrics import log_loss, confusion_matrix, accuracy_score, f1_score, roc_auc_score\n",
    "from xgboost import XGBClassifier\n",
    "from lightgbm import LGBMClassifier"
   ]
  },
  {
   "cell_type": "code",
   "execution_count": 2,
   "metadata": {},
   "outputs": [],
   "source": [
    "import pandas as pd\n",
    "import numpy as np"
   ]
  },
  {
   "cell_type": "code",
   "execution_count": 2,
   "metadata": {},
   "outputs": [],
   "source": [
    "def fill_missing_values(data):\n",
    "    \n",
    "    '''\n",
    "    Function to input missing values based on the column object type\n",
    "    '''\n",
    "    \n",
    "    cols = list(data.columns)\n",
    "    for col in cols:\n",
    "        if data[col].dtype == 'int64' or data[col].dtype == 'float64':\n",
    "        \n",
    "            data[col] = data[col].fillna(data[col].mean())\n",
    "        \n",
    "        #elif data[col].dtype == 'O' or data[col].dtype == 'object':\n",
    "        #    data[col] = data[col].fillna(data[col].mode()[0])\n",
    "            \n",
    "        else:\n",
    "            data[col] = data[col].fillna(data[col].mode()[0])\n",
    "            \n",
    "    return data\n",
    " \n",
    "def one_hot_encoding(traindata, *args):\n",
    "    \n",
    "    for ii in args:\n",
    "        traindata = pd.get_dummies(traindata, prefix=[ii], columns=[ii])\n",
    "        \n",
    "    return traindata\n",
    " \n",
    "def drop_columns(traindata, *args):\n",
    "    \n",
    "    #labels = np.array(traindata[target])\n",
    "    \n",
    "    columns = []\n",
    "    for _ in args:\n",
    "        columns.append(_)\n",
    "        \n",
    "    traindata = traindata.drop(columns, axis=1)\n",
    "    #traindata = traindata.drop(target, axis=1)\n",
    "    #testdata = testdata.drop(columns, axis=1)\n",
    "        \n",
    "    return traindata\n",
    "\n",
    "def make_submission(prediction, filename):\n",
    "    sample = pd.read_csv('SampleSubmission.csv')\n",
    "    test = pd.read_csv('Test.csv')\n",
    "    sample.Applicant_ID = test.Applicant_ID\n",
    "    sample.default_status = prediction\n",
    "    sample.to_csv(filename, index = False)\n",
    " \n",
    "def process(traindata):\n",
    "    \n",
    "    cols = list(traindata.columns)\n",
    "    for _ in cols:\n",
    "        traindata[_] = np.where(traindata[_] == np.inf, -999, traindata[_])\n",
    "        traindata[_] = np.where(traindata[_] == np.nan, -999, traindata[_])\n",
    "        traindata[_] = np.where(traindata[_] == -np.inf, -999, traindata[_])\n",
    "        \n",
    "    return traindata\n",
    " \n",
    "def show_evaluation(pred, true):\n",
    "  print(f'Default score: {score(true.values, pred)}')\n",
    "  print(f'Accuracy is: {accuracy_score(true, pred)}')\n",
    "  print(f'F1 is: {f1_score(pred, true.values, average=\"weighted\")}')\n",
    " \n",
    "def freq_encode(data, cols):\n",
    "    for i in cols:\n",
    "        encoding = data.groupby(i).size()\n",
    "        encoding = encoding/len(data)\n",
    "        data[i + '_enc'] = data[i].map(encoding)\n",
    "    return data\n",
    " \n",
    " \n",
    "def mean_target(data, cols):\n",
    "    kf = KFold(5)\n",
    "    a = pd.DataFrame()\n",
    "    for tr_ind, val_ind in kf.split(data):\n",
    "        X_tr, X_val= data.iloc[tr_ind].copy(), data.iloc[val_ind].copy()\n",
    "        for col in cols:\n",
    "            means = X_val[col].map(X_tr.groupby(col).default_status.mean())\n",
    "            X_val[col + '_mean_target'] = means + 0.0001\n",
    "        a = pd.concat((a, X_val))\n",
    "    #prior = FORCE_2020_LITHOFACIES_LITHOLOGY.mean()\n",
    "    #a.fillna(prior, inplace=True)\n",
    "    return a\n"
   ]
  },
  {
   "cell_type": "code",
   "execution_count": 3,
   "metadata": {},
   "outputs": [],
   "source": [
    "train = pd.read_csv('Train.csv')\n",
    "test = pd.read_csv('Test.csv')\n",
    "sample = pd.read_csv('SampleSubmission.csv')"
   ]
  },
  {
   "cell_type": "code",
   "execution_count": 4,
   "metadata": {},
   "outputs": [],
   "source": [
    "#train.describe()"
   ]
  },
  {
   "cell_type": "code",
   "execution_count": 5,
   "metadata": {},
   "outputs": [],
   "source": [
    "target = train.default_status\n",
    "target_numbers = {'yes': 1,\n",
    "                  'no': 0}\n",
    "\n",
    "target = target.map(target_numbers)"
   ]
  },
  {
   "cell_type": "code",
   "execution_count": null,
   "metadata": {},
   "outputs": [],
   "source": []
  },
  {
   "cell_type": "code",
   "execution_count": 6,
   "metadata": {},
   "outputs": [
    {
     "data": {
      "text/plain": [
       "((56000, 52), (24000, 51))"
      ]
     },
     "execution_count": 6,
     "metadata": {},
     "output_type": "execute_result"
    }
   ],
   "source": [
    "train.shape, test.shape"
   ]
  },
  {
   "cell_type": "code",
   "execution_count": null,
   "metadata": {},
   "outputs": [],
   "source": []
  },
  {
   "cell_type": "code",
   "execution_count": 6,
   "metadata": {},
   "outputs": [
    {
     "data": {
      "text/plain": [
       "(80000, 52)"
      ]
     },
     "execution_count": 6,
     "metadata": {},
     "output_type": "execute_result"
    }
   ],
   "source": [
    "ntrain = train.shape[0]\n",
    "ntest = test.shape[0]\n",
    "#target = train.default_status.copy()\n",
    "df = pd.concat((train, test)).reset_index(drop=True)\n",
    "df.shape"
   ]
  },
  {
   "cell_type": "code",
   "execution_count": 7,
   "metadata": {},
   "outputs": [],
   "source": [
    "df = df.drop(['Applicant_ID'], axis=1)"
   ]
  },
  {
   "cell_type": "code",
   "execution_count": 8,
   "metadata": {},
   "outputs": [],
   "source": [
    "#print(df.shape)\n",
    "#cols = ['form_field31', 'form_field40']\n",
    "#df = drop_columns(df, *cols)\n",
    "#print(df.shape)"
   ]
  },
  {
   "cell_type": "code",
   "execution_count": 9,
   "metadata": {},
   "outputs": [
    {
     "name": "stdout",
     "output_type": "stream",
     "text": [
      "(80000, 52)\n"
     ]
    },
    {
     "data": {
      "text/plain": [
       "(80000, 53)"
      ]
     },
     "execution_count": 9,
     "metadata": {},
     "output_type": "execute_result"
    }
   ],
   "source": [
    "df.default_status = target\n",
    "df = freq_encode(df, ['form_field47'])\n",
    "print(df.shape)\n",
    "df = mean_target(df, ['form_field47'])\n",
    "df.shape"
   ]
  },
  {
   "cell_type": "code",
   "execution_count": 10,
   "metadata": {},
   "outputs": [
    {
     "data": {
      "text/plain": [
       "0    51840\n",
       "1    28160\n",
       "Name: form_field47_encoded, dtype: int64"
      ]
     },
     "execution_count": 10,
     "metadata": {},
     "output_type": "execute_result"
    }
   ],
   "source": [
    "df['form_field47_encoded'] = df['form_field47'].astype('category')\n",
    "df['form_field47_encoded'] = df['form_field47_encoded'].cat.codes\n",
    "df.form_field47_encoded.value_counts()"
   ]
  },
  {
   "cell_type": "code",
   "execution_count": 11,
   "metadata": {},
   "outputs": [
    {
     "data": {
      "text/plain": [
       "(80000, 55)"
      ]
     },
     "execution_count": 11,
     "metadata": {},
     "output_type": "execute_result"
    }
   ],
   "source": [
    "col = ['form_field47']\n",
    " \n",
    "df = one_hot_encoding(df, *col)\n",
    "df.shape"
   ]
  },
  {
   "cell_type": "code",
   "execution_count": 14,
   "metadata": {},
   "outputs": [],
   "source": [
    "feature_cols = ['form_field1', 'form_field2', 'form_field42',\n",
    "                'form_field6', 'form_field8', 'form_field9', \n",
    "                'form_field3', 'form_field7', 'form_field37', 'form_field22']"
   ]
  },
  {
   "cell_type": "code",
   "execution_count": 15,
   "metadata": {},
   "outputs": [
    {
     "name": "stderr",
     "output_type": "stream",
     "text": [
      "/home/olawale/anaconda3/lib/python3.7/site-packages/pandas/core/series.py:726: RuntimeWarning: divide by zero encountered in log\n",
      "  result = getattr(ufunc, method)(*inputs, **kwargs)\n"
     ]
    }
   ],
   "source": [
    "new = pd.DataFrame()\n",
    "for i in feature_cols:\n",
    "    for j in feature_cols:\n",
    "        if i != j:\n",
    "            new[i + '*' + j] = df[i] * df[j]\n",
    "            new[i + '/' + j] = df[i] * df[j]\n",
    "            new[i + '-' + j] = df[i] * df[j]\n",
    "            new[i + '*' + j] = df[i] * df[j]\n",
    "            \n",
    "    new['_log' + i] = np.log(df[i])\n",
    "    new['_sqrt' + i] = np.sqrt(df[i])"
   ]
  },
  {
   "cell_type": "code",
   "execution_count": 16,
   "metadata": {},
   "outputs": [
    {
     "data": {
      "text/plain": [
       "(80000, 290)"
      ]
     },
     "execution_count": 16,
     "metadata": {},
     "output_type": "execute_result"
    }
   ],
   "source": [
    "new.shape"
   ]
  },
  {
   "cell_type": "code",
   "execution_count": 17,
   "metadata": {},
   "outputs": [
    {
     "data": {
      "text/plain": [
       "(80000, 345)"
      ]
     },
     "execution_count": 17,
     "metadata": {},
     "output_type": "execute_result"
    }
   ],
   "source": [
    "df1 = df.copy()\n",
    "df = pd.concat((df, new), axis=1)\n",
    "df.shape"
   ]
  },
  {
   "cell_type": "code",
   "execution_count": null,
   "metadata": {},
   "outputs": [],
   "source": []
  },
  {
   "cell_type": "code",
   "execution_count": 12,
   "metadata": {},
   "outputs": [],
   "source": [
    "from sklearn.decomposition import PCA\n",
    "pca = PCA(n_components=10)"
   ]
  },
  {
   "cell_type": "code",
   "execution_count": null,
   "metadata": {},
   "outputs": [],
   "source": []
  },
  {
   "cell_type": "code",
   "execution_count": 13,
   "metadata": {},
   "outputs": [
    {
     "name": "stdout",
     "output_type": "stream",
     "text": [
      "(56000, 54) (24000, 54)\n"
     ]
    }
   ],
   "source": [
    "#df = df.drop(['Applicant_ID'], axis=1)\n",
    "df.shape\n",
    " \n",
    "df = df.fillna(-999)\n",
    "df = process(df)\n",
    "data = df.copy()\n",
    " \n",
    "train2 = data[:ntrain].copy()\n",
    "#target = train2.default_status.copy()\n",
    "#validation1_target = valid1.FORCE_2020_LITHOFACIES_LITHOLOGY.copy()\n",
    "#validation2_target = valid2.FORCE_2020_LITHOFACIES_LITHOLOGY.copy()\n",
    "train2.drop(['default_status'], axis=1, inplace=True)\n",
    " \n",
    "test2 = data[ntrain:(ntest+ntrain)].copy()\n",
    "test2.drop(['default_status'], axis=1, inplace=True)\n",
    "test2 = test2.reset_index(drop=True)\n",
    " \n",
    "#validation1 = data[(ntest+ntrain):(ntest+ntrain+nvalid1)].copy()\n",
    "#validation1.drop(['FORCE_2020_LITHOFACIES_LITHOLOGY'], axis=1, inplace=True)\n",
    "#validation1 = validation1.reset_index(drop=True)\n",
    " \n",
    "#validation2 = data[(ntrain+ntest+nvalid1): (ntrain+ntest+nvalid1+nvalid2)].copy()\n",
    "#validation2.drop(['FORCE_2020_LITHOFACIES_LITHOLOGY'], axis=1, inplace=True)\n",
    "#validation2 = validation2.reset_index(drop=True)\n",
    " \n",
    " \n",
    "#validation3 = data[(ntrain+ntest+nvalid1+nvalid2):].copy()\n",
    "#validation3.drop(['FORCE_2020_LITHOFACIES_LITHOLOGY'], axis=1, inplace=True)\n",
    "#validation3 = validation3.reset_index(drop=True)\n",
    " \n",
    "print(train2.shape, test2.shape)"
   ]
  },
  {
   "cell_type": "code",
   "execution_count": 14,
   "metadata": {},
   "outputs": [],
   "source": [
    "#train2.info()"
   ]
  },
  {
   "cell_type": "code",
   "execution_count": 15,
   "metadata": {},
   "outputs": [
    {
     "name": "stdout",
     "output_type": "stream",
     "text": [
      "(56000, 64) (24000, 64)\n"
     ]
    }
   ],
   "source": [
    "pca.fit(train2)\n",
    "\n",
    "train3 = pca.transform(train2)\n",
    "train2 = pd.concat((train2, pd.DataFrame(train3)), axis=1)\n",
    "test3 = pca.transform(test2)\n",
    "test2 = pd.concat((test2, pd.DataFrame(test3)), axis=1)\n",
    "print(train2.shape, test2.shape)"
   ]
  },
  {
   "cell_type": "code",
   "execution_count": 22,
   "metadata": {},
   "outputs": [
    {
     "data": {
      "text/plain": [
       "((56000, 394), (24000, 394))"
      ]
     },
     "execution_count": 22,
     "metadata": {},
     "output_type": "execute_result"
    }
   ],
   "source": [
    "train2.shape, test2.shape"
   ]
  },
  {
   "cell_type": "code",
   "execution_count": 16,
   "metadata": {},
   "outputs": [],
   "source": [
    "def scale_data(data):\n",
    "  \n",
    "  data = scaler.transform(data)\n",
    "  #testdata = scaler.transform(testdata)\n",
    "  data = pd.DataFrame(data)\n",
    " \n",
    "  return data"
   ]
  },
  {
   "cell_type": "code",
   "execution_count": 17,
   "metadata": {},
   "outputs": [],
   "source": [
    "traindata = train2\n",
    "testdata = test2\n",
    " \n",
    "scaler = preprocessing.StandardScaler().fit(traindata)\n",
    "def scale_data(data):\n",
    "  \n",
    "  data = scaler.transform(data)\n",
    "  #testdata = scaler.transform(testdata)\n",
    "  data = pd.DataFrame(data)\n",
    " \n",
    "  return data"
   ]
  },
  {
   "cell_type": "code",
   "execution_count": 18,
   "metadata": {},
   "outputs": [],
   "source": [
    "traindata = scale_data(traindata)\n",
    "testdata = scale_data(testdata)"
   ]
  },
  {
   "cell_type": "code",
   "execution_count": 26,
   "metadata": {},
   "outputs": [],
   "source": [
    "traindata1 = traindata.copy()\n",
    "testdata1 = testdata.copy()"
   ]
  },
  {
   "cell_type": "code",
   "execution_count": null,
   "metadata": {},
   "outputs": [],
   "source": []
  },
  {
   "cell_type": "code",
   "execution_count": 120,
   "metadata": {},
   "outputs": [
    {
     "data": {
      "text/plain": [
       "((24000, 79), (56000, 79))"
      ]
     },
     "execution_count": 120,
     "metadata": {},
     "output_type": "execute_result"
    }
   ],
   "source": [
    "traindata2 = traindata[[0, 1, 48,5,50,39,35,32,7,8,36,45,2,47,60,40,34,180,23,24,9,12,30,25,42,\n",
    "                        194,19,27,3,20,18,199,41,31,21,203,202,193,207,10,4,204,49,195,17,188,190,\n",
    "                        179,14,16,201,196,28,22,33,205,197,192,191,182,26,200,181,206,198,29,44,185,\n",
    "                        208,183,38,184,13,37,189,15,11,43,46]]\n",
    "testdata2 = testdata[[0, 1, 48,5,50,39,35,32,7,8,36,45,2,47,60,40,34,180,23,24,9,12,30,25,42,\n",
    "                        194,19,27,3,20,18,199,41,31,21,203,202,193,207,10,4,204,49,195,17,188,190,\n",
    "                        179,14,16,201,196,28,22,33,205,197,192,191,182,26,200,181,206,198,29,44,185,\n",
    "                        208,183,38,184,13,37,189,15,11,43,46]]\n",
    "\n",
    "testdata2.shape, traindata2.shape"
   ]
  },
  {
   "cell_type": "code",
   "execution_count": 117,
   "metadata": {},
   "outputs": [
    {
     "data": {
      "text/plain": [
       "Int64Index([  0,   1,  48,   5,  50,  39,  35,  32,   7,   8,  36,  45,   2,\n",
       "             47,  60,  40,  34, 180,  23,  24,   9,  12,  30,  25,  42, 180,\n",
       "            194,  19,  27,   3,  20,  18, 199,  41,  31,  21, 203, 202, 193,\n",
       "            207,  10,   4, 204,  49, 195,  17, 188, 190, 179,  14,  16, 201,\n",
       "            196,  28,  22,  33, 205, 197, 192, 191, 182,  26, 200, 181, 206,\n",
       "            198,  29,  44, 185, 208, 183,  38, 184, 182,  13,  37, 189,  15,\n",
       "             11,  43,  46],\n",
       "           dtype='int64')"
      ]
     },
     "execution_count": 117,
     "metadata": {},
     "output_type": "execute_result"
    }
   ],
   "source": [
    "traindata2.columns"
   ]
  },
  {
   "cell_type": "code",
   "execution_count": 14,
   "metadata": {},
   "outputs": [
    {
     "name": "stdout",
     "output_type": "stream",
     "text": [
      "(22400, 53) (22400,) (33600, 53) (33600,)\n"
     ]
    }
   ],
   "source": [
    "validation, traindata, valid_target, target = ms.train_test_split(traindata, target, random_state=405, test_size=0.6, stratify=target)\n",
    "print(validation.shape, valid_target.shape, traindata.shape, target.shape)"
   ]
  },
  {
   "cell_type": "code",
   "execution_count": 43,
   "metadata": {},
   "outputs": [],
   "source": [
    "class Catboost():\n",
    "    \n",
    "    def __init__(self, train, validation, test, train_label, valid_label):\n",
    "        \n",
    "        \n",
    "        self.train = train\n",
    "        self.test = test\n",
    "        self.validation = validation\n",
    "        self.train_label = train_label\n",
    "        self.valid_label = valid_label\n",
    "        \n",
    "    def __call__(self, plot = True):\n",
    "        return self.fit(plot)\n",
    "    \n",
    "    def fit(self, plot):\n",
    " \n",
    "      self.x_train, self.x_test, self.y_train, self.y_test = ms.train_test_split(self.train, \n",
    "                                                                                   pd.DataFrame(np.array(self.train_label)), \n",
    "                                                                                   test_size=0.2,\n",
    "                                                                                   random_state=212)\n",
    "      \n",
    "      def show_evaluation(pred, true):\n",
    "        \n",
    "        #print(f'Default score: {confusion_matrix(true.values, pred)}')\n",
    "        print(f'AUC is: {roc_auc_score(true, pred)}')\n",
    "        #print(f'Accuracy is: {accuracy_score(true, pred)}')\n",
    "        #print(f'Logloss is: {log_loss(pred, true.values)}')\n",
    " \n",
    "      split = 10\n",
    "      kf = StratifiedKFold(n_splits=split, shuffle=True)\n",
    "  \n",
    "      pred = np.zeros((len(self.validation), 2))\n",
    "      open_test = np.zeros((len(self.test), 2))\n",
    " \n",
    "      model = CatBoostClassifier(n_estimators=100000, random_state=0, learning_rate=0.033, \n",
    "                                 use_best_model=True, eval_metric='auc', \n",
    "                                 task_type='CPU', verbose=50, max_depth=7)\n",
    "      \n",
    "      \n",
    "      i = 1\n",
    "      for (train_index, test_index) in kf.split(pd.DataFrame(traindata), pd.DataFrame(target)):\n",
    "        X_train,X_test = pd.DataFrame(traindata).iloc[train_index], pd.DataFrame(traindata).iloc[test_index]\n",
    "        Y_train,Y_test = pd.DataFrame(target).iloc[train_index],pd.DataFrame(target).iloc[test_index]\n",
    "    \n",
    "        \n",
    "        model.fit(self.x_train, self.y_train, early_stopping_rounds=200, \n",
    "                  eval_set=[(self.x_test, self.y_test)], verbose=30)\n",
    "        prediction = model.predict_proba(X_test)\n",
    "        print(show_evaluation(prediction[:,1], Y_test))\n",
    " \n",
    "        print(f'-----------------------FOLD {i}---------------------')\n",
    "        i+=1\n",
    " \n",
    "        pred += model.predict_proba(self.validation)\n",
    "        open_test += model.predict_proba(self.test)\n",
    "      \n",
    "      pred = pd.DataFrame(pred[:,1]/split)\n",
    "      open_test= pd.DataFrame(open_test[:,1]/split)\n",
    "    \n",
    "      #pred = np.array(pd.DataFrame(pred).idxmax(axis=1))\n",
    "      #open_test = np.array(pd.DataFrame(open_test).idxmax(axis=1))\n",
    " \n",
    "      print('---------------CROSS VALIDATION COMPLETE')\n",
    "      print('----------------TEST EVALUATION------------------')\n",
    "      print(show_evaluation(pred, self.valid_label))\n",
    "                  \n",
    "      if plot: self.plot_feat_imp(model)\n",
    "      return pred, open_test, model\n",
    "              \n",
    "              \n",
    "    def plot_feat_imp(self, model):\n",
    "        feat_imp = pd.Series(model.feature_importances_).sort_values(ascending=False)\n",
    "        plt.figure(figsize=(12,15))\n",
    "        feat_imp.plot(kind='bar', title='Feature Importances')\n",
    "        plt.ylabel('Feature Importance Score')"
   ]
  },
  {
   "cell_type": "code",
   "execution_count": 26,
   "metadata": {},
   "outputs": [],
   "source": [
    "class Lightboost():\n",
    "    \n",
    "    def __init__(self, train, validation, test, train_label, valid_label):\n",
    "        \n",
    "        \n",
    "        self.train = train\n",
    "        self.test = test\n",
    "        self.validation = validation\n",
    "        self.train_label = train_label\n",
    "        self.valid_label = valid_label\n",
    "        \n",
    "    def __call__(self, plot = True):\n",
    "        return self.fit(plot)\n",
    "    \n",
    "    def fit(self, plot):\n",
    " \n",
    "      self.x_train, self.x_test, self.y_train, self.y_test = ms.train_test_split(self.train, \n",
    "                                                                                   pd.DataFrame(np.array(self.train_label)), \n",
    "                                                                                   test_size=0.2,\n",
    "                                                                                   random_state=212)\n",
    "      \n",
    "      def show_evaluation(pred, true):\n",
    "        \n",
    "        #print(f'Default score: {confusion_matrix(true.values, pred)}')\n",
    "        print(f'AUC is: {roc_auc_score(true, pred)}')\n",
    "        #print(f'Accuracy is: {accuracy_score(true, pred)}')\n",
    "        #print(f'Logloss is: {log_loss(pred, true.values)}')\n",
    " \n",
    "      split = 2\n",
    "      kf = StratifiedKFold(n_splits=split, shuffle=True)\n",
    "  \n",
    "      pred = np.zeros((len(self.validation), 2))\n",
    "      open_test = np.zeros((len(self.test), 2))\n",
    " \n",
    "      model = LGBMClassifier(num_leaves=32, learning_rate=0.01, reg_alpha=100, \n",
    "                                 n_estimators=50000, subsample=0.9, subsample_freq=0.9, \n",
    "                                 colsample_bytree=0.9, eval_metric='auc', random_state=34)\n",
    "      \n",
    "      \n",
    "      i = 1\n",
    "      for (train_index, test_index) in kf.split(pd.DataFrame(traindata), pd.DataFrame(target)):\n",
    "        X_train,X_test = pd.DataFrame(traindata).iloc[train_index], pd.DataFrame(traindata).iloc[test_index]\n",
    "        Y_train,Y_test = pd.DataFrame(target).iloc[train_index],pd.DataFrame(target).iloc[test_index]\n",
    "    \n",
    "        \n",
    "        model.fit(X_train,Y_train,early_stopping_rounds=200,eval_set=[(X_test,Y_test)], eval_metric='auc')\n",
    "        prediction = model.predict_proba(X_test)\n",
    "        print(show_evaluation(prediction[:,1], Y_test))\n",
    " \n",
    "        print(f'-----------------------FOLD {i}---------------------')\n",
    "        i+=1\n",
    " \n",
    "        pred += model.predict_proba(self.validation)\n",
    "        open_test += model.predict_proba(self.test)\n",
    "      \n",
    "      pred = pd.DataFrame(pred[:,1]/split)\n",
    "      open_test= pd.DataFrame(open_test[:,1]/split)\n",
    "    \n",
    "      #pred = np.array(pd.DataFrame(pred).idxmax(axis=1))\n",
    "      #open_test = np.array(pd.DataFrame(open_test).idxmax(axis=1))\n",
    " \n",
    "      print('---------------CROSS VALIDATION COMPLETE')\n",
    "      print('----------------TEST EVALUATION------------------')\n",
    "      print(show_evaluation(pred, self.valid_label))\n",
    "                  \n",
    "      if plot: self.plot_feat_imp(model)\n",
    "      return pred, open_test, model\n",
    "              \n",
    "              \n",
    "    def plot_feat_imp(self, model):\n",
    "        feat_imp = pd.Series(model.feature_importances_).sort_values(ascending=False)\n",
    "        plt.figure(figsize=(12,8))\n",
    "        feat_imp.plot(kind='bar', title='Feature Importances')\n",
    "        plt.ylabel('Feature Importance Score')"
   ]
  },
  {
   "cell_type": "code",
   "execution_count": 41,
   "metadata": {},
   "outputs": [],
   "source": [
    "class Xgboost():\n",
    "    \n",
    "    def __init__(self, train, validation, test, train_label, valid_label):\n",
    "        \n",
    "        \n",
    "        self.train = train\n",
    "        self.test = test\n",
    "        self.validation = validation\n",
    "        self.train_label = train_label\n",
    "        self.valid_label = valid_label\n",
    "        \n",
    "    def __call__(self, plot = True):\n",
    "        return self.fit(plot)\n",
    "    \n",
    "    def fit(self, plot):\n",
    " \n",
    "      self.x_train, self.x_test, self.y_train, self.y_test = ms.train_test_split(self.train, \n",
    "                                                                                   pd.DataFrame(np.array(self.train_label)), \n",
    "                                                                                   test_size=0.2,\n",
    "                                                                                   random_state=212)\n",
    "      \n",
    "      def show_evaluation(pred, true):\n",
    "        \n",
    "        #print(f'Default score: {confusion_matrix(true.values, pred)}')\n",
    "        print(f'AUC is: {roc_auc_score(true, pred)}')\n",
    "        #print(f'Accuracy is: {accuracy_score(true, pred)}')\n",
    "        #print(f'Logloss is: {log_loss(pred, true.values)}')\n",
    " \n",
    "      split = 3\n",
    "      kf = StratifiedKFold(n_splits=split, shuffle=True)\n",
    "  \n",
    "      pred = np.zeros((len(self.validation), 2))\n",
    "      open_test = np.zeros((len(self.test), 2))\n",
    " \n",
    "      model = XGBClassifier(n_estimators=100000, max_depth=8, booster='gbtree', base_score=0.7,\n",
    "                            learning_rate=0.033, reg_lambda=100,\n",
    "                            subsample=0.8, colsample_bytree=0.9,\n",
    "                            eval_metric='auc', random_state=20920)\n",
    "      \n",
    "      \n",
    "      i = 1\n",
    "      for (train_index, test_index) in kf.split(pd.DataFrame(traindata), pd.DataFrame(target)):\n",
    "        X_train,X_test = pd.DataFrame(traindata).iloc[train_index], pd.DataFrame(traindata).iloc[test_index]\n",
    "        Y_train,Y_test = pd.DataFrame(target).iloc[train_index],pd.DataFrame(target).iloc[test_index]\n",
    "    \n",
    "        \n",
    "        model.fit(self.x_train, self.y_train, early_stopping_rounds=200, \n",
    "                  eval_set=[(self.x_test, self.y_test)], verbose=30, eval_metric='auc')\n",
    "        prediction = model.predict_proba(X_test)\n",
    "        print(show_evaluation(prediction[:,1], Y_test))\n",
    " \n",
    "        print(f'-----------------------FOLD {i}---------------------')\n",
    "        i+=1\n",
    " \n",
    "        pred += model.predict_proba(self.validation)\n",
    "        open_test += model.predict_proba(self.test)\n",
    "      \n",
    "      pred = pd.DataFrame(pred[:,1]/split)\n",
    "      open_test= pd.DataFrame(open_test[:,1]/split)\n",
    "    \n",
    "      #pred = np.array(pd.DataFrame(pred).idxmax(axis=1))\n",
    "      #open_test = np.array(pd.DataFrame(open_test).idxmax(axis=1))\n",
    " \n",
    "      print('---------------CROSS VALIDATION COMPLETE')\n",
    "      print('----------------TEST EVALUATION------------------')\n",
    "      print(show_evaluation(pred, self.valid_label))\n",
    "                  \n",
    "      if plot: self.plot_feat_imp(model)\n",
    "      return pred, open_test, model\n",
    "              \n",
    "              \n",
    "    def plot_feat_imp(self, model):\n",
    "        feat_imp = pd.Series(model.feature_importances_).sort_values(ascending=False)\n",
    "        plt.figure(figsize=(12,8))\n",
    "        feat_imp.plot(kind='bar', title='Feature Importances')\n",
    "        plt.ylabel('Feature Importance Score')"
   ]
  },
  {
   "cell_type": "code",
   "execution_count": 19,
   "metadata": {},
   "outputs": [],
   "source": [
    "class RandomForest():\n",
    "    \n",
    "    def __init__(self, train, validation, test, train_label, valid_label):\n",
    "        \n",
    "        \n",
    "        self.train = train\n",
    "        self.test = test\n",
    "        self.validation = validation\n",
    "        self.train_label = train_label\n",
    "        self.valid_label = valid_label\n",
    "        \n",
    "    def __call__(self, plot = True):\n",
    "        return self.fit(plot)\n",
    "    \n",
    "    def fit(self, plot):\n",
    " \n",
    "      self.x_train, self.x_test, self.y_train, self.y_test = ms.train_test_split(self.train, \n",
    "                                                                                   pd.DataFrame(np.array(self.train_label)), \n",
    "                                                                                   test_size=0.2,\n",
    "                                                                                   random_state=212)\n",
    "      \n",
    "      def show_evaluation(pred, true):\n",
    "        \n",
    "        #print(f'Default score: {confusion_matrix(true.values, pred)}')\n",
    "        print(f'AUC is: {roc_auc_score(true, pred)}')\n",
    "        #print(f'Accuracy is: {accuracy_score(true, pred)}')\n",
    "        #print(f'Logloss is: {log_loss(pred, true.values)}')\n",
    " \n",
    "      split = 2\n",
    "      kf = StratifiedKFold(n_splits=split, shuffle=True)\n",
    "  \n",
    "      pred = np.zeros((len(self.validation), 2))\n",
    "      open_test = np.zeros((len(self.test), 2))\n",
    " \n",
    "      model = RandomForestClassifier(n_estimators=200, max_depth=10, class_weight='balanced', verbose=2)\n",
    "      i = 1\n",
    "      for (train_index, test_index) in kf.split(pd.DataFrame(traindata), pd.DataFrame(target)):\n",
    "        X_train,X_test = pd.DataFrame(traindata).iloc[train_index], pd.DataFrame(traindata).iloc[test_index]\n",
    "        Y_train,Y_test = pd.DataFrame(target).iloc[train_index],pd.DataFrame(target).iloc[test_index]\n",
    "    \n",
    "        \n",
    "        model.fit(X_train, Y_train)\n",
    "        prediction = model.predict_proba(X_test)\n",
    "        print(show_evaluation(prediction[:,1], Y_test))\n",
    " \n",
    "        print(f'-----------------------FOLD {i}---------------------')\n",
    "        i+=1\n",
    " \n",
    "        pred += model.predict_proba(self.validation)\n",
    "        open_test += model.predict_proba(self.test)\n",
    "      \n",
    "      pred = pd.DataFrame(pred[:,1]/split)\n",
    "      open_test= pd.DataFrame(open_test[:,1]/split)\n",
    "    \n",
    "      #pred = np.array(pd.DataFrame(pred).idxmax(axis=1))\n",
    "      #open_test = np.array(pd.DataFrame(open_test).idxmax(axis=1))\n",
    " \n",
    "      print('---------------CROSS VALIDATION COMPLETE')\n",
    "      print('----------------TEST EVALUATION------------------')\n",
    "      print(show_evaluation(pred, self.valid_label))\n",
    "                  \n",
    "      if plot: self.plot_feat_imp(model)\n",
    "      return pred, open_test, model\n",
    "              \n",
    "              \n",
    "    def plot_feat_imp(self, model):\n",
    "        feat_imp = pd.Series(model.feature_importances_).sort_values(ascending=False)\n",
    "        plt.figure(figsize=(12,8))\n",
    "        feat_imp.plot(kind='bar', title='Feature Importances')\n",
    "        plt.ylabel('Feature Importance Score')"
   ]
  },
  {
   "cell_type": "code",
   "execution_count": 29,
   "metadata": {},
   "outputs": [
    {
     "ename": "NameError",
     "evalue": "name 'validation' is not defined",
     "output_type": "error",
     "traceback": [
      "\u001b[0;31m---------------------------------------------------------------------------\u001b[0m",
      "\u001b[0;31mNameError\u001b[0m                                 Traceback (most recent call last)",
      "\u001b[0;32m<ipython-input-29-2239b763bc21>\u001b[0m in \u001b[0;36m<module>\u001b[0;34m\u001b[0m\n\u001b[0;32m----> 1\u001b[0;31m \u001b[0mfunc1_\u001b[0m\u001b[0;34m=\u001b[0m \u001b[0mCatboost\u001b[0m\u001b[0;34m(\u001b[0m\u001b[0mtraindata\u001b[0m\u001b[0;34m,\u001b[0m \u001b[0mvalidation\u001b[0m\u001b[0;34m,\u001b[0m \u001b[0mtestdata\u001b[0m\u001b[0;34m,\u001b[0m \u001b[0mtarget\u001b[0m\u001b[0;34m,\u001b[0m \u001b[0mvalid_target\u001b[0m\u001b[0;34m)\u001b[0m\u001b[0;34m\u001b[0m\u001b[0;34m\u001b[0m\u001b[0m\n\u001b[0m\u001b[1;32m      2\u001b[0m \u001b[0mpred1\u001b[0m\u001b[0;34m,\u001b[0m \u001b[0mopen_test1\u001b[0m\u001b[0;34m,\u001b[0m \u001b[0mmodel1\u001b[0m \u001b[0;34m=\u001b[0m \u001b[0mfunc1_\u001b[0m\u001b[0;34m(\u001b[0m\u001b[0;34m)\u001b[0m\u001b[0;34m\u001b[0m\u001b[0;34m\u001b[0m\u001b[0m\n",
      "\u001b[0;31mNameError\u001b[0m: name 'validation' is not defined"
     ]
    }
   ],
   "source": [
    "func1_= Catboost(traindata, validation, testdata, target, valid_target)\n",
    "pred1, open_test1, model1 = func1_()"
   ]
  },
  {
   "cell_type": "code",
   "execution_count": 38,
   "metadata": {},
   "outputs": [
    {
     "name": "stderr",
     "output_type": "stream",
     "text": [
      "/home/olawale/anaconda3/lib/python3.7/site-packages/sklearn/utils/validation.py:73: DataConversionWarning: A column-vector y was passed when a 1d array was expected. Please change the shape of y to (n_samples, ), for example using ravel().\n",
      "  return f(**kwargs)\n"
     ]
    },
    {
     "name": "stdout",
     "output_type": "stream",
     "text": [
      "[0]\tvalidation_0-auc:0.78056\n",
      "Will train until validation_0-auc hasn't improved in 200 rounds.\n",
      "[30]\tvalidation_0-auc:0.82125\n",
      "[60]\tvalidation_0-auc:0.82923\n",
      "[90]\tvalidation_0-auc:0.83223\n",
      "[120]\tvalidation_0-auc:0.83450\n",
      "[150]\tvalidation_0-auc:0.83573\n",
      "[180]\tvalidation_0-auc:0.83659\n",
      "[210]\tvalidation_0-auc:0.83720\n",
      "[240]\tvalidation_0-auc:0.83782\n",
      "[270]\tvalidation_0-auc:0.83840\n",
      "[300]\tvalidation_0-auc:0.83873\n",
      "[330]\tvalidation_0-auc:0.83896\n",
      "[360]\tvalidation_0-auc:0.83914\n",
      "[390]\tvalidation_0-auc:0.83936\n",
      "[420]\tvalidation_0-auc:0.83941\n",
      "[450]\tvalidation_0-auc:0.83944\n",
      "[480]\tvalidation_0-auc:0.83948\n",
      "[510]\tvalidation_0-auc:0.83963\n",
      "[540]\tvalidation_0-auc:0.83975\n",
      "[570]\tvalidation_0-auc:0.83954\n",
      "[600]\tvalidation_0-auc:0.83948\n",
      "[630]\tvalidation_0-auc:0.83936\n",
      "[660]\tvalidation_0-auc:0.83942\n",
      "[690]\tvalidation_0-auc:0.83922\n",
      "[720]\tvalidation_0-auc:0.83908\n",
      "Stopping. Best iteration:\n",
      "[541]\tvalidation_0-auc:0.83977\n",
      "\n",
      "AUC is: 0.8943535677537683\n",
      "None\n",
      "-----------------------FOLD 1---------------------\n"
     ]
    },
    {
     "name": "stderr",
     "output_type": "stream",
     "text": [
      "/home/olawale/anaconda3/lib/python3.7/site-packages/sklearn/utils/validation.py:73: DataConversionWarning: A column-vector y was passed when a 1d array was expected. Please change the shape of y to (n_samples, ), for example using ravel().\n",
      "  return f(**kwargs)\n"
     ]
    },
    {
     "name": "stdout",
     "output_type": "stream",
     "text": [
      "[0]\tvalidation_0-auc:0.78056\n",
      "Will train until validation_0-auc hasn't improved in 200 rounds.\n",
      "[30]\tvalidation_0-auc:0.82125\n",
      "[60]\tvalidation_0-auc:0.82923\n",
      "[90]\tvalidation_0-auc:0.83223\n",
      "[120]\tvalidation_0-auc:0.83450\n",
      "[150]\tvalidation_0-auc:0.83573\n",
      "[180]\tvalidation_0-auc:0.83659\n",
      "[210]\tvalidation_0-auc:0.83720\n",
      "[240]\tvalidation_0-auc:0.83782\n",
      "[270]\tvalidation_0-auc:0.83840\n",
      "[300]\tvalidation_0-auc:0.83873\n",
      "[330]\tvalidation_0-auc:0.83896\n",
      "[360]\tvalidation_0-auc:0.83914\n",
      "[390]\tvalidation_0-auc:0.83936\n",
      "[420]\tvalidation_0-auc:0.83941\n",
      "[450]\tvalidation_0-auc:0.83944\n",
      "[480]\tvalidation_0-auc:0.83948\n",
      "[510]\tvalidation_0-auc:0.83963\n",
      "[540]\tvalidation_0-auc:0.83975\n",
      "[570]\tvalidation_0-auc:0.83954\n",
      "[600]\tvalidation_0-auc:0.83948\n",
      "[630]\tvalidation_0-auc:0.83936\n",
      "[660]\tvalidation_0-auc:0.83942\n",
      "[690]\tvalidation_0-auc:0.83922\n",
      "[720]\tvalidation_0-auc:0.83908\n",
      "Stopping. Best iteration:\n",
      "[541]\tvalidation_0-auc:0.83977\n",
      "\n",
      "AUC is: 0.9008755924278387\n",
      "None\n",
      "-----------------------FOLD 2---------------------\n"
     ]
    },
    {
     "name": "stderr",
     "output_type": "stream",
     "text": [
      "/home/olawale/anaconda3/lib/python3.7/site-packages/sklearn/utils/validation.py:73: DataConversionWarning: A column-vector y was passed when a 1d array was expected. Please change the shape of y to (n_samples, ), for example using ravel().\n",
      "  return f(**kwargs)\n"
     ]
    },
    {
     "name": "stdout",
     "output_type": "stream",
     "text": [
      "[0]\tvalidation_0-auc:0.78056\n",
      "Will train until validation_0-auc hasn't improved in 200 rounds.\n",
      "[30]\tvalidation_0-auc:0.82125\n",
      "[60]\tvalidation_0-auc:0.82923\n",
      "[90]\tvalidation_0-auc:0.83223\n",
      "[120]\tvalidation_0-auc:0.83450\n",
      "[150]\tvalidation_0-auc:0.83573\n",
      "[180]\tvalidation_0-auc:0.83659\n",
      "[210]\tvalidation_0-auc:0.83720\n",
      "[240]\tvalidation_0-auc:0.83782\n",
      "[270]\tvalidation_0-auc:0.83840\n",
      "[300]\tvalidation_0-auc:0.83873\n",
      "[330]\tvalidation_0-auc:0.83896\n",
      "[360]\tvalidation_0-auc:0.83914\n",
      "[390]\tvalidation_0-auc:0.83936\n",
      "[420]\tvalidation_0-auc:0.83941\n",
      "[450]\tvalidation_0-auc:0.83944\n",
      "[480]\tvalidation_0-auc:0.83948\n",
      "[510]\tvalidation_0-auc:0.83963\n",
      "[540]\tvalidation_0-auc:0.83975\n",
      "[570]\tvalidation_0-auc:0.83954\n",
      "[600]\tvalidation_0-auc:0.83948\n",
      "[630]\tvalidation_0-auc:0.83936\n",
      "[660]\tvalidation_0-auc:0.83942\n",
      "[690]\tvalidation_0-auc:0.83922\n",
      "[720]\tvalidation_0-auc:0.83908\n",
      "Stopping. Best iteration:\n",
      "[541]\tvalidation_0-auc:0.83977\n",
      "\n",
      "AUC is: 0.8998533077909819\n",
      "None\n",
      "-----------------------FOLD 3---------------------\n",
      "---------------CROSS VALIDATION COMPLETE\n",
      "----------------TEST EVALUATION------------------\n",
      "AUC is: 0.8342726727920546\n",
      "None\n"
     ]
    },
    {
     "data": {
      "image/png": "[encoded data removed]",
      "text/plain": [
       "<Figure size 864x576 with 1 Axes>"
      ]
     },
     "metadata": {
      "needs_background": "light"
     },
     "output_type": "display_data"
    }
   ],
   "source": [
    "func2_= Xgboost(traindata, validation, testdata, target, valid_target)\n",
    "pred2, open_test2, model2 = func2_()"
   ]
  },
  {
   "cell_type": "code",
   "execution_count": 23,
   "metadata": {},
   "outputs": [
    {
     "name": "stdout",
     "output_type": "stream",
     "text": [
      "0 form_field1\n",
      "1 form_field2\n",
      "2 form_field3\n",
      "3 form_field4\n",
      "4 form_field5\n",
      "5 form_field6\n",
      "6 form_field7\n",
      "7 form_field8\n",
      "8 form_field9\n",
      "9 form_field10\n",
      "10 form_field11\n",
      "11 form_field12\n",
      "12 form_field13\n",
      "13 form_field14\n",
      "14 form_field15\n",
      "15 form_field16\n",
      "16 form_field17\n",
      "17 form_field18\n",
      "18 form_field19\n",
      "19 form_field20\n",
      "20 form_field21\n",
      "21 form_field22\n",
      "22 form_field23\n",
      "23 form_field24\n",
      "24 form_field25\n",
      "25 form_field26\n",
      "26 form_field27\n",
      "27 form_field28\n",
      "28 form_field29\n",
      "29 form_field30\n",
      "30 form_field31\n",
      "31 form_field32\n",
      "32 form_field33\n",
      "33 form_field34\n",
      "34 form_field35\n",
      "35 form_field36\n",
      "36 form_field37\n",
      "37 form_field38\n",
      "38 form_field39\n",
      "39 form_field40\n",
      "40 form_field41\n",
      "41 form_field42\n",
      "42 form_field43\n",
      "43 form_field44\n",
      "44 form_field45\n",
      "45 form_field46\n",
      "46 form_field48\n",
      "47 form_field49\n",
      "48 form_field50\n",
      "49 form_field47_enc\n",
      "50 form_field47_mean_target\n",
      "51 form_field47_charge\n",
      "52 form_field47_lending\n"
     ]
    }
   ],
   "source": [
    "for (i, j) in enumerate(testdata.columns):\n",
    "    print(i,j)"
   ]
  },
  {
   "cell_type": "code",
   "execution_count": null,
   "metadata": {},
   "outputs": [],
   "source": []
  },
  {
   "cell_type": "code",
   "execution_count": 40,
   "metadata": {},
   "outputs": [
    {
     "name": "stderr",
     "output_type": "stream",
     "text": [
      "/home/olawale/anaconda3/lib/python3.7/site-packages/sklearn/utils/validation.py:73: DataConversionWarning: A column-vector y was passed when a 1d array was expected. Please change the shape of y to (n_samples, ), for example using ravel().\n",
      "  return f(**kwargs)\n"
     ]
    },
    {
     "name": "stdout",
     "output_type": "stream",
     "text": [
      "[0]\tvalidation_0-auc:0.75904\n",
      "Will train until validation_0-auc hasn't improved in 200 rounds.\n",
      "[30]\tvalidation_0-auc:0.81813\n",
      "[60]\tvalidation_0-auc:0.82834\n",
      "[90]\tvalidation_0-auc:0.83285\n",
      "[120]\tvalidation_0-auc:0.83506\n",
      "[150]\tvalidation_0-auc:0.83677\n",
      "[180]\tvalidation_0-auc:0.83782\n",
      "[210]\tvalidation_0-auc:0.83852\n",
      "[240]\tvalidation_0-auc:0.83885\n",
      "[270]\tvalidation_0-auc:0.83925\n",
      "[300]\tvalidation_0-auc:0.83946\n",
      "[330]\tvalidation_0-auc:0.83951\n",
      "[360]\tvalidation_0-auc:0.83949\n",
      "[390]\tvalidation_0-auc:0.83929\n",
      "[420]\tvalidation_0-auc:0.83921\n",
      "[450]\tvalidation_0-auc:0.83923\n",
      "[480]\tvalidation_0-auc:0.83914\n",
      "[510]\tvalidation_0-auc:0.83902\n",
      "Stopping. Best iteration:\n",
      "[320]\tvalidation_0-auc:0.83958\n",
      "\n",
      "AUC is: 0.9207768526944935\n",
      "None\n",
      "-----------------------FOLD 1---------------------\n"
     ]
    },
    {
     "name": "stderr",
     "output_type": "stream",
     "text": [
      "/home/olawale/anaconda3/lib/python3.7/site-packages/sklearn/utils/validation.py:73: DataConversionWarning: A column-vector y was passed when a 1d array was expected. Please change the shape of y to (n_samples, ), for example using ravel().\n",
      "  return f(**kwargs)\n"
     ]
    },
    {
     "name": "stdout",
     "output_type": "stream",
     "text": [
      "[0]\tvalidation_0-auc:0.75904\n",
      "Will train until validation_0-auc hasn't improved in 200 rounds.\n",
      "[30]\tvalidation_0-auc:0.81813\n",
      "[60]\tvalidation_0-auc:0.82834\n",
      "[90]\tvalidation_0-auc:0.83285\n",
      "[120]\tvalidation_0-auc:0.83506\n",
      "[150]\tvalidation_0-auc:0.83677\n",
      "[180]\tvalidation_0-auc:0.83782\n",
      "[210]\tvalidation_0-auc:0.83852\n",
      "[240]\tvalidation_0-auc:0.83885\n",
      "[270]\tvalidation_0-auc:0.83925\n",
      "[300]\tvalidation_0-auc:0.83946\n",
      "[330]\tvalidation_0-auc:0.83951\n",
      "[360]\tvalidation_0-auc:0.83949\n",
      "[390]\tvalidation_0-auc:0.83929\n",
      "[420]\tvalidation_0-auc:0.83921\n",
      "[450]\tvalidation_0-auc:0.83923\n",
      "[480]\tvalidation_0-auc:0.83914\n",
      "[510]\tvalidation_0-auc:0.83902\n",
      "Stopping. Best iteration:\n",
      "[320]\tvalidation_0-auc:0.83958\n",
      "\n",
      "AUC is: 0.9210679825641941\n",
      "None\n",
      "-----------------------FOLD 2---------------------\n"
     ]
    },
    {
     "name": "stderr",
     "output_type": "stream",
     "text": [
      "/home/olawale/anaconda3/lib/python3.7/site-packages/sklearn/utils/validation.py:73: DataConversionWarning: A column-vector y was passed when a 1d array was expected. Please change the shape of y to (n_samples, ), for example using ravel().\n",
      "  return f(**kwargs)\n"
     ]
    },
    {
     "name": "stdout",
     "output_type": "stream",
     "text": [
      "[0]\tvalidation_0-auc:0.75904\n",
      "Will train until validation_0-auc hasn't improved in 200 rounds.\n",
      "[30]\tvalidation_0-auc:0.81813\n",
      "[60]\tvalidation_0-auc:0.82834\n",
      "[90]\tvalidation_0-auc:0.83285\n",
      "[120]\tvalidation_0-auc:0.83506\n",
      "[150]\tvalidation_0-auc:0.83677\n",
      "[180]\tvalidation_0-auc:0.83782\n",
      "[210]\tvalidation_0-auc:0.83852\n",
      "[240]\tvalidation_0-auc:0.83885\n",
      "[270]\tvalidation_0-auc:0.83925\n",
      "[300]\tvalidation_0-auc:0.83946\n",
      "[330]\tvalidation_0-auc:0.83951\n",
      "[360]\tvalidation_0-auc:0.83949\n",
      "[390]\tvalidation_0-auc:0.83929\n",
      "[420]\tvalidation_0-auc:0.83921\n",
      "[450]\tvalidation_0-auc:0.83923\n",
      "[480]\tvalidation_0-auc:0.83914\n",
      "[510]\tvalidation_0-auc:0.83902\n",
      "Stopping. Best iteration:\n",
      "[320]\tvalidation_0-auc:0.83958\n",
      "\n",
      "AUC is: 0.9185323485224798\n",
      "None\n",
      "-----------------------FOLD 3---------------------\n",
      "---------------CROSS VALIDATION COMPLETE\n",
      "----------------TEST EVALUATION------------------\n",
      "AUC is: 0.8343447924739986\n",
      "None\n"
     ]
    },
    {
     "data": {
      "image/png": "[encoded data removed]",
      "text/plain": [
       "<Figure size 864x576 with 1 Axes>"
      ]
     },
     "metadata": {
      "needs_background": "light"
     },
     "output_type": "display_data"
    }
   ],
   "source": [
    "func3_= Xgboost(traindata, validation, testdata, target, valid_target)\n",
    "pred3, open_test3, model3 = func3_()"
   ]
  },
  {
   "cell_type": "code",
   "execution_count": 42,
   "metadata": {},
   "outputs": [
    {
     "name": "stderr",
     "output_type": "stream",
     "text": [
      "/home/olawale/anaconda3/lib/python3.7/site-packages/sklearn/utils/validation.py:73: DataConversionWarning: A column-vector y was passed when a 1d array was expected. Please change the shape of y to (n_samples, ), for example using ravel().\n",
      "  return f(**kwargs)\n"
     ]
    },
    {
     "name": "stdout",
     "output_type": "stream",
     "text": [
      "[0]\tvalidation_0-auc:0.71423\n",
      "Will train until validation_0-auc hasn't improved in 200 rounds.\n",
      "[30]\tvalidation_0-auc:0.81566\n",
      "[60]\tvalidation_0-auc:0.82666\n",
      "[90]\tvalidation_0-auc:0.83149\n",
      "[120]\tvalidation_0-auc:0.83437\n",
      "[150]\tvalidation_0-auc:0.83641\n",
      "[180]\tvalidation_0-auc:0.83760\n",
      "[210]\tvalidation_0-auc:0.83834\n",
      "[240]\tvalidation_0-auc:0.83917\n",
      "[270]\tvalidation_0-auc:0.83955\n",
      "[300]\tvalidation_0-auc:0.83980\n",
      "[330]\tvalidation_0-auc:0.83998\n",
      "[360]\tvalidation_0-auc:0.84008\n",
      "[390]\tvalidation_0-auc:0.84029\n",
      "[420]\tvalidation_0-auc:0.84052\n",
      "[450]\tvalidation_0-auc:0.84052\n",
      "[480]\tvalidation_0-auc:0.84037\n",
      "[510]\tvalidation_0-auc:0.84041\n",
      "[540]\tvalidation_0-auc:0.84044\n",
      "[570]\tvalidation_0-auc:0.84034\n",
      "[600]\tvalidation_0-auc:0.84009\n",
      "[630]\tvalidation_0-auc:0.83995\n",
      "Stopping. Best iteration:\n",
      "[440]\tvalidation_0-auc:0.84057\n",
      "\n",
      "AUC is: 0.9054618093090947\n",
      "None\n",
      "-----------------------FOLD 1---------------------\n"
     ]
    },
    {
     "name": "stderr",
     "output_type": "stream",
     "text": [
      "/home/olawale/anaconda3/lib/python3.7/site-packages/sklearn/utils/validation.py:73: DataConversionWarning: A column-vector y was passed when a 1d array was expected. Please change the shape of y to (n_samples, ), for example using ravel().\n",
      "  return f(**kwargs)\n"
     ]
    },
    {
     "name": "stdout",
     "output_type": "stream",
     "text": [
      "[0]\tvalidation_0-auc:0.71423\n",
      "Will train until validation_0-auc hasn't improved in 200 rounds.\n",
      "[30]\tvalidation_0-auc:0.81566\n",
      "[60]\tvalidation_0-auc:0.82666\n",
      "[90]\tvalidation_0-auc:0.83149\n",
      "[120]\tvalidation_0-auc:0.83437\n",
      "[150]\tvalidation_0-auc:0.83641\n",
      "[180]\tvalidation_0-auc:0.83760\n",
      "[210]\tvalidation_0-auc:0.83834\n",
      "[240]\tvalidation_0-auc:0.83917\n",
      "[270]\tvalidation_0-auc:0.83955\n",
      "[300]\tvalidation_0-auc:0.83980\n",
      "[330]\tvalidation_0-auc:0.83998\n",
      "[360]\tvalidation_0-auc:0.84008\n",
      "[390]\tvalidation_0-auc:0.84029\n",
      "[420]\tvalidation_0-auc:0.84052\n",
      "[450]\tvalidation_0-auc:0.84052\n",
      "[480]\tvalidation_0-auc:0.84037\n",
      "[510]\tvalidation_0-auc:0.84041\n",
      "[540]\tvalidation_0-auc:0.84044\n",
      "[570]\tvalidation_0-auc:0.84034\n",
      "[600]\tvalidation_0-auc:0.84009\n",
      "[630]\tvalidation_0-auc:0.83995\n",
      "Stopping. Best iteration:\n",
      "[440]\tvalidation_0-auc:0.84057\n",
      "\n",
      "AUC is: 0.9048356009649466\n",
      "None\n",
      "-----------------------FOLD 2---------------------\n"
     ]
    },
    {
     "name": "stderr",
     "output_type": "stream",
     "text": [
      "/home/olawale/anaconda3/lib/python3.7/site-packages/sklearn/utils/validation.py:73: DataConversionWarning: A column-vector y was passed when a 1d array was expected. Please change the shape of y to (n_samples, ), for example using ravel().\n",
      "  return f(**kwargs)\n"
     ]
    },
    {
     "name": "stdout",
     "output_type": "stream",
     "text": [
      "[0]\tvalidation_0-auc:0.71423\n",
      "Will train until validation_0-auc hasn't improved in 200 rounds.\n",
      "[30]\tvalidation_0-auc:0.81566\n",
      "[60]\tvalidation_0-auc:0.82666\n",
      "[90]\tvalidation_0-auc:0.83149\n",
      "[120]\tvalidation_0-auc:0.83437\n",
      "[150]\tvalidation_0-auc:0.83641\n",
      "[180]\tvalidation_0-auc:0.83760\n",
      "[210]\tvalidation_0-auc:0.83834\n",
      "[240]\tvalidation_0-auc:0.83917\n",
      "[270]\tvalidation_0-auc:0.83955\n",
      "[300]\tvalidation_0-auc:0.83980\n",
      "[330]\tvalidation_0-auc:0.83998\n",
      "[360]\tvalidation_0-auc:0.84008\n",
      "[390]\tvalidation_0-auc:0.84029\n",
      "[420]\tvalidation_0-auc:0.84052\n",
      "[450]\tvalidation_0-auc:0.84052\n",
      "[480]\tvalidation_0-auc:0.84037\n",
      "[510]\tvalidation_0-auc:0.84041\n",
      "[540]\tvalidation_0-auc:0.84044\n",
      "[570]\tvalidation_0-auc:0.84034\n",
      "[600]\tvalidation_0-auc:0.84009\n",
      "[630]\tvalidation_0-auc:0.83995\n",
      "Stopping. Best iteration:\n",
      "[440]\tvalidation_0-auc:0.84057\n",
      "\n",
      "AUC is: 0.9066898484240858\n",
      "None\n",
      "-----------------------FOLD 3---------------------\n",
      "---------------CROSS VALIDATION COMPLETE\n",
      "----------------TEST EVALUATION------------------\n",
      "AUC is: 0.8356300412918587\n",
      "None\n"
     ]
    },
    {
     "data": {
      "image/png": "[encoded data removed]",
      "text/plain": [
       "<Figure size 864x576 with 1 Axes>"
      ]
     },
     "metadata": {
      "needs_background": "light"
     },
     "output_type": "display_data"
    }
   ],
   "source": [
    "func4_= Xgboost(traindata, validation, testdata, target, valid_target)\n",
    "pred4, open_test4, model4 = func4_()"
   ]
  },
  {
   "cell_type": "markdown",
   "metadata": {},
   "source": [
    "## "
   ]
  },
  {
   "cell_type": "code",
   "execution_count": 43,
   "metadata": {},
   "outputs": [
    {
     "data": {
      "text/plain": [
       "array([0.30147729, 0.30429607, 0.42090405, 0.79144137, 0.08210297,\n",
       "       0.47175415, 0.30755283, 0.67997336, 0.39516605, 0.16004336])"
      ]
     },
     "execution_count": 43,
     "metadata": {},
     "output_type": "execute_result"
    }
   ],
   "source": [
    "stack = np.column_stack((pred1, pred2, pred3, pred4))\n",
    "stack_open = np.column_stack((open_test1, open_test2, open_test3, open_test4))\n",
    "\n",
    "meta_model = LinearRegression()\n",
    "meta_model.fit(stack, valid_target)\n",
    "final_open_pred1 = meta_model.predict(stack_open)\n",
    "final_open_pred1[:10]"
   ]
  },
  {
   "cell_type": "code",
   "execution_count": 45,
   "metadata": {},
   "outputs": [],
   "source": [
    "avg = (final_open_pred + final_open_pred1)/2"
   ]
  },
  {
   "cell_type": "code",
   "execution_count": 33,
   "metadata": {},
   "outputs": [],
   "source": [
    "make_submission(pred_test2, '6-max-depth-new.csv')"
   ]
  },
  {
   "cell_type": "code",
   "execution_count": 19,
   "metadata": {},
   "outputs": [
    {
     "name": "stdout",
     "output_type": "stream",
     "text": [
      "0:\tlearn: 0.6713357\ttest: 0.6709778\tbest: 0.6709778 (0)\ttotal: 369ms\tremaining: 5h 7m 32s\n",
      "50:\tlearn: 0.4202283\ttest: 0.4337035\tbest: 0.4337035 (50)\ttotal: 13.5s\tremaining: 3h 40m 8s\n",
      "100:\tlearn: 0.4016152\ttest: 0.4247764\tbest: 0.4247764 (100)\ttotal: 26.7s\tremaining: 3h 40m 13s\n",
      "150:\tlearn: 0.3930662\ttest: 0.4222039\tbest: 0.4222039 (150)\ttotal: 39.5s\tremaining: 3h 37m 32s\n",
      "200:\tlearn: 0.3867319\ttest: 0.4201398\tbest: 0.4201398 (200)\ttotal: 50.4s\tremaining: 3h 27m 59s\n",
      "250:\tlearn: 0.3815397\ttest: 0.4191297\tbest: 0.4191297 (250)\ttotal: 1m 1s\tremaining: 3h 23m 46s\n",
      "300:\tlearn: 0.3765599\ttest: 0.4182842\tbest: 0.4182489 (298)\ttotal: 1m 16s\tremaining: 3h 31m 4s\n",
      "350:\tlearn: 0.3718310\ttest: 0.4179749\tbest: 0.4178728 (328)\ttotal: 1m 33s\tremaining: 3h 40m 8s\n",
      "400:\tlearn: 0.3673688\ttest: 0.4174523\tbest: 0.4174523 (400)\ttotal: 1m 44s\tremaining: 3h 34m 33s\n",
      "450:\tlearn: 0.3626174\ttest: 0.4169998\tbest: 0.4169160 (447)\ttotal: 1m 53s\tremaining: 3h 28m 5s\n",
      "500:\tlearn: 0.3588738\ttest: 0.4170169\tbest: 0.4169160 (447)\ttotal: 2m 8s\tremaining: 3h 30m 46s\n",
      "550:\tlearn: 0.3542743\ttest: 0.4169228\tbest: 0.4168338 (540)\ttotal: 2m 20s\tremaining: 3h 30m 35s\n",
      "600:\tlearn: 0.3493991\ttest: 0.4166204\tbest: 0.4166204 (600)\ttotal: 2m 30s\tremaining: 3h 26m 15s\n",
      "650:\tlearn: 0.3454467\ttest: 0.4164565\tbest: 0.4163808 (645)\ttotal: 2m 40s\tremaining: 3h 23m 10s\n",
      "700:\tlearn: 0.3411608\ttest: 0.4164978\tbest: 0.4163808 (645)\ttotal: 2m 50s\tremaining: 3h 20m 23s\n",
      "750:\tlearn: 0.3371055\ttest: 0.4163757\tbest: 0.4163192 (747)\ttotal: 3m 1s\tremaining: 3h 18m 13s\n",
      "800:\tlearn: 0.3327906\ttest: 0.4162718\tbest: 0.4161882 (774)\ttotal: 3m 12s\tremaining: 3h 17m 19s\n",
      "850:\tlearn: 0.3289204\ttest: 0.4163507\tbest: 0.4161871 (810)\ttotal: 3m 25s\tremaining: 3h 17m 24s\n",
      "900:\tlearn: 0.3250378\ttest: 0.4160957\tbest: 0.4159548 (888)\ttotal: 3m 35s\tremaining: 3h 15m 58s\n",
      "950:\tlearn: 0.3210447\ttest: 0.4159425\tbest: 0.4157740 (907)\ttotal: 3m 47s\tremaining: 3h 15m 39s\n",
      "1000:\tlearn: 0.3173956\ttest: 0.4161612\tbest: 0.4157740 (907)\ttotal: 3m 56s\tremaining: 3h 13m 9s\n",
      "Stopped by overfitting detector  (100 iterations wait)\n",
      "\n",
      "bestTest = 0.4157739701\n",
      "bestIteration = 907\n",
      "\n",
      "Shrink model to first 908 iterations.\n",
      "0:\tlearn: 0.6714019\ttest: 0.6723478\tbest: 0.6723478 (0)\ttotal: 171ms\tremaining: 2h 22m 54s\n",
      "50:\tlearn: 0.4206002\ttest: 0.4322303\tbest: 0.4322303 (50)\ttotal: 10.8s\tremaining: 2h 55m 29s\n",
      "100:\tlearn: 0.4024047\ttest: 0.4178441\tbest: 0.4178441 (100)\ttotal: 20.1s\tremaining: 2h 45m 7s\n",
      "150:\tlearn: 0.3940932\ttest: 0.4138997\tbest: 0.4138997 (150)\ttotal: 29.7s\tremaining: 2h 43m 28s\n",
      "200:\tlearn: 0.3878940\ttest: 0.4120168\tbest: 0.4120168 (200)\ttotal: 41.5s\tremaining: 2h 51m 31s\n",
      "250:\tlearn: 0.3825909\ttest: 0.4110604\tbest: 0.4110604 (250)\ttotal: 51.8s\tremaining: 2h 51m 1s\n",
      "300:\tlearn: 0.3777144\ttest: 0.4100788\tbest: 0.4100774 (298)\ttotal: 1m\tremaining: 2h 47m 25s\n",
      "350:\tlearn: 0.3727438\ttest: 0.4098630\tbest: 0.4098258 (348)\ttotal: 1m 9s\tremaining: 2h 43m 34s\n",
      "400:\tlearn: 0.3680912\ttest: 0.4093666\tbest: 0.4093666 (400)\ttotal: 1m 19s\tremaining: 2h 44m 15s\n",
      "450:\tlearn: 0.3631512\ttest: 0.4094237\tbest: 0.4093666 (400)\ttotal: 1m 29s\tremaining: 2h 44m 21s\n",
      "500:\tlearn: 0.3582264\ttest: 0.4088170\tbest: 0.4087210 (495)\ttotal: 1m 39s\tremaining: 2h 44m 13s\n",
      "550:\tlearn: 0.3532736\ttest: 0.4085841\tbest: 0.4084914 (521)\ttotal: 1m 50s\tremaining: 2h 44m 35s\n",
      "600:\tlearn: 0.3485370\ttest: 0.4083402\tbest: 0.4082471 (590)\ttotal: 1m 59s\tremaining: 2h 43m 14s\n",
      "650:\tlearn: 0.3438914\ttest: 0.4083790\tbest: 0.4082471 (590)\ttotal: 2m 9s\tremaining: 2h 43m 42s\n",
      "Stopped by overfitting detector  (100 iterations wait)\n",
      "\n",
      "bestTest = 0.4082470761\n",
      "bestIteration = 590\n",
      "\n",
      "Shrink model to first 591 iterations.\n",
      "0:\tlearn: 0.6719185\ttest: 0.6720321\tbest: 0.6720321 (0)\ttotal: 206ms\tremaining: 2h 51m 37s\n",
      "50:\tlearn: 0.4210070\ttest: 0.4247682\tbest: 0.4247682 (50)\ttotal: 9.8s\tremaining: 2h 40m\n",
      "100:\tlearn: 0.4025424\ttest: 0.4112305\tbest: 0.4112305 (100)\ttotal: 20.8s\tremaining: 2h 51m 38s\n",
      "150:\tlearn: 0.3941629\ttest: 0.4075213\tbest: 0.4075213 (150)\ttotal: 31.3s\tremaining: 2h 52m 12s\n",
      "200:\tlearn: 0.3878362\ttest: 0.4050327\tbest: 0.4050327 (200)\ttotal: 45s\tremaining: 3h 5m 57s\n",
      "250:\tlearn: 0.3828242\ttest: 0.4032644\tbest: 0.4032644 (250)\ttotal: 57.7s\tremaining: 3h 10m 38s\n",
      "300:\tlearn: 0.3780585\ttest: 0.4020660\tbest: 0.4020660 (300)\ttotal: 1m 12s\tremaining: 3h 18m 9s\n",
      "350:\tlearn: 0.3735736\ttest: 0.4013443\tbest: 0.4013443 (350)\ttotal: 1m 22s\tremaining: 3h 13m 23s\n",
      "400:\tlearn: 0.3681651\ttest: 0.4002254\tbest: 0.4002254 (400)\ttotal: 1m 31s\tremaining: 3h 9m 2s\n",
      "450:\tlearn: 0.3633751\ttest: 0.3997506\tbest: 0.3997351 (448)\ttotal: 1m 40s\tremaining: 3h 4m 41s\n",
      "500:\tlearn: 0.3581647\ttest: 0.3996898\tbest: 0.3996126 (493)\ttotal: 1m 52s\tremaining: 3h 4m 55s\n",
      "550:\tlearn: 0.3530722\ttest: 0.3991772\tbest: 0.3990690 (546)\ttotal: 2m 5s\tremaining: 3h 7m 57s\n",
      "600:\tlearn: 0.3485733\ttest: 0.3988342\tbest: 0.3987729 (590)\ttotal: 2m 17s\tremaining: 3h 7m 49s\n",
      "650:\tlearn: 0.3436165\ttest: 0.3987689\tbest: 0.3986664 (604)\ttotal: 2m 29s\tremaining: 3h 9m 23s\n",
      "700:\tlearn: 0.3392327\ttest: 0.3984915\tbest: 0.3984711 (697)\ttotal: 2m 40s\tremaining: 3h 8m 35s\n",
      "750:\tlearn: 0.3351634\ttest: 0.3979401\tbest: 0.3978880 (745)\ttotal: 2m 49s\tremaining: 3h 5m 37s\n",
      "800:\tlearn: 0.3308617\ttest: 0.3979714\tbest: 0.3976884 (772)\ttotal: 2m 59s\tremaining: 3h 3m 51s\n",
      "850:\tlearn: 0.3269647\ttest: 0.3976205\tbest: 0.3975549 (843)\ttotal: 3m 10s\tremaining: 3h 3m 8s\n",
      "900:\tlearn: 0.3232815\ttest: 0.3975350\tbest: 0.3974813 (853)\ttotal: 3m 25s\tremaining: 3h 7m 1s\n",
      "950:\tlearn: 0.3192819\ttest: 0.3975443\tbest: 0.3974005 (939)\ttotal: 3m 42s\tremaining: 3h 11m 16s\n",
      "1000:\tlearn: 0.3154713\ttest: 0.3977093\tbest: 0.3974005 (939)\ttotal: 3m 55s\tremaining: 3h 11m 59s\n",
      "Stopped by overfitting detector  (100 iterations wait)\n",
      "\n",
      "bestTest = 0.3974004802\n",
      "bestIteration = 939\n",
      "\n",
      "Shrink model to first 940 iterations.\n",
      "0:\tlearn: 0.6719383\ttest: 0.6716129\tbest: 0.6716129 (0)\ttotal: 281ms\tremaining: 3h 53m 50s\n",
      "50:\tlearn: 0.4216002\ttest: 0.4172029\tbest: 0.4172029 (50)\ttotal: 11s\tremaining: 3h 8s\n",
      "100:\tlearn: 0.4034345\ttest: 0.4013309\tbest: 0.4013309 (100)\ttotal: 21.2s\tremaining: 2h 54m 23s\n",
      "150:\tlearn: 0.3949084\ttest: 0.3960791\tbest: 0.3960791 (150)\ttotal: 31.6s\tremaining: 2h 53m 53s\n",
      "200:\tlearn: 0.3886887\ttest: 0.3939495\tbest: 0.3939495 (200)\ttotal: 42.3s\tremaining: 2h 54m 50s\n",
      "250:\tlearn: 0.3836429\ttest: 0.3927557\tbest: 0.3927398 (249)\ttotal: 55s\tremaining: 3h 1m 50s\n",
      "300:\tlearn: 0.3789396\ttest: 0.3917527\tbest: 0.3917527 (300)\ttotal: 1m 9s\tremaining: 3h 11m 44s\n",
      "350:\tlearn: 0.3744829\ttest: 0.3917816\tbest: 0.3916117 (335)\ttotal: 1m 25s\tremaining: 3h 22m 5s\n",
      "400:\tlearn: 0.3694062\ttest: 0.3912672\tbest: 0.3912672 (400)\ttotal: 1m 38s\tremaining: 3h 22m 55s\n",
      "450:\tlearn: 0.3649506\ttest: 0.3913297\tbest: 0.3912345 (404)\ttotal: 1m 48s\tremaining: 3h 19m 1s\n",
      "500:\tlearn: 0.3597202\ttest: 0.3918804\tbest: 0.3912345 (404)\ttotal: 2m\tremaining: 3h 18m 54s\n",
      "Stopped by overfitting detector  (100 iterations wait)\n",
      "\n",
      "bestTest = 0.3912344707\n",
      "bestIteration = 404\n",
      "\n",
      "Shrink model to first 405 iterations.\n",
      "0:\tlearn: 0.6719167\ttest: 0.6720423\tbest: 0.6720423 (0)\ttotal: 177ms\tremaining: 2h 27m 34s\n",
      "50:\tlearn: 0.4208377\ttest: 0.4255635\tbest: 0.4255635 (50)\ttotal: 11.3s\tremaining: 3h 5m 5s\n",
      "100:\tlearn: 0.4023870\ttest: 0.4106416\tbest: 0.4106416 (100)\ttotal: 20.3s\tremaining: 2h 46m 47s\n",
      "150:\tlearn: 0.3942600\ttest: 0.4071877\tbest: 0.4071833 (149)\ttotal: 29.9s\tremaining: 2h 44m 18s\n",
      "200:\tlearn: 0.3878778\ttest: 0.4054688\tbest: 0.4054688 (200)\ttotal: 39.6s\tremaining: 2h 43m 26s\n",
      "250:\tlearn: 0.3824632\ttest: 0.4049360\tbest: 0.4049323 (248)\ttotal: 48.9s\tremaining: 2h 41m 27s\n",
      "300:\tlearn: 0.3774777\ttest: 0.4040175\tbest: 0.4040175 (300)\ttotal: 1m 1s\tremaining: 2h 48m 2s\n",
      "350:\tlearn: 0.3729383\ttest: 0.4037974\tbest: 0.4037335 (317)\ttotal: 1m 16s\tremaining: 2h 59m 36s\n",
      "400:\tlearn: 0.3677560\ttest: 0.4034654\tbest: 0.4033687 (394)\ttotal: 1m 29s\tremaining: 3h 5m 15s\n",
      "450:\tlearn: 0.3632561\ttest: 0.4031538\tbest: 0.4031037 (417)\ttotal: 1m 43s\tremaining: 3h 9m 13s\n",
      "500:\tlearn: 0.3582252\ttest: 0.4029175\tbest: 0.4028740 (479)\ttotal: 1m 56s\tremaining: 3h 11m 49s\n",
      "550:\tlearn: 0.3529451\ttest: 0.4034476\tbest: 0.4028025 (505)\ttotal: 2m 10s\tremaining: 3h 14m 35s\n",
      "600:\tlearn: 0.3482762\ttest: 0.4033351\tbest: 0.4028025 (505)\ttotal: 2m 23s\tremaining: 3h 16m 25s\n",
      "Stopped by overfitting detector  (100 iterations wait)\n",
      "\n",
      "bestTest = 0.4028025499\n",
      "bestIteration = 505\n",
      "\n",
      "Shrink model to first 506 iterations.\n"
     ]
    },
    {
     "name": "stdout",
     "output_type": "stream",
     "text": [
      "0:\tlearn: 0.6718849\ttest: 0.6716811\tbest: 0.6716811 (0)\ttotal: 295ms\tremaining: 4h 5m 30s\n",
      "50:\tlearn: 0.4207179\ttest: 0.4269095\tbest: 0.4269095 (50)\ttotal: 14.1s\tremaining: 3h 49m 45s\n",
      "100:\tlearn: 0.4021748\ttest: 0.4150788\tbest: 0.4150788 (100)\ttotal: 27.6s\tremaining: 3h 46m 59s\n",
      "150:\tlearn: 0.3937116\ttest: 0.4112876\tbest: 0.4112876 (150)\ttotal: 41.1s\tremaining: 3h 45m 54s\n",
      "200:\tlearn: 0.3875798\ttest: 0.4091478\tbest: 0.4091478 (200)\ttotal: 54.6s\tremaining: 3h 45m 29s\n",
      "250:\tlearn: 0.3818029\ttest: 0.4082592\tbest: 0.4082592 (250)\ttotal: 1m 8s\tremaining: 3h 46m 12s\n",
      "300:\tlearn: 0.3770286\ttest: 0.4076949\tbest: 0.4075847 (295)\ttotal: 1m 22s\tremaining: 3h 46m 51s\n",
      "350:\tlearn: 0.3718240\ttest: 0.4069753\tbest: 0.4069564 (348)\ttotal: 1m 37s\tremaining: 3h 50m\n",
      "400:\tlearn: 0.3668880\ttest: 0.4067491\tbest: 0.4067262 (399)\ttotal: 1m 49s\tremaining: 3h 45m 20s\n",
      "450:\tlearn: 0.3617590\ttest: 0.4063852\tbest: 0.4063852 (450)\ttotal: 1m 58s\tremaining: 3h 36m 11s\n",
      "500:\tlearn: 0.3566874\ttest: 0.4061024\tbest: 0.4060550 (497)\ttotal: 2m 6s\tremaining: 3h 28m 32s\n",
      "550:\tlearn: 0.3520170\ttest: 0.4059391\tbest: 0.4057811 (515)\ttotal: 2m 15s\tremaining: 3h 22m 20s\n",
      "600:\tlearn: 0.3476620\ttest: 0.4053854\tbest: 0.4053854 (600)\ttotal: 2m 23s\tremaining: 3h 16m 54s\n",
      "650:\tlearn: 0.3430731\ttest: 0.4051082\tbest: 0.4051034 (631)\ttotal: 2m 32s\tremaining: 3h 12m 24s\n",
      "700:\tlearn: 0.3390879\ttest: 0.4051236\tbest: 0.4049494 (683)\ttotal: 2m 40s\tremaining: 3h 8m 17s\n",
      "750:\tlearn: 0.3350511\ttest: 0.4049997\tbest: 0.4048448 (738)\ttotal: 2m 49s\tremaining: 3h 4m 52s\n",
      "800:\tlearn: 0.3309688\ttest: 0.4048019\tbest: 0.4046199 (787)\ttotal: 2m 57s\tremaining: 3h 1m 58s\n",
      "850:\tlearn: 0.3273447\ttest: 0.4048272\tbest: 0.4046199 (787)\ttotal: 3m 6s\tremaining: 2h 59m 11s\n",
      "Stopped by overfitting detector  (100 iterations wait)\n",
      "\n",
      "bestTest = 0.4046199347\n",
      "bestIteration = 787\n",
      "\n",
      "Shrink model to first 788 iterations.\n",
      "0:\tlearn: 0.6718284\ttest: 0.6725636\tbest: 0.6725636 (0)\ttotal: 182ms\tremaining: 2h 31m 25s\n",
      "50:\tlearn: 0.4206269\ttest: 0.4282809\tbest: 0.4282809 (50)\ttotal: 9.09s\tremaining: 2h 28m 26s\n",
      "100:\tlearn: 0.4026444\ttest: 0.4140734\tbest: 0.4140734 (100)\ttotal: 17.8s\tremaining: 2h 26m 32s\n",
      "150:\tlearn: 0.3942192\ttest: 0.4102890\tbest: 0.4102890 (150)\ttotal: 26.5s\tremaining: 2h 25m 50s\n",
      "200:\tlearn: 0.3877299\ttest: 0.4086830\tbest: 0.4086830 (200)\ttotal: 35.1s\tremaining: 2h 24m 56s\n",
      "250:\tlearn: 0.3823839\ttest: 0.4080061\tbest: 0.4080061 (250)\ttotal: 43.8s\tremaining: 2h 24m 40s\n",
      "300:\tlearn: 0.3773630\ttest: 0.4070209\tbest: 0.4070209 (300)\ttotal: 52.4s\tremaining: 2h 24m 11s\n",
      "350:\tlearn: 0.3729332\ttest: 0.4064144\tbest: 0.4064144 (350)\ttotal: 1m 1s\tremaining: 2h 24m 5s\n",
      "400:\tlearn: 0.3680608\ttest: 0.4061933\tbest: 0.4061933 (400)\ttotal: 1m 9s\tremaining: 2h 23m 26s\n",
      "450:\tlearn: 0.3628880\ttest: 0.4060238\tbest: 0.4060020 (426)\ttotal: 1m 18s\tremaining: 2h 23m 19s\n",
      "500:\tlearn: 0.3577240\ttest: 0.4061287\tbest: 0.4058087 (461)\ttotal: 1m 27s\tremaining: 2h 23m 24s\n",
      "550:\tlearn: 0.3526756\ttest: 0.4061146\tbest: 0.4058087 (461)\ttotal: 1m 38s\tremaining: 2h 26m 40s\n",
      "Stopped by overfitting detector  (100 iterations wait)\n",
      "\n",
      "bestTest = 0.4058087382\n",
      "bestIteration = 461\n",
      "\n",
      "Shrink model to first 462 iterations.\n",
      "0:\tlearn: 0.6717775\ttest: 0.6737549\tbest: 0.6737549 (0)\ttotal: 197ms\tremaining: 2h 44m 25s\n",
      "50:\tlearn: 0.4203982\ttest: 0.4379482\tbest: 0.4379482 (50)\ttotal: 11.2s\tremaining: 3h 2m 49s\n",
      "100:\tlearn: 0.4020796\ttest: 0.4237935\tbest: 0.4237935 (100)\ttotal: 24.2s\tremaining: 3h 19m 3s\n",
      "150:\tlearn: 0.3934577\ttest: 0.4200445\tbest: 0.4200445 (150)\ttotal: 39.8s\tremaining: 3h 38m 59s\n",
      "200:\tlearn: 0.3871633\ttest: 0.4186084\tbest: 0.4185697 (197)\ttotal: 54.7s\tremaining: 3h 46m\n",
      "250:\tlearn: 0.3817930\ttest: 0.4179610\tbest: 0.4178422 (242)\ttotal: 1m 3s\tremaining: 3h 29m 22s\n",
      "300:\tlearn: 0.3769371\ttest: 0.4171380\tbest: 0.4171380 (300)\ttotal: 1m 12s\tremaining: 3h 18m 8s\n",
      "350:\tlearn: 0.3721917\ttest: 0.4169080\tbest: 0.4169079 (349)\ttotal: 1m 20s\tremaining: 3h 10m 54s\n",
      "400:\tlearn: 0.3670522\ttest: 0.4168350\tbest: 0.4167141 (387)\ttotal: 1m 32s\tremaining: 3h 11m 8s\n",
      "450:\tlearn: 0.3619788\ttest: 0.4161769\tbest: 0.4161769 (450)\ttotal: 1m 41s\tremaining: 3h 5m 49s\n",
      "500:\tlearn: 0.3571793\ttest: 0.4160677\tbest: 0.4160489 (476)\ttotal: 1m 51s\tremaining: 3h 3m 46s\n",
      "550:\tlearn: 0.3522192\ttest: 0.4161917\tbest: 0.4160431 (539)\ttotal: 2m 1s\tremaining: 3h 1m 32s\n",
      "600:\tlearn: 0.3474824\ttest: 0.4160923\tbest: 0.4158575 (576)\ttotal: 2m 12s\tremaining: 3h 57s\n",
      "650:\tlearn: 0.3430125\ttest: 0.4159139\tbest: 0.4158575 (576)\ttotal: 2m 21s\tremaining: 2h 58m 13s\n",
      "Stopped by overfitting detector  (100 iterations wait)\n",
      "\n",
      "bestTest = 0.4158575437\n",
      "bestIteration = 576\n",
      "\n",
      "Shrink model to first 577 iterations.\n",
      "0:\tlearn: 0.6720121\ttest: 0.6715556\tbest: 0.6715556 (0)\ttotal: 181ms\tremaining: 2h 30m 34s\n",
      "50:\tlearn: 0.4210378\ttest: 0.4236697\tbest: 0.4236697 (50)\ttotal: 9.71s\tremaining: 2h 38m 35s\n",
      "100:\tlearn: 0.4029319\ttest: 0.4102292\tbest: 0.4102292 (100)\ttotal: 18.7s\tremaining: 2h 33m 48s\n",
      "150:\tlearn: 0.3943475\ttest: 0.4063029\tbest: 0.4063029 (150)\ttotal: 28.8s\tremaining: 2h 38m 30s\n",
      "200:\tlearn: 0.3880321\ttest: 0.4038572\tbest: 0.4038572 (200)\ttotal: 41.1s\tremaining: 2h 49m 31s\n",
      "250:\tlearn: 0.3826374\ttest: 0.4026196\tbest: 0.4026196 (250)\ttotal: 58.4s\tremaining: 3h 12m 53s\n",
      "300:\tlearn: 0.3777637\ttest: 0.4014050\tbest: 0.4013664 (298)\ttotal: 1m 15s\tremaining: 3h 27m 10s\n",
      "350:\tlearn: 0.3728629\ttest: 0.4007572\tbest: 0.4007572 (350)\ttotal: 1m 29s\tremaining: 3h 31m 31s\n",
      "400:\tlearn: 0.3681276\ttest: 0.4003298\tbest: 0.4002548 (386)\ttotal: 1m 44s\tremaining: 3h 35m 34s\n",
      "450:\tlearn: 0.3632321\ttest: 0.4003901\tbest: 0.4002237 (418)\ttotal: 1m 56s\tremaining: 3h 33m 50s\n",
      "500:\tlearn: 0.3584917\ttest: 0.4000834\tbest: 0.4000194 (494)\ttotal: 2m 7s\tremaining: 3h 30m 46s\n",
      "550:\tlearn: 0.3536860\ttest: 0.4002210\tbest: 0.3999646 (526)\ttotal: 2m 18s\tremaining: 3h 26m 30s\n",
      "600:\tlearn: 0.3487831\ttest: 0.3999764\tbest: 0.3999646 (526)\ttotal: 2m 28s\tremaining: 3h 23m 52s\n",
      "650:\tlearn: 0.3441506\ttest: 0.3999675\tbest: 0.3997477 (625)\ttotal: 2m 38s\tremaining: 3h 19m 46s\n",
      "700:\tlearn: 0.3393595\ttest: 0.4000960\tbest: 0.3997477 (625)\ttotal: 2m 47s\tremaining: 3h 16m 45s\n",
      "Stopped by overfitting detector  (100 iterations wait)\n",
      "\n",
      "bestTest = 0.3997477453\n",
      "bestIteration = 625\n",
      "\n",
      "Shrink model to first 626 iterations.\n",
      "0:\tlearn: 0.6719029\ttest: 0.6729706\tbest: 0.6729706 (0)\ttotal: 199ms\tremaining: 2h 45m 56s\n",
      "50:\tlearn: 0.4208268\ttest: 0.4257466\tbest: 0.4257466 (50)\ttotal: 10.7s\tremaining: 2h 54m\n",
      "100:\tlearn: 0.4025137\ttest: 0.4099159\tbest: 0.4099159 (100)\ttotal: 23.5s\tremaining: 3h 13m 16s\n",
      "150:\tlearn: 0.3943444\ttest: 0.4055159\tbest: 0.4055159 (150)\ttotal: 38.4s\tremaining: 3h 31m 32s\n",
      "200:\tlearn: 0.3880733\ttest: 0.4033793\tbest: 0.4033793 (200)\ttotal: 48.4s\tremaining: 3h 19m 55s\n",
      "250:\tlearn: 0.3827168\ttest: 0.4021978\tbest: 0.4021756 (246)\ttotal: 58.7s\tremaining: 3h 13m 57s\n",
      "300:\tlearn: 0.3778346\ttest: 0.4010912\tbest: 0.4010787 (299)\ttotal: 1m 9s\tremaining: 3h 10m 2s\n",
      "350:\tlearn: 0.3725806\ttest: 0.4005186\tbest: 0.4005186 (350)\ttotal: 1m 19s\tremaining: 3h 6m 26s\n",
      "400:\tlearn: 0.3676620\ttest: 0.4004551\tbest: 0.4003053 (356)\ttotal: 1m 31s\tremaining: 3h 8m 15s\n",
      "450:\tlearn: 0.3622501\ttest: 0.4004456\tbest: 0.4002856 (433)\ttotal: 1m 42s\tremaining: 3h 7m 46s\n",
      "500:\tlearn: 0.3575987\ttest: 0.4004038\tbest: 0.4002473 (477)\ttotal: 1m 51s\tremaining: 3h 3m 8s\n",
      "550:\tlearn: 0.3540857\ttest: 0.4005784\tbest: 0.4002473 (477)\ttotal: 2m\tremaining: 2h 59m 59s\n",
      "Stopped by overfitting detector  (100 iterations wait)\n",
      "\n",
      "bestTest = 0.4002473048\n",
      "bestIteration = 477\n",
      "\n",
      "Shrink model to first 478 iterations.\n",
      "0:\tlearn: 0.6717837\ttest: 0.6728326\tbest: 0.6728326 (0)\ttotal: 179ms\tremaining: 2h 28m 48s\n",
      "50:\tlearn: 0.4204741\ttest: 0.4315428\tbest: 0.4315428 (50)\ttotal: 9.09s\tremaining: 2h 28m 22s\n",
      "100:\tlearn: 0.4022267\ttest: 0.4165344\tbest: 0.4165344 (100)\ttotal: 19.1s\tremaining: 2h 37m 28s\n",
      "150:\tlearn: 0.3941386\ttest: 0.4124871\tbest: 0.4124871 (150)\ttotal: 29.4s\tremaining: 2h 41m 51s\n",
      "200:\tlearn: 0.3875794\ttest: 0.4101652\tbest: 0.4101652 (200)\ttotal: 38.2s\tremaining: 2h 37m 47s\n",
      "250:\tlearn: 0.3821445\ttest: 0.4092378\tbest: 0.4092337 (245)\ttotal: 46.9s\tremaining: 2h 34m 53s\n",
      "300:\tlearn: 0.3771723\ttest: 0.4084491\tbest: 0.4084424 (298)\ttotal: 57.1s\tremaining: 2h 37m 6s\n",
      "350:\tlearn: 0.3727418\ttest: 0.4078602\tbest: 0.4077773 (338)\ttotal: 1m 12s\tremaining: 2h 50m 17s\n",
      "400:\tlearn: 0.3679301\ttest: 0.4073567\tbest: 0.4073431 (399)\ttotal: 1m 25s\tremaining: 2h 56m 46s\n"
     ]
    },
    {
     "name": "stdout",
     "output_type": "stream",
     "text": [
      "450:\tlearn: 0.3633453\ttest: 0.4071358\tbest: 0.4070742 (445)\ttotal: 1m 39s\tremaining: 3h 2m 9s\n",
      "500:\tlearn: 0.3582511\ttest: 0.4068794\tbest: 0.4067668 (477)\ttotal: 1m 52s\tremaining: 3h 4m 34s\n",
      "550:\tlearn: 0.3535813\ttest: 0.4066477\tbest: 0.4066477 (550)\ttotal: 2m 3s\tremaining: 3h 4m 24s\n",
      "600:\tlearn: 0.3492461\ttest: 0.4060544\tbest: 0.4060544 (600)\ttotal: 2m 13s\tremaining: 3h 2m 24s\n",
      "650:\tlearn: 0.3450129\ttest: 0.4064907\tbest: 0.4060310 (601)\ttotal: 2m 25s\tremaining: 3h 3m 46s\n",
      "700:\tlearn: 0.3406401\ttest: 0.4064783\tbest: 0.4060310 (601)\ttotal: 2m 36s\tremaining: 3h 3m 58s\n",
      "Stopped by overfitting detector  (100 iterations wait)\n",
      "\n",
      "bestTest = 0.406030992\n",
      "bestIteration = 601\n",
      "\n",
      "Shrink model to first 602 iterations.\n",
      "0:\tlearn: 0.6718937\ttest: 0.6721789\tbest: 0.6721789 (0)\ttotal: 261ms\tremaining: 3h 37m 37s\n",
      "50:\tlearn: 0.4211190\ttest: 0.4241186\tbest: 0.4241186 (50)\ttotal: 11.4s\tremaining: 3h 6m 6s\n",
      "100:\tlearn: 0.4025057\ttest: 0.4108146\tbest: 0.4108146 (100)\ttotal: 25.7s\tremaining: 3h 31m 41s\n",
      "150:\tlearn: 0.3941496\ttest: 0.4080237\tbest: 0.4079067 (149)\ttotal: 44.1s\tremaining: 4h 2m 30s\n",
      "200:\tlearn: 0.3878040\ttest: 0.4070053\tbest: 0.4070053 (200)\ttotal: 57.8s\tremaining: 3h 58m 39s\n",
      "250:\tlearn: 0.3822973\ttest: 0.4057346\tbest: 0.4057346 (250)\ttotal: 1m 11s\tremaining: 3h 57m 4s\n",
      "300:\tlearn: 0.3772813\ttest: 0.4051818\tbest: 0.4051818 (300)\ttotal: 1m 25s\tremaining: 3h 56m 11s\n",
      "350:\tlearn: 0.3726317\ttest: 0.4051353\tbest: 0.4049431 (311)\ttotal: 1m 39s\tremaining: 3h 54m 6s\n",
      "400:\tlearn: 0.3680921\ttest: 0.4049563\tbest: 0.4049219 (388)\ttotal: 1m 52s\tremaining: 3h 50m 57s\n",
      "450:\tlearn: 0.3634551\ttest: 0.4046406\tbest: 0.4046160 (433)\ttotal: 2m 4s\tremaining: 3h 48m 46s\n",
      "500:\tlearn: 0.3587174\ttest: 0.4046273\tbest: 0.4044688 (467)\ttotal: 2m 18s\tremaining: 3h 47m 44s\n",
      "550:\tlearn: 0.3535788\ttest: 0.4048531\tbest: 0.4044688 (467)\ttotal: 2m 36s\tremaining: 3h 53m 25s\n",
      "Stopped by overfitting detector  (100 iterations wait)\n",
      "\n",
      "bestTest = 0.4044687967\n",
      "bestIteration = 467\n",
      "\n",
      "Shrink model to first 468 iterations.\n",
      "0:\tlearn: 0.6716899\ttest: 0.6726693\tbest: 0.6726693 (0)\ttotal: 244ms\tremaining: 3h 23m 3s\n",
      "50:\tlearn: 0.4195161\ttest: 0.4463633\tbest: 0.4463633 (50)\ttotal: 12.8s\tremaining: 3h 28m 35s\n",
      "100:\tlearn: 0.4010630\ttest: 0.4379414\tbest: 0.4378617 (98)\ttotal: 25.2s\tremaining: 3h 27m 10s\n",
      "150:\tlearn: 0.3927187\ttest: 0.4361664\tbest: 0.4361664 (150)\ttotal: 37.5s\tremaining: 3h 26m 13s\n",
      "200:\tlearn: 0.3862967\ttest: 0.4349715\tbest: 0.4349701 (197)\ttotal: 49.6s\tremaining: 3h 24m 49s\n",
      "250:\tlearn: 0.3810612\ttest: 0.4343524\tbest: 0.4342704 (237)\ttotal: 1m\tremaining: 3h 20m 58s\n",
      "300:\tlearn: 0.3761099\ttest: 0.4332751\tbest: 0.4332135 (299)\ttotal: 1m 12s\tremaining: 3h 19m 50s\n",
      "350:\tlearn: 0.3715242\ttest: 0.4325862\tbest: 0.4325671 (349)\ttotal: 1m 27s\tremaining: 3h 27m 5s\n",
      "400:\tlearn: 0.3666850\ttest: 0.4319505\tbest: 0.4319188 (392)\ttotal: 1m 38s\tremaining: 3h 23m 53s\n",
      "450:\tlearn: 0.3618617\ttest: 0.4315886\tbest: 0.4314150 (433)\ttotal: 1m 46s\tremaining: 3h 15m 52s\n",
      "500:\tlearn: 0.3565331\ttest: 0.4312205\tbest: 0.4312077 (497)\ttotal: 1m 57s\tremaining: 3h 13m 37s\n",
      "550:\tlearn: 0.3515655\ttest: 0.4307925\tbest: 0.4307518 (544)\ttotal: 2m 10s\tremaining: 3h 15m 13s\n",
      "600:\tlearn: 0.3468847\ttest: 0.4306548\tbest: 0.4306164 (596)\ttotal: 2m 25s\tremaining: 3h 18m 50s\n",
      "650:\tlearn: 0.3419770\ttest: 0.4308915\tbest: 0.4306164 (596)\ttotal: 2m 36s\tremaining: 3h 17m 8s\n",
      "Stopped by overfitting detector  (100 iterations wait)\n",
      "\n",
      "bestTest = 0.4306164209\n",
      "bestIteration = 596\n",
      "\n",
      "Shrink model to first 597 iterations.\n",
      "0:\tlearn: 0.6718392\ttest: 0.6732728\tbest: 0.6732728 (0)\ttotal: 179ms\tremaining: 2h 29m 4s\n",
      "50:\tlearn: 0.4201266\ttest: 0.4372251\tbest: 0.4372251 (50)\ttotal: 10.3s\tremaining: 2h 47m 47s\n",
      "100:\tlearn: 0.4016738\ttest: 0.4244478\tbest: 0.4244478 (100)\ttotal: 24.7s\tremaining: 3h 23m 32s\n",
      "150:\tlearn: 0.3932796\ttest: 0.4208690\tbest: 0.4208690 (150)\ttotal: 37s\tremaining: 3h 23m 36s\n",
      "200:\tlearn: 0.3869155\ttest: 0.4192707\tbest: 0.4192707 (200)\ttotal: 48.3s\tremaining: 3h 19m 21s\n",
      "250:\tlearn: 0.3815777\ttest: 0.4185044\tbest: 0.4184775 (249)\ttotal: 59.9s\tremaining: 3h 18m 2s\n",
      "300:\tlearn: 0.3768223\ttest: 0.4180702\tbest: 0.4180463 (295)\ttotal: 1m 8s\tremaining: 3h 8m 42s\n",
      "350:\tlearn: 0.3721955\ttest: 0.4188908\tbest: 0.4180463 (295)\ttotal: 1m 17s\tremaining: 3h 3m 18s\n",
      "Stopped by overfitting detector  (100 iterations wait)\n",
      "\n",
      "bestTest = 0.4180463029\n",
      "bestIteration = 295\n",
      "\n",
      "Shrink model to first 296 iterations.\n",
      "0:\tlearn: 0.6718265\ttest: 0.6726426\tbest: 0.6726426 (0)\ttotal: 331ms\tremaining: 4h 36m 3s\n",
      "50:\tlearn: 0.4210445\ttest: 0.4235537\tbest: 0.4235537 (50)\ttotal: 14.8s\tremaining: 4h 2m 23s\n",
      "100:\tlearn: 0.4027756\ttest: 0.4069756\tbest: 0.4069756 (100)\ttotal: 28.5s\tremaining: 3h 54m 26s\n",
      "150:\tlearn: 0.3944494\ttest: 0.4012103\tbest: 0.4012103 (150)\ttotal: 40.4s\tremaining: 3h 42m 7s\n",
      "200:\tlearn: 0.3879486\ttest: 0.3980249\tbest: 0.3980249 (200)\ttotal: 51.4s\tremaining: 3h 32m 26s\n",
      "250:\tlearn: 0.3824951\ttest: 0.3969949\tbest: 0.3969814 (249)\ttotal: 1m\tremaining: 3h 19m 42s\n",
      "300:\tlearn: 0.3773500\ttest: 0.3961454\tbest: 0.3961454 (300)\ttotal: 1m 11s\tremaining: 3h 15m 49s\n",
      "350:\tlearn: 0.3726953\ttest: 0.3959049\tbest: 0.3957428 (341)\ttotal: 1m 23s\tremaining: 3h 17m\n",
      "400:\tlearn: 0.3676421\ttest: 0.3957529\tbest: 0.3956284 (377)\ttotal: 1m 35s\tremaining: 3h 16m 39s\n",
      "450:\tlearn: 0.3626240\ttest: 0.3955183\tbest: 0.3954993 (448)\ttotal: 1m 44s\tremaining: 3h 11m 10s\n",
      "500:\tlearn: 0.3577261\ttest: 0.3955086\tbest: 0.3953214 (474)\ttotal: 1m 54s\tremaining: 3h 8m 6s\n",
      "550:\tlearn: 0.3532194\ttest: 0.3959072\tbest: 0.3953214 (474)\ttotal: 2m 6s\tremaining: 3h 8m 48s\n",
      "Stopped by overfitting detector  (100 iterations wait)\n",
      "\n",
      "bestTest = 0.3953213633\n",
      "bestIteration = 474\n",
      "\n",
      "Shrink model to first 475 iterations.\n",
      "0:\tlearn: 0.6719128\ttest: 0.6721740\tbest: 0.6721740 (0)\ttotal: 349ms\tremaining: 4h 50m 44s\n",
      "50:\tlearn: 0.4207549\ttest: 0.4299056\tbest: 0.4299056 (50)\ttotal: 16.9s\tremaining: 4h 35m 9s\n",
      "100:\tlearn: 0.4024805\ttest: 0.4175287\tbest: 0.4175287 (100)\ttotal: 30.6s\tremaining: 4h 11m 57s\n",
      "150:\tlearn: 0.3941224\ttest: 0.4141126\tbest: 0.4141126 (150)\ttotal: 40.9s\tremaining: 3h 45m 11s\n",
      "200:\tlearn: 0.3876491\ttest: 0.4120297\tbest: 0.4120297 (200)\ttotal: 52.2s\tremaining: 3h 35m 40s\n",
      "250:\tlearn: 0.3825132\ttest: 0.4114888\tbest: 0.4114102 (224)\ttotal: 1m 2s\tremaining: 3h 26m 24s\n",
      "300:\tlearn: 0.3775035\ttest: 0.4112612\tbest: 0.4112172 (280)\ttotal: 1m 11s\tremaining: 3h 17m 43s\n",
      "350:\tlearn: 0.3725049\ttest: 0.4112438\tbest: 0.4112172 (280)\ttotal: 1m 21s\tremaining: 3h 11m 37s\n",
      "400:\tlearn: 0.3676643\ttest: 0.4107581\tbest: 0.4107581 (400)\ttotal: 1m 29s\tremaining: 3h 5m 9s\n",
      "450:\tlearn: 0.3631473\ttest: 0.4104529\tbest: 0.4104177 (448)\ttotal: 1m 38s\tremaining: 3h 2s\n",
      "500:\tlearn: 0.3581860\ttest: 0.4106161\tbest: 0.4104080 (451)\ttotal: 1m 47s\tremaining: 2h 56m 23s\n",
      "550:\tlearn: 0.3537572\ttest: 0.4101104\tbest: 0.4101104 (550)\ttotal: 1m 55s\tremaining: 2h 53m 12s\n",
      "600:\tlearn: 0.3491447\ttest: 0.4101985\tbest: 0.4101059 (570)\ttotal: 2m 5s\tremaining: 2h 52m 36s\n",
      "650:\tlearn: 0.3447275\ttest: 0.4106062\tbest: 0.4101050 (606)\ttotal: 2m 14s\tremaining: 2h 50m 15s\n",
      "700:\tlearn: 0.3404654\ttest: 0.4102049\tbest: 0.4101050 (606)\ttotal: 2m 24s\tremaining: 2h 49m 46s\n",
      "Stopped by overfitting detector  (100 iterations wait)\n",
      "\n",
      "bestTest = 0.4101050238\n",
      "bestIteration = 606\n",
      "\n",
      "Shrink model to first 607 iterations.\n",
      "0:\tlearn: 0.6716724\ttest: 0.6675352\tbest: 0.6675352 (0)\ttotal: 392ms\tremaining: 5h 27m\n",
      "50:\tlearn: 0.4226552\ttest: 0.3924107\tbest: 0.3924107 (50)\ttotal: 15.8s\tremaining: 4h 17m 5s\n",
      "100:\tlearn: 0.4044772\ttest: 0.3802476\tbest: 0.3802476 (100)\ttotal: 34.7s\tremaining: 4h 45m 51s\n",
      "150:\tlearn: 0.3960444\ttest: 0.3769896\tbest: 0.3769896 (150)\ttotal: 48.2s\tremaining: 4h 24m 59s\n",
      "200:\tlearn: 0.3899080\ttest: 0.3752060\tbest: 0.3752060 (200)\ttotal: 1m 2s\tremaining: 4h 16m 9s\n",
      "250:\tlearn: 0.3843620\ttest: 0.3745558\tbest: 0.3745390 (246)\ttotal: 1m 14s\tremaining: 4h 5m 17s\n",
      "300:\tlearn: 0.3794795\ttest: 0.3741986\tbest: 0.3741513 (282)\ttotal: 1m 24s\tremaining: 3h 53m 47s\n",
      "350:\tlearn: 0.3745026\ttest: 0.3746206\tbest: 0.3741513 (282)\ttotal: 1m 37s\tremaining: 3h 49m 20s\n",
      "Stopped by overfitting detector  (100 iterations wait)\n",
      "\n",
      "bestTest = 0.3741512673\n",
      "bestIteration = 282\n",
      "\n",
      "Shrink model to first 283 iterations.\n",
      "0:\tlearn: 0.6712844\ttest: 0.6693256\tbest: 0.6693256 (0)\ttotal: 351ms\tremaining: 4h 52m 36s\n",
      "50:\tlearn: 0.4199396\ttest: 0.4298006\tbest: 0.4298006 (50)\ttotal: 13.2s\tremaining: 3h 36m\n"
     ]
    },
    {
     "name": "stdout",
     "output_type": "stream",
     "text": [
      "100:\tlearn: 0.4019397\ttest: 0.4226608\tbest: 0.4226608 (100)\ttotal: 23.4s\tremaining: 3h 12m 52s\n",
      "150:\tlearn: 0.3931878\ttest: 0.4198986\tbest: 0.4198986 (150)\ttotal: 32.8s\tremaining: 3h 32s\n",
      "200:\tlearn: 0.3868655\ttest: 0.4188606\tbest: 0.4188440 (199)\ttotal: 42s\tremaining: 2h 53m 32s\n",
      "250:\tlearn: 0.3816024\ttest: 0.4185809\tbest: 0.4185199 (219)\ttotal: 54.1s\tremaining: 2h 58m 35s\n",
      "300:\tlearn: 0.3768757\ttest: 0.4187967\tbest: 0.4183509 (262)\ttotal: 1m 6s\tremaining: 3h 2m 17s\n",
      "350:\tlearn: 0.3722673\ttest: 0.4188478\tbest: 0.4183509 (262)\ttotal: 1m 17s\tremaining: 3h 1m 39s\n",
      "Stopped by overfitting detector  (100 iterations wait)\n",
      "\n",
      "bestTest = 0.4183509493\n",
      "bestIteration = 262\n",
      "\n",
      "Shrink model to first 263 iterations.\n",
      "0:\tlearn: 0.6714526\ttest: 0.6716278\tbest: 0.6716278 (0)\ttotal: 315ms\tremaining: 4h 22m 12s\n",
      "50:\tlearn: 0.4209256\ttest: 0.4256060\tbest: 0.4256060 (50)\ttotal: 9.69s\tremaining: 2h 38m 14s\n",
      "100:\tlearn: 0.4025499\ttest: 0.4126052\tbest: 0.4126052 (100)\ttotal: 21.9s\tremaining: 3h 17s\n",
      "150:\tlearn: 0.3940658\ttest: 0.4083052\tbest: 0.4083052 (150)\ttotal: 30.5s\tremaining: 2h 47m 57s\n",
      "200:\tlearn: 0.3882679\ttest: 0.4067743\tbest: 0.4067384 (196)\ttotal: 42.2s\tremaining: 2h 54m 5s\n",
      "250:\tlearn: 0.3828185\ttest: 0.4055918\tbest: 0.4055784 (248)\ttotal: 54.2s\tremaining: 2h 58m 59s\n",
      "300:\tlearn: 0.3779769\ttest: 0.4053084\tbest: 0.4052109 (297)\ttotal: 1m 5s\tremaining: 3h 50s\n",
      "350:\tlearn: 0.3733391\ttest: 0.4048711\tbest: 0.4048166 (347)\ttotal: 1m 15s\tremaining: 2h 58m 52s\n",
      "400:\tlearn: 0.3685680\ttest: 0.4046688\tbest: 0.4045230 (395)\ttotal: 1m 26s\tremaining: 2h 57m 58s\n",
      "450:\tlearn: 0.3635117\ttest: 0.4044015\tbest: 0.4043926 (434)\ttotal: 1m 36s\tremaining: 2h 57m 28s\n",
      "500:\tlearn: 0.3585846\ttest: 0.4037079\tbest: 0.4036657 (491)\ttotal: 1m 45s\tremaining: 2h 53m 27s\n",
      "550:\tlearn: 0.3537981\ttest: 0.4038486\tbest: 0.4035457 (521)\ttotal: 1m 54s\tremaining: 2h 51m 57s\n",
      "600:\tlearn: 0.3491941\ttest: 0.4040957\tbest: 0.4035457 (521)\ttotal: 2m 4s\tremaining: 2h 50m 44s\n",
      "Stopped by overfitting detector  (100 iterations wait)\n",
      "\n",
      "bestTest = 0.4035456849\n",
      "bestIteration = 521\n",
      "\n",
      "Shrink model to first 522 iterations.\n",
      "0:\tlearn: 0.6713882\ttest: 0.6711543\tbest: 0.6711543 (0)\ttotal: 171ms\tremaining: 2h 22m 16s\n",
      "50:\tlearn: 0.4209194\ttest: 0.4223873\tbest: 0.4223873 (50)\ttotal: 9.89s\tremaining: 2h 41m 25s\n",
      "100:\tlearn: 0.4026895\ttest: 0.4085495\tbest: 0.4085495 (100)\ttotal: 18.6s\tremaining: 2h 33m 5s\n",
      "150:\tlearn: 0.3945746\ttest: 0.4040942\tbest: 0.4040942 (150)\ttotal: 26.8s\tremaining: 2h 27m 14s\n",
      "200:\tlearn: 0.3883838\ttest: 0.4016681\tbest: 0.4016681 (200)\ttotal: 35s\tremaining: 2h 24m 26s\n",
      "250:\tlearn: 0.3828393\ttest: 0.3998539\tbest: 0.3998539 (250)\ttotal: 45.1s\tremaining: 2h 28m 56s\n",
      "300:\tlearn: 0.3781432\ttest: 0.3987762\tbest: 0.3987762 (300)\ttotal: 57.6s\tremaining: 2h 38m 29s\n",
      "350:\tlearn: 0.3739419\ttest: 0.3983893\tbest: 0.3983759 (326)\ttotal: 1m 9s\tremaining: 2h 44m 36s\n",
      "400:\tlearn: 0.3687707\ttest: 0.3973958\tbest: 0.3973548 (398)\ttotal: 1m 22s\tremaining: 2h 50m 10s\n",
      "450:\tlearn: 0.3638286\ttest: 0.3969554\tbest: 0.3969217 (446)\ttotal: 1m 35s\tremaining: 2h 55m 4s\n",
      "500:\tlearn: 0.3588365\ttest: 0.3966591\tbest: 0.3966584 (496)\ttotal: 1m 49s\tremaining: 2h 59m 33s\n",
      "550:\tlearn: 0.3539202\ttest: 0.3960320\tbest: 0.3959867 (547)\ttotal: 1m 57s\tremaining: 2h 56m 5s\n",
      "600:\tlearn: 0.3494088\ttest: 0.3954248\tbest: 0.3954081 (597)\ttotal: 2m 6s\tremaining: 2h 53m 56s\n",
      "650:\tlearn: 0.3447045\ttest: 0.3955376\tbest: 0.3954081 (597)\ttotal: 2m 15s\tremaining: 2h 51m 27s\n",
      "Stopped by overfitting detector  (100 iterations wait)\n",
      "\n",
      "bestTest = 0.3954081426\n",
      "bestIteration = 597\n",
      "\n",
      "Shrink model to first 598 iterations.\n"
     ]
    }
   ],
   "source": [
    "nsplit=20\n",
    "\n",
    "kf = StratifiedKFold(n_splits=nsplit,shuffle=False)\n",
    "#lgbm = LGBMClassifier(max_depth=8, num_leaves=64, boosting_type='gbdt',learning_rate=0.01, reg_alpha=10, n_estimators=50000,subsample=0.9, colsample_bytree=0.9, random_state=2)\n",
    "lgbm = CatBoostClassifier(n_estimators=50000, max_depth=8, reg_lambda=10, random_state=50, learning_rate=0.033,use_best_model=True, task_type='CPU', eval_metric='Logloss')\n",
    "scores = []\n",
    "pred_test2 = np.zeros((len(test2), 2))\n",
    "#pred_val = np.zeros((len(validation), 2))\n",
    "for (train_index,test_index) in kf.split(pd.DataFrame(traindata), target):\n",
    "    X_train,X_test = pd.DataFrame(traindata).iloc[train_index], pd.DataFrame(traindata).iloc[test_index]\n",
    "    y_train,y_test = train.default_status.iloc[train_index],train.default_status.iloc[test_index]\n",
    "    lgbm.fit(X_train,y_train,early_stopping_rounds=100,eval_set=[(X_test,y_test)], verbose=50)\n",
    "    #scores.append(metric(lgbm.predict_proba(X_test),y_test))\n",
    "    pred_test2+=lgbm.predict_proba(testdata)\n",
    "    #pred_val+=lgbm.predict_proba(validation)"
   ]
  },
  {
   "cell_type": "code",
   "execution_count": 20,
   "metadata": {},
   "outputs": [
    {
     "data": {
      "text/plain": [
       "array([0.28458956, 0.36858783, 0.38948384, 0.73169392, 0.16042378,\n",
       "       0.37951368, 0.37797056, 0.61945678, 0.38184977, 0.29070686,\n",
       "       0.10902103, 0.02130265, 0.58442011, 0.04304088, 0.46738133,\n",
       "       0.6559003 , 0.31788888, 0.07701992, 0.11175623, 0.72469543])"
      ]
     },
     "execution_count": 20,
     "metadata": {},
     "output_type": "execute_result"
    }
   ],
   "source": [
    "pred_test_avg = pred_test2/nsplit\n",
    "pred_test2 = pred_test_avg[:,1]\n",
    "pred_test2[:20]"
   ]
  },
  {
   "cell_type": "code",
   "execution_count": 21,
   "metadata": {},
   "outputs": [],
   "source": [
    "make_submission(pred_test2, '10catfold-8max-depth2.csv')"
   ]
  },
  {
   "cell_type": "code",
   "execution_count": 205,
   "metadata": {},
   "outputs": [
    {
     "name": "stdout",
     "output_type": "stream",
     "text": [
      "(22400, 50) (22400,) (33600, 50) (33600,)\n"
     ]
    }
   ],
   "source": [
    "validation, traindata, valid_target, target = ms.train_test_split(traindata, target, random_state=405, test_size=0.6, stratify=target)\n",
    "print(validation.shape, valid_target.shape, traindata.shape, target.shape)"
   ]
  },
  {
   "cell_type": "code",
   "execution_count": 58,
   "metadata": {},
   "outputs": [],
   "source": [
    "def evaluate(model):\n",
    "    feat_imp = pd.Series(model.feature_importances_).sort_values(ascending=False)\n",
    "    plt.figure(figsize=(20,8))\n",
    "    feat_imp.plot(kind='bar', title='Feature Importances')\n",
    "    plt.ylabel('Feature Importance Score')"
   ]
  },
  {
   "cell_type": "code",
   "execution_count": 58,
   "metadata": {},
   "outputs": [
    {
     "data": {
      "text/plain": [
       "array([0.30214995, 0.36546662, 0.36242513, ..., 0.2898903 , 0.51999085,\n",
       "       0.18174564])"
      ]
     },
     "execution_count": 58,
     "metadata": {},
     "output_type": "execute_result"
    }
   ],
   "source": [
    "pred_test1"
   ]
  },
  {
   "cell_type": "code",
   "execution_count": 53,
   "metadata": {},
   "outputs": [
    {
     "data": {
      "text/plain": [
       "array([0.15167279, 0.20454243, 0.19684102, ..., 0.12943584, 0.26678511,\n",
       "       0.09712544])"
      ]
     },
     "execution_count": 53,
     "metadata": {},
     "output_type": "execute_result"
    }
   ],
   "source": [
    "pred_test3"
   ]
  },
  {
   "cell_type": "code",
   "execution_count": 54,
   "metadata": {},
   "outputs": [],
   "source": [
    "pred_test_avg = pred_test2/nsplit\n",
    "pred_test2 = pred_test_avg[:,1]"
   ]
  },
  {
   "cell_type": "code",
   "execution_count": 64,
   "metadata": {},
   "outputs": [
    {
     "ename": "NameError",
     "evalue": "name 'pred_test2' is not defined",
     "output_type": "error",
     "traceback": [
      "\u001b[0;31m---------------------------------------------------------------------------\u001b[0m",
      "\u001b[0;31mNameError\u001b[0m                                 Traceback (most recent call last)",
      "\u001b[0;32m<ipython-input-64-068d779b08ea>\u001b[0m in \u001b[0;36m<module>\u001b[0;34m\u001b[0m\n\u001b[0;32m----> 1\u001b[0;31m \u001b[0mpred_test2\u001b[0m\u001b[0;34m\u001b[0m\u001b[0;34m\u001b[0m\u001b[0m\n\u001b[0m",
      "\u001b[0;31mNameError\u001b[0m: name 'pred_test2' is not defined"
     ]
    }
   ],
   "source": [
    "pred_test2"
   ]
  },
  {
   "cell_type": "code",
   "execution_count": 53,
   "metadata": {},
   "outputs": [
    {
     "data": {
      "text/plain": [
       "array([0.15678718, 0.19876626, 0.19781621, ..., 0.14411287, 0.25957767,\n",
       "       0.10489094])"
      ]
     },
     "execution_count": 53,
     "metadata": {},
     "output_type": "execute_result"
    }
   ],
   "source": [
    "pred_test2"
   ]
  },
  {
   "cell_type": "code",
   "execution_count": 67,
   "metadata": {},
   "outputs": [
    {
     "data": {
      "text/plain": [
       "array([0.15377034, 0.1887364 , 0.19807661, ..., 0.1442511 , 0.25960461,\n",
       "       0.10372681])"
      ]
     },
     "execution_count": 67,
     "metadata": {},
     "output_type": "execute_result"
    }
   ],
   "source": [
    "pred_test3"
   ]
  },
  {
   "cell_type": "code",
   "execution_count": 30,
   "metadata": {},
   "outputs": [],
   "source": [
    "make_submission(pred_test2, '5-FOLD-CATBOOST.csv')"
   ]
  },
  {
   "cell_type": "code",
   "execution_count": 22,
   "metadata": {},
   "outputs": [],
   "source": [
    "cat7 = pd.read_csv('5fold-7max-depth.csv')\n",
    "cat8 = pd.read_csv('5fold-8max-depth.csv')\n",
    "cat9 = pd.read_csv('5fold-5max-depth.csv')\n",
    "cat11 = pd.read_csv('10catfold-8max-depth2.csv')       #0.84441\n",
    "cat12 = pd.read_csv('10catfold-8max-depth1.csv')      #0.844303\n",
    "cat13 = pd.read_csv('cat-8max-depth.csv')                 #0.844152\n",
    "cat11 = pd.read_csv('80features_and_baseline.csv')  #0.844122\n",
    "cat10 = pd.read_csv('baseline_all_features.csv')   #0.84419\n",
    "a44 = pd.read_csv('a44.csv')\n",
    "a43 = pd.read_csv('a43.csv')\n",
    "a48 = pd.read_csv('a48.csv')\n",
    "a51 = pd.read_csv('a51.csv')\n"
   ]
  },
  {
   "cell_type": "code",
   "execution_count": null,
   "metadata": {},
   "outputs": [],
   "source": []
  },
  {
   "cell_type": "code",
   "execution_count": null,
   "metadata": {},
   "outputs": [],
   "source": []
  },
  {
   "cell_type": "code",
   "execution_count": 8,
   "metadata": {},
   "outputs": [
    {
     "data": {
      "text/plain": [
       "0        0.315687\n",
       "1        0.411847\n",
       "2        0.408907\n",
       "3        0.790413\n",
       "4        0.185289\n",
       "           ...   \n",
       "23995    0.739601\n",
       "23996    0.265786\n",
       "23997    0.302966\n",
       "23998    0.564800\n",
       "23999    0.211869\n",
       "Name: default_status, Length: 24000, dtype: float64"
      ]
     },
     "execution_count": 8,
     "metadata": {},
     "output_type": "execute_result"
    }
   ],
   "source": [
    "a50 = (a44.default_status + a49.default_status)/2\n",
    "make_submission(a50, 'a50.csv')\n",
    "a50"
   ]
  },
  {
   "cell_type": "code",
   "execution_count": 10,
   "metadata": {},
   "outputs": [
    {
     "data": {
      "text/plain": [
       "0        0.316457\n",
       "1        0.412845\n",
       "2        0.409966\n",
       "3        0.792385\n",
       "4        0.185742\n",
       "           ...   \n",
       "23995    0.741466\n",
       "23996    0.266442\n",
       "23997    0.303725\n",
       "23998    0.566184\n",
       "23999    0.212405\n",
       "Name: default_status, Length: 24000, dtype: float64"
      ]
     },
     "execution_count": 10,
     "metadata": {},
     "output_type": "execute_result"
    }
   ],
   "source": [
    "a51 = ((a44.default_status * 0.6 + a43.default_status * 0.4) * 0.7 + (a44.default_status * 0.3)) *0.8 + (a44.default_status) * 0.2\n",
    "make_submission(a51, 'a51.csv')\n",
    "a51"
   ]
  },
  {
   "cell_type": "code",
   "execution_count": 37,
   "metadata": {},
   "outputs": [
    {
     "data": {
      "text/plain": [
       "0        0.214976\n",
       "1        0.283393\n",
       "2        0.278473\n",
       "3        0.528528\n",
       "4        0.127511\n",
       "           ...   \n",
       "23995    0.493828\n",
       "23996    0.180702\n",
       "23997    0.198012\n",
       "23998    0.381839\n",
       "23999    0.141799\n",
       "Name: default_status, Length: 24000, dtype: float64"
      ]
     },
     "execution_count": 37,
     "metadata": {},
     "output_type": "execute_result"
    }
   ],
   "source": [
    "a33 = (a31 + cat7.default_status)/2\n",
    "make_submission(a33, 'a33.csv')\n",
    "a33"
   ]
  },
  {
   "cell_type": "code",
   "execution_count": null,
   "metadata": {},
   "outputs": [],
   "source": [
    "a29 = pd.read_csv('a29.csv')"
   ]
  },
  {
   "cell_type": "code",
   "execution_count": null,
   "metadata": {},
   "outputs": [],
   "source": [
    "a34 = (a31 + a29)"
   ]
  },
  {
   "cell_type": "code",
   "execution_count": 33,
   "metadata": {},
   "outputs": [],
   "source": [
    "a29 = pd.read_csv('a29.csv')\n",
    "a31 = (avg1 *0.8) + (a29.default_status*0.2)"
   ]
  },
  {
   "cell_type": "code",
   "execution_count": 31,
   "metadata": {},
   "outputs": [
    {
     "data": {
      "text/plain": [
       "0        0.277657\n",
       "1        0.367474\n",
       "2        0.362359\n",
       "3        0.702337\n",
       "4        0.163496\n",
       "           ...   \n",
       "23995    0.657504\n",
       "23996    0.232223\n",
       "23997    0.269761\n",
       "23998    0.503271\n",
       "23999    0.188396\n",
       "Name: default_status, Length: 24000, dtype: float64"
      ]
     },
     "execution_count": 31,
     "metadata": {},
     "output_type": "execute_result"
    }
   ],
   "source": [
    "a30 = pd.read_csv('a29.csv')\n",
    "avg1 = (avg + a30.default_status)/2\n",
    "avg1"
   ]
  },
  {
   "cell_type": "code",
   "execution_count": 7,
   "metadata": {},
   "outputs": [],
   "source": [
    "a = pd.read_csv('cat-8max-depth.csv')\n",
    "b = pd.read_csv('a30.csv')\n",
    "c = pd.read_csv('a31.csv')\n",
    "d = pd.read_csv('a35.csv')\n",
    "e = pd.read_csv('a36.csv')\n",
    "f = pd.read_csv('a37.csv')"
   ]
  },
  {
   "cell_type": "code",
   "execution_count": 5,
   "metadata": {},
   "outputs": [
    {
     "data": {
      "text/plain": [
       "0        0.316997\n",
       "1        0.408792\n",
       "2        0.408257\n",
       "3        0.787296\n",
       "4        0.185581\n",
       "           ...   \n",
       "23995    0.736433\n",
       "23996    0.268303\n",
       "23997    0.301274\n",
       "23998    0.561252\n",
       "23999    0.210924\n",
       "Name: default_status, Length: 24000, dtype: float64"
      ]
     },
     "execution_count": 5,
     "metadata": {},
     "output_type": "execute_result"
    }
   ],
   "source": [
    "a39 = (d.default_status + f.default_status)/2\n",
    "make_submission(a39, 'a39.csv')\n",
    "a39"
   ]
  },
  {
   "cell_type": "code",
   "execution_count": 8,
   "metadata": {},
   "outputs": [
    {
     "data": {
      "text/plain": [
       "0        0.303232\n",
       "1        0.396356\n",
       "2        0.393220\n",
       "3        0.760304\n",
       "4        0.178056\n",
       "           ...   \n",
       "23995    0.711491\n",
       "23996    0.255081\n",
       "23997    0.291509\n",
       "23998    0.543469\n",
       "23999    0.203825\n",
       "Name: default_status, Length: 24000, dtype: float64"
      ]
     },
     "execution_count": 8,
     "metadata": {},
     "output_type": "execute_result"
    }
   ],
   "source": [
    "a40 = (c.default_status + b.default_status + f.default_status)/3\n",
    "make_submission(a40, 'a40.csv')\n",
    "a40"
   ]
  },
  {
   "cell_type": "code",
   "execution_count": 13,
   "metadata": {},
   "outputs": [
    {
     "data": {
      "text/plain": [
       "0        0.319400\n",
       "1        0.416513\n",
       "2        0.413692\n",
       "3        0.799523\n",
       "4        0.187452\n",
       "           ...   \n",
       "23995    0.748135\n",
       "23996    0.268970\n",
       "23997    0.306443\n",
       "23998    0.571237\n",
       "23999    0.214314\n",
       "Name: default_status, Length: 24000, dtype: float64"
      ]
     },
     "execution_count": 13,
     "metadata": {},
     "output_type": "execute_result"
    }
   ],
   "source": [
    "a44 = ((a40 * 0.2 + f.default_status * 0.8) * 0.4 + a40 * 0.6) *0.7 + a42 * 0.3\n",
    "make_submission(a44, 'a44.csv')\n",
    "a44"
   ]
  },
  {
   "cell_type": "code",
   "execution_count": null,
   "metadata": {},
   "outputs": [],
   "source": []
  },
  {
   "cell_type": "code",
   "execution_count": 206,
   "metadata": {},
   "outputs": [
    {
     "name": "stdout",
     "output_type": "stream",
     "text": [
      "(6720, 50) (6720,) (26880, 50)\n"
     ]
    }
   ],
   "source": [
    "train1, sample1, ytrain1, ysample1 = ms.train_test_split(traindata, target, random_state=405, test_size=0.8, stratify=target)\n",
    "print(train1.shape, ytrain1.shape, sample1.shape)"
   ]
  },
  {
   "cell_type": "code",
   "execution_count": 207,
   "metadata": {},
   "outputs": [
    {
     "name": "stdout",
     "output_type": "stream",
     "text": [
      "(6720, 50) (6720,) (20160, 50)\n"
     ]
    }
   ],
   "source": [
    "train2, sample2, ytrain2, ysample2 = ms.train_test_split(sample1, ysample1, random_state=405, test_size=0.75, stratify=ysample1)\n",
    "print(train2.shape, ytrain2.shape, sample2.shape)"
   ]
  },
  {
   "cell_type": "code",
   "execution_count": 208,
   "metadata": {},
   "outputs": [
    {
     "name": "stdout",
     "output_type": "stream",
     "text": [
      "(6719, 50) (6719,) (13441, 50)\n"
     ]
    }
   ],
   "source": [
    "train3, sample3, ytrain3, ysample3 = ms.train_test_split(sample2, ysample2, random_state=405, test_size=0.666666667, stratify=ysample2)\n",
    "print(train3.shape, ytrain3.shape, sample3.shape)"
   ]
  },
  {
   "cell_type": "code",
   "execution_count": 209,
   "metadata": {},
   "outputs": [
    {
     "name": "stdout",
     "output_type": "stream",
     "text": [
      "(6720, 50) (6720,) (6721, 50) (6721,)\n"
     ]
    }
   ],
   "source": [
    "train4, train5, ytrain4, ytrain5 = ms.train_test_split(sample3, ysample3, random_state=405, test_size=0.5, stratify=ysample3)\n",
    "print(train4.shape, ytrain4.shape, train5.shape, ytrain5.shape)"
   ]
  },
  {
   "cell_type": "code",
   "execution_count": 159,
   "metadata": {},
   "outputs": [],
   "source": [
    "class Xgboost():\n",
    "    \n",
    "    def __init__(self, train, test, open_test, train_label, test_label):\n",
    "        \n",
    "        \n",
    "        self.train = train\n",
    "        self.test = test\n",
    "        self.open_test = open_test\n",
    "        #self.validation = validation\n",
    "        self.train_label = train_label\n",
    "        self.test_label = test_label\n",
    "        \n",
    "    def __call__(self, plot = True):\n",
    "        return self.fit(plot)\n",
    "    \n",
    "    def fit(self, plot):\n",
    " \n",
    "      self.x_train, self.x_test, self.y_train, self.y_test = ms.train_test_split(self.train, \n",
    "                                                                                   pd.DataFrame(np.array(self.train_label)), \n",
    "                                                                                   test_size=0.2,\n",
    "                                                                                   random_state=212)\n",
    "      \n",
    "      def show_evaluation(pred, true):\n",
    "        \n",
    "        #print(f'Default score: {confusion_matrix(true.values, pred)}')\n",
    "        print(f'AUC is: {roc_auc_score(true, pred)}')\n",
    "        #print(f'Accuracy is: {accuracy_score(true, pred)}')\n",
    "        #print(f'Logloss is: {log_loss(pred, true.values)}')\n",
    " \n",
    " \n",
    "      model = XGBClassifier(n_estimators=5000, max_depth=10, booster='gbtree', base_score=0.7,\n",
    "                            learning_rate=0.033, reg_lambda=50,\n",
    "                            subsample=0.9, colsample_bytree=0.9,\n",
    "                                 eval_metric='auc', verbose=2020, random_state=9090)\n",
    "      \n",
    "      model.fit(self.x_train, self.y_train, early_stopping_rounds=200, eval_set=[(self.x_test, self.y_test)], verbose=20)\n",
    " \n",
    "      pred = model.predict_proba(self.test)\n",
    "      #val = model.predict(self.validation)\n",
    "      open_pred = model.predict_proba(self.open_test)\n",
    "        \n",
    " \n",
    "      print('----------------TEST EVALUATION------------------')\n",
    "      print(show_evaluation(pred[:,1], self.test_label))\n",
    "                  \n",
    "      if plot: self.plot_feat_imp(model)\n",
    "      return pred[:,1], open_pred[:,1], model\n",
    "              \n",
    "              \n",
    "    def plot_feat_imp(self, model):\n",
    "        feat_imp = pd.Series(model.feature_importances_).sort_values(ascending=False)\n",
    "        plt.figure(figsize=(12,8))\n",
    "        feat_imp.plot(kind='bar', title='Feature Importances')\n",
    "        plt.ylabel('Feature Importance Score')"
   ]
  },
  {
   "cell_type": "code",
   "execution_count": 151,
   "metadata": {},
   "outputs": [
    {
     "name": "stdout",
     "output_type": "stream",
     "text": [
      "[17:15:40] WARNING: /workspace/src/learner.cc:480: \n",
      "Parameters: { verbose } might not be used.\n",
      "\n",
      "  This may not be accurate due to some parameters are only used in language bindings but\n",
      "  passed down to XGBoost core.  Or some parameters are not used but slip through this\n",
      "  verification. Please open an issue if you find above cases.\n",
      "\n",
      "\n",
      "[0]\tvalidation_0-auc:0.77847\n",
      "Will train until validation_0-auc hasn't improved in 200 rounds.\n"
     ]
    },
    {
     "name": "stderr",
     "output_type": "stream",
     "text": [
      "/home/olawale/anaconda3/lib/python3.7/site-packages/sklearn/utils/validation.py:73: DataConversionWarning: A column-vector y was passed when a 1d array was expected. Please change the shape of y to (n_samples, ), for example using ravel().\n",
      "  return f(**kwargs)\n"
     ]
    },
    {
     "name": "stdout",
     "output_type": "stream",
     "text": [
      "[20]\tvalidation_0-auc:0.80315\n",
      "[40]\tvalidation_0-auc:0.80624\n",
      "[60]\tvalidation_0-auc:0.80748\n",
      "[80]\tvalidation_0-auc:0.80742\n",
      "[100]\tvalidation_0-auc:0.80973\n",
      "[120]\tvalidation_0-auc:0.81171\n",
      "[140]\tvalidation_0-auc:0.81281\n",
      "[160]\tvalidation_0-auc:0.81363\n",
      "[180]\tvalidation_0-auc:0.81381\n",
      "[200]\tvalidation_0-auc:0.81462\n",
      "[220]\tvalidation_0-auc:0.81435\n",
      "[240]\tvalidation_0-auc:0.81491\n",
      "[260]\tvalidation_0-auc:0.81603\n",
      "[280]\tvalidation_0-auc:0.81705\n",
      "[300]\tvalidation_0-auc:0.81862\n",
      "[320]\tvalidation_0-auc:0.81940\n",
      "[340]\tvalidation_0-auc:0.82009\n",
      "[360]\tvalidation_0-auc:0.82035\n",
      "[380]\tvalidation_0-auc:0.82097\n",
      "[400]\tvalidation_0-auc:0.82119\n",
      "[420]\tvalidation_0-auc:0.82153\n",
      "[440]\tvalidation_0-auc:0.82181\n",
      "[460]\tvalidation_0-auc:0.82220\n",
      "[480]\tvalidation_0-auc:0.82220\n",
      "[500]\tvalidation_0-auc:0.82250\n",
      "[520]\tvalidation_0-auc:0.82301\n",
      "[540]\tvalidation_0-auc:0.82329\n",
      "[560]\tvalidation_0-auc:0.82371\n",
      "[580]\tvalidation_0-auc:0.82364\n",
      "[600]\tvalidation_0-auc:0.82405\n",
      "[620]\tvalidation_0-auc:0.82433\n",
      "[640]\tvalidation_0-auc:0.82456\n",
      "[660]\tvalidation_0-auc:0.82493\n",
      "[680]\tvalidation_0-auc:0.82498\n",
      "[700]\tvalidation_0-auc:0.82524\n",
      "[720]\tvalidation_0-auc:0.82563\n",
      "[740]\tvalidation_0-auc:0.82579\n",
      "[760]\tvalidation_0-auc:0.82613\n",
      "[780]\tvalidation_0-auc:0.82608\n",
      "[800]\tvalidation_0-auc:0.82618\n",
      "[820]\tvalidation_0-auc:0.82616\n",
      "[840]\tvalidation_0-auc:0.82643\n",
      "[860]\tvalidation_0-auc:0.82667\n",
      "[880]\tvalidation_0-auc:0.82683\n",
      "[900]\tvalidation_0-auc:0.82696\n",
      "[920]\tvalidation_0-auc:0.82715\n",
      "[940]\tvalidation_0-auc:0.82729\n",
      "[960]\tvalidation_0-auc:0.82746\n",
      "[980]\tvalidation_0-auc:0.82768\n",
      "[1000]\tvalidation_0-auc:0.82792\n",
      "[1020]\tvalidation_0-auc:0.82807\n",
      "[1040]\tvalidation_0-auc:0.82833\n",
      "[1060]\tvalidation_0-auc:0.82856\n",
      "[1080]\tvalidation_0-auc:0.82873\n",
      "[1100]\tvalidation_0-auc:0.82895\n",
      "[1120]\tvalidation_0-auc:0.82910\n",
      "[1140]\tvalidation_0-auc:0.82928\n",
      "[1160]\tvalidation_0-auc:0.82955\n",
      "[1180]\tvalidation_0-auc:0.82984\n",
      "[1200]\tvalidation_0-auc:0.83019\n",
      "[1220]\tvalidation_0-auc:0.83035\n",
      "[1240]\tvalidation_0-auc:0.83059\n",
      "[1260]\tvalidation_0-auc:0.83082\n",
      "[1280]\tvalidation_0-auc:0.83089\n",
      "[1300]\tvalidation_0-auc:0.83100\n",
      "[1320]\tvalidation_0-auc:0.83108\n",
      "[1340]\tvalidation_0-auc:0.83120\n",
      "[1360]\tvalidation_0-auc:0.83140\n",
      "[1380]\tvalidation_0-auc:0.83154\n",
      "[1400]\tvalidation_0-auc:0.83165\n",
      "[1420]\tvalidation_0-auc:0.83190\n",
      "[1440]\tvalidation_0-auc:0.83200\n",
      "[1460]\tvalidation_0-auc:0.83211\n",
      "[1480]\tvalidation_0-auc:0.83213\n",
      "[1500]\tvalidation_0-auc:0.83223\n",
      "[1520]\tvalidation_0-auc:0.83234\n",
      "[1540]\tvalidation_0-auc:0.83250\n",
      "[1560]\tvalidation_0-auc:0.83257\n",
      "[1580]\tvalidation_0-auc:0.83266\n",
      "[1600]\tvalidation_0-auc:0.83277\n",
      "[1620]\tvalidation_0-auc:0.83284\n",
      "[1640]\tvalidation_0-auc:0.83310\n",
      "[1660]\tvalidation_0-auc:0.83305\n",
      "[1680]\tvalidation_0-auc:0.83303\n",
      "[1700]\tvalidation_0-auc:0.83295\n",
      "[1720]\tvalidation_0-auc:0.83293\n",
      "[1740]\tvalidation_0-auc:0.83300\n",
      "[1760]\tvalidation_0-auc:0.83299\n",
      "[1780]\tvalidation_0-auc:0.83289\n",
      "[1800]\tvalidation_0-auc:0.83295\n",
      "[1820]\tvalidation_0-auc:0.83302\n",
      "Stopping. Best iteration:\n",
      "[1637]\tvalidation_0-auc:0.83312\n",
      "\n",
      "----------------TEST EVALUATION------------------\n",
      "AUC is: 0.8201232050314277\n",
      "None\n"
     ]
    },
    {
     "data": {
      "image/png": "[encoded data removed]",
      "text/plain": [
       "<Figure size 864x576 with 1 Axes>"
      ]
     },
     "metadata": {
      "needs_background": "light"
     },
     "output_type": "display_data"
    }
   ],
   "source": [
    "func1_= Xgboost(train1, validation, testdata, ytrain1, valid_target)\n",
    "pred1, open_test1, model1 = func1_()"
   ]
  },
  {
   "cell_type": "code",
   "execution_count": 154,
   "metadata": {},
   "outputs": [
    {
     "name": "stdout",
     "output_type": "stream",
     "text": [
      "[17:17:26] WARNING: /workspace/src/learner.cc:480: \n",
      "Parameters: { verbose } might not be used.\n",
      "\n",
      "  This may not be accurate due to some parameters are only used in language bindings but\n",
      "  passed down to XGBoost core.  Or some parameters are not used but slip through this\n",
      "  verification. Please open an issue if you find above cases.\n",
      "\n",
      "\n",
      "[0]\tvalidation_0-auc:0.73713\n",
      "Will train until validation_0-auc hasn't improved in 200 rounds.\n"
     ]
    },
    {
     "name": "stderr",
     "output_type": "stream",
     "text": [
      "/home/olawale/anaconda3/lib/python3.7/site-packages/sklearn/utils/validation.py:73: DataConversionWarning: A column-vector y was passed when a 1d array was expected. Please change the shape of y to (n_samples, ), for example using ravel().\n",
      "  return f(**kwargs)\n"
     ]
    },
    {
     "name": "stdout",
     "output_type": "stream",
     "text": [
      "[20]\tvalidation_0-auc:0.77426\n",
      "[40]\tvalidation_0-auc:0.77950\n",
      "[60]\tvalidation_0-auc:0.78150\n",
      "[80]\tvalidation_0-auc:0.78568\n",
      "[100]\tvalidation_0-auc:0.78951\n",
      "[120]\tvalidation_0-auc:0.79032\n",
      "[140]\tvalidation_0-auc:0.79268\n",
      "[160]\tvalidation_0-auc:0.79579\n",
      "[180]\tvalidation_0-auc:0.79748\n",
      "[200]\tvalidation_0-auc:0.79883\n",
      "[220]\tvalidation_0-auc:0.80055\n",
      "[240]\tvalidation_0-auc:0.80215\n",
      "[260]\tvalidation_0-auc:0.80268\n",
      "[280]\tvalidation_0-auc:0.80354\n",
      "[300]\tvalidation_0-auc:0.80469\n",
      "[320]\tvalidation_0-auc:0.80583\n",
      "[340]\tvalidation_0-auc:0.80601\n",
      "[360]\tvalidation_0-auc:0.80676\n",
      "[380]\tvalidation_0-auc:0.80741\n",
      "[400]\tvalidation_0-auc:0.80768\n",
      "[420]\tvalidation_0-auc:0.80797\n",
      "[440]\tvalidation_0-auc:0.80832\n",
      "[460]\tvalidation_0-auc:0.80879\n",
      "[480]\tvalidation_0-auc:0.80882\n",
      "[500]\tvalidation_0-auc:0.80922\n",
      "[520]\tvalidation_0-auc:0.80961\n",
      "[540]\tvalidation_0-auc:0.80966\n",
      "[560]\tvalidation_0-auc:0.80978\n",
      "[580]\tvalidation_0-auc:0.81025\n",
      "[600]\tvalidation_0-auc:0.81027\n",
      "[620]\tvalidation_0-auc:0.81062\n",
      "[640]\tvalidation_0-auc:0.81105\n",
      "[660]\tvalidation_0-auc:0.81123\n",
      "[680]\tvalidation_0-auc:0.81145\n",
      "[700]\tvalidation_0-auc:0.81155\n",
      "[720]\tvalidation_0-auc:0.81183\n",
      "[740]\tvalidation_0-auc:0.81211\n",
      "[760]\tvalidation_0-auc:0.81227\n",
      "[780]\tvalidation_0-auc:0.81236\n",
      "[800]\tvalidation_0-auc:0.81234\n",
      "[820]\tvalidation_0-auc:0.81243\n",
      "[840]\tvalidation_0-auc:0.81253\n",
      "[860]\tvalidation_0-auc:0.81248\n",
      "[880]\tvalidation_0-auc:0.81255\n",
      "[900]\tvalidation_0-auc:0.81260\n",
      "[920]\tvalidation_0-auc:0.81257\n",
      "[940]\tvalidation_0-auc:0.81273\n",
      "[960]\tvalidation_0-auc:0.81289\n",
      "[980]\tvalidation_0-auc:0.81309\n",
      "[1000]\tvalidation_0-auc:0.81295\n",
      "[1020]\tvalidation_0-auc:0.81284\n",
      "[1040]\tvalidation_0-auc:0.81287\n",
      "[1060]\tvalidation_0-auc:0.81297\n",
      "[1080]\tvalidation_0-auc:0.81299\n",
      "[1100]\tvalidation_0-auc:0.81317\n",
      "[1120]\tvalidation_0-auc:0.81299\n",
      "[1140]\tvalidation_0-auc:0.81301\n",
      "[1160]\tvalidation_0-auc:0.81318\n",
      "[1180]\tvalidation_0-auc:0.81311\n",
      "[1200]\tvalidation_0-auc:0.81310\n",
      "[1220]\tvalidation_0-auc:0.81296\n",
      "[1240]\tvalidation_0-auc:0.81290\n",
      "[1260]\tvalidation_0-auc:0.81281\n",
      "[1280]\tvalidation_0-auc:0.81271\n",
      "[1300]\tvalidation_0-auc:0.81258\n",
      "[1320]\tvalidation_0-auc:0.81239\n",
      "[1340]\tvalidation_0-auc:0.81235\n",
      "[1360]\tvalidation_0-auc:0.81234\n",
      "Stopping. Best iteration:\n",
      "[1160]\tvalidation_0-auc:0.81318\n",
      "\n",
      "----------------TEST EVALUATION------------------\n",
      "AUC is: 0.8288254167433451\n",
      "None\n"
     ]
    },
    {
     "data": {
      "image/png": "[encoded data removed]",
      "text/plain": [
       "<Figure size 864x576 with 1 Axes>"
      ]
     },
     "metadata": {
      "needs_background": "light"
     },
     "output_type": "display_data"
    }
   ],
   "source": [
    "func2_= Xgboost(train2, validation, testdata, ytrain2, valid_target)\n",
    "pred2, open_test2, model2 = func2_()"
   ]
  },
  {
   "cell_type": "code",
   "execution_count": 156,
   "metadata": {},
   "outputs": [
    {
     "name": "stdout",
     "output_type": "stream",
     "text": [
      "[17:18:27] WARNING: /workspace/src/learner.cc:480: \n",
      "Parameters: { verbose } might not be used.\n",
      "\n",
      "  This may not be accurate due to some parameters are only used in language bindings but\n",
      "  passed down to XGBoost core.  Or some parameters are not used but slip through this\n",
      "  verification. Please open an issue if you find above cases.\n",
      "\n",
      "\n",
      "[0]\tvalidation_0-auc:0.70865\n",
      "Will train until validation_0-auc hasn't improved in 200 rounds.\n"
     ]
    },
    {
     "name": "stderr",
     "output_type": "stream",
     "text": [
      "/home/olawale/anaconda3/lib/python3.7/site-packages/sklearn/utils/validation.py:73: DataConversionWarning: A column-vector y was passed when a 1d array was expected. Please change the shape of y to (n_samples, ), for example using ravel().\n",
      "  return f(**kwargs)\n"
     ]
    },
    {
     "name": "stdout",
     "output_type": "stream",
     "text": [
      "[20]\tvalidation_0-auc:0.80914\n",
      "[40]\tvalidation_0-auc:0.80451\n",
      "[60]\tvalidation_0-auc:0.79804\n",
      "[80]\tvalidation_0-auc:0.79530\n",
      "[100]\tvalidation_0-auc:0.79230\n",
      "[120]\tvalidation_0-auc:0.79063\n",
      "[140]\tvalidation_0-auc:0.79109\n",
      "[160]\tvalidation_0-auc:0.79046\n",
      "[180]\tvalidation_0-auc:0.78939\n",
      "[200]\tvalidation_0-auc:0.78829\n",
      "Stopping. Best iteration:\n",
      "[11]\tvalidation_0-auc:0.81253\n",
      "\n",
      "----------------TEST EVALUATION------------------\n",
      "AUC is: 0.8226300375414628\n",
      "None\n"
     ]
    },
    {
     "data": {
      "image/png": "[encoded data removed]",
      "text/plain": [
       "<Figure size 864x576 with 1 Axes>"
      ]
     },
     "metadata": {
      "needs_background": "light"
     },
     "output_type": "display_data"
    }
   ],
   "source": [
    "func3_= Xgboost(train3, validation, testdata, ytrain3, valid_target)\n",
    "pred3, open_test3, model3 = func3_()"
   ]
  },
  {
   "cell_type": "code",
   "execution_count": 158,
   "metadata": {},
   "outputs": [
    {
     "name": "stdout",
     "output_type": "stream",
     "text": [
      "[17:19:29] WARNING: /workspace/src/learner.cc:480: \n",
      "Parameters: { verbose } might not be used.\n",
      "\n",
      "  This may not be accurate due to some parameters are only used in language bindings but\n",
      "  passed down to XGBoost core.  Or some parameters are not used but slip through this\n",
      "  verification. Please open an issue if you find above cases.\n",
      "\n",
      "\n",
      "[0]\tvalidation_0-auc:0.75985\n",
      "Will train until validation_0-auc hasn't improved in 200 rounds.\n"
     ]
    },
    {
     "name": "stderr",
     "output_type": "stream",
     "text": [
      "/home/olawale/anaconda3/lib/python3.7/site-packages/sklearn/utils/validation.py:73: DataConversionWarning: A column-vector y was passed when a 1d array was expected. Please change the shape of y to (n_samples, ), for example using ravel().\n",
      "  return f(**kwargs)\n"
     ]
    },
    {
     "name": "stdout",
     "output_type": "stream",
     "text": [
      "[20]\tvalidation_0-auc:0.82149\n",
      "[40]\tvalidation_0-auc:0.82413\n",
      "[60]\tvalidation_0-auc:0.82749\n",
      "[80]\tvalidation_0-auc:0.82789\n",
      "[100]\tvalidation_0-auc:0.82883\n",
      "[120]\tvalidation_0-auc:0.82855\n",
      "[140]\tvalidation_0-auc:0.82876\n",
      "[160]\tvalidation_0-auc:0.82889\n",
      "[180]\tvalidation_0-auc:0.82883\n",
      "[200]\tvalidation_0-auc:0.82911\n",
      "[220]\tvalidation_0-auc:0.82928\n",
      "[240]\tvalidation_0-auc:0.82900\n",
      "[260]\tvalidation_0-auc:0.82931\n",
      "[280]\tvalidation_0-auc:0.82969\n",
      "[300]\tvalidation_0-auc:0.83010\n",
      "[320]\tvalidation_0-auc:0.83074\n",
      "[340]\tvalidation_0-auc:0.83079\n",
      "[360]\tvalidation_0-auc:0.83103\n",
      "[380]\tvalidation_0-auc:0.83117\n",
      "[400]\tvalidation_0-auc:0.83143\n",
      "[420]\tvalidation_0-auc:0.83187\n",
      "[440]\tvalidation_0-auc:0.83195\n",
      "[460]\tvalidation_0-auc:0.83248\n",
      "[480]\tvalidation_0-auc:0.83274\n",
      "[500]\tvalidation_0-auc:0.83307\n",
      "[520]\tvalidation_0-auc:0.83308\n",
      "[540]\tvalidation_0-auc:0.83335\n",
      "[560]\tvalidation_0-auc:0.83357\n",
      "[580]\tvalidation_0-auc:0.83376\n",
      "[600]\tvalidation_0-auc:0.83428\n",
      "[620]\tvalidation_0-auc:0.83425\n",
      "[640]\tvalidation_0-auc:0.83427\n",
      "[660]\tvalidation_0-auc:0.83428\n",
      "[680]\tvalidation_0-auc:0.83440\n",
      "[700]\tvalidation_0-auc:0.83444\n",
      "[720]\tvalidation_0-auc:0.83458\n",
      "[740]\tvalidation_0-auc:0.83463\n",
      "[760]\tvalidation_0-auc:0.83466\n",
      "[780]\tvalidation_0-auc:0.83472\n",
      "[800]\tvalidation_0-auc:0.83488\n",
      "[820]\tvalidation_0-auc:0.83498\n",
      "[840]\tvalidation_0-auc:0.83506\n",
      "[860]\tvalidation_0-auc:0.83499\n",
      "[880]\tvalidation_0-auc:0.83506\n",
      "[900]\tvalidation_0-auc:0.83506\n",
      "[920]\tvalidation_0-auc:0.83519\n",
      "[940]\tvalidation_0-auc:0.83515\n",
      "[960]\tvalidation_0-auc:0.83520\n",
      "[980]\tvalidation_0-auc:0.83531\n",
      "[1000]\tvalidation_0-auc:0.83540\n",
      "[1020]\tvalidation_0-auc:0.83562\n",
      "[1040]\tvalidation_0-auc:0.83566\n",
      "[1060]\tvalidation_0-auc:0.83554\n",
      "[1080]\tvalidation_0-auc:0.83567\n",
      "[1100]\tvalidation_0-auc:0.83566\n",
      "[1120]\tvalidation_0-auc:0.83577\n",
      "[1140]\tvalidation_0-auc:0.83572\n",
      "[1160]\tvalidation_0-auc:0.83567\n",
      "[1180]\tvalidation_0-auc:0.83556\n",
      "[1200]\tvalidation_0-auc:0.83558\n",
      "[1220]\tvalidation_0-auc:0.83566\n",
      "[1240]\tvalidation_0-auc:0.83576\n",
      "[1260]\tvalidation_0-auc:0.83576\n",
      "[1280]\tvalidation_0-auc:0.83572\n",
      "[1300]\tvalidation_0-auc:0.83562\n",
      "[1320]\tvalidation_0-auc:0.83555\n",
      "Stopping. Best iteration:\n",
      "[1133]\tvalidation_0-auc:0.83582\n",
      "\n",
      "----------------TEST EVALUATION------------------\n",
      "AUC is: 0.827182021283195\n",
      "None\n"
     ]
    },
    {
     "data": {
      "image/png": "[encoded data removed]",
      "text/plain": [
       "<Figure size 864x576 with 1 Axes>"
      ]
     },
     "metadata": {
      "needs_background": "light"
     },
     "output_type": "display_data"
    }
   ],
   "source": [
    "func4_= Xgboost(train4, validation, testdata, ytrain4, valid_target)\n",
    "pred4, open_test4, model4 = func4_()"
   ]
  },
  {
   "cell_type": "code",
   "execution_count": 160,
   "metadata": {},
   "outputs": [
    {
     "name": "stdout",
     "output_type": "stream",
     "text": [
      "[17:33:24] WARNING: /workspace/src/learner.cc:480: \n",
      "Parameters: { verbose } might not be used.\n",
      "\n",
      "  This may not be accurate due to some parameters are only used in language bindings but\n",
      "  passed down to XGBoost core.  Or some parameters are not used but slip through this\n",
      "  verification. Please open an issue if you find above cases.\n",
      "\n",
      "\n",
      "[0]\tvalidation_0-auc:0.69784\n",
      "Will train until validation_0-auc hasn't improved in 200 rounds.\n"
     ]
    },
    {
     "name": "stderr",
     "output_type": "stream",
     "text": [
      "/home/olawale/anaconda3/lib/python3.7/site-packages/sklearn/utils/validation.py:73: DataConversionWarning: A column-vector y was passed when a 1d array was expected. Please change the shape of y to (n_samples, ), for example using ravel().\n",
      "  return f(**kwargs)\n"
     ]
    },
    {
     "name": "stdout",
     "output_type": "stream",
     "text": [
      "[20]\tvalidation_0-auc:0.81124\n",
      "[40]\tvalidation_0-auc:0.82737\n",
      "[60]\tvalidation_0-auc:0.83235\n",
      "[80]\tvalidation_0-auc:0.83503\n",
      "[100]\tvalidation_0-auc:0.83551\n",
      "[120]\tvalidation_0-auc:0.83618\n",
      "[140]\tvalidation_0-auc:0.83624\n",
      "[160]\tvalidation_0-auc:0.83746\n",
      "[180]\tvalidation_0-auc:0.83701\n",
      "[200]\tvalidation_0-auc:0.83676\n",
      "[220]\tvalidation_0-auc:0.83670\n",
      "[240]\tvalidation_0-auc:0.83655\n",
      "[260]\tvalidation_0-auc:0.83629\n",
      "[280]\tvalidation_0-auc:0.83622\n",
      "[300]\tvalidation_0-auc:0.83607\n",
      "[320]\tvalidation_0-auc:0.83542\n",
      "[340]\tvalidation_0-auc:0.83519\n",
      "Stopping. Best iteration:\n",
      "[156]\tvalidation_0-auc:0.83758\n",
      "\n",
      "----------------TEST EVALUATION------------------\n",
      "AUC is: 0.8250697455089117\n",
      "None\n"
     ]
    },
    {
     "data": {
      "image/png": "[encoded data removed]",
      "text/plain": [
       "<Figure size 864x576 with 1 Axes>"
      ]
     },
     "metadata": {
      "needs_background": "light"
     },
     "output_type": "display_data"
    }
   ],
   "source": [
    "func5_= Xgboost(train5, validation, testdata, ytrain5, valid_target)\n",
    "pred5, open_test5, model5 = func5_()"
   ]
  },
  {
   "cell_type": "code",
   "execution_count": 41,
   "metadata": {},
   "outputs": [],
   "source": [
    "stack = np.column_stack((pred1, pred2, pred3, pred4))\n",
    "#stack_p = np.column_stack((val1, val2, val3, val4, val5, val6, val7, val8))\n",
    "stack_open = np.column_stack((open_test1, open_test2, open_test3, open_test4))"
   ]
  },
  {
   "cell_type": "code",
   "execution_count": 42,
   "metadata": {},
   "outputs": [
    {
     "data": {
      "text/plain": [
       "array([[0.69418529, 0.69418529, 0.59428487, 0.58764556],\n",
       "       [0.43964646, 0.43964646, 0.44984847, 0.45825298],\n",
       "       [0.22265554, 0.22265554, 0.24495184, 0.26994442],\n",
       "       ...,\n",
       "       [0.38745582, 0.38745582, 0.36956177, 0.29803169],\n",
       "       [0.3035524 , 0.3035524 , 0.28657763, 0.29699663],\n",
       "       [0.41187651, 0.41187651, 0.36569226, 0.36427855]])"
      ]
     },
     "execution_count": 42,
     "metadata": {},
     "output_type": "execute_result"
    }
   ],
   "source": [
    "stack"
   ]
  },
  {
   "cell_type": "code",
   "execution_count": null,
   "metadata": {},
   "outputs": [],
   "source": []
  },
  {
   "cell_type": "code",
   "execution_count": 43,
   "metadata": {},
   "outputs": [],
   "source": [
    "meta_model = LinearRegression()\n",
    "#meta_model = RandomForestClassifier(n_estimators=200, random_state=42, class_weight='balanced', verbose=2)\n",
    "meta_model.fit(stack, valid_target)\n",
    "#final_val_pred = meta_model.predict(stack_p)\n",
    "final_open_pred = meta_model.predict(stack_open)\n",
    " \n",
    "#print(show_evaluation(final_val_pred, valid2_lithology))"
   ]
  },
  {
   "cell_type": "code",
   "execution_count": 44,
   "metadata": {},
   "outputs": [
    {
     "data": {
      "text/plain": [
       "array([0.15154861, 0.18044958, 0.20952588, ..., 0.12949516, 0.2566682 ,\n",
       "       0.1008576 ])"
      ]
     },
     "execution_count": 44,
     "metadata": {},
     "output_type": "execute_result"
    }
   ],
   "source": [
    "pred_test1"
   ]
  },
  {
   "cell_type": "code",
   "execution_count": 37,
   "metadata": {},
   "outputs": [
    {
     "data": {
      "text/plain": [
       "array([0.15085251, 0.19605271, 0.19711418, ..., 0.14446246, 0.26085443,\n",
       "       0.11542271])"
      ]
     },
     "execution_count": 37,
     "metadata": {},
     "output_type": "execute_result"
    }
   ],
   "source": [
    "pred_test"
   ]
  },
  {
   "cell_type": "code",
   "execution_count": 36,
   "metadata": {},
   "outputs": [],
   "source": []
  },
  {
   "cell_type": "code",
   "execution_count": 45,
   "metadata": {},
   "outputs": [],
   "source": [
    "make_submission(pred_test1, '81-features-lightboost.csv')"
   ]
  },
  {
   "cell_type": "code",
   "execution_count": 92,
   "metadata": {},
   "outputs": [
    {
     "data": {
      "text/html": [
       "<div>\n",
       "<style scoped>\n",
       "    .dataframe tbody tr th:only-of-type {\n",
       "        vertical-align: middle;\n",
       "    }\n",
       "\n",
       "    .dataframe tbody tr th {\n",
       "        vertical-align: top;\n",
       "    }\n",
       "\n",
       "    .dataframe thead th {\n",
       "        text-align: right;\n",
       "    }\n",
       "</style>\n",
       "<table border=\"1\" class=\"dataframe\">\n",
       "  <thead>\n",
       "    <tr style=\"text-align: right;\">\n",
       "      <th></th>\n",
       "      <th>Applicant_ID</th>\n",
       "      <th>default_status</th>\n",
       "    </tr>\n",
       "  </thead>\n",
       "  <tbody>\n",
       "    <tr>\n",
       "      <th>0</th>\n",
       "      <td>Apcnt_1000032</td>\n",
       "      <td>0.151888</td>\n",
       "    </tr>\n",
       "    <tr>\n",
       "      <th>1</th>\n",
       "      <td>Apcnt_1000048</td>\n",
       "      <td>0.184886</td>\n",
       "    </tr>\n",
       "    <tr>\n",
       "      <th>2</th>\n",
       "      <td>Apcnt_1000052</td>\n",
       "      <td>0.199897</td>\n",
       "    </tr>\n",
       "    <tr>\n",
       "      <th>3</th>\n",
       "      <td>Apcnt_1000076</td>\n",
       "      <td>0.372956</td>\n",
       "    </tr>\n",
       "    <tr>\n",
       "      <th>4</th>\n",
       "      <td>Apcnt_1000080</td>\n",
       "      <td>0.083414</td>\n",
       "    </tr>\n",
       "    <tr>\n",
       "      <th>...</th>\n",
       "      <td>...</td>\n",
       "      <td>...</td>\n",
       "    </tr>\n",
       "    <tr>\n",
       "      <th>23995</th>\n",
       "      <td>Apcnt_999940</td>\n",
       "      <td>0.340457</td>\n",
       "    </tr>\n",
       "    <tr>\n",
       "      <th>23996</th>\n",
       "      <td>Apcnt_999956</td>\n",
       "      <td>0.139315</td>\n",
       "    </tr>\n",
       "    <tr>\n",
       "      <th>23997</th>\n",
       "      <td>Apcnt_999976</td>\n",
       "      <td>0.125740</td>\n",
       "    </tr>\n",
       "    <tr>\n",
       "      <th>23998</th>\n",
       "      <td>Apcnt_999984</td>\n",
       "      <td>0.263070</td>\n",
       "    </tr>\n",
       "    <tr>\n",
       "      <th>23999</th>\n",
       "      <td>Apcnt_999992</td>\n",
       "      <td>0.107992</td>\n",
       "    </tr>\n",
       "  </tbody>\n",
       "</table>\n",
       "<p>24000 rows × 2 columns</p>\n",
       "</div>"
      ],
      "text/plain": [
       "        Applicant_ID  default_status\n",
       "0      Apcnt_1000032        0.151888\n",
       "1      Apcnt_1000048        0.184886\n",
       "2      Apcnt_1000052        0.199897\n",
       "3      Apcnt_1000076        0.372956\n",
       "4      Apcnt_1000080        0.083414\n",
       "...              ...             ...\n",
       "23995   Apcnt_999940        0.340457\n",
       "23996   Apcnt_999956        0.139315\n",
       "23997   Apcnt_999976        0.125740\n",
       "23998   Apcnt_999984        0.263070\n",
       "23999   Apcnt_999992        0.107992\n",
       "\n",
       "[24000 rows x 2 columns]"
      ]
     },
     "execution_count": 92,
     "metadata": {},
     "output_type": "execute_result"
    }
   ],
   "source": [
    "submission = pd.read_csv('cat_80features.csv')\n",
    "submission"
   ]
  },
  {
   "cell_type": "code",
   "execution_count": 83,
   "metadata": {},
   "outputs": [
    {
     "data": {
      "text/html": [
       "<div>\n",
       "<style scoped>\n",
       "    .dataframe tbody tr th:only-of-type {\n",
       "        vertical-align: middle;\n",
       "    }\n",
       "\n",
       "    .dataframe tbody tr th {\n",
       "        vertical-align: top;\n",
       "    }\n",
       "\n",
       "    .dataframe thead th {\n",
       "        text-align: right;\n",
       "    }\n",
       "</style>\n",
       "<table border=\"1\" class=\"dataframe\">\n",
       "  <thead>\n",
       "    <tr style=\"text-align: right;\">\n",
       "      <th></th>\n",
       "      <th>Applicant_ID</th>\n",
       "      <th>default_status</th>\n",
       "    </tr>\n",
       "  </thead>\n",
       "  <tbody>\n",
       "    <tr>\n",
       "      <th>0</th>\n",
       "      <td>Apcnt_1000032</td>\n",
       "      <td>0.322118</td>\n",
       "    </tr>\n",
       "    <tr>\n",
       "      <th>1</th>\n",
       "      <td>Apcnt_1000048</td>\n",
       "      <td>0.367092</td>\n",
       "    </tr>\n",
       "    <tr>\n",
       "      <th>2</th>\n",
       "      <td>Apcnt_1000052</td>\n",
       "      <td>0.388731</td>\n",
       "    </tr>\n",
       "    <tr>\n",
       "      <th>3</th>\n",
       "      <td>Apcnt_1000076</td>\n",
       "      <td>0.743791</td>\n",
       "    </tr>\n",
       "    <tr>\n",
       "      <th>4</th>\n",
       "      <td>Apcnt_1000080</td>\n",
       "      <td>0.182554</td>\n",
       "    </tr>\n",
       "    <tr>\n",
       "      <th>...</th>\n",
       "      <td>...</td>\n",
       "      <td>...</td>\n",
       "    </tr>\n",
       "    <tr>\n",
       "      <th>23995</th>\n",
       "      <td>Apcnt_999940</td>\n",
       "      <td>0.707418</td>\n",
       "    </tr>\n",
       "    <tr>\n",
       "      <th>23996</th>\n",
       "      <td>Apcnt_999956</td>\n",
       "      <td>0.280780</td>\n",
       "    </tr>\n",
       "    <tr>\n",
       "      <th>23997</th>\n",
       "      <td>Apcnt_999976</td>\n",
       "      <td>0.289889</td>\n",
       "    </tr>\n",
       "    <tr>\n",
       "      <th>23998</th>\n",
       "      <td>Apcnt_999984</td>\n",
       "      <td>0.539345</td>\n",
       "    </tr>\n",
       "    <tr>\n",
       "      <th>23999</th>\n",
       "      <td>Apcnt_999992</td>\n",
       "      <td>0.195100</td>\n",
       "    </tr>\n",
       "  </tbody>\n",
       "</table>\n",
       "<p>24000 rows × 2 columns</p>\n",
       "</div>"
      ],
      "text/plain": [
       "        Applicant_ID  default_status\n",
       "0      Apcnt_1000032        0.322118\n",
       "1      Apcnt_1000048        0.367092\n",
       "2      Apcnt_1000052        0.388731\n",
       "3      Apcnt_1000076        0.743791\n",
       "4      Apcnt_1000080        0.182554\n",
       "...              ...             ...\n",
       "23995   Apcnt_999940        0.707418\n",
       "23996   Apcnt_999956        0.280780\n",
       "23997   Apcnt_999976        0.289889\n",
       "23998   Apcnt_999984        0.539345\n",
       "23999   Apcnt_999992        0.195100\n",
       "\n",
       "[24000 rows x 2 columns]"
      ]
     },
     "execution_count": 83,
     "metadata": {},
     "output_type": "execute_result"
    }
   ],
   "source": [
    "submission1 = pd.read_csv('catboost_baseline.csv')\n",
    "submission1"
   ]
  },
  {
   "cell_type": "code",
   "execution_count": 89,
   "metadata": {},
   "outputs": [],
   "source": [
    "avg_submission = (submission1.default_status + submission.default_status)/2"
   ]
  },
  {
   "cell_type": "code",
   "execution_count": 101,
   "metadata": {},
   "outputs": [],
   "source": [
    "submission.replace({2:0}, inplace=True)"
   ]
  },
  {
   "cell_type": "code",
   "execution_count": 104,
   "metadata": {},
   "outputs": [],
   "source": [
    "submission.to_csv('baseline_model.csv',index=False)"
   ]
  },
  {
   "cell_type": "code",
   "execution_count": 234,
   "metadata": {},
   "outputs": [],
   "source": [
    "avg = (pred_test_avg[:,1] + final_open_pred)/2"
   ]
  },
  {
   "cell_type": "code",
   "execution_count": 78,
   "metadata": {},
   "outputs": [
    {
     "data": {
      "text/plain": [
       "0        0.144036\n",
       "1        0.165326\n",
       "2        0.175482\n",
       "3        0.334812\n",
       "4        0.081363\n",
       "           ...   \n",
       "23995    0.317013\n",
       "23996    0.126243\n",
       "23997    0.128530\n",
       "23998    0.242045\n",
       "23999    0.088839\n",
       "Name: default_status, Length: 24000, dtype: float64"
      ]
     },
     "execution_count": 78,
     "metadata": {},
     "output_type": "execute_result"
    }
   ],
   "source": [
    "avg_submission"
   ]
  },
  {
   "cell_type": "code",
   "execution_count": 2,
   "metadata": {},
   "outputs": [],
   "source": [
    "a31 = pd.read_csv('a31.csv')\n",
    "a28 = pd.read_csv('a28.csv')\n",
    "a29 = pd.read_csv('a29.csv')"
   ]
  },
  {
   "cell_type": "code",
   "execution_count": 3,
   "metadata": {},
   "outputs": [],
   "source": [
    "a34 = (a31.default_status + a28.default_status + a29.default_status)/3"
   ]
  },
  {
   "cell_type": "code",
   "execution_count": 7,
   "metadata": {},
   "outputs": [],
   "source": [
    "make_submission(a36, 'a35.csv')"
   ]
  },
  {
   "cell_type": "code",
   "execution_count": 8,
   "metadata": {},
   "outputs": [],
   "source": [
    "a36 = (a31.default_status *0.1) + (a34*0.9)"
   ]
  },
  {
   "cell_type": "code",
   "execution_count": null,
   "metadata": {},
   "outputs": [],
   "source": []
  }
 ],
 "metadata": {
  "kernelspec": {
   "display_name": "Python 3",
   "language": "python",
   "name": "python3"
  },
  "language_info": {
   "codemirror_mode": {
    "name": "ipython",
    "version": 3
   },
   "file_extension": ".py",
   "mimetype": "text/x-python",
   "name": "python",
   "nbconvert_exporter": "python",
   "pygments_lexer": "ipython3",
   "version": "3.7.6"
  }
 },
 "nbformat": 4,
 "nbformat_minor": 2
}
