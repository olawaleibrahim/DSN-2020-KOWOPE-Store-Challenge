{
 "cells": [
  {
   "cell_type": "code",
   "execution_count": 1,
   "metadata": {},
   "outputs": [],
   "source": [
    "import pandas as pd\n",
    "import numpy as np\n",
    "import matplotlib.pyplot as plt\n",
    "import seaborn as sns\n",
    "import sklearn\n",
    "from sklearn.ensemble import RandomForestClassifier\n",
    "#!pip install catboost\n",
    "#import catboost as cat\n",
    "from sklearn.linear_model import LinearRegression, LogisticRegression\n",
    "from catboost import CatBoostClassifier\n",
    "from sklearn import preprocessing\n",
    "import sklearn.model_selection as ms\n",
    "from sklearn.model_selection import GridSearchCV, KFold, StratifiedKFold\n",
    "from sklearn.metrics import log_loss, confusion_matrix, accuracy_score, f1_score, roc_auc_score\n",
    "from xgboost import XGBClassifier\n",
    "from lightgbm import LGBMClassifier"
   ]
  },
  {
   "cell_type": "code",
   "execution_count": 2,
   "metadata": {},
   "outputs": [],
   "source": [
    "#train.info()"
   ]
  },
  {
   "cell_type": "code",
   "execution_count": 3,
   "metadata": {},
   "outputs": [],
   "source": [
    "#sns.heatmap(df)"
   ]
  },
  {
   "cell_type": "code",
   "execution_count": 47,
   "metadata": {},
   "outputs": [],
   "source": [
    "def fill_missing_values(data):\n",
    "    \n",
    "    '''\n",
    "    Function to input missing values based on the column object type\n",
    "    '''\n",
    "    \n",
    "    cols = list(data.columns)\n",
    "    for col in cols:\n",
    "        if data[col].dtype == 'int64' or data[col].dtype == 'float64':\n",
    "        \n",
    "            data[col] = data[col].fillna(data[col].mean())\n",
    "        \n",
    "        #elif data[col].dtype == 'O' or data[col].dtype == 'object':\n",
    "        #    data[col] = data[col].fillna(data[col].mode()[0])\n",
    "            \n",
    "        else:\n",
    "            data[col] = data[col].fillna(data[col].mode()[0])\n",
    "            \n",
    "    return data\n",
    " \n",
    "def one_hot_encoding(traindata, *args):\n",
    "    \n",
    "    for ii in args:\n",
    "        traindata = pd.get_dummies(traindata, prefix=[ii], columns=[ii])\n",
    "        \n",
    "    return traindata\n",
    " \n",
    "def drop_columns(traindata, *args):\n",
    "    \n",
    "    #labels = np.array(traindata[target])\n",
    "    \n",
    "    columns = []\n",
    "    for _ in args:\n",
    "        columns.append(_)\n",
    "        \n",
    "    traindata = traindata.drop(columns, axis=1)\n",
    "    #traindata = traindata.drop(target, axis=1)\n",
    "    #testdata = testdata.drop(columns, axis=1)\n",
    "        \n",
    "    return traindata\n",
    " \n",
    "def process(traindata):\n",
    "    \n",
    "    cols = list(traindata.columns)\n",
    "    for _ in cols:\n",
    "        traindata[_] = np.where(traindata[_] == np.inf, -999, traindata[_])\n",
    "        traindata[_] = np.where(traindata[_] == np.nan, -999, traindata[_])\n",
    "        traindata[_] = np.where(traindata[_] == -np.inf, -999, traindata[_])\n",
    "        \n",
    "    return traindata\n",
    " \n",
    "def show_evaluation(pred, true):\n",
    "  print(f'Default score: {score(true.values, pred)}')\n",
    "  print(f'Accuracy is: {accuracy_score(true, pred)}')\n",
    "  print(f'F1 is: {f1_score(pred, true.values, average=\"weighted\")}')\n",
    " \n",
    "def freq_encode(data, cols):\n",
    "    for i in cols:\n",
    "        encoding = data.groupby(i).size()\n",
    "        encoding = encoding/len(data)\n",
    "        data[i + '_enc'] = data[i].map(encoding)\n",
    "    return data\n",
    " \n",
    " \n",
    "def mean_target(data, cols):\n",
    "    kf = KFold(5)\n",
    "    a = pd.DataFrame()\n",
    "    for tr_ind, val_ind in kf.split(data):\n",
    "        X_tr, X_val= data.iloc[tr_ind].copy(), data.iloc[val_ind].copy()\n",
    "        for col in cols:\n",
    "            means = X_val[col].map(X_tr.groupby(col).default_status_no.mean())\n",
    "            X_val[col + '_mean_target'] = means + 0.0001\n",
    "        a = pd.concat((a, X_val))\n",
    "    #prior = FORCE_2020_LITHOFACIES_LITHOLOGY.mean()\n",
    "    #a.fillna(prior, inplace=True)\n",
    "    return a\n"
   ]
  },
  {
   "cell_type": "code",
   "execution_count": 48,
   "metadata": {},
   "outputs": [],
   "source": [
    "train = pd.read_csv('Train.csv')\n",
    "test = pd.read_csv('Test.csv')\n",
    "sample = pd.read_csv('SampleSubmission.csv')"
   ]
  },
  {
   "cell_type": "code",
   "execution_count": 49,
   "metadata": {},
   "outputs": [],
   "source": [
    "target = train.default_status\n",
    "target_numbers = {'yes': 1,\n",
    "                  'no': 0}\n",
    "\n",
    "target = target.map(target_numbers)"
   ]
  },
  {
   "cell_type": "code",
   "execution_count": 7,
   "metadata": {},
   "outputs": [],
   "source": [
    "#target"
   ]
  },
  {
   "cell_type": "code",
   "execution_count": 8,
   "metadata": {},
   "outputs": [
    {
     "data": {
      "text/plain": [
       "((56000, 52), (24000, 51))"
      ]
     },
     "execution_count": 8,
     "metadata": {},
     "output_type": "execute_result"
    }
   ],
   "source": [
    "train.shape, test.shape"
   ]
  },
  {
   "cell_type": "code",
   "execution_count": 9,
   "metadata": {},
   "outputs": [
    {
     "data": {
      "text/html": [
       "<div>\n",
       "<style scoped>\n",
       "    .dataframe tbody tr th:only-of-type {\n",
       "        vertical-align: middle;\n",
       "    }\n",
       "\n",
       "    .dataframe tbody tr th {\n",
       "        vertical-align: top;\n",
       "    }\n",
       "\n",
       "    .dataframe thead th {\n",
       "        text-align: right;\n",
       "    }\n",
       "</style>\n",
       "<table border=\"1\" class=\"dataframe\">\n",
       "  <thead>\n",
       "    <tr style=\"text-align: right;\">\n",
       "      <th></th>\n",
       "      <th>Applicant_ID</th>\n",
       "      <th>form_field1</th>\n",
       "      <th>form_field2</th>\n",
       "      <th>form_field3</th>\n",
       "      <th>form_field4</th>\n",
       "      <th>form_field5</th>\n",
       "      <th>form_field6</th>\n",
       "      <th>form_field7</th>\n",
       "      <th>form_field8</th>\n",
       "      <th>form_field9</th>\n",
       "      <th>...</th>\n",
       "      <th>form_field42</th>\n",
       "      <th>form_field43</th>\n",
       "      <th>form_field44</th>\n",
       "      <th>form_field45</th>\n",
       "      <th>form_field46</th>\n",
       "      <th>form_field47</th>\n",
       "      <th>form_field48</th>\n",
       "      <th>form_field49</th>\n",
       "      <th>form_field50</th>\n",
       "      <th>default_status</th>\n",
       "    </tr>\n",
       "  </thead>\n",
       "  <tbody>\n",
       "    <tr>\n",
       "      <th>0</th>\n",
       "      <td>Apcnt_1000000</td>\n",
       "      <td>3436.0</td>\n",
       "      <td>0.28505</td>\n",
       "      <td>1.6560</td>\n",
       "      <td>0.0</td>\n",
       "      <td>0.000</td>\n",
       "      <td>0.0</td>\n",
       "      <td>10689720.0</td>\n",
       "      <td>252072.0</td>\n",
       "      <td>4272776.0</td>\n",
       "      <td>...</td>\n",
       "      <td>0.392854</td>\n",
       "      <td>2.02</td>\n",
       "      <td>0.711632</td>\n",
       "      <td>0.0</td>\n",
       "      <td>0.0</td>\n",
       "      <td>charge</td>\n",
       "      <td>NaN</td>\n",
       "      <td>1.129518</td>\n",
       "      <td>0.044335</td>\n",
       "      <td>no</td>\n",
       "    </tr>\n",
       "    <tr>\n",
       "      <th>1</th>\n",
       "      <td>Apcnt_1000004</td>\n",
       "      <td>3456.0</td>\n",
       "      <td>0.67400</td>\n",
       "      <td>0.2342</td>\n",
       "      <td>0.0</td>\n",
       "      <td>0.000</td>\n",
       "      <td>0.0</td>\n",
       "      <td>898979.0</td>\n",
       "      <td>497531.0</td>\n",
       "      <td>9073814.0</td>\n",
       "      <td>...</td>\n",
       "      <td>0.314281</td>\n",
       "      <td>8.08</td>\n",
       "      <td>0.183584</td>\n",
       "      <td>NaN</td>\n",
       "      <td>0.0</td>\n",
       "      <td>charge</td>\n",
       "      <td>349.805730</td>\n",
       "      <td>1.620483</td>\n",
       "      <td>0.322436</td>\n",
       "      <td>no</td>\n",
       "    </tr>\n",
       "    <tr>\n",
       "      <th>2</th>\n",
       "      <td>Apcnt_1000008</td>\n",
       "      <td>3276.0</td>\n",
       "      <td>0.53845</td>\n",
       "      <td>3.1510</td>\n",
       "      <td>0.0</td>\n",
       "      <td>6.282</td>\n",
       "      <td>NaN</td>\n",
       "      <td>956940.0</td>\n",
       "      <td>NaN</td>\n",
       "      <td>192944.0</td>\n",
       "      <td>...</td>\n",
       "      <td>0.162965</td>\n",
       "      <td>18.18</td>\n",
       "      <td>0.791136</td>\n",
       "      <td>0.0</td>\n",
       "      <td>0.0</td>\n",
       "      <td>charge</td>\n",
       "      <td>NaN</td>\n",
       "      <td>1.513370</td>\n",
       "      <td>0.011640</td>\n",
       "      <td>yes</td>\n",
       "    </tr>\n",
       "    <tr>\n",
       "      <th>3</th>\n",
       "      <td>Apcnt_1000012</td>\n",
       "      <td>3372.0</td>\n",
       "      <td>0.17005</td>\n",
       "      <td>0.5050</td>\n",
       "      <td>0.0</td>\n",
       "      <td>0.000</td>\n",
       "      <td>192166.0</td>\n",
       "      <td>3044703.0</td>\n",
       "      <td>385499.0</td>\n",
       "      <td>3986472.0</td>\n",
       "      <td>...</td>\n",
       "      <td>0.488884</td>\n",
       "      <td>2.02</td>\n",
       "      <td>0.685168</td>\n",
       "      <td>NaN</td>\n",
       "      <td>0.0</td>\n",
       "      <td>charge</td>\n",
       "      <td>89.940100</td>\n",
       "      <td>0.664452</td>\n",
       "      <td>0.082729</td>\n",
       "      <td>no</td>\n",
       "    </tr>\n",
       "    <tr>\n",
       "      <th>4</th>\n",
       "      <td>Apcnt_1000016</td>\n",
       "      <td>3370.0</td>\n",
       "      <td>0.77270</td>\n",
       "      <td>1.1010</td>\n",
       "      <td>0.0</td>\n",
       "      <td>0.000</td>\n",
       "      <td>1556.0</td>\n",
       "      <td>214728.0</td>\n",
       "      <td>214728.0</td>\n",
       "      <td>1284089.0</td>\n",
       "      <td>...</td>\n",
       "      <td>0.275000</td>\n",
       "      <td>12.12</td>\n",
       "      <td>0.438168</td>\n",
       "      <td>0.0</td>\n",
       "      <td>0.0</td>\n",
       "      <td>charge</td>\n",
       "      <td>97.887502</td>\n",
       "      <td>1.427891</td>\n",
       "      <td>0.045630</td>\n",
       "      <td>no</td>\n",
       "    </tr>\n",
       "  </tbody>\n",
       "</table>\n",
       "<p>5 rows × 52 columns</p>\n",
       "</div>"
      ],
      "text/plain": [
       "    Applicant_ID  form_field1  form_field2  form_field3  form_field4  \\\n",
       "0  Apcnt_1000000       3436.0      0.28505       1.6560          0.0   \n",
       "1  Apcnt_1000004       3456.0      0.67400       0.2342          0.0   \n",
       "2  Apcnt_1000008       3276.0      0.53845       3.1510          0.0   \n",
       "3  Apcnt_1000012       3372.0      0.17005       0.5050          0.0   \n",
       "4  Apcnt_1000016       3370.0      0.77270       1.1010          0.0   \n",
       "\n",
       "   form_field5  form_field6  form_field7  form_field8  form_field9  ...  \\\n",
       "0        0.000          0.0   10689720.0     252072.0    4272776.0  ...   \n",
       "1        0.000          0.0     898979.0     497531.0    9073814.0  ...   \n",
       "2        6.282          NaN     956940.0          NaN     192944.0  ...   \n",
       "3        0.000     192166.0    3044703.0     385499.0    3986472.0  ...   \n",
       "4        0.000       1556.0     214728.0     214728.0    1284089.0  ...   \n",
       "\n",
       "   form_field42  form_field43  form_field44  form_field45  form_field46  \\\n",
       "0      0.392854          2.02      0.711632           0.0           0.0   \n",
       "1      0.314281          8.08      0.183584           NaN           0.0   \n",
       "2      0.162965         18.18      0.791136           0.0           0.0   \n",
       "3      0.488884          2.02      0.685168           NaN           0.0   \n",
       "4      0.275000         12.12      0.438168           0.0           0.0   \n",
       "\n",
       "   form_field47  form_field48  form_field49  form_field50  default_status  \n",
       "0        charge           NaN      1.129518      0.044335              no  \n",
       "1        charge    349.805730      1.620483      0.322436              no  \n",
       "2        charge           NaN      1.513370      0.011640             yes  \n",
       "3        charge     89.940100      0.664452      0.082729              no  \n",
       "4        charge     97.887502      1.427891      0.045630              no  \n",
       "\n",
       "[5 rows x 52 columns]"
      ]
     },
     "execution_count": 9,
     "metadata": {},
     "output_type": "execute_result"
    }
   ],
   "source": [
    "train.head()"
   ]
  },
  {
   "cell_type": "code",
   "execution_count": 93,
   "metadata": {},
   "outputs": [
    {
     "data": {
      "text/plain": [
       "(80000, 52)"
      ]
     },
     "execution_count": 93,
     "metadata": {},
     "output_type": "execute_result"
    }
   ],
   "source": [
    "ntrain = train.shape[0]\n",
    "ntest = test.shape[0]\n",
    "#target = train.default_status.copy()\n",
    "df = pd.concat((train, test)).reset_index(drop=True)\n",
    "df.shape"
   ]
  },
  {
   "cell_type": "code",
   "execution_count": 94,
   "metadata": {},
   "outputs": [
    {
     "name": "stdout",
     "output_type": "stream",
     "text": [
      "(80000, 52)\n",
      "(80000, 52)\n"
     ]
    }
   ],
   "source": [
    "print(df.shape)\n",
    "cols = ['form_field31', 'form_field40']\n",
    "#df = drop_columns(df, *cols)\n",
    "print(df.shape)"
   ]
  },
  {
   "cell_type": "code",
   "execution_count": 95,
   "metadata": {},
   "outputs": [
    {
     "name": "stdout",
     "output_type": "stream",
     "text": [
      "(80000, 53)\n"
     ]
    },
    {
     "data": {
      "text/plain": [
       "(80000, 53)"
      ]
     },
     "execution_count": 95,
     "metadata": {},
     "output_type": "execute_result"
    }
   ],
   "source": [
    "df = freq_encode(df, ['form_field47'])\n",
    "print(df.shape)\n",
    "#df = mean_target(df, ['form_field47'])\n",
    "df.shape"
   ]
  },
  {
   "cell_type": "code",
   "execution_count": 96,
   "metadata": {},
   "outputs": [
    {
     "data": {
      "text/plain": [
       "(80000, 54)"
      ]
     },
     "execution_count": 96,
     "metadata": {},
     "output_type": "execute_result"
    }
   ],
   "source": [
    "col = ['form_field47']\n",
    " \n",
    "df = one_hot_encoding(df, *col)\n",
    "df.shape"
   ]
  },
  {
   "cell_type": "code",
   "execution_count": 57,
   "metadata": {},
   "outputs": [
    {
     "data": {
      "text/html": [
       "<div>\n",
       "<style scoped>\n",
       "    .dataframe tbody tr th:only-of-type {\n",
       "        vertical-align: middle;\n",
       "    }\n",
       "\n",
       "    .dataframe tbody tr th {\n",
       "        vertical-align: top;\n",
       "    }\n",
       "\n",
       "    .dataframe thead th {\n",
       "        text-align: right;\n",
       "    }\n",
       "</style>\n",
       "<table border=\"1\" class=\"dataframe\">\n",
       "  <thead>\n",
       "    <tr style=\"text-align: right;\">\n",
       "      <th></th>\n",
       "      <th>form_field1</th>\n",
       "      <th>form_field2</th>\n",
       "      <th>form_field3</th>\n",
       "      <th>form_field4</th>\n",
       "      <th>form_field5</th>\n",
       "      <th>form_field6</th>\n",
       "      <th>form_field7</th>\n",
       "      <th>form_field8</th>\n",
       "      <th>form_field9</th>\n",
       "      <th>form_field10</th>\n",
       "      <th>...</th>\n",
       "      <th>form_field44</th>\n",
       "      <th>form_field45</th>\n",
       "      <th>form_field46</th>\n",
       "      <th>form_field48</th>\n",
       "      <th>form_field49</th>\n",
       "      <th>form_field50</th>\n",
       "      <th>form_field47_charge</th>\n",
       "      <th>form_field47_lending</th>\n",
       "      <th>default_status_no_enc</th>\n",
       "      <th>default_status_no_mean_target</th>\n",
       "    </tr>\n",
       "  </thead>\n",
       "  <tbody>\n",
       "    <tr>\n",
       "      <th>count</th>\n",
       "      <td>76361.000000</td>\n",
       "      <td>74447.000000</td>\n",
       "      <td>79499.000000</td>\n",
       "      <td>79499.000000</td>\n",
       "      <td>79499.000000</td>\n",
       "      <td>6.103600e+04</td>\n",
       "      <td>7.260600e+04</td>\n",
       "      <td>6.103600e+04</td>\n",
       "      <td>6.859200e+04</td>\n",
       "      <td>7.949800e+04</td>\n",
       "      <td>...</td>\n",
       "      <td>72255.000000</td>\n",
       "      <td>35145.000000</td>\n",
       "      <td>57211.000000</td>\n",
       "      <td>5.018900e+04</td>\n",
       "      <td>79499.000000</td>\n",
       "      <td>6.414700e+04</td>\n",
       "      <td>80000.000000</td>\n",
       "      <td>80000.000000</td>\n",
       "      <td>80000.000000</td>\n",
       "      <td>80000.000000</td>\n",
       "    </tr>\n",
       "    <tr>\n",
       "      <th>mean</th>\n",
       "      <td>3491.942169</td>\n",
       "      <td>0.552815</td>\n",
       "      <td>1.056191</td>\n",
       "      <td>0.854130</td>\n",
       "      <td>2.024495</td>\n",
       "      <td>6.250072e+05</td>\n",
       "      <td>6.844769e+06</td>\n",
       "      <td>2.634964e+06</td>\n",
       "      <td>1.326390e+07</td>\n",
       "      <td>1.186153e+07</td>\n",
       "      <td>...</td>\n",
       "      <td>0.564228</td>\n",
       "      <td>0.070736</td>\n",
       "      <td>0.096135</td>\n",
       "      <td>3.041331e+05</td>\n",
       "      <td>1.053579</td>\n",
       "      <td>6.228580e+05</td>\n",
       "      <td>0.648000</td>\n",
       "      <td>0.352000</td>\n",
       "      <td>0.501632</td>\n",
       "      <td>0.528662</td>\n",
       "    </tr>\n",
       "    <tr>\n",
       "      <th>std</th>\n",
       "      <td>189.075233</td>\n",
       "      <td>0.822650</td>\n",
       "      <td>2.163093</td>\n",
       "      <td>3.233269</td>\n",
       "      <td>10.791811</td>\n",
       "      <td>1.440721e+06</td>\n",
       "      <td>1.831476e+07</td>\n",
       "      <td>3.939693e+06</td>\n",
       "      <td>2.076362e+07</td>\n",
       "      <td>2.613218e+07</td>\n",
       "      <td>...</td>\n",
       "      <td>0.196703</td>\n",
       "      <td>0.287365</td>\n",
       "      <td>0.346109</td>\n",
       "      <td>1.717065e+06</td>\n",
       "      <td>1.809372</td>\n",
       "      <td>6.066510e+06</td>\n",
       "      <td>0.477597</td>\n",
       "      <td>0.477597</td>\n",
       "      <td>0.028516</td>\n",
       "      <td>0.499187</td>\n",
       "    </tr>\n",
       "    <tr>\n",
       "      <th>min</th>\n",
       "      <td>2986.000000</td>\n",
       "      <td>0.000000</td>\n",
       "      <td>0.000000</td>\n",
       "      <td>0.000000</td>\n",
       "      <td>0.000000</td>\n",
       "      <td>0.000000e+00</td>\n",
       "      <td>0.000000e+00</td>\n",
       "      <td>0.000000e+00</td>\n",
       "      <td>0.000000e+00</td>\n",
       "      <td>0.000000e+00</td>\n",
       "      <td>...</td>\n",
       "      <td>0.048528</td>\n",
       "      <td>0.000000</td>\n",
       "      <td>0.000000</td>\n",
       "      <td>0.000000e+00</td>\n",
       "      <td>0.000000</td>\n",
       "      <td>0.000000e+00</td>\n",
       "      <td>0.000000</td>\n",
       "      <td>0.000000</td>\n",
       "      <td>0.471438</td>\n",
       "      <td>0.000100</td>\n",
       "    </tr>\n",
       "    <tr>\n",
       "      <th>25%</th>\n",
       "      <td>3358.000000</td>\n",
       "      <td>0.070050</td>\n",
       "      <td>0.000000</td>\n",
       "      <td>0.000000</td>\n",
       "      <td>0.000000</td>\n",
       "      <td>1.400400e+04</td>\n",
       "      <td>6.830840e+05</td>\n",
       "      <td>1.906100e+05</td>\n",
       "      <td>1.360722e+06</td>\n",
       "      <td>4.411260e+05</td>\n",
       "      <td>...</td>\n",
       "      <td>0.412176</td>\n",
       "      <td>0.000000</td>\n",
       "      <td>0.000000</td>\n",
       "      <td>7.706548e+01</td>\n",
       "      <td>0.000000</td>\n",
       "      <td>4.545456e-02</td>\n",
       "      <td>0.000000</td>\n",
       "      <td>0.000000</td>\n",
       "      <td>0.471438</td>\n",
       "      <td>0.000100</td>\n",
       "    </tr>\n",
       "    <tr>\n",
       "      <th>50%</th>\n",
       "      <td>3484.000000</td>\n",
       "      <td>0.269450</td>\n",
       "      <td>0.060000</td>\n",
       "      <td>0.000000</td>\n",
       "      <td>0.000000</td>\n",
       "      <td>1.155330e+05</td>\n",
       "      <td>2.710163e+06</td>\n",
       "      <td>9.639420e+05</td>\n",
       "      <td>5.512519e+06</td>\n",
       "      <td>3.692582e+06</td>\n",
       "      <td>...</td>\n",
       "      <td>0.589624</td>\n",
       "      <td>0.000000</td>\n",
       "      <td>0.000000</td>\n",
       "      <td>3.167076e+02</td>\n",
       "      <td>0.000000</td>\n",
       "      <td>1.697604e-01</td>\n",
       "      <td>1.000000</td>\n",
       "      <td>0.000000</td>\n",
       "      <td>0.528563</td>\n",
       "      <td>1.000100</td>\n",
       "    </tr>\n",
       "    <tr>\n",
       "      <th>75%</th>\n",
       "      <td>3620.000000</td>\n",
       "      <td>0.722525</td>\n",
       "      <td>1.289400</td>\n",
       "      <td>0.000000</td>\n",
       "      <td>0.000000</td>\n",
       "      <td>5.225242e+05</td>\n",
       "      <td>7.023687e+06</td>\n",
       "      <td>3.767173e+06</td>\n",
       "      <td>1.705911e+07</td>\n",
       "      <td>1.323592e+07</td>\n",
       "      <td>...</td>\n",
       "      <td>0.754780</td>\n",
       "      <td>0.000000</td>\n",
       "      <td>0.000000</td>\n",
       "      <td>1.167000e+03</td>\n",
       "      <td>1.200961</td>\n",
       "      <td>4.999999e-01</td>\n",
       "      <td>1.000000</td>\n",
       "      <td>1.000000</td>\n",
       "      <td>0.528563</td>\n",
       "      <td>1.000100</td>\n",
       "    </tr>\n",
       "    <tr>\n",
       "      <th>max</th>\n",
       "      <td>3900.000000</td>\n",
       "      <td>22.315050</td>\n",
       "      <td>57.371600</td>\n",
       "      <td>206.452800</td>\n",
       "      <td>407.748600</td>\n",
       "      <td>5.313546e+07</td>\n",
       "      <td>2.158794e+09</td>\n",
       "      <td>1.135141e+08</td>\n",
       "      <td>1.443921e+09</td>\n",
       "      <td>2.191361e+09</td>\n",
       "      <td>...</td>\n",
       "      <td>0.800000</td>\n",
       "      <td>5.000000</td>\n",
       "      <td>19.000000</td>\n",
       "      <td>1.213991e+08</td>\n",
       "      <td>28.000000</td>\n",
       "      <td>2.524591e+08</td>\n",
       "      <td>1.000000</td>\n",
       "      <td>1.000000</td>\n",
       "      <td>0.528563</td>\n",
       "      <td>1.000100</td>\n",
       "    </tr>\n",
       "  </tbody>\n",
       "</table>\n",
       "<p>8 rows × 53 columns</p>\n",
       "</div>"
      ],
      "text/plain": [
       "        form_field1   form_field2   form_field3   form_field4   form_field5  \\\n",
       "count  76361.000000  74447.000000  79499.000000  79499.000000  79499.000000   \n",
       "mean    3491.942169      0.552815      1.056191      0.854130      2.024495   \n",
       "std      189.075233      0.822650      2.163093      3.233269     10.791811   \n",
       "min     2986.000000      0.000000      0.000000      0.000000      0.000000   \n",
       "25%     3358.000000      0.070050      0.000000      0.000000      0.000000   \n",
       "50%     3484.000000      0.269450      0.060000      0.000000      0.000000   \n",
       "75%     3620.000000      0.722525      1.289400      0.000000      0.000000   \n",
       "max     3900.000000     22.315050     57.371600    206.452800    407.748600   \n",
       "\n",
       "        form_field6   form_field7   form_field8   form_field9  form_field10  \\\n",
       "count  6.103600e+04  7.260600e+04  6.103600e+04  6.859200e+04  7.949800e+04   \n",
       "mean   6.250072e+05  6.844769e+06  2.634964e+06  1.326390e+07  1.186153e+07   \n",
       "std    1.440721e+06  1.831476e+07  3.939693e+06  2.076362e+07  2.613218e+07   \n",
       "min    0.000000e+00  0.000000e+00  0.000000e+00  0.000000e+00  0.000000e+00   \n",
       "25%    1.400400e+04  6.830840e+05  1.906100e+05  1.360722e+06  4.411260e+05   \n",
       "50%    1.155330e+05  2.710163e+06  9.639420e+05  5.512519e+06  3.692582e+06   \n",
       "75%    5.225242e+05  7.023687e+06  3.767173e+06  1.705911e+07  1.323592e+07   \n",
       "max    5.313546e+07  2.158794e+09  1.135141e+08  1.443921e+09  2.191361e+09   \n",
       "\n",
       "       ...  form_field44  form_field45  form_field46  form_field48  \\\n",
       "count  ...  72255.000000  35145.000000  57211.000000  5.018900e+04   \n",
       "mean   ...      0.564228      0.070736      0.096135  3.041331e+05   \n",
       "std    ...      0.196703      0.287365      0.346109  1.717065e+06   \n",
       "min    ...      0.048528      0.000000      0.000000  0.000000e+00   \n",
       "25%    ...      0.412176      0.000000      0.000000  7.706548e+01   \n",
       "50%    ...      0.589624      0.000000      0.000000  3.167076e+02   \n",
       "75%    ...      0.754780      0.000000      0.000000  1.167000e+03   \n",
       "max    ...      0.800000      5.000000     19.000000  1.213991e+08   \n",
       "\n",
       "       form_field49  form_field50  form_field47_charge  form_field47_lending  \\\n",
       "count  79499.000000  6.414700e+04         80000.000000          80000.000000   \n",
       "mean       1.053579  6.228580e+05             0.648000              0.352000   \n",
       "std        1.809372  6.066510e+06             0.477597              0.477597   \n",
       "min        0.000000  0.000000e+00             0.000000              0.000000   \n",
       "25%        0.000000  4.545456e-02             0.000000              0.000000   \n",
       "50%        0.000000  1.697604e-01             1.000000              0.000000   \n",
       "75%        1.200961  4.999999e-01             1.000000              1.000000   \n",
       "max       28.000000  2.524591e+08             1.000000              1.000000   \n",
       "\n",
       "       default_status_no_enc  default_status_no_mean_target  \n",
       "count           80000.000000                   80000.000000  \n",
       "mean                0.501632                       0.528662  \n",
       "std                 0.028516                       0.499187  \n",
       "min                 0.471438                       0.000100  \n",
       "25%                 0.471438                       0.000100  \n",
       "50%                 0.528563                       1.000100  \n",
       "75%                 0.528563                       1.000100  \n",
       "max                 0.528563                       1.000100  \n",
       "\n",
       "[8 rows x 53 columns]"
      ]
     },
     "execution_count": 57,
     "metadata": {},
     "output_type": "execute_result"
    }
   ],
   "source": [
    "df.describe()"
   ]
  },
  {
   "cell_type": "code",
   "execution_count": 97,
   "metadata": {},
   "outputs": [
    {
     "name": "stderr",
     "output_type": "stream",
     "text": [
      "/home/olawale/anaconda3/lib/python3.7/site-packages/pandas/core/series.py:726: RuntimeWarning: divide by zero encountered in log10\n",
      "  result = getattr(ufunc, method)(*inputs, **kwargs)\n"
     ]
    }
   ],
   "source": [
    "df['new1'] = df['form_field3']/df['form_field1']\n",
    "df['new2'] = df['form_field2']/df['form_field4']\n",
    "df['new3'] = df['form_field5']/df['form_field6']\n",
    "df['new4'] = np.log10(df.form_field8)\n",
    "df['new5'] = np.log10(df.form_field9)\n",
    "df['new6'] = np.log10(df.form_field10)\n",
    "df['new7'] = np.log10(df.form_field11)\n",
    "df['new8'] = np.log10(df.form_field12)\n",
    "df['new9'] = np.log10(df.form_field13)\n",
    "df['new10'] = np.log10(df.form_field14)\n",
    "df['new11'] = df['form_field43']/df['form_field31']\n",
    "df['new12'] = df['form_field22']/df['form_field34']\n",
    "df['new13'] = df['form_field15']/df['form_field16']"
   ]
  },
  {
   "cell_type": "code",
   "execution_count": 98,
   "metadata": {},
   "outputs": [],
   "source": [
    "from sklearn.decomposition import PCA\n",
    "pca = PCA(n_components=20)"
   ]
  },
  {
   "cell_type": "code",
   "execution_count": 99,
   "metadata": {},
   "outputs": [
    {
     "name": "stdout",
     "output_type": "stream",
     "text": [
      "(56000, 65) (24000, 65)\n"
     ]
    }
   ],
   "source": [
    "df = df.drop(['Applicant_ID'], axis=1)\n",
    "df.shape\n",
    " \n",
    "df = df.fillna(-999)\n",
    "df = process(df)\n",
    "data = df.copy()\n",
    " \n",
    "train2 = data[:ntrain].copy()\n",
    "target = train2.default_status.copy()\n",
    "#validation1_target = valid1.FORCE_2020_LITHOFACIES_LITHOLOGY.copy()\n",
    "#validation2_target = valid2.FORCE_2020_LITHOFACIES_LITHOLOGY.copy()\n",
    "train2.drop(['default_status'], axis=1, inplace=True)\n",
    " \n",
    "test2 = data[ntrain:(ntest+ntrain)].copy()\n",
    "test2.drop(['default_status'], axis=1, inplace=True)\n",
    "test2 = test2.reset_index(drop=True)\n",
    " \n",
    "#validation1 = data[(ntest+ntrain):(ntest+ntrain+nvalid1)].copy()\n",
    "#validation1.drop(['FORCE_2020_LITHOFACIES_LITHOLOGY'], axis=1, inplace=True)\n",
    "#validation1 = validation1.reset_index(drop=True)\n",
    " \n",
    "#validation2 = data[(ntrain+ntest+nvalid1): (ntrain+ntest+nvalid1+nvalid2)].copy()\n",
    "#validation2.drop(['FORCE_2020_LITHOFACIES_LITHOLOGY'], axis=1, inplace=True)\n",
    "#validation2 = validation2.reset_index(drop=True)\n",
    " \n",
    " \n",
    "#validation3 = data[(ntrain+ntest+nvalid1+nvalid2):].copy()\n",
    "#validation3.drop(['FORCE_2020_LITHOFACIES_LITHOLOGY'], axis=1, inplace=True)\n",
    "#validation3 = validation3.reset_index(drop=True)\n",
    " \n",
    "print(train2.shape, test2.shape)"
   ]
  },
  {
   "cell_type": "code",
   "execution_count": 100,
   "metadata": {},
   "outputs": [
    {
     "name": "stdout",
     "output_type": "stream",
     "text": [
      "(56000, 85) (24000, 85)\n"
     ]
    }
   ],
   "source": [
    "pca.fit(train2)\n",
    "\n",
    "train3 = pca.transform(train2)\n",
    "train2 = pd.concat((train2, pd.DataFrame(train3)), axis=1)\n",
    "test3 = pca.transform(test2)\n",
    "test2 = pd.concat((test2, pd.DataFrame(test3)), axis=1)\n",
    "print(train2.shape, test2.shape)"
   ]
  },
  {
   "cell_type": "code",
   "execution_count": 101,
   "metadata": {},
   "outputs": [],
   "source": [
    "traindata = train2\n",
    "testdata = test2\n",
    " \n",
    "scaler = preprocessing.StandardScaler().fit(traindata)\n",
    "def scale_data(data):\n",
    "  \n",
    "  data = scaler.transform(data)\n",
    "  #testdata = scaler.transform(testdata)\n",
    "  data = pd.DataFrame(data, columns=testdata.columns)\n",
    " \n",
    "  return data"
   ]
  },
  {
   "cell_type": "code",
   "execution_count": 102,
   "metadata": {},
   "outputs": [],
   "source": [
    "traindata = scale_data(traindata)\n",
    "testdata = scale_data(testdata)"
   ]
  },
  {
   "cell_type": "code",
   "execution_count": 103,
   "metadata": {},
   "outputs": [
    {
     "name": "stdout",
     "output_type": "stream",
     "text": [
      "0:\tlearn: 0.6867369\ttest: 0.6867879\tbest: 0.6867879 (0)\ttotal: 129ms\tremaining: 1h 47m 11s\n",
      "50:\tlearn: 0.5089606\ttest: 0.5136532\tbest: 0.5136532 (50)\ttotal: 4.97s\tremaining: 1h 21m 7s\n",
      "100:\tlearn: 0.4539179\ttest: 0.4608888\tbest: 0.4608888 (100)\ttotal: 9.94s\tremaining: 1h 21m 52s\n",
      "150:\tlearn: 0.4327506\ttest: 0.4415236\tbest: 0.4415236 (150)\ttotal: 15.2s\tremaining: 1h 23m 44s\n",
      "200:\tlearn: 0.4225792\ttest: 0.4327329\tbest: 0.4327329 (200)\ttotal: 19.9s\tremaining: 1h 22m 21s\n",
      "250:\tlearn: 0.4166156\ttest: 0.4278050\tbest: 0.4278050 (250)\ttotal: 25s\tremaining: 1h 22m 32s\n",
      "300:\tlearn: 0.4128294\ttest: 0.4250167\tbest: 0.4250167 (300)\ttotal: 33.8s\tremaining: 1h 32m 54s\n",
      "350:\tlearn: 0.4100682\ttest: 0.4230153\tbest: 0.4230153 (350)\ttotal: 43.5s\tremaining: 1h 42m 36s\n",
      "400:\tlearn: 0.4079161\ttest: 0.4216389\tbest: 0.4216389 (400)\ttotal: 53.2s\tremaining: 1h 49m 45s\n",
      "450:\tlearn: 0.4062379\ttest: 0.4205870\tbest: 0.4205870 (450)\ttotal: 1m 1s\tremaining: 1h 52m 17s\n",
      "500:\tlearn: 0.4047076\ttest: 0.4197296\tbest: 0.4197296 (500)\ttotal: 1m 11s\tremaining: 1h 57m 36s\n",
      "550:\tlearn: 0.4033521\ttest: 0.4189565\tbest: 0.4189565 (550)\ttotal: 1m 19s\tremaining: 1h 58m 49s\n",
      "600:\tlearn: 0.4020776\ttest: 0.4183541\tbest: 0.4183541 (600)\ttotal: 1m 28s\tremaining: 2h 1m 25s\n",
      "650:\tlearn: 0.4009773\ttest: 0.4178639\tbest: 0.4178639 (650)\ttotal: 1m 34s\tremaining: 1h 59m 35s\n",
      "700:\tlearn: 0.3999586\ttest: 0.4173818\tbest: 0.4173818 (700)\ttotal: 1m 40s\tremaining: 1h 57m 45s\n",
      "750:\tlearn: 0.3989977\ttest: 0.4169654\tbest: 0.4169654 (750)\ttotal: 1m 46s\tremaining: 1h 56m 21s\n",
      "800:\tlearn: 0.3980899\ttest: 0.4166044\tbest: 0.4166044 (800)\ttotal: 1m 51s\tremaining: 1h 54m 26s\n",
      "850:\tlearn: 0.3971340\ttest: 0.4162828\tbest: 0.4162828 (850)\ttotal: 1m 56s\tremaining: 1h 52m 14s\n",
      "900:\tlearn: 0.3961835\ttest: 0.4159961\tbest: 0.4159901 (897)\ttotal: 2m 1s\tremaining: 1h 50m 19s\n",
      "950:\tlearn: 0.3953577\ttest: 0.4157156\tbest: 0.4157101 (949)\ttotal: 2m 10s\tremaining: 1h 52m 26s\n",
      "1000:\tlearn: 0.3945323\ttest: 0.4154972\tbest: 0.4154972 (1000)\ttotal: 2m 22s\tremaining: 1h 55m 58s\n",
      "1050:\tlearn: 0.3936994\ttest: 0.4152514\tbest: 0.4152514 (1050)\ttotal: 2m 28s\tremaining: 1h 54m 59s\n",
      "1100:\tlearn: 0.3928978\ttest: 0.4150376\tbest: 0.4150376 (1099)\ttotal: 2m 34s\tremaining: 1h 54m 40s\n",
      "1150:\tlearn: 0.3920435\ttest: 0.4148274\tbest: 0.4148259 (1147)\ttotal: 2m 43s\tremaining: 1h 56m\n",
      "1200:\tlearn: 0.3912560\ttest: 0.4146276\tbest: 0.4146246 (1198)\ttotal: 2m 51s\tremaining: 1h 56m 26s\n",
      "1250:\tlearn: 0.3905783\ttest: 0.4145464\tbest: 0.4145379 (1249)\ttotal: 2m 59s\tremaining: 1h 56m 44s\n",
      "1300:\tlearn: 0.3897144\ttest: 0.4144703\tbest: 0.4144598 (1298)\ttotal: 3m 7s\tremaining: 1h 56m 46s\n",
      "1350:\tlearn: 0.3889306\ttest: 0.4143506\tbest: 0.4143502 (1349)\ttotal: 3m 15s\tremaining: 1h 57m 5s\n",
      "1400:\tlearn: 0.3881396\ttest: 0.4142609\tbest: 0.4142609 (1400)\ttotal: 3m 23s\tremaining: 1h 57m 32s\n",
      "1450:\tlearn: 0.3873752\ttest: 0.4142435\tbest: 0.4142390 (1448)\ttotal: 3m 29s\tremaining: 1h 56m 38s\n",
      "1500:\tlearn: 0.3866021\ttest: 0.4141974\tbest: 0.4141951 (1485)\ttotal: 3m 37s\tremaining: 1h 57m 6s\n",
      "1550:\tlearn: 0.3858695\ttest: 0.4141516\tbest: 0.4141516 (1550)\ttotal: 3m 45s\tremaining: 1h 57m 25s\n",
      "1600:\tlearn: 0.3850814\ttest: 0.4140821\tbest: 0.4140778 (1592)\ttotal: 3m 51s\tremaining: 1h 56m 28s\n",
      "1650:\tlearn: 0.3842851\ttest: 0.4139913\tbest: 0.4139913 (1650)\ttotal: 3m 56s\tremaining: 1h 55m 12s\n",
      "1700:\tlearn: 0.3835746\ttest: 0.4139198\tbest: 0.4139165 (1691)\ttotal: 4m 1s\tremaining: 1h 54m 3s\n",
      "1750:\tlearn: 0.3827863\ttest: 0.4138886\tbest: 0.4138886 (1750)\ttotal: 4m 6s\tremaining: 1h 53m 4s\n",
      "1800:\tlearn: 0.3819646\ttest: 0.4138406\tbest: 0.4138217 (1798)\ttotal: 4m 12s\tremaining: 1h 52m 34s\n",
      "1850:\tlearn: 0.3812262\ttest: 0.4137049\tbest: 0.4136995 (1848)\ttotal: 4m 21s\tremaining: 1h 53m 28s\n",
      "1900:\tlearn: 0.3805180\ttest: 0.4136647\tbest: 0.4136640 (1899)\ttotal: 4m 27s\tremaining: 1h 52m 44s\n",
      "1950:\tlearn: 0.3797448\ttest: 0.4136285\tbest: 0.4136244 (1937)\ttotal: 4m 33s\tremaining: 1h 52m 19s\n",
      "2000:\tlearn: 0.3790403\ttest: 0.4135504\tbest: 0.4135504 (2000)\ttotal: 4m 42s\tremaining: 1h 53m\n",
      "2050:\tlearn: 0.3783380\ttest: 0.4135667\tbest: 0.4135343 (2031)\ttotal: 4m 53s\tremaining: 1h 54m 24s\n",
      "2100:\tlearn: 0.3777280\ttest: 0.4135245\tbest: 0.4135035 (2074)\ttotal: 4m 59s\tremaining: 1h 53m 45s\n",
      "2150:\tlearn: 0.3770958\ttest: 0.4135322\tbest: 0.4135035 (2074)\ttotal: 5m 5s\tremaining: 1h 53m 7s\n",
      "2200:\tlearn: 0.3765392\ttest: 0.4135037\tbest: 0.4135035 (2074)\ttotal: 5m 12s\tremaining: 1h 53m 10s\n",
      "2250:\tlearn: 0.3760029\ttest: 0.4134902\tbest: 0.4134787 (2240)\ttotal: 5m 18s\tremaining: 1h 52m 27s\n",
      "2300:\tlearn: 0.3754135\ttest: 0.4134454\tbest: 0.4134396 (2296)\ttotal: 5m 23s\tremaining: 1h 51m 39s\n",
      "2350:\tlearn: 0.3748177\ttest: 0.4134622\tbest: 0.4134278 (2319)\ttotal: 5m 28s\tremaining: 1h 51m 2s\n",
      "2400:\tlearn: 0.3742367\ttest: 0.4134088\tbest: 0.4134059 (2397)\ttotal: 5m 35s\tremaining: 1h 50m 50s\n",
      "2450:\tlearn: 0.3737877\ttest: 0.4134145\tbest: 0.4134034 (2423)\ttotal: 5m 40s\tremaining: 1h 50m 9s\n",
      "2500:\tlearn: 0.3732716\ttest: 0.4134120\tbest: 0.4133983 (2472)\ttotal: 5m 45s\tremaining: 1h 49m 20s\n",
      "2550:\tlearn: 0.3726560\ttest: 0.4133984\tbest: 0.4133930 (2537)\ttotal: 5m 49s\tremaining: 1h 48m 27s\n",
      "2600:\tlearn: 0.3719547\ttest: 0.4133674\tbest: 0.4133654 (2595)\ttotal: 5m 54s\tremaining: 1h 47m 42s\n",
      "2650:\tlearn: 0.3713116\ttest: 0.4133224\tbest: 0.4133122 (2625)\ttotal: 5m 59s\tremaining: 1h 46m 52s\n",
      "2700:\tlearn: 0.3705918\ttest: 0.4133404\tbest: 0.4133122 (2625)\ttotal: 6m 3s\tremaining: 1h 46m 2s\n",
      "2750:\tlearn: 0.3698856\ttest: 0.4133320\tbest: 0.4133104 (2732)\ttotal: 6m 11s\tremaining: 1h 46m 22s\n",
      "2800:\tlearn: 0.3691993\ttest: 0.4132974\tbest: 0.4132901 (2785)\ttotal: 6m 20s\tremaining: 1h 47m\n",
      "2850:\tlearn: 0.3685264\ttest: 0.4133340\tbest: 0.4132845 (2805)\ttotal: 6m 29s\tremaining: 1h 47m 28s\n",
      "2900:\tlearn: 0.3677990\ttest: 0.4133495\tbest: 0.4132845 (2805)\ttotal: 6m 37s\tremaining: 1h 47m 41s\n",
      "2950:\tlearn: 0.3672108\ttest: 0.4133411\tbest: 0.4132845 (2805)\ttotal: 6m 42s\tremaining: 1h 47m 3s\n",
      "3000:\tlearn: 0.3666326\ttest: 0.4132905\tbest: 0.4132845 (2805)\ttotal: 6m 48s\tremaining: 1h 46m 37s\n",
      "Stopped by overfitting detector  (200 iterations wait)\n",
      "\n",
      "bestTest = 0.4132845101\n",
      "bestIteration = 2805\n",
      "\n",
      "Shrink model to first 2806 iterations.\n",
      "0:\tlearn: 0.6866752\ttest: 0.6865758\tbest: 0.6865758 (0)\ttotal: 123ms\tremaining: 1h 42m 14s\n",
      "50:\tlearn: 0.5101618\ttest: 0.5079858\tbest: 0.5079858 (50)\ttotal: 7.02s\tremaining: 1h 54m 37s\n",
      "100:\tlearn: 0.4556379\ttest: 0.4526271\tbest: 0.4526271 (100)\ttotal: 12.4s\tremaining: 1h 42m 31s\n",
      "150:\tlearn: 0.4343988\ttest: 0.4310955\tbest: 0.4310955 (150)\ttotal: 17.5s\tremaining: 1h 36m 6s\n",
      "200:\tlearn: 0.4242229\ttest: 0.4209310\tbest: 0.4209310 (200)\ttotal: 22.2s\tremaining: 1h 31m 50s\n",
      "250:\tlearn: 0.4183751\ttest: 0.4151559\tbest: 0.4151559 (250)\ttotal: 27.7s\tremaining: 1h 31m 31s\n",
      "300:\tlearn: 0.4145682\ttest: 0.4114960\tbest: 0.4114960 (300)\ttotal: 32.9s\tremaining: 1h 30m 27s\n",
      "350:\tlearn: 0.4118347\ttest: 0.4090248\tbest: 0.4090248 (350)\ttotal: 38.4s\tremaining: 1h 30m 25s\n",
      "400:\tlearn: 0.4096333\ttest: 0.4071591\tbest: 0.4071591 (400)\ttotal: 46.8s\tremaining: 1h 36m 33s\n",
      "450:\tlearn: 0.4079253\ttest: 0.4057969\tbest: 0.4057969 (450)\ttotal: 52.3s\tremaining: 1h 35m 43s\n",
      "500:\tlearn: 0.4063853\ttest: 0.4046904\tbest: 0.4046904 (500)\ttotal: 57.3s\tremaining: 1h 34m 25s\n",
      "550:\tlearn: 0.4050459\ttest: 0.4037696\tbest: 0.4037696 (550)\ttotal: 1m 2s\tremaining: 1h 34m 5s\n",
      "600:\tlearn: 0.4038711\ttest: 0.4029861\tbest: 0.4029861 (600)\ttotal: 1m 9s\tremaining: 1h 35m 40s\n",
      "650:\tlearn: 0.4027720\ttest: 0.4024398\tbest: 0.4024398 (650)\ttotal: 1m 15s\tremaining: 1h 35m 32s\n",
      "700:\tlearn: 0.4017198\ttest: 0.4018335\tbest: 0.4018335 (700)\ttotal: 1m 21s\tremaining: 1h 36m 5s\n",
      "750:\tlearn: 0.4007086\ttest: 0.4012654\tbest: 0.4012654 (750)\ttotal: 1m 30s\tremaining: 1h 38m 36s\n",
      "800:\tlearn: 0.3998451\ttest: 0.4007973\tbest: 0.4007973 (800)\ttotal: 1m 36s\tremaining: 1h 38m 30s\n",
      "850:\tlearn: 0.3989038\ttest: 0.4004367\tbest: 0.4004367 (850)\ttotal: 1m 42s\tremaining: 1h 38m 20s\n",
      "900:\tlearn: 0.3980873\ttest: 0.4001417\tbest: 0.4001417 (900)\ttotal: 1m 47s\tremaining: 1h 37m 36s\n",
      "950:\tlearn: 0.3972715\ttest: 0.3998522\tbest: 0.3998522 (950)\ttotal: 1m 54s\tremaining: 1h 38m 8s\n",
      "1000:\tlearn: 0.3965200\ttest: 0.3995609\tbest: 0.3995609 (1000)\ttotal: 2m\tremaining: 1h 38m 30s\n",
      "1050:\tlearn: 0.3956652\ttest: 0.3992387\tbest: 0.3992387 (1050)\ttotal: 2m 8s\tremaining: 1h 39m 26s\n",
      "1100:\tlearn: 0.3949651\ttest: 0.3989444\tbest: 0.3989444 (1100)\ttotal: 2m 16s\tremaining: 1h 41m 9s\n"
     ]
    },
    {
     "name": "stdout",
     "output_type": "stream",
     "text": [
      "1150:\tlearn: 0.3941932\ttest: 0.3987738\tbest: 0.3987728 (1148)\ttotal: 2m 23s\tremaining: 1h 41m 29s\n",
      "1200:\tlearn: 0.3934931\ttest: 0.3985937\tbest: 0.3985923 (1199)\ttotal: 2m 29s\tremaining: 1h 41m 32s\n",
      "1250:\tlearn: 0.3928711\ttest: 0.3984096\tbest: 0.3984096 (1250)\ttotal: 2m 35s\tremaining: 1h 40m 52s\n",
      "1300:\tlearn: 0.3921919\ttest: 0.3983036\tbest: 0.3983036 (1300)\ttotal: 2m 40s\tremaining: 1h 39m 58s\n",
      "1350:\tlearn: 0.3914893\ttest: 0.3981807\tbest: 0.3981807 (1350)\ttotal: 2m 45s\tremaining: 1h 39m 24s\n",
      "1400:\tlearn: 0.3906803\ttest: 0.3980712\tbest: 0.3980634 (1397)\ttotal: 2m 55s\tremaining: 1h 41m 18s\n",
      "1450:\tlearn: 0.3899412\ttest: 0.3980714\tbest: 0.3980294 (1426)\ttotal: 3m 1s\tremaining: 1h 41m 20s\n",
      "1500:\tlearn: 0.3891753\ttest: 0.3979845\tbest: 0.3979842 (1498)\ttotal: 3m 7s\tremaining: 1h 40m 52s\n",
      "1550:\tlearn: 0.3882925\ttest: 0.3978677\tbest: 0.3978642 (1549)\ttotal: 3m 12s\tremaining: 1h 40m 26s\n",
      "1600:\tlearn: 0.3874807\ttest: 0.3977400\tbest: 0.3977397 (1597)\ttotal: 3m 19s\tremaining: 1h 40m 17s\n",
      "1650:\tlearn: 0.3866972\ttest: 0.3976802\tbest: 0.3976729 (1649)\ttotal: 3m 24s\tremaining: 1h 39m 42s\n",
      "1700:\tlearn: 0.3859684\ttest: 0.3975799\tbest: 0.3975787 (1696)\ttotal: 3m 30s\tremaining: 1h 39m 39s\n",
      "1750:\tlearn: 0.3851824\ttest: 0.3974417\tbest: 0.3974417 (1750)\ttotal: 3m 37s\tremaining: 1h 40m 3s\n",
      "1800:\tlearn: 0.3844462\ttest: 0.3973604\tbest: 0.3973594 (1799)\ttotal: 3m 43s\tremaining: 1h 39m 51s\n",
      "1850:\tlearn: 0.3837645\ttest: 0.3973529\tbest: 0.3973413 (1844)\ttotal: 3m 49s\tremaining: 1h 39m 25s\n",
      "1900:\tlearn: 0.3830677\ttest: 0.3973126\tbest: 0.3973019 (1896)\ttotal: 3m 55s\tremaining: 1h 39m 16s\n",
      "1950:\tlearn: 0.3823157\ttest: 0.3973010\tbest: 0.3972903 (1934)\ttotal: 4m\tremaining: 1h 38m 47s\n",
      "2000:\tlearn: 0.3815779\ttest: 0.3972673\tbest: 0.3972673 (2000)\ttotal: 4m 6s\tremaining: 1h 38m 25s\n",
      "2050:\tlearn: 0.3808428\ttest: 0.3972278\tbest: 0.3972068 (2043)\ttotal: 4m 11s\tremaining: 1h 38m\n",
      "2100:\tlearn: 0.3800356\ttest: 0.3971939\tbest: 0.3971697 (2077)\ttotal: 4m 17s\tremaining: 1h 37m 49s\n",
      "2150:\tlearn: 0.3792723\ttest: 0.3972451\tbest: 0.3971697 (2077)\ttotal: 4m 23s\tremaining: 1h 37m 32s\n",
      "2200:\tlearn: 0.3784970\ttest: 0.3972009\tbest: 0.3971697 (2077)\ttotal: 4m 29s\tremaining: 1h 37m 30s\n",
      "2250:\tlearn: 0.3777373\ttest: 0.3971679\tbest: 0.3971557 (2234)\ttotal: 4m 36s\tremaining: 1h 37m 53s\n",
      "2300:\tlearn: 0.3769674\ttest: 0.3971787\tbest: 0.3971529 (2259)\ttotal: 4m 41s\tremaining: 1h 37m 18s\n",
      "2350:\tlearn: 0.3762384\ttest: 0.3971527\tbest: 0.3971527 (2350)\ttotal: 4m 46s\tremaining: 1h 36m 45s\n",
      "2400:\tlearn: 0.3754835\ttest: 0.3971630\tbest: 0.3971482 (2384)\ttotal: 4m 51s\tremaining: 1h 36m 10s\n",
      "2450:\tlearn: 0.3747288\ttest: 0.3971844\tbest: 0.3971482 (2384)\ttotal: 4m 55s\tremaining: 1h 35m 41s\n",
      "2500:\tlearn: 0.3739844\ttest: 0.3971231\tbest: 0.3971146 (2498)\ttotal: 5m 1s\tremaining: 1h 35m 18s\n",
      "2550:\tlearn: 0.3733059\ttest: 0.3971220\tbest: 0.3971123 (2509)\ttotal: 5m 6s\tremaining: 1h 35m 8s\n",
      "2600:\tlearn: 0.3725988\ttest: 0.3970999\tbest: 0.3970833 (2585)\ttotal: 5m 12s\tremaining: 1h 34m 46s\n",
      "2650:\tlearn: 0.3719268\ttest: 0.3970077\tbest: 0.3970077 (2650)\ttotal: 5m 17s\tremaining: 1h 34m 38s\n",
      "2700:\tlearn: 0.3712308\ttest: 0.3969485\tbest: 0.3969485 (2700)\ttotal: 5m 28s\tremaining: 1h 35m 47s\n",
      "2750:\tlearn: 0.3705992\ttest: 0.3969383\tbest: 0.3969015 (2730)\ttotal: 5m 37s\tremaining: 1h 36m 29s\n",
      "2800:\tlearn: 0.3699304\ttest: 0.3969800\tbest: 0.3969015 (2730)\ttotal: 5m 42s\tremaining: 1h 36m 17s\n",
      "2850:\tlearn: 0.3692595\ttest: 0.3969772\tbest: 0.3969015 (2730)\ttotal: 5m 47s\tremaining: 1h 35m 54s\n",
      "2900:\tlearn: 0.3685828\ttest: 0.3969847\tbest: 0.3969015 (2730)\ttotal: 5m 54s\tremaining: 1h 36m 2s\n",
      "Stopped by overfitting detector  (200 iterations wait)\n",
      "\n",
      "bestTest = 0.3969014583\n",
      "bestIteration = 2730\n",
      "\n",
      "Shrink model to first 2731 iterations.\n",
      "0:\tlearn: 0.6864826\ttest: 0.6864891\tbest: 0.6864891 (0)\ttotal: 137ms\tremaining: 1h 53m 56s\n",
      "50:\tlearn: 0.5093723\ttest: 0.5093792\tbest: 0.5093792 (50)\ttotal: 6.08s\tremaining: 1h 39m 17s\n",
      "100:\tlearn: 0.4548662\ttest: 0.4553053\tbest: 0.4553053 (100)\ttotal: 11.7s\tremaining: 1h 36m 39s\n",
      "150:\tlearn: 0.4336192\ttest: 0.4345468\tbest: 0.4345468 (150)\ttotal: 18.7s\tremaining: 1h 43m\n",
      "200:\tlearn: 0.4235423\ttest: 0.4248572\tbest: 0.4248572 (200)\ttotal: 25s\tremaining: 1h 43m 16s\n",
      "250:\tlearn: 0.4177184\ttest: 0.4196483\tbest: 0.4196483 (250)\ttotal: 30.2s\tremaining: 1h 39m 38s\n",
      "300:\tlearn: 0.4138447\ttest: 0.4163423\tbest: 0.4163423 (300)\ttotal: 35s\tremaining: 1h 36m 20s\n",
      "350:\tlearn: 0.4110613\ttest: 0.4141676\tbest: 0.4141676 (350)\ttotal: 40.5s\tremaining: 1h 35m 31s\n",
      "400:\tlearn: 0.4088196\ttest: 0.4125740\tbest: 0.4125740 (400)\ttotal: 50s\tremaining: 1h 43m 6s\n",
      "450:\tlearn: 0.4071376\ttest: 0.4114833\tbest: 0.4114833 (450)\ttotal: 56.4s\tremaining: 1h 43m 19s\n",
      "500:\tlearn: 0.4056094\ttest: 0.4106191\tbest: 0.4106191 (500)\ttotal: 1m 1s\tremaining: 1h 41m 21s\n",
      "550:\tlearn: 0.4042011\ttest: 0.4098726\tbest: 0.4098726 (550)\ttotal: 1m 7s\tremaining: 1h 41m 9s\n",
      "600:\tlearn: 0.4029399\ttest: 0.4092923\tbest: 0.4092891 (599)\ttotal: 1m 17s\tremaining: 1h 45m 33s\n",
      "650:\tlearn: 0.4018137\ttest: 0.4087351\tbest: 0.4087351 (650)\ttotal: 1m 23s\tremaining: 1h 44m 53s\n",
      "700:\tlearn: 0.4007699\ttest: 0.4082964\tbest: 0.4082964 (700)\ttotal: 1m 29s\tremaining: 1h 44m 27s\n",
      "750:\tlearn: 0.3997798\ttest: 0.4078834\tbest: 0.4078834 (750)\ttotal: 1m 34s\tremaining: 1h 42m 44s\n",
      "800:\tlearn: 0.3988410\ttest: 0.4075877\tbest: 0.4075850 (798)\ttotal: 1m 39s\tremaining: 1h 41m 29s\n",
      "850:\tlearn: 0.3978724\ttest: 0.4072496\tbest: 0.4072496 (850)\ttotal: 1m 46s\tremaining: 1h 42m 9s\n",
      "900:\tlearn: 0.3969535\ttest: 0.4069725\tbest: 0.4069725 (900)\ttotal: 1m 52s\tremaining: 1h 41m 46s\n",
      "950:\tlearn: 0.3960603\ttest: 0.4066965\tbest: 0.4066958 (948)\ttotal: 1m 56s\tremaining: 1h 40m 15s\n",
      "1000:\tlearn: 0.3952310\ttest: 0.4064557\tbest: 0.4064557 (1000)\ttotal: 2m 1s\tremaining: 1h 39m 16s\n",
      "1050:\tlearn: 0.3943406\ttest: 0.4062188\tbest: 0.4062188 (1050)\ttotal: 2m 6s\tremaining: 1h 38m 32s\n",
      "1100:\tlearn: 0.3934505\ttest: 0.4060438\tbest: 0.4060409 (1099)\ttotal: 2m 13s\tremaining: 1h 38m 56s\n",
      "1150:\tlearn: 0.3926089\ttest: 0.4058314\tbest: 0.4058314 (1150)\ttotal: 2m 21s\tremaining: 1h 39m 53s\n",
      "1200:\tlearn: 0.3917162\ttest: 0.4055920\tbest: 0.4055852 (1194)\ttotal: 2m 26s\tremaining: 1h 39m 9s\n",
      "1250:\tlearn: 0.3908531\ttest: 0.4054273\tbest: 0.4054273 (1250)\ttotal: 2m 31s\tremaining: 1h 38m 9s\n",
      "1300:\tlearn: 0.3899761\ttest: 0.4053420\tbest: 0.4053420 (1300)\ttotal: 2m 36s\tremaining: 1h 37m 21s\n",
      "1350:\tlearn: 0.3891507\ttest: 0.4051314\tbest: 0.4051314 (1350)\ttotal: 2m 40s\tremaining: 1h 36m 34s\n",
      "1400:\tlearn: 0.3883426\ttest: 0.4050149\tbest: 0.4050149 (1400)\ttotal: 2m 45s\tremaining: 1h 35m 57s\n",
      "1450:\tlearn: 0.3874677\ttest: 0.4049059\tbest: 0.4049029 (1448)\ttotal: 2m 51s\tremaining: 1h 35m 45s\n",
      "1500:\tlearn: 0.3866972\ttest: 0.4048024\tbest: 0.4047994 (1499)\ttotal: 2m 56s\tremaining: 1h 34m 55s\n",
      "1550:\tlearn: 0.3858655\ttest: 0.4046486\tbest: 0.4046384 (1549)\ttotal: 3m 1s\tremaining: 1h 34m 18s\n",
      "1600:\tlearn: 0.3850490\ttest: 0.4045975\tbest: 0.4045909 (1599)\ttotal: 3m 6s\tremaining: 1h 33m 59s\n",
      "1650:\tlearn: 0.3842301\ttest: 0.4045255\tbest: 0.4045255 (1650)\ttotal: 3m 11s\tremaining: 1h 33m 25s\n",
      "1700:\tlearn: 0.3834628\ttest: 0.4044686\tbest: 0.4044650 (1684)\ttotal: 3m 15s\tremaining: 1h 32m 39s\n",
      "1750:\tlearn: 0.3825667\ttest: 0.4044120\tbest: 0.4044077 (1746)\ttotal: 3m 20s\tremaining: 1h 31m 59s\n",
      "1800:\tlearn: 0.3817479\ttest: 0.4043484\tbest: 0.4043484 (1800)\ttotal: 3m 24s\tremaining: 1h 31m 19s\n",
      "1850:\tlearn: 0.3809922\ttest: 0.4043247\tbest: 0.4043139 (1844)\ttotal: 3m 29s\tremaining: 1h 30m 40s\n",
      "1900:\tlearn: 0.3802163\ttest: 0.4042933\tbest: 0.4042856 (1894)\ttotal: 3m 33s\tremaining: 1h 30m 2s\n",
      "1950:\tlearn: 0.3795911\ttest: 0.4042490\tbest: 0.4042466 (1949)\ttotal: 3m 37s\tremaining: 1h 29m 23s\n",
      "2000:\tlearn: 0.3788869\ttest: 0.4041829\tbest: 0.4041656 (1995)\ttotal: 3m 42s\tremaining: 1h 28m 47s\n",
      "2050:\tlearn: 0.3781694\ttest: 0.4041131\tbest: 0.4041118 (2047)\ttotal: 3m 46s\tremaining: 1h 28m 12s\n",
      "2100:\tlearn: 0.3774768\ttest: 0.4040931\tbest: 0.4040907 (2097)\ttotal: 3m 50s\tremaining: 1h 27m 39s\n",
      "2150:\tlearn: 0.3768100\ttest: 0.4040943\tbest: 0.4040907 (2097)\ttotal: 3m 55s\tremaining: 1h 27m 7s\n",
      "2200:\tlearn: 0.3761248\ttest: 0.4040157\tbest: 0.4040138 (2192)\ttotal: 3m 59s\tremaining: 1h 26m 37s\n",
      "2250:\tlearn: 0.3754761\ttest: 0.4039676\tbest: 0.4039577 (2239)\ttotal: 4m 3s\tremaining: 1h 26m 14s\n",
      "2300:\tlearn: 0.3749038\ttest: 0.4039387\tbest: 0.4039327 (2295)\ttotal: 4m 8s\tremaining: 1h 25m 44s\n",
      "2350:\tlearn: 0.3741935\ttest: 0.4038887\tbest: 0.4038843 (2331)\ttotal: 4m 12s\tremaining: 1h 25m 24s\n"
     ]
    },
    {
     "name": "stdout",
     "output_type": "stream",
     "text": [
      "2400:\tlearn: 0.3735271\ttest: 0.4039000\tbest: 0.4038629 (2372)\ttotal: 4m 17s\tremaining: 1h 24m 58s\n",
      "2450:\tlearn: 0.3729152\ttest: 0.4038795\tbest: 0.4038629 (2372)\ttotal: 4m 21s\tremaining: 1h 24m 32s\n",
      "2500:\tlearn: 0.3722604\ttest: 0.4038665\tbest: 0.4038566 (2497)\ttotal: 4m 25s\tremaining: 1h 24m 10s\n",
      "2550:\tlearn: 0.3716853\ttest: 0.4038070\tbest: 0.4038070 (2550)\ttotal: 4m 30s\tremaining: 1h 23m 46s\n",
      "2600:\tlearn: 0.3710463\ttest: 0.4037968\tbest: 0.4037653 (2576)\ttotal: 4m 34s\tremaining: 1h 23m 22s\n",
      "2650:\tlearn: 0.3704212\ttest: 0.4037786\tbest: 0.4037653 (2576)\ttotal: 4m 38s\tremaining: 1h 22m 59s\n",
      "2700:\tlearn: 0.3697428\ttest: 0.4037493\tbest: 0.4037330 (2683)\ttotal: 4m 43s\tremaining: 1h 22m 37s\n",
      "2750:\tlearn: 0.3691548\ttest: 0.4037289\tbest: 0.4037289 (2750)\ttotal: 4m 47s\tremaining: 1h 22m 16s\n",
      "2800:\tlearn: 0.3686162\ttest: 0.4037100\tbest: 0.4036990 (2768)\ttotal: 4m 51s\tremaining: 1h 21m 54s\n",
      "2850:\tlearn: 0.3680397\ttest: 0.4037273\tbest: 0.4036990 (2768)\ttotal: 4m 56s\tremaining: 1h 21m 35s\n",
      "2900:\tlearn: 0.3673802\ttest: 0.4037155\tbest: 0.4036990 (2768)\ttotal: 5m\tremaining: 1h 21m 16s\n",
      "2950:\tlearn: 0.3667435\ttest: 0.4037596\tbest: 0.4036961 (2906)\ttotal: 5m 4s\tremaining: 1h 20m 57s\n",
      "3000:\tlearn: 0.3662187\ttest: 0.4037462\tbest: 0.4036961 (2906)\ttotal: 5m 8s\tremaining: 1h 20m 38s\n",
      "3050:\tlearn: 0.3655758\ttest: 0.4037074\tbest: 0.4036961 (2906)\ttotal: 5m 13s\tremaining: 1h 20m 22s\n",
      "3100:\tlearn: 0.3648781\ttest: 0.4036936\tbest: 0.4036872 (3087)\ttotal: 5m 20s\tremaining: 1h 20m 50s\n",
      "3150:\tlearn: 0.3642372\ttest: 0.4037395\tbest: 0.4036758 (3105)\ttotal: 5m 26s\tremaining: 1h 20m 49s\n",
      "3200:\tlearn: 0.3635884\ttest: 0.4037310\tbest: 0.4036758 (3105)\ttotal: 5m 30s\tremaining: 1h 20m 36s\n",
      "3250:\tlearn: 0.3630140\ttest: 0.4037413\tbest: 0.4036758 (3105)\ttotal: 5m 35s\tremaining: 1h 20m 23s\n",
      "3300:\tlearn: 0.3624363\ttest: 0.4037444\tbest: 0.4036758 (3105)\ttotal: 5m 40s\tremaining: 1h 20m 10s\n",
      "Stopped by overfitting detector  (200 iterations wait)\n",
      "\n",
      "bestTest = 0.4036757631\n",
      "bestIteration = 3105\n",
      "\n",
      "Shrink model to first 3106 iterations.\n",
      "0:\tlearn: 0.6864826\ttest: 0.6869545\tbest: 0.6869545 (0)\ttotal: 96ms\tremaining: 1h 20m 2s\n",
      "50:\tlearn: 0.5083907\ttest: 0.5166167\tbest: 0.5166167 (50)\ttotal: 5.13s\tremaining: 1h 23m 40s\n",
      "100:\tlearn: 0.4544583\ttest: 0.4634854\tbest: 0.4634854 (100)\ttotal: 11s\tremaining: 1h 30m 53s\n",
      "150:\tlearn: 0.4329425\ttest: 0.4421170\tbest: 0.4421170 (150)\ttotal: 16.5s\tremaining: 1h 30m 54s\n",
      "200:\tlearn: 0.4228601\ttest: 0.4319201\tbest: 0.4319201 (200)\ttotal: 22.8s\tremaining: 1h 34m 12s\n",
      "250:\tlearn: 0.4168646\ttest: 0.4262411\tbest: 0.4262411 (250)\ttotal: 27.5s\tremaining: 1h 30m 57s\n",
      "300:\tlearn: 0.4130159\ttest: 0.4228633\tbest: 0.4228633 (300)\ttotal: 32.3s\tremaining: 1h 28m 46s\n",
      "350:\tlearn: 0.4101893\ttest: 0.4204652\tbest: 0.4204652 (350)\ttotal: 38.6s\tremaining: 1h 30m 59s\n",
      "400:\tlearn: 0.4080600\ttest: 0.4187933\tbest: 0.4187933 (400)\ttotal: 43.7s\tremaining: 1h 30m 3s\n",
      "450:\tlearn: 0.4063876\ttest: 0.4176003\tbest: 0.4176003 (450)\ttotal: 48.6s\tremaining: 1h 28m 54s\n",
      "500:\tlearn: 0.4048293\ttest: 0.4166835\tbest: 0.4166835 (500)\ttotal: 54.2s\tremaining: 1h 29m 16s\n",
      "550:\tlearn: 0.4034412\ttest: 0.4158365\tbest: 0.4158365 (550)\ttotal: 58.9s\tremaining: 1h 28m 8s\n",
      "600:\tlearn: 0.4021879\ttest: 0.4151600\tbest: 0.4151600 (600)\ttotal: 1m 5s\tremaining: 1h 29m 52s\n",
      "650:\tlearn: 0.4010590\ttest: 0.4146515\tbest: 0.4146515 (650)\ttotal: 1m 11s\tremaining: 1h 30m 22s\n",
      "700:\tlearn: 0.4000126\ttest: 0.4141507\tbest: 0.4141507 (700)\ttotal: 1m 18s\tremaining: 1h 32m 25s\n",
      "750:\tlearn: 0.3990105\ttest: 0.4137411\tbest: 0.4137411 (750)\ttotal: 1m 25s\tremaining: 1h 33m 27s\n",
      "800:\tlearn: 0.3981298\ttest: 0.4134222\tbest: 0.4134222 (800)\ttotal: 1m 32s\tremaining: 1h 34m 15s\n",
      "850:\tlearn: 0.3971563\ttest: 0.4131055\tbest: 0.4131055 (850)\ttotal: 1m 39s\tremaining: 1h 35m 44s\n",
      "900:\tlearn: 0.3962288\ttest: 0.4128188\tbest: 0.4128188 (900)\ttotal: 1m 47s\tremaining: 1h 37m 18s\n",
      "950:\tlearn: 0.3953830\ttest: 0.4125974\tbest: 0.4125974 (950)\ttotal: 1m 56s\tremaining: 1h 39m 45s\n",
      "1000:\tlearn: 0.3945870\ttest: 0.4124265\tbest: 0.4124265 (1000)\ttotal: 2m 2s\tremaining: 1h 39m 49s\n",
      "1050:\tlearn: 0.3937048\ttest: 0.4122400\tbest: 0.4122400 (1050)\ttotal: 2m 7s\tremaining: 1h 39m 16s\n",
      "1100:\tlearn: 0.3929122\ttest: 0.4120218\tbest: 0.4120217 (1099)\ttotal: 2m 15s\tremaining: 1h 39m 58s\n",
      "1150:\tlearn: 0.3920739\ttest: 0.4118664\tbest: 0.4118626 (1147)\ttotal: 2m 21s\tremaining: 1h 40m 12s\n",
      "1200:\tlearn: 0.3912633\ttest: 0.4117387\tbest: 0.4117365 (1198)\ttotal: 2m 29s\tremaining: 1h 41m\n",
      "1250:\tlearn: 0.3905357\ttest: 0.4115915\tbest: 0.4115915 (1250)\ttotal: 2m 35s\tremaining: 1h 41m 10s\n",
      "1300:\tlearn: 0.3897322\ttest: 0.4114617\tbest: 0.4114617 (1300)\ttotal: 2m 40s\tremaining: 1h 40m 15s\n",
      "1350:\tlearn: 0.3889455\ttest: 0.4113350\tbest: 0.4113350 (1350)\ttotal: 2m 45s\tremaining: 1h 39m 20s\n",
      "1400:\tlearn: 0.3881536\ttest: 0.4112907\tbest: 0.4112837 (1397)\ttotal: 2m 50s\tremaining: 1h 38m 42s\n",
      "1450:\tlearn: 0.3872960\ttest: 0.4111624\tbest: 0.4111624 (1450)\ttotal: 2m 57s\tremaining: 1h 38m 56s\n",
      "1500:\tlearn: 0.3864977\ttest: 0.4110745\tbest: 0.4110675 (1496)\ttotal: 3m 5s\tremaining: 1h 39m 40s\n",
      "1550:\tlearn: 0.3856651\ttest: 0.4110300\tbest: 0.4110198 (1527)\ttotal: 3m 10s\tremaining: 1h 39m 1s\n",
      "1600:\tlearn: 0.3848189\ttest: 0.4109764\tbest: 0.4109764 (1600)\ttotal: 3m 15s\tremaining: 1h 38m 43s\n",
      "1650:\tlearn: 0.3840104\ttest: 0.4109811\tbest: 0.4109433 (1640)\ttotal: 3m 20s\tremaining: 1h 37m 59s\n",
      "1700:\tlearn: 0.3832875\ttest: 0.4110126\tbest: 0.4109433 (1640)\ttotal: 3m 25s\tremaining: 1h 37m 14s\n",
      "1750:\tlearn: 0.3825068\ttest: 0.4110210\tbest: 0.4109433 (1640)\ttotal: 3m 30s\tremaining: 1h 36m 43s\n",
      "1800:\tlearn: 0.3817041\ttest: 0.4110059\tbest: 0.4109433 (1640)\ttotal: 3m 35s\tremaining: 1h 36m 14s\n",
      "Stopped by overfitting detector  (200 iterations wait)\n",
      "\n",
      "bestTest = 0.4109433134\n",
      "bestIteration = 1640\n",
      "\n",
      "Shrink model to first 1641 iterations.\n",
      "0:\tlearn: 0.6865872\ttest: 0.6868360\tbest: 0.6868360 (0)\ttotal: 97.9ms\tremaining: 1h 21m 36s\n",
      "50:\tlearn: 0.5096289\ttest: 0.5119244\tbest: 0.5119244 (50)\ttotal: 6.67s\tremaining: 1h 48m 56s\n",
      "100:\tlearn: 0.4551005\ttest: 0.4573049\tbest: 0.4573049 (100)\ttotal: 15.6s\tremaining: 2h 8m 39s\n",
      "150:\tlearn: 0.4341361\ttest: 0.4359666\tbest: 0.4359666 (150)\ttotal: 24s\tremaining: 2h 11m 55s\n",
      "200:\tlearn: 0.4239633\ttest: 0.4256934\tbest: 0.4256934 (200)\ttotal: 29.4s\tremaining: 2h 1m 27s\n",
      "250:\tlearn: 0.4180341\ttest: 0.4197897\tbest: 0.4197897 (250)\ttotal: 35.3s\tremaining: 1h 56m 36s\n",
      "300:\tlearn: 0.4142263\ttest: 0.4162260\tbest: 0.4162260 (300)\ttotal: 43s\tremaining: 1h 58m 13s\n",
      "350:\tlearn: 0.4114712\ttest: 0.4136730\tbest: 0.4136730 (350)\ttotal: 51.4s\tremaining: 2h 1m 13s\n",
      "400:\tlearn: 0.4092743\ttest: 0.4118925\tbest: 0.4118925 (400)\ttotal: 57.4s\tremaining: 1h 58m 14s\n",
      "450:\tlearn: 0.4076167\ttest: 0.4106149\tbest: 0.4106149 (450)\ttotal: 1m 3s\tremaining: 1h 56m 40s\n",
      "500:\tlearn: 0.4060606\ttest: 0.4094547\tbest: 0.4094547 (500)\ttotal: 1m 8s\tremaining: 1h 53m 21s\n",
      "550:\tlearn: 0.4046091\ttest: 0.4084465\tbest: 0.4084465 (550)\ttotal: 1m 14s\tremaining: 1h 50m 42s\n",
      "600:\tlearn: 0.4033107\ttest: 0.4076527\tbest: 0.4076527 (600)\ttotal: 1m 19s\tremaining: 1h 48m 48s\n",
      "650:\tlearn: 0.4022264\ttest: 0.4070312\tbest: 0.4070312 (650)\ttotal: 1m 24s\tremaining: 1h 46m 16s\n",
      "700:\tlearn: 0.4011813\ttest: 0.4064983\tbest: 0.4064983 (700)\ttotal: 1m 28s\tremaining: 1h 44m 2s\n",
      "750:\tlearn: 0.4001743\ttest: 0.4060201\tbest: 0.4060201 (750)\ttotal: 1m 33s\tremaining: 1h 42m 1s\n",
      "800:\tlearn: 0.3992593\ttest: 0.4055400\tbest: 0.4055400 (800)\ttotal: 1m 37s\tremaining: 1h 40m 18s\n",
      "850:\tlearn: 0.3983188\ttest: 0.4051720\tbest: 0.4051720 (850)\ttotal: 1m 42s\tremaining: 1h 38m 50s\n",
      "900:\tlearn: 0.3974505\ttest: 0.4048662\tbest: 0.4048662 (900)\ttotal: 1m 47s\tremaining: 1h 37m 23s\n",
      "950:\tlearn: 0.3966157\ttest: 0.4045548\tbest: 0.4045548 (950)\ttotal: 1m 52s\tremaining: 1h 36m 51s\n",
      "1000:\tlearn: 0.3958013\ttest: 0.4043593\tbest: 0.4043569 (999)\ttotal: 1m 57s\tremaining: 1h 35m 42s\n",
      "1050:\tlearn: 0.3949562\ttest: 0.4040716\tbest: 0.4040623 (1042)\ttotal: 2m 2s\tremaining: 1h 34m 54s\n",
      "1100:\tlearn: 0.3940850\ttest: 0.4038965\tbest: 0.4038923 (1096)\ttotal: 2m 6s\tremaining: 1h 33m 49s\n",
      "1150:\tlearn: 0.3931846\ttest: 0.4036381\tbest: 0.4036381 (1150)\ttotal: 2m 11s\tremaining: 1h 33m 12s\n",
      "1200:\tlearn: 0.3922063\ttest: 0.4034291\tbest: 0.4034291 (1200)\ttotal: 2m 16s\tremaining: 1h 32m 22s\n",
      "1250:\tlearn: 0.3912579\ttest: 0.4032089\tbest: 0.4031989 (1248)\ttotal: 2m 20s\tremaining: 1h 31m 31s\n",
      "1300:\tlearn: 0.3903249\ttest: 0.4030731\tbest: 0.4030724 (1298)\ttotal: 2m 26s\tremaining: 1h 31m 19s\n"
     ]
    },
    {
     "name": "stdout",
     "output_type": "stream",
     "text": [
      "1350:\tlearn: 0.3895231\ttest: 0.4029614\tbest: 0.4029570 (1346)\ttotal: 2m 32s\tremaining: 1h 31m 35s\n",
      "1400:\tlearn: 0.3886653\ttest: 0.4028985\tbest: 0.4028985 (1400)\ttotal: 2m 38s\tremaining: 1h 31m 47s\n",
      "1450:\tlearn: 0.3879055\ttest: 0.4028704\tbest: 0.4028458 (1434)\ttotal: 2m 47s\tremaining: 1h 33m 24s\n",
      "1500:\tlearn: 0.3871021\ttest: 0.4027871\tbest: 0.4027781 (1493)\ttotal: 2m 58s\tremaining: 1h 35m 58s\n",
      "1550:\tlearn: 0.3863678\ttest: 0.4026803\tbest: 0.4026644 (1544)\ttotal: 3m 8s\tremaining: 1h 37m 58s\n",
      "1600:\tlearn: 0.3856404\ttest: 0.4026536\tbest: 0.4026412 (1557)\ttotal: 3m 18s\tremaining: 1h 39m 58s\n",
      "1650:\tlearn: 0.3849771\ttest: 0.4026234\tbest: 0.4026213 (1647)\ttotal: 3m 24s\tremaining: 1h 39m 59s\n",
      "1700:\tlearn: 0.3842554\ttest: 0.4025723\tbest: 0.4025723 (1700)\ttotal: 3m 31s\tremaining: 1h 40m 15s\n",
      "1750:\tlearn: 0.3835052\ttest: 0.4025336\tbest: 0.4025314 (1713)\ttotal: 3m 39s\tremaining: 1h 40m 49s\n",
      "1800:\tlearn: 0.3827643\ttest: 0.4024796\tbest: 0.4024748 (1799)\ttotal: 3m 46s\tremaining: 1h 40m 57s\n",
      "1850:\tlearn: 0.3820315\ttest: 0.4023845\tbest: 0.4023837 (1848)\ttotal: 3m 55s\tremaining: 1h 42m 1s\n",
      "1900:\tlearn: 0.3813057\ttest: 0.4023767\tbest: 0.4023600 (1882)\ttotal: 4m 2s\tremaining: 1h 42m 23s\n",
      "1950:\tlearn: 0.3805636\ttest: 0.4022652\tbest: 0.4022652 (1950)\ttotal: 4m 7s\tremaining: 1h 41m 43s\n",
      "2000:\tlearn: 0.3797991\ttest: 0.4022549\tbest: 0.4022273 (1970)\ttotal: 4m 12s\tremaining: 1h 41m\n",
      "2050:\tlearn: 0.3791400\ttest: 0.4022493\tbest: 0.4022273 (1970)\ttotal: 4m 18s\tremaining: 1h 40m 54s\n",
      "2100:\tlearn: 0.3784693\ttest: 0.4022198\tbest: 0.4022103 (2070)\ttotal: 4m 27s\tremaining: 1h 41m 32s\n",
      "2150:\tlearn: 0.3777006\ttest: 0.4022076\tbest: 0.4021720 (2119)\ttotal: 4m 37s\tremaining: 1h 42m 48s\n",
      "2200:\tlearn: 0.3770404\ttest: 0.4022019\tbest: 0.4021720 (2119)\ttotal: 4m 49s\tremaining: 1h 44m 53s\n",
      "2250:\tlearn: 0.3763525\ttest: 0.4021474\tbest: 0.4021438 (2249)\ttotal: 4m 56s\tremaining: 1h 44m 55s\n",
      "2300:\tlearn: 0.3757184\ttest: 0.4022161\tbest: 0.4021438 (2249)\ttotal: 5m 4s\tremaining: 1h 45m 3s\n",
      "2350:\tlearn: 0.3750736\ttest: 0.4022012\tbest: 0.4021438 (2249)\ttotal: 5m 14s\tremaining: 1h 46m 13s\n",
      "2400:\tlearn: 0.3744338\ttest: 0.4021914\tbest: 0.4021438 (2249)\ttotal: 5m 23s\tremaining: 1h 46m 53s\n",
      "Stopped by overfitting detector  (200 iterations wait)\n",
      "\n",
      "bestTest = 0.402143774\n",
      "bestIteration = 2249\n",
      "\n",
      "Shrink model to first 2250 iterations.\n",
      "0:\tlearn: 0.6866038\ttest: 0.6868436\tbest: 0.6868436 (0)\ttotal: 135ms\tremaining: 1h 52m 45s\n",
      "50:\tlearn: 0.5097075\ttest: 0.5134120\tbest: 0.5134120 (50)\ttotal: 7.95s\tremaining: 2h 9m 48s\n",
      "100:\tlearn: 0.4547917\ttest: 0.4587042\tbest: 0.4587042 (100)\ttotal: 17.9s\tremaining: 2h 27m 20s\n",
      "150:\tlearn: 0.4336061\ttest: 0.4376057\tbest: 0.4376057 (150)\ttotal: 28.2s\tremaining: 2h 35m 7s\n",
      "200:\tlearn: 0.4234139\ttest: 0.4274086\tbest: 0.4274086 (200)\ttotal: 35s\tremaining: 2h 24m 37s\n",
      "250:\tlearn: 0.4175019\ttest: 0.4218170\tbest: 0.4218170 (250)\ttotal: 41.2s\tremaining: 2h 16m 14s\n",
      "300:\tlearn: 0.4136564\ttest: 0.4183287\tbest: 0.4183287 (300)\ttotal: 49.2s\tremaining: 2h 15m 31s\n",
      "350:\tlearn: 0.4109554\ttest: 0.4158371\tbest: 0.4158371 (350)\ttotal: 56.4s\tremaining: 2h 13m 4s\n",
      "400:\tlearn: 0.4087308\ttest: 0.4139908\tbest: 0.4139908 (400)\ttotal: 1m 4s\tremaining: 2h 13m 42s\n",
      "450:\tlearn: 0.4070464\ttest: 0.4127478\tbest: 0.4127478 (450)\ttotal: 1m 11s\tremaining: 2h 11m 44s\n",
      "500:\tlearn: 0.4055131\ttest: 0.4116818\tbest: 0.4116818 (500)\ttotal: 1m 19s\tremaining: 2h 11m 16s\n",
      "550:\tlearn: 0.4041232\ttest: 0.4108439\tbest: 0.4108439 (550)\ttotal: 1m 26s\tremaining: 2h 9m 32s\n",
      "600:\tlearn: 0.4028759\ttest: 0.4100797\tbest: 0.4100797 (600)\ttotal: 1m 34s\tremaining: 2h 9m 12s\n",
      "650:\tlearn: 0.4017012\ttest: 0.4094922\tbest: 0.4094922 (650)\ttotal: 1m 42s\tremaining: 2h 9m 56s\n",
      "700:\tlearn: 0.4006714\ttest: 0.4089430\tbest: 0.4089430 (700)\ttotal: 1m 51s\tremaining: 2h 10m 23s\n",
      "750:\tlearn: 0.3996437\ttest: 0.4085345\tbest: 0.4085345 (750)\ttotal: 1m 59s\tremaining: 2h 10m 42s\n",
      "800:\tlearn: 0.3987713\ttest: 0.4082122\tbest: 0.4082122 (800)\ttotal: 2m 6s\tremaining: 2h 9m 34s\n",
      "850:\tlearn: 0.3978421\ttest: 0.4077266\tbest: 0.4077266 (850)\ttotal: 2m 15s\tremaining: 2h 10m 8s\n",
      "900:\tlearn: 0.3969723\ttest: 0.4073777\tbest: 0.4073777 (900)\ttotal: 2m 25s\tremaining: 2h 12m 11s\n",
      "950:\tlearn: 0.3961440\ttest: 0.4071259\tbest: 0.4071259 (950)\ttotal: 2m 37s\tremaining: 2h 15m 10s\n",
      "1000:\tlearn: 0.3953051\ttest: 0.4068902\tbest: 0.4068902 (1000)\ttotal: 2m 45s\tremaining: 2h 15m 7s\n",
      "1050:\tlearn: 0.3944659\ttest: 0.4067259\tbest: 0.4067259 (1050)\ttotal: 2m 55s\tremaining: 2h 16m 30s\n",
      "1100:\tlearn: 0.3936720\ttest: 0.4065267\tbest: 0.4065233 (1095)\ttotal: 3m 7s\tremaining: 2h 18m 53s\n",
      "1150:\tlearn: 0.3928492\ttest: 0.4063511\tbest: 0.4063509 (1149)\ttotal: 3m 17s\tremaining: 2h 19m 26s\n",
      "1200:\tlearn: 0.3920900\ttest: 0.4062137\tbest: 0.4062137 (1200)\ttotal: 3m 25s\tremaining: 2h 19m 4s\n",
      "1250:\tlearn: 0.3913429\ttest: 0.4060477\tbest: 0.4060477 (1250)\ttotal: 3m 36s\tremaining: 2h 20m 45s\n",
      "1300:\tlearn: 0.3904729\ttest: 0.4059362\tbest: 0.4059257 (1296)\ttotal: 3m 47s\tremaining: 2h 21m 59s\n",
      "1350:\tlearn: 0.3896879\ttest: 0.4058192\tbest: 0.4058126 (1346)\ttotal: 3m 58s\tremaining: 2h 22m 50s\n",
      "1400:\tlearn: 0.3889110\ttest: 0.4056991\tbest: 0.4056877 (1392)\ttotal: 4m 9s\tremaining: 2h 24m 21s\n",
      "1450:\tlearn: 0.3881362\ttest: 0.4055735\tbest: 0.4055735 (1450)\ttotal: 4m 17s\tremaining: 2h 23m 27s\n",
      "1500:\tlearn: 0.3873962\ttest: 0.4054598\tbest: 0.4054572 (1498)\ttotal: 4m 25s\tremaining: 2h 23m 14s\n",
      "1550:\tlearn: 0.3866001\ttest: 0.4052989\tbest: 0.4052989 (1550)\ttotal: 4m 33s\tremaining: 2h 22m 23s\n",
      "1600:\tlearn: 0.3857765\ttest: 0.4052195\tbest: 0.4052187 (1598)\ttotal: 4m 42s\tremaining: 2h 22m 12s\n",
      "1650:\tlearn: 0.3850105\ttest: 0.4051523\tbest: 0.4051408 (1644)\ttotal: 4m 50s\tremaining: 2h 21m 53s\n",
      "1700:\tlearn: 0.3842225\ttest: 0.4050830\tbest: 0.4050759 (1693)\ttotal: 4m 59s\tremaining: 2h 21m 51s\n",
      "1750:\tlearn: 0.3834273\ttest: 0.4050073\tbest: 0.4050040 (1743)\ttotal: 5m 8s\tremaining: 2h 21m 52s\n",
      "1800:\tlearn: 0.3826739\ttest: 0.4049198\tbest: 0.4049195 (1795)\ttotal: 5m 20s\tremaining: 2h 22m 49s\n",
      "1850:\tlearn: 0.3819575\ttest: 0.4048857\tbest: 0.4048716 (1814)\ttotal: 5m 33s\tremaining: 2h 24m 33s\n",
      "1900:\tlearn: 0.3812021\ttest: 0.4048507\tbest: 0.4048335 (1884)\ttotal: 5m 45s\tremaining: 2h 25m 38s\n",
      "1950:\tlearn: 0.3804728\ttest: 0.4047972\tbest: 0.4047756 (1938)\ttotal: 5m 57s\tremaining: 2h 26m 33s\n",
      "2000:\tlearn: 0.3797363\ttest: 0.4047445\tbest: 0.4047189 (1997)\ttotal: 6m 5s\tremaining: 2h 26m 18s\n",
      "2050:\tlearn: 0.3790775\ttest: 0.4046765\tbest: 0.4046765 (2050)\ttotal: 6m 14s\tremaining: 2h 25m 48s\n",
      "2100:\tlearn: 0.3783873\ttest: 0.4045754\tbest: 0.4045728 (2099)\ttotal: 6m 24s\tremaining: 2h 26m\n",
      "2150:\tlearn: 0.3777638\ttest: 0.4045298\tbest: 0.4045265 (2145)\ttotal: 6m 31s\tremaining: 2h 25m 16s\n",
      "2200:\tlearn: 0.3770929\ttest: 0.4045363\tbest: 0.4045150 (2161)\ttotal: 6m 38s\tremaining: 2h 24m 10s\n",
      "2250:\tlearn: 0.3764856\ttest: 0.4044928\tbest: 0.4044914 (2245)\ttotal: 6m 44s\tremaining: 2h 23m 1s\n",
      "2300:\tlearn: 0.3757966\ttest: 0.4044730\tbest: 0.4044561 (2282)\ttotal: 6m 50s\tremaining: 2h 21m 56s\n",
      "2350:\tlearn: 0.3751401\ttest: 0.4044576\tbest: 0.4044556 (2346)\ttotal: 6m 57s\tremaining: 2h 20m 54s\n",
      "2400:\tlearn: 0.3744913\ttest: 0.4044471\tbest: 0.4044445 (2395)\ttotal: 7m 3s\tremaining: 2h 19m 54s\n",
      "2450:\tlearn: 0.3738889\ttest: 0.4044684\tbest: 0.4044309 (2411)\ttotal: 7m 9s\tremaining: 2h 18m 54s\n",
      "2500:\tlearn: 0.3732716\ttest: 0.4045034\tbest: 0.4044309 (2411)\ttotal: 7m 16s\tremaining: 2h 18m 6s\n",
      "2550:\tlearn: 0.3725859\ttest: 0.4044689\tbest: 0.4044309 (2411)\ttotal: 7m 25s\tremaining: 2h 17m 59s\n",
      "2600:\tlearn: 0.3719316\ttest: 0.4045157\tbest: 0.4044309 (2411)\ttotal: 7m 35s\tremaining: 2h 18m 16s\n",
      "Stopped by overfitting detector  (200 iterations wait)\n",
      "\n",
      "bestTest = 0.4044309373\n",
      "bestIteration = 2411\n",
      "\n",
      "Shrink model to first 2412 iterations.\n",
      "0:\tlearn: 0.6865515\ttest: 0.6870386\tbest: 0.6870386 (0)\ttotal: 203ms\tremaining: 2h 48m 55s\n",
      "50:\tlearn: 0.5081666\ttest: 0.5198258\tbest: 0.5198258 (50)\ttotal: 9.84s\tremaining: 2h 40m 33s\n",
      "100:\tlearn: 0.4525785\ttest: 0.4684942\tbest: 0.4684942 (100)\ttotal: 20.6s\tremaining: 2h 49m 49s\n",
      "150:\tlearn: 0.4311790\ttest: 0.4495874\tbest: 0.4495874 (150)\ttotal: 29.1s\tremaining: 2h 40m 21s\n",
      "200:\tlearn: 0.4208438\ttest: 0.4412264\tbest: 0.4412264 (200)\ttotal: 39.1s\tremaining: 2h 41m 31s\n",
      "250:\tlearn: 0.4150958\ttest: 0.4370348\tbest: 0.4370348 (250)\ttotal: 52.3s\tremaining: 2h 52m 51s\n",
      "300:\tlearn: 0.4114230\ttest: 0.4346299\tbest: 0.4346299 (300)\ttotal: 1m 5s\tremaining: 3h 59s\n"
     ]
    },
    {
     "name": "stdout",
     "output_type": "stream",
     "text": [
      "350:\tlearn: 0.4085887\ttest: 0.4330733\tbest: 0.4330733 (350)\ttotal: 1m 18s\tremaining: 3h 5m 43s\n",
      "400:\tlearn: 0.4065398\ttest: 0.4320235\tbest: 0.4320235 (400)\ttotal: 1m 30s\tremaining: 3h 6m 53s\n",
      "450:\tlearn: 0.4048051\ttest: 0.4312875\tbest: 0.4312875 (450)\ttotal: 1m 41s\tremaining: 3h 6m 44s\n",
      "500:\tlearn: 0.4032988\ttest: 0.4306306\tbest: 0.4306306 (500)\ttotal: 1m 51s\tremaining: 3h 3m 10s\n",
      "550:\tlearn: 0.4018898\ttest: 0.4300959\tbest: 0.4300959 (550)\ttotal: 2m 3s\tremaining: 3h 4m 21s\n",
      "600:\tlearn: 0.4006231\ttest: 0.4295905\tbest: 0.4295905 (600)\ttotal: 2m 12s\tremaining: 3h 1m 26s\n",
      "650:\tlearn: 0.3995305\ttest: 0.4291984\tbest: 0.4291976 (649)\ttotal: 2m 22s\tremaining: 3h 10s\n",
      "700:\tlearn: 0.3984245\ttest: 0.4288719\tbest: 0.4288719 (700)\ttotal: 2m 35s\tremaining: 3h 1m 43s\n",
      "750:\tlearn: 0.3974535\ttest: 0.4285457\tbest: 0.4285457 (750)\ttotal: 2m 44s\tremaining: 3h 8s\n",
      "800:\tlearn: 0.3964801\ttest: 0.4282722\tbest: 0.4282722 (800)\ttotal: 2m 53s\tremaining: 2h 57m 52s\n",
      "850:\tlearn: 0.3956160\ttest: 0.4280950\tbest: 0.4280909 (847)\ttotal: 3m 2s\tremaining: 2h 55m 51s\n",
      "900:\tlearn: 0.3946846\ttest: 0.4278243\tbest: 0.4278243 (900)\ttotal: 3m 12s\tremaining: 2h 54m 49s\n",
      "950:\tlearn: 0.3938264\ttest: 0.4276760\tbest: 0.4276757 (948)\ttotal: 3m 20s\tremaining: 2h 52m 39s\n",
      "1000:\tlearn: 0.3930410\ttest: 0.4274698\tbest: 0.4274698 (1000)\ttotal: 3m 29s\tremaining: 2h 51m 9s\n",
      "1050:\tlearn: 0.3921870\ttest: 0.4272712\tbest: 0.4272623 (1049)\ttotal: 3m 38s\tremaining: 2h 49m 19s\n",
      "1100:\tlearn: 0.3913477\ttest: 0.4270588\tbest: 0.4270588 (1100)\ttotal: 3m 46s\tremaining: 2h 48m 1s\n",
      "1150:\tlearn: 0.3904645\ttest: 0.4268009\tbest: 0.4268009 (1150)\ttotal: 3m 55s\tremaining: 2h 46m 35s\n",
      "1200:\tlearn: 0.3896867\ttest: 0.4266052\tbest: 0.4266052 (1200)\ttotal: 4m 4s\tremaining: 2h 45m 27s\n",
      "1250:\tlearn: 0.3889780\ttest: 0.4264702\tbest: 0.4264675 (1244)\ttotal: 4m 13s\tremaining: 2h 44m 30s\n",
      "1300:\tlearn: 0.3882335\ttest: 0.4263845\tbest: 0.4263845 (1300)\ttotal: 4m 21s\tremaining: 2h 43m 22s\n",
      "1350:\tlearn: 0.3874047\ttest: 0.4262017\tbest: 0.4262017 (1350)\ttotal: 4m 30s\tremaining: 2h 42m 16s\n",
      "1400:\tlearn: 0.3865691\ttest: 0.4261513\tbest: 0.4261513 (1400)\ttotal: 4m 39s\tremaining: 2h 41m 40s\n",
      "1450:\tlearn: 0.3858022\ttest: 0.4260614\tbest: 0.4260479 (1430)\ttotal: 4m 47s\tremaining: 2h 40m 32s\n",
      "1500:\tlearn: 0.3849789\ttest: 0.4260310\tbest: 0.4260236 (1497)\ttotal: 4m 55s\tremaining: 2h 39m 21s\n",
      "1550:\tlearn: 0.3841281\ttest: 0.4258757\tbest: 0.4258674 (1544)\ttotal: 5m 5s\tremaining: 2h 39m 1s\n",
      "1600:\tlearn: 0.3832812\ttest: 0.4258236\tbest: 0.4258201 (1598)\ttotal: 5m 16s\tremaining: 2h 39m 20s\n",
      "1650:\tlearn: 0.3824494\ttest: 0.4257788\tbest: 0.4257788 (1650)\ttotal: 5m 29s\tremaining: 2h 40m 58s\n",
      "1700:\tlearn: 0.3816450\ttest: 0.4257279\tbest: 0.4257177 (1699)\ttotal: 5m 40s\tremaining: 2h 41m 4s\n",
      "1750:\tlearn: 0.3809000\ttest: 0.4257371\tbest: 0.4256969 (1716)\ttotal: 5m 49s\tremaining: 2h 40m 31s\n",
      "1800:\tlearn: 0.3801790\ttest: 0.4257376\tbest: 0.4256969 (1716)\ttotal: 5m 56s\tremaining: 2h 38m 54s\n",
      "1850:\tlearn: 0.3794234\ttest: 0.4257201\tbest: 0.4256969 (1716)\ttotal: 6m 2s\tremaining: 2h 37m 14s\n",
      "1900:\tlearn: 0.3786835\ttest: 0.4257047\tbest: 0.4256741 (1893)\ttotal: 6m 8s\tremaining: 2h 35m 18s\n",
      "1950:\tlearn: 0.3779546\ttest: 0.4256573\tbest: 0.4256483 (1942)\ttotal: 6m 13s\tremaining: 2h 33m 29s\n",
      "2000:\tlearn: 0.3772052\ttest: 0.4256250\tbest: 0.4256196 (1998)\ttotal: 6m 19s\tremaining: 2h 31m 43s\n",
      "2050:\tlearn: 0.3765202\ttest: 0.4256720\tbest: 0.4256012 (2006)\ttotal: 6m 24s\tremaining: 2h 30m\n",
      "2100:\tlearn: 0.3758280\ttest: 0.4256440\tbest: 0.4256012 (2006)\ttotal: 6m 30s\tremaining: 2h 28m 22s\n",
      "2150:\tlearn: 0.3750953\ttest: 0.4256896\tbest: 0.4256012 (2006)\ttotal: 6m 36s\tremaining: 2h 27m\n",
      "2200:\tlearn: 0.3743220\ttest: 0.4256748\tbest: 0.4256012 (2006)\ttotal: 6m 42s\tremaining: 2h 25m 33s\n",
      "Stopped by overfitting detector  (200 iterations wait)\n",
      "\n",
      "bestTest = 0.4256011981\n",
      "bestIteration = 2006\n",
      "\n",
      "Shrink model to first 2007 iterations.\n",
      "0:\tlearn: 0.6867788\ttest: 0.6869487\tbest: 0.6869487 (0)\ttotal: 118ms\tremaining: 1h 37m 59s\n",
      "50:\tlearn: 0.5090165\ttest: 0.5115507\tbest: 0.5115507 (50)\ttotal: 6.18s\tremaining: 1h 40m 55s\n",
      "100:\tlearn: 0.4548637\ttest: 0.4573824\tbest: 0.4573824 (100)\ttotal: 12.1s\tremaining: 1h 39m 30s\n",
      "150:\tlearn: 0.4335650\ttest: 0.4358887\tbest: 0.4358887 (150)\ttotal: 18s\tremaining: 1h 39m 8s\n",
      "200:\tlearn: 0.4234846\ttest: 0.4256513\tbest: 0.4256513 (200)\ttotal: 23.7s\tremaining: 1h 37m 58s\n",
      "250:\tlearn: 0.4175890\ttest: 0.4199756\tbest: 0.4199756 (250)\ttotal: 29.4s\tremaining: 1h 37m 3s\n",
      "300:\tlearn: 0.4137458\ttest: 0.4164709\tbest: 0.4164709 (300)\ttotal: 35s\tremaining: 1h 36m 20s\n",
      "350:\tlearn: 0.4110944\ttest: 0.4143179\tbest: 0.4143179 (350)\ttotal: 40.7s\tremaining: 1h 35m 52s\n",
      "400:\tlearn: 0.4088898\ttest: 0.4125991\tbest: 0.4125991 (400)\ttotal: 46.3s\tremaining: 1h 35m 29s\n",
      "450:\tlearn: 0.4072461\ttest: 0.4114413\tbest: 0.4114413 (450)\ttotal: 52.4s\tremaining: 1h 35m 54s\n",
      "500:\tlearn: 0.4056960\ttest: 0.4104447\tbest: 0.4104447 (500)\ttotal: 58.3s\tremaining: 1h 36m 4s\n",
      "550:\tlearn: 0.4043266\ttest: 0.4095386\tbest: 0.4095386 (550)\ttotal: 1m 4s\tremaining: 1h 35m 50s\n",
      "600:\tlearn: 0.4030930\ttest: 0.4089281\tbest: 0.4089281 (600)\ttotal: 1m 9s\tremaining: 1h 35m 34s\n",
      "650:\tlearn: 0.4020096\ttest: 0.4083471\tbest: 0.4083471 (650)\ttotal: 1m 15s\tremaining: 1h 35m 17s\n",
      "700:\tlearn: 0.4009961\ttest: 0.4077957\tbest: 0.4077957 (700)\ttotal: 1m 21s\tremaining: 1h 34m 57s\n",
      "750:\tlearn: 0.3999346\ttest: 0.4073142\tbest: 0.4073142 (750)\ttotal: 1m 26s\tremaining: 1h 34m 42s\n",
      "800:\tlearn: 0.3990525\ttest: 0.4069052\tbest: 0.4069052 (800)\ttotal: 1m 32s\tremaining: 1h 34m 26s\n",
      "850:\tlearn: 0.3981332\ttest: 0.4065250\tbest: 0.4065250 (850)\ttotal: 1m 37s\tremaining: 1h 34m 18s\n",
      "900:\tlearn: 0.3972594\ttest: 0.4061309\tbest: 0.4061273 (899)\ttotal: 1m 43s\tremaining: 1h 34m 4s\n",
      "950:\tlearn: 0.3964058\ttest: 0.4057827\tbest: 0.4057827 (950)\ttotal: 1m 49s\tremaining: 1h 33m 50s\n",
      "1000:\tlearn: 0.3955615\ttest: 0.4055447\tbest: 0.4055447 (1000)\ttotal: 1m 54s\tremaining: 1h 33m 47s\n",
      "1050:\tlearn: 0.3946822\ttest: 0.4052567\tbest: 0.4052567 (1050)\ttotal: 2m\tremaining: 1h 33m 36s\n",
      "1100:\tlearn: 0.3937875\ttest: 0.4049848\tbest: 0.4049848 (1100)\ttotal: 2m 6s\tremaining: 1h 33m 28s\n",
      "1150:\tlearn: 0.3928676\ttest: 0.4047899\tbest: 0.4047869 (1149)\ttotal: 2m 11s\tremaining: 1h 33m 21s\n",
      "1200:\tlearn: 0.3919075\ttest: 0.4045342\tbest: 0.4045312 (1199)\ttotal: 2m 17s\tremaining: 1h 33m 17s\n",
      "1250:\tlearn: 0.3910251\ttest: 0.4043398\tbest: 0.4043374 (1249)\ttotal: 2m 23s\tremaining: 1h 33m 7s\n",
      "1300:\tlearn: 0.3901211\ttest: 0.4042111\tbest: 0.4042111 (1300)\ttotal: 2m 29s\tremaining: 1h 33m 1s\n",
      "1350:\tlearn: 0.3893011\ttest: 0.4041046\tbest: 0.4040899 (1349)\ttotal: 2m 35s\tremaining: 1h 33m 15s\n",
      "1400:\tlearn: 0.3885064\ttest: 0.4040022\tbest: 0.4039967 (1396)\ttotal: 2m 41s\tremaining: 1h 33m 23s\n",
      "1450:\tlearn: 0.3877480\ttest: 0.4038532\tbest: 0.4038532 (1450)\ttotal: 2m 47s\tremaining: 1h 33m 10s\n",
      "1500:\tlearn: 0.3869575\ttest: 0.4037908\tbest: 0.4037848 (1488)\ttotal: 2m 52s\tremaining: 1h 32m 58s\n",
      "1550:\tlearn: 0.3861491\ttest: 0.4036804\tbest: 0.4036804 (1550)\ttotal: 2m 58s\tremaining: 1h 32m 47s\n",
      "1600:\tlearn: 0.3853018\ttest: 0.4035609\tbest: 0.4035609 (1600)\ttotal: 3m 4s\tremaining: 1h 32m 43s\n",
      "1650:\tlearn: 0.3845730\ttest: 0.4035433\tbest: 0.4035393 (1649)\ttotal: 3m 9s\tremaining: 1h 32m 18s\n",
      "1700:\tlearn: 0.3837519\ttest: 0.4034936\tbest: 0.4034936 (1700)\ttotal: 3m 14s\tremaining: 1h 32m 10s\n",
      "1750:\tlearn: 0.3830023\ttest: 0.4034692\tbest: 0.4034513 (1724)\ttotal: 3m 20s\tremaining: 1h 32m 4s\n",
      "1800:\tlearn: 0.3822183\ttest: 0.4034533\tbest: 0.4034513 (1724)\ttotal: 3m 26s\tremaining: 1h 31m 54s\n",
      "1850:\tlearn: 0.3815197\ttest: 0.4033936\tbest: 0.4033936 (1850)\ttotal: 3m 31s\tremaining: 1h 31m 43s\n",
      "1900:\tlearn: 0.3808648\ttest: 0.4033971\tbest: 0.4033896 (1855)\ttotal: 3m 37s\tremaining: 1h 31m 32s\n",
      "1950:\tlearn: 0.3800975\ttest: 0.4034073\tbest: 0.4033799 (1904)\ttotal: 3m 42s\tremaining: 1h 31m 22s\n",
      "2000:\tlearn: 0.3793419\ttest: 0.4033840\tbest: 0.4033799 (1904)\ttotal: 3m 48s\tremaining: 1h 31m 14s\n",
      "2050:\tlearn: 0.3786299\ttest: 0.4033636\tbest: 0.4033582 (2027)\ttotal: 3m 53s\tremaining: 1h 31m 4s\n",
      "2100:\tlearn: 0.3779040\ttest: 0.4033882\tbest: 0.4033582 (2027)\ttotal: 4m 1s\tremaining: 1h 31m 47s\n",
      "2150:\tlearn: 0.3772147\ttest: 0.4033942\tbest: 0.4033471 (2113)\ttotal: 4m 7s\tremaining: 1h 31m 41s\n",
      "2200:\tlearn: 0.3765488\ttest: 0.4033755\tbest: 0.4033471 (2113)\ttotal: 4m 12s\tremaining: 1h 31m 30s\n",
      "2250:\tlearn: 0.3759032\ttest: 0.4034177\tbest: 0.4033471 (2113)\ttotal: 4m 18s\tremaining: 1h 31m 22s\n"
     ]
    },
    {
     "name": "stdout",
     "output_type": "stream",
     "text": [
      "2300:\tlearn: 0.3752318\ttest: 0.4034215\tbest: 0.4033471 (2113)\ttotal: 4m 24s\tremaining: 1h 31m 13s\n",
      "Stopped by overfitting detector  (200 iterations wait)\n",
      "\n",
      "bestTest = 0.4033470711\n",
      "bestIteration = 2113\n",
      "\n",
      "Shrink model to first 2114 iterations.\n",
      "0:\tlearn: 0.6868015\ttest: 0.6856866\tbest: 0.6856866 (0)\ttotal: 116ms\tremaining: 1h 37m 2s\n",
      "50:\tlearn: 0.5114147\ttest: 0.4929472\tbest: 0.4929472 (50)\ttotal: 6.07s\tremaining: 1h 39m 7s\n",
      "100:\tlearn: 0.4565429\ttest: 0.4382473\tbest: 0.4382473 (100)\ttotal: 12s\tremaining: 1h 38m 52s\n",
      "150:\tlearn: 0.4351602\ttest: 0.4197247\tbest: 0.4197247 (150)\ttotal: 17.8s\tremaining: 1h 37m 43s\n",
      "200:\tlearn: 0.4248917\ttest: 0.4118303\tbest: 0.4118303 (200)\ttotal: 23.4s\tremaining: 1h 36m 49s\n",
      "250:\tlearn: 0.4187998\ttest: 0.4073599\tbest: 0.4073599 (250)\ttotal: 29.1s\tremaining: 1h 36m 12s\n",
      "300:\tlearn: 0.4150231\ttest: 0.4048346\tbest: 0.4048346 (300)\ttotal: 34.9s\tremaining: 1h 36m 6s\n",
      "350:\tlearn: 0.4122314\ttest: 0.4030785\tbest: 0.4030785 (350)\ttotal: 40.3s\tremaining: 1h 35m 2s\n",
      "400:\tlearn: 0.4101055\ttest: 0.4019271\tbest: 0.4019271 (400)\ttotal: 45.8s\tremaining: 1h 34m 20s\n",
      "450:\tlearn: 0.4083822\ttest: 0.4010387\tbest: 0.4010387 (450)\ttotal: 51.3s\tremaining: 1h 34m\n",
      "500:\tlearn: 0.4067958\ttest: 0.4002767\tbest: 0.4002767 (500)\ttotal: 56.9s\tremaining: 1h 33m 42s\n",
      "550:\tlearn: 0.4053487\ttest: 0.3996334\tbest: 0.3996334 (550)\ttotal: 1m 3s\tremaining: 1h 35m 9s\n",
      "600:\tlearn: 0.4040932\ttest: 0.3990220\tbest: 0.3990220 (600)\ttotal: 1m 9s\tremaining: 1h 35m 21s\n",
      "650:\tlearn: 0.4029902\ttest: 0.3985495\tbest: 0.3985495 (650)\ttotal: 1m 15s\tremaining: 1h 35m\n",
      "700:\tlearn: 0.4019174\ttest: 0.3981591\tbest: 0.3981591 (700)\ttotal: 1m 20s\tremaining: 1h 34m 39s\n",
      "750:\tlearn: 0.4008602\ttest: 0.3978758\tbest: 0.3978754 (748)\ttotal: 1m 26s\tremaining: 1h 34m 23s\n",
      "800:\tlearn: 0.3999109\ttest: 0.3976466\tbest: 0.3976466 (800)\ttotal: 1m 32s\tremaining: 1h 34m 12s\n",
      "850:\tlearn: 0.3989836\ttest: 0.3974469\tbest: 0.3974469 (850)\ttotal: 1m 37s\tremaining: 1h 33m 57s\n",
      "900:\tlearn: 0.3980894\ttest: 0.3973116\tbest: 0.3973086 (899)\ttotal: 1m 43s\tremaining: 1h 33m 42s\n",
      "950:\tlearn: 0.3972345\ttest: 0.3971884\tbest: 0.3971884 (950)\ttotal: 1m 48s\tremaining: 1h 33m 25s\n",
      "1000:\tlearn: 0.3963665\ttest: 0.3970675\tbest: 0.3970645 (997)\ttotal: 1m 54s\tremaining: 1h 33m 13s\n",
      "1050:\tlearn: 0.3954665\ttest: 0.3969147\tbest: 0.3969100 (1049)\ttotal: 1m 59s\tremaining: 1h 33m 2s\n",
      "1100:\tlearn: 0.3945693\ttest: 0.3967212\tbest: 0.3967212 (1100)\ttotal: 2m 5s\tremaining: 1h 32m 54s\n",
      "1150:\tlearn: 0.3937123\ttest: 0.3966434\tbest: 0.3966434 (1150)\ttotal: 2m 11s\tremaining: 1h 32m 44s\n",
      "1200:\tlearn: 0.3928284\ttest: 0.3966092\tbest: 0.3965960 (1184)\ttotal: 2m 16s\tremaining: 1h 32m 34s\n",
      "1250:\tlearn: 0.3920671\ttest: 0.3965994\tbest: 0.3965713 (1221)\ttotal: 2m 22s\tremaining: 1h 32m 22s\n",
      "1300:\tlearn: 0.3913026\ttest: 0.3965383\tbest: 0.3965325 (1293)\ttotal: 2m 27s\tremaining: 1h 32m 19s\n",
      "1350:\tlearn: 0.3905766\ttest: 0.3965311\tbest: 0.3965063 (1309)\ttotal: 2m 33s\tremaining: 1h 32m 5s\n",
      "1400:\tlearn: 0.3897911\ttest: 0.3965218\tbest: 0.3965063 (1309)\ttotal: 2m 39s\tremaining: 1h 32m 4s\n",
      "1450:\tlearn: 0.3890133\ttest: 0.3965596\tbest: 0.3965045 (1407)\ttotal: 2m 44s\tremaining: 1h 31m 36s\n",
      "1500:\tlearn: 0.3882823\ttest: 0.3965430\tbest: 0.3965045 (1407)\ttotal: 2m 49s\tremaining: 1h 31m 26s\n",
      "1550:\tlearn: 0.3875470\ttest: 0.3964847\tbest: 0.3964818 (1549)\ttotal: 2m 55s\tremaining: 1h 31m 14s\n",
      "1600:\tlearn: 0.3868061\ttest: 0.3964621\tbest: 0.3964621 (1600)\ttotal: 3m\tremaining: 1h 31m 3s\n",
      "1650:\tlearn: 0.3860338\ttest: 0.3964541\tbest: 0.3964445 (1629)\ttotal: 3m 6s\tremaining: 1h 30m 53s\n",
      "1700:\tlearn: 0.3852390\ttest: 0.3964581\tbest: 0.3963974 (1687)\ttotal: 3m 11s\tremaining: 1h 30m 47s\n",
      "1750:\tlearn: 0.3845117\ttest: 0.3964427\tbest: 0.3963974 (1687)\ttotal: 3m 17s\tremaining: 1h 30m 38s\n",
      "1800:\tlearn: 0.3837772\ttest: 0.3964445\tbest: 0.3963974 (1687)\ttotal: 3m 22s\tremaining: 1h 30m 30s\n",
      "1850:\tlearn: 0.3830754\ttest: 0.3964694\tbest: 0.3963974 (1687)\ttotal: 3m 28s\tremaining: 1h 30m 23s\n",
      "Stopped by overfitting detector  (200 iterations wait)\n",
      "\n",
      "bestTest = 0.3963974383\n",
      "bestIteration = 1687\n",
      "\n",
      "Shrink model to first 1688 iterations.\n",
      "0:\tlearn: 0.6865321\ttest: 0.6863467\tbest: 0.6863467 (0)\ttotal: 120ms\tremaining: 1h 39m 41s\n",
      "50:\tlearn: 0.5092729\ttest: 0.5079317\tbest: 0.5079317 (50)\ttotal: 6.13s\tremaining: 1h 40m 3s\n",
      "100:\tlearn: 0.4554293\ttest: 0.4542622\tbest: 0.4542622 (100)\ttotal: 12s\tremaining: 1h 39m 12s\n",
      "150:\tlearn: 0.4341765\ttest: 0.4332350\tbest: 0.4332350 (150)\ttotal: 17.8s\tremaining: 1h 38m 3s\n",
      "200:\tlearn: 0.4239640\ttest: 0.4235064\tbest: 0.4235064 (200)\ttotal: 23.6s\tremaining: 1h 37m 38s\n",
      "250:\tlearn: 0.4180770\ttest: 0.4181590\tbest: 0.4181590 (250)\ttotal: 29.3s\tremaining: 1h 36m 48s\n",
      "300:\tlearn: 0.4141667\ttest: 0.4146940\tbest: 0.4146940 (300)\ttotal: 35.1s\tremaining: 1h 36m 34s\n",
      "350:\tlearn: 0.4114183\ttest: 0.4124309\tbest: 0.4124309 (350)\ttotal: 42.8s\tremaining: 1h 40m 53s\n",
      "400:\tlearn: 0.4092979\ttest: 0.4108384\tbest: 0.4108384 (400)\ttotal: 51.8s\tremaining: 1h 46m 46s\n",
      "450:\tlearn: 0.4076446\ttest: 0.4097022\tbest: 0.4097022 (450)\ttotal: 1m\tremaining: 1h 50m 51s\n",
      "500:\tlearn: 0.4061362\ttest: 0.4086267\tbest: 0.4086267 (500)\ttotal: 1m 6s\tremaining: 1h 49m 50s\n",
      "550:\tlearn: 0.4047745\ttest: 0.4076287\tbest: 0.4076287 (550)\ttotal: 1m 11s\tremaining: 1h 47m 25s\n",
      "600:\tlearn: 0.4035541\ttest: 0.4066961\tbest: 0.4066961 (600)\ttotal: 1m 17s\tremaining: 1h 46m 3s\n",
      "650:\tlearn: 0.4024754\ttest: 0.4060549\tbest: 0.4060549 (650)\ttotal: 1m 22s\tremaining: 1h 44m 50s\n",
      "700:\tlearn: 0.4014749\ttest: 0.4054958\tbest: 0.4054958 (700)\ttotal: 1m 28s\tremaining: 1h 43m 46s\n",
      "750:\tlearn: 0.4005156\ttest: 0.4048918\tbest: 0.4048918 (750)\ttotal: 1m 34s\tremaining: 1h 42m 53s\n",
      "800:\tlearn: 0.3996242\ttest: 0.4043892\tbest: 0.4043892 (800)\ttotal: 1m 39s\tremaining: 1h 42m 10s\n",
      "850:\tlearn: 0.3986875\ttest: 0.4040803\tbest: 0.4040803 (850)\ttotal: 1m 46s\tremaining: 1h 42m 46s\n",
      "900:\tlearn: 0.3978242\ttest: 0.4037122\tbest: 0.4037122 (900)\ttotal: 1m 52s\tremaining: 1h 42m 2s\n",
      "950:\tlearn: 0.3970338\ttest: 0.4033849\tbest: 0.4033849 (950)\ttotal: 1m 58s\tremaining: 1h 41m 25s\n",
      "1000:\tlearn: 0.3962343\ttest: 0.4030946\tbest: 0.4030946 (1000)\ttotal: 2m 3s\tremaining: 1h 40m 54s\n",
      "1050:\tlearn: 0.3954535\ttest: 0.4027197\tbest: 0.4027197 (1050)\ttotal: 2m 9s\tremaining: 1h 40m 44s\n",
      "1100:\tlearn: 0.3946778\ttest: 0.4024672\tbest: 0.4024672 (1100)\ttotal: 2m 15s\tremaining: 1h 40m 22s\n",
      "1150:\tlearn: 0.3938188\ttest: 0.4021079\tbest: 0.4021079 (1150)\ttotal: 2m 21s\tremaining: 1h 40m 17s\n",
      "1200:\tlearn: 0.3930434\ttest: 0.4019005\tbest: 0.4019005 (1200)\ttotal: 2m 28s\tremaining: 1h 40m 42s\n",
      "1250:\tlearn: 0.3923448\ttest: 0.4017368\tbest: 0.4017349 (1246)\ttotal: 2m 34s\tremaining: 1h 40m 14s\n",
      "1300:\tlearn: 0.3915257\ttest: 0.4015589\tbest: 0.4015589 (1300)\ttotal: 2m 39s\tremaining: 1h 39m 43s\n",
      "1350:\tlearn: 0.3907638\ttest: 0.4013721\tbest: 0.4013721 (1350)\ttotal: 2m 45s\tremaining: 1h 39m 12s\n",
      "1400:\tlearn: 0.3899527\ttest: 0.4011629\tbest: 0.4011629 (1400)\ttotal: 2m 51s\tremaining: 1h 39m 1s\n",
      "1450:\tlearn: 0.3891641\ttest: 0.4009994\tbest: 0.4009992 (1448)\ttotal: 2m 57s\tremaining: 1h 39m 1s\n",
      "1500:\tlearn: 0.3883400\ttest: 0.4008629\tbest: 0.4008604 (1497)\ttotal: 3m 3s\tremaining: 1h 39m 1s\n",
      "1550:\tlearn: 0.3875314\ttest: 0.4007535\tbest: 0.4007509 (1549)\ttotal: 3m 10s\tremaining: 1h 39m 16s\n",
      "1600:\tlearn: 0.3866700\ttest: 0.4005957\tbest: 0.4005904 (1599)\ttotal: 3m 16s\tremaining: 1h 38m 48s\n",
      "1650:\tlearn: 0.3858687\ttest: 0.4005533\tbest: 0.4005173 (1641)\ttotal: 3m 21s\tremaining: 1h 38m 27s\n",
      "1700:\tlearn: 0.3850763\ttest: 0.4004262\tbest: 0.4004157 (1698)\ttotal: 3m 27s\tremaining: 1h 38m 3s\n",
      "1750:\tlearn: 0.3842112\ttest: 0.4003344\tbest: 0.4003344 (1750)\ttotal: 3m 33s\tremaining: 1h 38m 15s\n",
      "1800:\tlearn: 0.3833925\ttest: 0.4002471\tbest: 0.4002471 (1800)\ttotal: 3m 40s\tremaining: 1h 38m 20s\n",
      "1850:\tlearn: 0.3826009\ttest: 0.4002166\tbest: 0.4001996 (1816)\ttotal: 3m 45s\tremaining: 1h 37m 58s\n",
      "1900:\tlearn: 0.3818065\ttest: 0.4001138\tbest: 0.4001138 (1900)\ttotal: 3m 51s\tremaining: 1h 37m 39s\n",
      "1950:\tlearn: 0.3809896\ttest: 0.3999460\tbest: 0.3999398 (1948)\ttotal: 3m 57s\tremaining: 1h 37m 30s\n",
      "2000:\tlearn: 0.3802135\ttest: 0.3999542\tbest: 0.3999390 (1958)\ttotal: 4m 3s\tremaining: 1h 37m 14s\n",
      "2050:\tlearn: 0.3794062\ttest: 0.3999280\tbest: 0.3999145 (2019)\ttotal: 4m 8s\tremaining: 1h 36m 57s\n",
      "2100:\tlearn: 0.3786713\ttest: 0.3998593\tbest: 0.3998323 (2082)\ttotal: 4m 14s\tremaining: 1h 36m 40s\n",
      "2150:\tlearn: 0.3779258\ttest: 0.3997809\tbest: 0.3997764 (2131)\ttotal: 4m 20s\tremaining: 1h 36m 24s\n"
     ]
    },
    {
     "name": "stdout",
     "output_type": "stream",
     "text": [
      "2200:\tlearn: 0.3771787\ttest: 0.3997267\tbest: 0.3997267 (2200)\ttotal: 4m 25s\tremaining: 1h 36m 7s\n",
      "2250:\tlearn: 0.3764432\ttest: 0.3996279\tbest: 0.3996129 (2246)\ttotal: 4m 31s\tremaining: 1h 35m 50s\n",
      "2300:\tlearn: 0.3757330\ttest: 0.3995858\tbest: 0.3995838 (2299)\ttotal: 4m 36s\tremaining: 1h 35m 34s\n",
      "2350:\tlearn: 0.3750034\ttest: 0.3995432\tbest: 0.3995432 (2350)\ttotal: 4m 42s\tremaining: 1h 35m 17s\n",
      "2400:\tlearn: 0.3742966\ttest: 0.3995399\tbest: 0.3995376 (2392)\ttotal: 4m 47s\tremaining: 1h 35m 1s\n",
      "2450:\tlearn: 0.3735563\ttest: 0.3994527\tbest: 0.3994527 (2450)\ttotal: 4m 53s\tremaining: 1h 34m 45s\n",
      "2500:\tlearn: 0.3728233\ttest: 0.3994133\tbest: 0.3994133 (2500)\ttotal: 4m 59s\tremaining: 1h 34m 41s\n",
      "2550:\tlearn: 0.3720878\ttest: 0.3994041\tbest: 0.3993975 (2520)\ttotal: 5m 5s\tremaining: 1h 34m 44s\n",
      "2600:\tlearn: 0.3714031\ttest: 0.3993539\tbest: 0.3993397 (2586)\ttotal: 5m 11s\tremaining: 1h 34m 39s\n",
      "2650:\tlearn: 0.3706840\ttest: 0.3993116\tbest: 0.3993101 (2647)\ttotal: 5m 17s\tremaining: 1h 34m 25s\n",
      "2700:\tlearn: 0.3700184\ttest: 0.3992588\tbest: 0.3992512 (2698)\ttotal: 5m 22s\tremaining: 1h 34m 15s\n",
      "2750:\tlearn: 0.3693709\ttest: 0.3992942\tbest: 0.3992512 (2698)\ttotal: 5m 28s\tremaining: 1h 34m 2s\n",
      "2800:\tlearn: 0.3686757\ttest: 0.3992909\tbest: 0.3992512 (2698)\ttotal: 5m 34s\tremaining: 1h 33m 51s\n",
      "2850:\tlearn: 0.3679809\ttest: 0.3992489\tbest: 0.3992458 (2849)\ttotal: 5m 43s\tremaining: 1h 34m 40s\n",
      "2900:\tlearn: 0.3672788\ttest: 0.3992607\tbest: 0.3992265 (2869)\ttotal: 5m 49s\tremaining: 1h 34m 39s\n",
      "2950:\tlearn: 0.3666610\ttest: 0.3992574\tbest: 0.3992265 (2869)\ttotal: 5m 59s\tremaining: 1h 35m 26s\n",
      "3000:\tlearn: 0.3660134\ttest: 0.3992577\tbest: 0.3992265 (2869)\ttotal: 6m 8s\tremaining: 1h 36m 5s\n",
      "3050:\tlearn: 0.3653630\ttest: 0.3991847\tbest: 0.3991688 (3044)\ttotal: 6m 17s\tremaining: 1h 36m 48s\n",
      "3100:\tlearn: 0.3647980\ttest: 0.3991828\tbest: 0.3991563 (3070)\ttotal: 6m 26s\tremaining: 1h 37m 20s\n",
      "3150:\tlearn: 0.3642044\ttest: 0.3991422\tbest: 0.3991403 (3149)\ttotal: 6m 36s\tremaining: 1h 38m 21s\n",
      "3200:\tlearn: 0.3636781\ttest: 0.3990963\tbest: 0.3990963 (3200)\ttotal: 6m 46s\tremaining: 1h 39m 2s\n",
      "3250:\tlearn: 0.3631140\ttest: 0.3991168\tbest: 0.3990948 (3202)\ttotal: 6m 53s\tremaining: 1h 39m 7s\n",
      "3300:\tlearn: 0.3624881\ttest: 0.3991100\tbest: 0.3990930 (3259)\ttotal: 6m 59s\tremaining: 1h 38m 55s\n",
      "3350:\tlearn: 0.3619306\ttest: 0.3990428\tbest: 0.3990398 (3346)\ttotal: 7m 5s\tremaining: 1h 38m 44s\n",
      "3400:\tlearn: 0.3613552\ttest: 0.3990368\tbest: 0.3990220 (3362)\ttotal: 7m 11s\tremaining: 1h 38m 31s\n",
      "3450:\tlearn: 0.3607972\ttest: 0.3990852\tbest: 0.3990220 (3362)\ttotal: 7m 18s\tremaining: 1h 38m 38s\n",
      "3500:\tlearn: 0.3601867\ttest: 0.3991061\tbest: 0.3990220 (3362)\ttotal: 7m 28s\tremaining: 1h 39m 17s\n",
      "3550:\tlearn: 0.3595857\ttest: 0.3990889\tbest: 0.3990220 (3362)\ttotal: 7m 36s\tremaining: 1h 39m 36s\n",
      "Stopped by overfitting detector  (200 iterations wait)\n",
      "\n",
      "bestTest = 0.3990220482\n",
      "bestIteration = 3362\n",
      "\n",
      "Shrink model to first 3363 iterations.\n"
     ]
    }
   ],
   "source": [
    "kf = StratifiedKFold(n_splits=10,shuffle=False)\n",
    "#lgbm = lgb.LGBMClassifier(num_leaves=32, learning_rate=0.01, reg_alpha=20, n_estimators=50000, subsample=0.9, subsample_freq=1, colsample_bytree=0.9, eval_metric='auc', random_state=42)\n",
    "lgbm = CatBoostClassifier(n_estimators=50000, max_depth=6, reg_lambda=20, \n",
    "                          random_state=101, subsample=0.9, learning_rate=0.01,use_best_model=True,\n",
    "                          task_type='CPU')\n",
    "scores = []\n",
    "pred_test_lg = np.zeros((len(test2), 2))\n",
    "for (train_index,test_index) in kf.split(pd.DataFrame(traindata),target):\n",
    "    X_train,X_test = pd.DataFrame(traindata).iloc[train_index], pd.DataFrame(traindata).iloc[test_index]\n",
    "    y_train,y_test = train.default_status.iloc[train_index],train.default_status.iloc[test_index]\n",
    "    #lgbm.fit(X_train,y_train,early_stopping_rounds=200,eval_set=[(X_test,y_test)], eval_metric='auc')\n",
    "    lgbm.fit(X_train,y_train,early_stopping_rounds=200,eval_set=[(X_test,y_test)], verbose=50)\n",
    "    #scores.append(metric(lgbm.predict_proba(X_test),y_test))\n",
    "    pred_test_lg+=lgbm.predict_proba(testdata)"
   ]
  },
  {
   "cell_type": "code",
   "execution_count": 26,
   "metadata": {},
   "outputs": [
    {
     "name": "stdout",
     "output_type": "stream",
     "text": [
      "(28000, 52) (28000,) (28000, 52) (28000,)\n"
     ]
    }
   ],
   "source": [
    "validation, traindata, valid_target, target = ms.train_test_split(traindata, target, random_state=405, test_size=0.5, stratify=target)\n",
    "print(validation.shape, valid_target.shape, traindata.shape, target.shape)"
   ]
  },
  {
   "cell_type": "code",
   "execution_count": 104,
   "metadata": {},
   "outputs": [
    {
     "data": {
      "text/plain": [
       "array([[3.43324143, 1.56675857],\n",
       "       [2.99012193, 2.00987807],\n",
       "       [3.11908381, 1.88091619],\n",
       "       ...,\n",
       "       [3.61937832, 1.38062168],\n",
       "       [2.4246333 , 2.5753667 ],\n",
       "       [3.95307654, 1.04692346]])"
      ]
     },
     "execution_count": 104,
     "metadata": {},
     "output_type": "execute_result"
    }
   ],
   "source": [
    "pred_test_lg/2"
   ]
  },
  {
   "cell_type": "code",
   "execution_count": 105,
   "metadata": {},
   "outputs": [
    {
     "data": {
      "text/plain": [
       "array([[0.34332414, 0.15667586],\n",
       "       [0.29901219, 0.20098781],\n",
       "       [0.31190838, 0.18809162],\n",
       "       ...,\n",
       "       [0.36193783, 0.13806217],\n",
       "       [0.24246333, 0.25753667],\n",
       "       [0.39530765, 0.10469235]])"
      ]
     },
     "execution_count": 105,
     "metadata": {},
     "output_type": "execute_result"
    }
   ],
   "source": [
    "pred_test_avg = pred_test_lg/20\n",
    "pred_test_avg"
   ]
  },
  {
   "cell_type": "code",
   "execution_count": 106,
   "metadata": {},
   "outputs": [],
   "source": [
    "prediction = pred_test_avg[:,1]"
   ]
  },
  {
   "cell_type": "code",
   "execution_count": 206,
   "metadata": {},
   "outputs": [
    {
     "name": "stdout",
     "output_type": "stream",
     "text": [
      "(6720, 50) (6720,) (26880, 50)\n"
     ]
    }
   ],
   "source": [
    "train1, sample1, ytrain1, ysample1 = ms.train_test_split(traindata, target, random_state=405, test_size=0.8, stratify=target)\n",
    "print(train1.shape, ytrain1.shape, sample1.shape)"
   ]
  },
  {
   "cell_type": "code",
   "execution_count": 207,
   "metadata": {},
   "outputs": [
    {
     "name": "stdout",
     "output_type": "stream",
     "text": [
      "(6720, 50) (6720,) (20160, 50)\n"
     ]
    }
   ],
   "source": [
    "train2, sample2, ytrain2, ysample2 = ms.train_test_split(sample1, ysample1, random_state=405, test_size=0.75, stratify=ysample1)\n",
    "print(train2.shape, ytrain2.shape, sample2.shape)"
   ]
  },
  {
   "cell_type": "code",
   "execution_count": 208,
   "metadata": {},
   "outputs": [
    {
     "name": "stdout",
     "output_type": "stream",
     "text": [
      "(6719, 50) (6719,) (13441, 50)\n"
     ]
    }
   ],
   "source": [
    "train3, sample3, ytrain3, ysample3 = ms.train_test_split(sample2, ysample2, random_state=405, test_size=0.666666667, stratify=ysample2)\n",
    "print(train3.shape, ytrain3.shape, sample3.shape)"
   ]
  },
  {
   "cell_type": "code",
   "execution_count": 209,
   "metadata": {},
   "outputs": [
    {
     "name": "stdout",
     "output_type": "stream",
     "text": [
      "(6720, 50) (6720,) (6721, 50) (6721,)\n"
     ]
    }
   ],
   "source": [
    "train4, train5, ytrain4, ytrain5 = ms.train_test_split(sample3, ysample3, random_state=405, test_size=0.5, stratify=ysample3)\n",
    "print(train4.shape, ytrain4.shape, train5.shape, ytrain5.shape)"
   ]
  },
  {
   "cell_type": "code",
   "execution_count": 27,
   "metadata": {},
   "outputs": [],
   "source": [
    "class Xgboost():\n",
    "    \n",
    "    def __init__(self, train, test, open_test, train_label, test_label):\n",
    "        \n",
    "        \n",
    "        self.train = train\n",
    "        self.test = test\n",
    "        self.open_test = open_test\n",
    "        #self.validation = validation\n",
    "        self.train_label = train_label\n",
    "        self.test_label = test_label\n",
    "        \n",
    "    def __call__(self, plot = True):\n",
    "        return self.fit(plot)\n",
    "    \n",
    "    def fit(self, plot):\n",
    " \n",
    "      self.x_train, self.x_test, self.y_train, self.y_test = ms.train_test_split(self.train, \n",
    "                                                                                   pd.DataFrame(np.array(self.train_label)), \n",
    "                                                                                   test_size=0.2,\n",
    "                                                                                   random_state=212)\n",
    "      \n",
    "      def show_evaluation(pred, true):\n",
    "        \n",
    "        #print(f'Default score: {confusion_matrix(true.values, pred)}')\n",
    "        print(f'AUC is: {roc_auc_score(true, pred)}')\n",
    "        #print(f'Accuracy is: {accuracy_score(true, pred)}')\n",
    "        #print(f'Logloss is: {log_loss(pred, true.values)}')\n",
    " \n",
    " \n",
    "      model = XGBClassifier(n_estimators=5000, max_depth=10, booster='gbtree', base_score=0.7,\n",
    "                            learning_rate=0.033, reg_lambda=1,\n",
    "                            subsample=1, colsample_bytree=1,\n",
    "                                 eval_metric='auc', verbose=2020, random_state=9090)\n",
    "      \n",
    "      model.fit(self.x_train, self.y_train, early_stopping_rounds=200, eval_set=[(self.x_test, self.y_test)], verbose=20)\n",
    " \n",
    "      pred = model.predict_proba(self.test)\n",
    "      #val = model.predict(self.validation)\n",
    "      open_pred = model.predict_proba(self.open_test)\n",
    "        \n",
    " \n",
    "      print('----------------TEST EVALUATION------------------')\n",
    "      print(show_evaluation(pred[:,1], self.test_label))\n",
    "                  \n",
    "      if plot: self.plot_feat_imp(model)\n",
    "      return pred[:,1], open_pred[:,1], model\n",
    "              \n",
    "              \n",
    "    def plot_feat_imp(self, model):\n",
    "        feat_imp = pd.Series(model.feature_importances_).sort_values(ascending=False)\n",
    "        plt.figure(figsize=(12,8))\n",
    "        feat_imp.plot(kind='bar', title='Feature Importances')\n",
    "        plt.ylabel('Feature Importance Score')"
   ]
  },
  {
   "cell_type": "code",
   "execution_count": 28,
   "metadata": {},
   "outputs": [
    {
     "ename": "NameError",
     "evalue": "name 'train1' is not defined",
     "output_type": "error",
     "traceback": [
      "\u001b[0;31m---------------------------------------------------------------------------\u001b[0m",
      "\u001b[0;31mNameError\u001b[0m                                 Traceback (most recent call last)",
      "\u001b[0;32m<ipython-input-28-995c1a0f5315>\u001b[0m in \u001b[0;36m<module>\u001b[0;34m\u001b[0m\n\u001b[0;32m----> 1\u001b[0;31m \u001b[0mfunc1_\u001b[0m\u001b[0;34m=\u001b[0m \u001b[0mXgboost\u001b[0m\u001b[0;34m(\u001b[0m\u001b[0mtrain1\u001b[0m\u001b[0;34m,\u001b[0m \u001b[0mvalidation\u001b[0m\u001b[0;34m,\u001b[0m \u001b[0mtestdata\u001b[0m\u001b[0;34m,\u001b[0m \u001b[0mytrain1\u001b[0m\u001b[0;34m,\u001b[0m \u001b[0mvalid_target\u001b[0m\u001b[0;34m)\u001b[0m\u001b[0;34m\u001b[0m\u001b[0;34m\u001b[0m\u001b[0m\n\u001b[0m\u001b[1;32m      2\u001b[0m \u001b[0mpred1\u001b[0m\u001b[0;34m,\u001b[0m \u001b[0mopen_test1\u001b[0m\u001b[0;34m,\u001b[0m \u001b[0mmodel1\u001b[0m \u001b[0;34m=\u001b[0m \u001b[0mfunc1_\u001b[0m\u001b[0;34m(\u001b[0m\u001b[0;34m)\u001b[0m\u001b[0;34m\u001b[0m\u001b[0;34m\u001b[0m\u001b[0m\n",
      "\u001b[0;31mNameError\u001b[0m: name 'train1' is not defined"
     ]
    }
   ],
   "source": [
    "func1_= Xgboost(train1, validation, testdata, ytrain1, valid_target)\n",
    "pred1, open_test1, model1 = func1_()"
   ]
  },
  {
   "cell_type": "code",
   "execution_count": 154,
   "metadata": {},
   "outputs": [
    {
     "name": "stdout",
     "output_type": "stream",
     "text": [
      "[17:17:26] WARNING: /workspace/src/learner.cc:480: \n",
      "Parameters: { verbose } might not be used.\n",
      "\n",
      "  This may not be accurate due to some parameters are only used in language bindings but\n",
      "  passed down to XGBoost core.  Or some parameters are not used but slip through this\n",
      "  verification. Please open an issue if you find above cases.\n",
      "\n",
      "\n",
      "[0]\tvalidation_0-auc:0.73713\n",
      "Will train until validation_0-auc hasn't improved in 200 rounds.\n"
     ]
    },
    {
     "name": "stderr",
     "output_type": "stream",
     "text": [
      "/home/olawale/anaconda3/lib/python3.7/site-packages/sklearn/utils/validation.py:73: DataConversionWarning: A column-vector y was passed when a 1d array was expected. Please change the shape of y to (n_samples, ), for example using ravel().\n",
      "  return f(**kwargs)\n"
     ]
    },
    {
     "name": "stdout",
     "output_type": "stream",
     "text": [
      "[20]\tvalidation_0-auc:0.77426\n",
      "[40]\tvalidation_0-auc:0.77950\n",
      "[60]\tvalidation_0-auc:0.78150\n",
      "[80]\tvalidation_0-auc:0.78568\n",
      "[100]\tvalidation_0-auc:0.78951\n",
      "[120]\tvalidation_0-auc:0.79032\n",
      "[140]\tvalidation_0-auc:0.79268\n",
      "[160]\tvalidation_0-auc:0.79579\n",
      "[180]\tvalidation_0-auc:0.79748\n",
      "[200]\tvalidation_0-auc:0.79883\n",
      "[220]\tvalidation_0-auc:0.80055\n",
      "[240]\tvalidation_0-auc:0.80215\n",
      "[260]\tvalidation_0-auc:0.80268\n",
      "[280]\tvalidation_0-auc:0.80354\n",
      "[300]\tvalidation_0-auc:0.80469\n",
      "[320]\tvalidation_0-auc:0.80583\n",
      "[340]\tvalidation_0-auc:0.80601\n",
      "[360]\tvalidation_0-auc:0.80676\n",
      "[380]\tvalidation_0-auc:0.80741\n",
      "[400]\tvalidation_0-auc:0.80768\n",
      "[420]\tvalidation_0-auc:0.80797\n",
      "[440]\tvalidation_0-auc:0.80832\n",
      "[460]\tvalidation_0-auc:0.80879\n",
      "[480]\tvalidation_0-auc:0.80882\n",
      "[500]\tvalidation_0-auc:0.80922\n",
      "[520]\tvalidation_0-auc:0.80961\n",
      "[540]\tvalidation_0-auc:0.80966\n",
      "[560]\tvalidation_0-auc:0.80978\n",
      "[580]\tvalidation_0-auc:0.81025\n",
      "[600]\tvalidation_0-auc:0.81027\n",
      "[620]\tvalidation_0-auc:0.81062\n",
      "[640]\tvalidation_0-auc:0.81105\n",
      "[660]\tvalidation_0-auc:0.81123\n",
      "[680]\tvalidation_0-auc:0.81145\n",
      "[700]\tvalidation_0-auc:0.81155\n",
      "[720]\tvalidation_0-auc:0.81183\n",
      "[740]\tvalidation_0-auc:0.81211\n",
      "[760]\tvalidation_0-auc:0.81227\n",
      "[780]\tvalidation_0-auc:0.81236\n",
      "[800]\tvalidation_0-auc:0.81234\n",
      "[820]\tvalidation_0-auc:0.81243\n",
      "[840]\tvalidation_0-auc:0.81253\n",
      "[860]\tvalidation_0-auc:0.81248\n",
      "[880]\tvalidation_0-auc:0.81255\n",
      "[900]\tvalidation_0-auc:0.81260\n",
      "[920]\tvalidation_0-auc:0.81257\n",
      "[940]\tvalidation_0-auc:0.81273\n",
      "[960]\tvalidation_0-auc:0.81289\n",
      "[980]\tvalidation_0-auc:0.81309\n",
      "[1000]\tvalidation_0-auc:0.81295\n",
      "[1020]\tvalidation_0-auc:0.81284\n",
      "[1040]\tvalidation_0-auc:0.81287\n",
      "[1060]\tvalidation_0-auc:0.81297\n",
      "[1080]\tvalidation_0-auc:0.81299\n",
      "[1100]\tvalidation_0-auc:0.81317\n",
      "[1120]\tvalidation_0-auc:0.81299\n",
      "[1140]\tvalidation_0-auc:0.81301\n",
      "[1160]\tvalidation_0-auc:0.81318\n",
      "[1180]\tvalidation_0-auc:0.81311\n",
      "[1200]\tvalidation_0-auc:0.81310\n",
      "[1220]\tvalidation_0-auc:0.81296\n",
      "[1240]\tvalidation_0-auc:0.81290\n",
      "[1260]\tvalidation_0-auc:0.81281\n",
      "[1280]\tvalidation_0-auc:0.81271\n",
      "[1300]\tvalidation_0-auc:0.81258\n",
      "[1320]\tvalidation_0-auc:0.81239\n",
      "[1340]\tvalidation_0-auc:0.81235\n",
      "[1360]\tvalidation_0-auc:0.81234\n",
      "Stopping. Best iteration:\n",
      "[1160]\tvalidation_0-auc:0.81318\n",
      "\n",
      "----------------TEST EVALUATION------------------\n",
      "AUC is: 0.8288254167433451\n",
      "None\n"
     ]
    },
    {
     "data": {
      "image/png": "[encoded data removed]",
      "text/plain": [
       "<Figure size 864x576 with 1 Axes>"
      ]
     },
     "metadata": {
      "needs_background": "light"
     },
     "output_type": "display_data"
    }
   ],
   "source": [
    "func2_= Xgboost(train2, validation, testdata, ytrain2, valid_target)\n",
    "pred2, open_test2, model2 = func2_()"
   ]
  },
  {
   "cell_type": "code",
   "execution_count": 156,
   "metadata": {},
   "outputs": [
    {
     "name": "stdout",
     "output_type": "stream",
     "text": [
      "[17:18:27] WARNING: /workspace/src/learner.cc:480: \n",
      "Parameters: { verbose } might not be used.\n",
      "\n",
      "  This may not be accurate due to some parameters are only used in language bindings but\n",
      "  passed down to XGBoost core.  Or some parameters are not used but slip through this\n",
      "  verification. Please open an issue if you find above cases.\n",
      "\n",
      "\n",
      "[0]\tvalidation_0-auc:0.70865\n",
      "Will train until validation_0-auc hasn't improved in 200 rounds.\n"
     ]
    },
    {
     "name": "stderr",
     "output_type": "stream",
     "text": [
      "/home/olawale/anaconda3/lib/python3.7/site-packages/sklearn/utils/validation.py:73: DataConversionWarning: A column-vector y was passed when a 1d array was expected. Please change the shape of y to (n_samples, ), for example using ravel().\n",
      "  return f(**kwargs)\n"
     ]
    },
    {
     "name": "stdout",
     "output_type": "stream",
     "text": [
      "[20]\tvalidation_0-auc:0.80914\n",
      "[40]\tvalidation_0-auc:0.80451\n",
      "[60]\tvalidation_0-auc:0.79804\n",
      "[80]\tvalidation_0-auc:0.79530\n",
      "[100]\tvalidation_0-auc:0.79230\n",
      "[120]\tvalidation_0-auc:0.79063\n",
      "[140]\tvalidation_0-auc:0.79109\n",
      "[160]\tvalidation_0-auc:0.79046\n",
      "[180]\tvalidation_0-auc:0.78939\n",
      "[200]\tvalidation_0-auc:0.78829\n",
      "Stopping. Best iteration:\n",
      "[11]\tvalidation_0-auc:0.81253\n",
      "\n",
      "----------------TEST EVALUATION------------------\n",
      "AUC is: 0.8226300375414628\n",
      "None\n"
     ]
    },
    {
     "data": {
      "image/png": "[encoded data removed]",
      "text/plain": [
       "<Figure size 864x576 with 1 Axes>"
      ]
     },
     "metadata": {
      "needs_background": "light"
     },
     "output_type": "display_data"
    }
   ],
   "source": [
    "func3_= Xgboost(train3, validation, testdata, ytrain3, valid_target)\n",
    "pred3, open_test3, model3 = func3_()"
   ]
  },
  {
   "cell_type": "code",
   "execution_count": 158,
   "metadata": {},
   "outputs": [
    {
     "name": "stdout",
     "output_type": "stream",
     "text": [
      "[17:19:29] WARNING: /workspace/src/learner.cc:480: \n",
      "Parameters: { verbose } might not be used.\n",
      "\n",
      "  This may not be accurate due to some parameters are only used in language bindings but\n",
      "  passed down to XGBoost core.  Or some parameters are not used but slip through this\n",
      "  verification. Please open an issue if you find above cases.\n",
      "\n",
      "\n",
      "[0]\tvalidation_0-auc:0.75985\n",
      "Will train until validation_0-auc hasn't improved in 200 rounds.\n"
     ]
    },
    {
     "name": "stderr",
     "output_type": "stream",
     "text": [
      "/home/olawale/anaconda3/lib/python3.7/site-packages/sklearn/utils/validation.py:73: DataConversionWarning: A column-vector y was passed when a 1d array was expected. Please change the shape of y to (n_samples, ), for example using ravel().\n",
      "  return f(**kwargs)\n"
     ]
    },
    {
     "name": "stdout",
     "output_type": "stream",
     "text": [
      "[20]\tvalidation_0-auc:0.82149\n",
      "[40]\tvalidation_0-auc:0.82413\n",
      "[60]\tvalidation_0-auc:0.82749\n",
      "[80]\tvalidation_0-auc:0.82789\n",
      "[100]\tvalidation_0-auc:0.82883\n",
      "[120]\tvalidation_0-auc:0.82855\n",
      "[140]\tvalidation_0-auc:0.82876\n",
      "[160]\tvalidation_0-auc:0.82889\n",
      "[180]\tvalidation_0-auc:0.82883\n",
      "[200]\tvalidation_0-auc:0.82911\n",
      "[220]\tvalidation_0-auc:0.82928\n",
      "[240]\tvalidation_0-auc:0.82900\n",
      "[260]\tvalidation_0-auc:0.82931\n",
      "[280]\tvalidation_0-auc:0.82969\n",
      "[300]\tvalidation_0-auc:0.83010\n",
      "[320]\tvalidation_0-auc:0.83074\n",
      "[340]\tvalidation_0-auc:0.83079\n",
      "[360]\tvalidation_0-auc:0.83103\n",
      "[380]\tvalidation_0-auc:0.83117\n",
      "[400]\tvalidation_0-auc:0.83143\n",
      "[420]\tvalidation_0-auc:0.83187\n",
      "[440]\tvalidation_0-auc:0.83195\n",
      "[460]\tvalidation_0-auc:0.83248\n",
      "[480]\tvalidation_0-auc:0.83274\n",
      "[500]\tvalidation_0-auc:0.83307\n",
      "[520]\tvalidation_0-auc:0.83308\n",
      "[540]\tvalidation_0-auc:0.83335\n",
      "[560]\tvalidation_0-auc:0.83357\n",
      "[580]\tvalidation_0-auc:0.83376\n",
      "[600]\tvalidation_0-auc:0.83428\n",
      "[620]\tvalidation_0-auc:0.83425\n",
      "[640]\tvalidation_0-auc:0.83427\n",
      "[660]\tvalidation_0-auc:0.83428\n",
      "[680]\tvalidation_0-auc:0.83440\n",
      "[700]\tvalidation_0-auc:0.83444\n",
      "[720]\tvalidation_0-auc:0.83458\n",
      "[740]\tvalidation_0-auc:0.83463\n",
      "[760]\tvalidation_0-auc:0.83466\n",
      "[780]\tvalidation_0-auc:0.83472\n",
      "[800]\tvalidation_0-auc:0.83488\n",
      "[820]\tvalidation_0-auc:0.83498\n",
      "[840]\tvalidation_0-auc:0.83506\n",
      "[860]\tvalidation_0-auc:0.83499\n",
      "[880]\tvalidation_0-auc:0.83506\n",
      "[900]\tvalidation_0-auc:0.83506\n",
      "[920]\tvalidation_0-auc:0.83519\n",
      "[940]\tvalidation_0-auc:0.83515\n",
      "[960]\tvalidation_0-auc:0.83520\n",
      "[980]\tvalidation_0-auc:0.83531\n",
      "[1000]\tvalidation_0-auc:0.83540\n",
      "[1020]\tvalidation_0-auc:0.83562\n",
      "[1040]\tvalidation_0-auc:0.83566\n",
      "[1060]\tvalidation_0-auc:0.83554\n",
      "[1080]\tvalidation_0-auc:0.83567\n",
      "[1100]\tvalidation_0-auc:0.83566\n",
      "[1120]\tvalidation_0-auc:0.83577\n",
      "[1140]\tvalidation_0-auc:0.83572\n",
      "[1160]\tvalidation_0-auc:0.83567\n",
      "[1180]\tvalidation_0-auc:0.83556\n",
      "[1200]\tvalidation_0-auc:0.83558\n",
      "[1220]\tvalidation_0-auc:0.83566\n",
      "[1240]\tvalidation_0-auc:0.83576\n",
      "[1260]\tvalidation_0-auc:0.83576\n",
      "[1280]\tvalidation_0-auc:0.83572\n",
      "[1300]\tvalidation_0-auc:0.83562\n",
      "[1320]\tvalidation_0-auc:0.83555\n",
      "Stopping. Best iteration:\n",
      "[1133]\tvalidation_0-auc:0.83582\n",
      "\n",
      "----------------TEST EVALUATION------------------\n",
      "AUC is: 0.827182021283195\n",
      "None\n"
     ]
    },
    {
     "data": {
      "image/png": "[encoded data removed]",
      "text/plain": [
       "<Figure size 864x576 with 1 Axes>"
      ]
     },
     "metadata": {
      "needs_background": "light"
     },
     "output_type": "display_data"
    }
   ],
   "source": [
    "func4_= Xgboost(train4, validation, testdata, ytrain4, valid_target)\n",
    "pred4, open_test4, model4 = func4_()"
   ]
  },
  {
   "cell_type": "code",
   "execution_count": 160,
   "metadata": {},
   "outputs": [
    {
     "name": "stdout",
     "output_type": "stream",
     "text": [
      "[17:33:24] WARNING: /workspace/src/learner.cc:480: \n",
      "Parameters: { verbose } might not be used.\n",
      "\n",
      "  This may not be accurate due to some parameters are only used in language bindings but\n",
      "  passed down to XGBoost core.  Or some parameters are not used but slip through this\n",
      "  verification. Please open an issue if you find above cases.\n",
      "\n",
      "\n",
      "[0]\tvalidation_0-auc:0.69784\n",
      "Will train until validation_0-auc hasn't improved in 200 rounds.\n"
     ]
    },
    {
     "name": "stderr",
     "output_type": "stream",
     "text": [
      "/home/olawale/anaconda3/lib/python3.7/site-packages/sklearn/utils/validation.py:73: DataConversionWarning: A column-vector y was passed when a 1d array was expected. Please change the shape of y to (n_samples, ), for example using ravel().\n",
      "  return f(**kwargs)\n"
     ]
    },
    {
     "name": "stdout",
     "output_type": "stream",
     "text": [
      "[20]\tvalidation_0-auc:0.81124\n",
      "[40]\tvalidation_0-auc:0.82737\n",
      "[60]\tvalidation_0-auc:0.83235\n",
      "[80]\tvalidation_0-auc:0.83503\n",
      "[100]\tvalidation_0-auc:0.83551\n",
      "[120]\tvalidation_0-auc:0.83618\n",
      "[140]\tvalidation_0-auc:0.83624\n",
      "[160]\tvalidation_0-auc:0.83746\n",
      "[180]\tvalidation_0-auc:0.83701\n",
      "[200]\tvalidation_0-auc:0.83676\n",
      "[220]\tvalidation_0-auc:0.83670\n",
      "[240]\tvalidation_0-auc:0.83655\n",
      "[260]\tvalidation_0-auc:0.83629\n",
      "[280]\tvalidation_0-auc:0.83622\n",
      "[300]\tvalidation_0-auc:0.83607\n",
      "[320]\tvalidation_0-auc:0.83542\n",
      "[340]\tvalidation_0-auc:0.83519\n",
      "Stopping. Best iteration:\n",
      "[156]\tvalidation_0-auc:0.83758\n",
      "\n",
      "----------------TEST EVALUATION------------------\n",
      "AUC is: 0.8250697455089117\n",
      "None\n"
     ]
    },
    {
     "data": {
      "image/png": "[encoded data removed]",
      "text/plain": [
       "<Figure size 864x576 with 1 Axes>"
      ]
     },
     "metadata": {
      "needs_background": "light"
     },
     "output_type": "display_data"
    }
   ],
   "source": [
    "func5_= Xgboost(train5, validation, testdata, ytrain5, valid_target)\n",
    "pred5, open_test5, model5 = func5_()"
   ]
  },
  {
   "cell_type": "code",
   "execution_count": 161,
   "metadata": {},
   "outputs": [],
   "source": [
    "stack = np.column_stack((pred1, pred2, pred3, pred4, pred5))\n",
    "#stack_p = np.column_stack((val1, val2, val3, val4, val5, val6, val7, val8))\n",
    "stack_open = np.column_stack((open_test1, open_test2, open_test3, open_test4, open_test5))"
   ]
  },
  {
   "cell_type": "code",
   "execution_count": 162,
   "metadata": {},
   "outputs": [
    {
     "data": {
      "text/plain": [
       "array([[0.6453316 , 0.6243318 , 0.66647714, 0.7049684 , 0.56432563],\n",
       "       [0.5559749 , 0.6147881 , 0.4235459 , 0.43022174, 0.44133762],\n",
       "       [0.30772358, 0.18915437, 0.13541855, 0.26620027, 0.2274061 ],\n",
       "       ...,\n",
       "       [0.29806408, 0.38621995, 0.33637828, 0.25780267, 0.6317501 ],\n",
       "       [0.49934736, 0.35815364, 0.20410308, 0.42244744, 0.3460878 ],\n",
       "       [0.35214263, 0.43790308, 0.48020968, 0.24657845, 0.3745236 ]],\n",
       "      dtype=float32)"
      ]
     },
     "execution_count": 162,
     "metadata": {},
     "output_type": "execute_result"
    }
   ],
   "source": [
    "stack"
   ]
  },
  {
   "cell_type": "code",
   "execution_count": null,
   "metadata": {},
   "outputs": [],
   "source": []
  },
  {
   "cell_type": "code",
   "execution_count": 210,
   "metadata": {},
   "outputs": [],
   "source": [
    "meta_model = LinearRegression()\n",
    "#meta_model = RandomForestClassifier(n_estimators=200, random_state=42, class_weight='balanced', verbose=2)\n",
    "meta_model.fit(stack, valid_target)\n",
    "#final_val_pred = meta_model.predict(stack_p)\n",
    "final_open_pred = meta_model.predict(stack_open)\n",
    " \n",
    "#print(show_evaluation(final_val_pred, valid2_lithology))"
   ]
  },
  {
   "cell_type": "code",
   "execution_count": 211,
   "metadata": {},
   "outputs": [
    {
     "data": {
      "text/plain": [
       "35345    0\n",
       "41374    1\n",
       "21599    0\n",
       "33493    1\n",
       "36767    0\n",
       "        ..\n",
       "35720    0\n",
       "5626     1\n",
       "17561    1\n",
       "24679    1\n",
       "9835     0\n",
       "Name: default_status, Length: 22400, dtype: int64"
      ]
     },
     "execution_count": 211,
     "metadata": {},
     "output_type": "execute_result"
    }
   ],
   "source": [
    "valid_target"
   ]
  },
  {
   "cell_type": "code",
   "execution_count": 2,
   "metadata": {},
   "outputs": [],
   "source": [
    "def make_submission(prediction, filename):\n",
    "    sample = pd.read_csv('SampleSubmission.csv')\n",
    "    test = pd.read_csv('Test.csv')\n",
    "    sample.Applicant_ID = test.Applicant_ID\n",
    "    sample.default_status = prediction\n",
    "    sample.to_csv(filename, index = False)"
   ]
  },
  {
   "cell_type": "code",
   "execution_count": 132,
   "metadata": {},
   "outputs": [
    {
     "data": {
      "text/plain": [
       "(0.68, 0.0)"
      ]
     },
     "execution_count": 132,
     "metadata": {},
     "output_type": "execute_result"
    }
   ],
   "source": [
    "o.default_status.max(), o.default_status.min()"
   ]
  },
  {
   "cell_type": "code",
   "execution_count": 141,
   "metadata": {},
   "outputs": [
    {
     "data": {
      "text/plain": [
       "count    24000.000000\n",
       "mean         0.191779\n",
       "std          0.181008\n",
       "min          0.002197\n",
       "25%          0.036927\n",
       "50%          0.133790\n",
       "75%          0.301472\n",
       "max          0.733601\n",
       "Name: default_status, dtype: float64"
      ]
     },
     "execution_count": 141,
     "metadata": {},
     "output_type": "execute_result"
    }
   ],
   "source": [
    "avg12.describe()"
   ]
  },
  {
   "cell_type": "code",
   "execution_count": 131,
   "metadata": {},
   "outputs": [],
   "source": [
    "#max_avg_3_9_11 = (max_avg.CHURN + cat3_9.CHURN + cat3_11.CHURN)/3\n",
    "o = pd.read_csv('mvg1.csv')\n",
    "o['default_status'] = np.where(o['default_status'] < 0.05, 0, o['default_status'])\n",
    "o['default_status'] = o['default_status'] \n",
    "o.to_csv('mvg2.csv', index=False)"
   ]
  },
  {
   "cell_type": "code",
   "execution_count": 145,
   "metadata": {},
   "outputs": [],
   "source": [
    "make_submission(avg13, 'avg13.csv')"
   ]
  },
  {
   "cell_type": "code",
   "execution_count": 16,
   "metadata": {},
   "outputs": [],
   "source": [
    "a = pd.read_csv('baseline_model.csv')  #0.84419\n",
    "b = pd.read_csv('cat_xgstack.csv')  #0.84394\n",
    "c = pd.read_csv('catboost_baseline.csv')     #0.84393\n",
    "d = pd.read_csv('baseline_all_features.csv')   #0.84287\n",
    "e = pd.read_csv('cat_80features.csv')   #0.84366\n",
    "f = pd.read_csv('80features_and_baseline.csv')          #0.84117\n",
    "g = pd.read_csv('allfeatures_catboostbaseline.csv')\n",
    "h = pd.read_csv('LGB_all_features.csv')\n",
    "i = pd.read_csv('cat_LGB_all_features.csv')\n",
    "j = pd.read_csv('20-FOLD-catboost.csv')\n",
    "k = pd.read_csv('RF-XG-CAT.csv')\n",
    "l = pd.read_csv('avg5.csv')\n",
    "m = pd.read_csv('stack1.csv')\n",
    "n = pd.read_csv('avg1.csv')\n",
    "o = pd.read_csv('avg3.csv')\n",
    "p = pd.read_csv('avg4.csv')\n",
    "q = pd.read_csv('avg16.csv')\n",
    "r = pd.read_csv('avg10.csv')\n",
    "s= pd.read_csv('RF-XG-CAT-LG.csv')\n",
    "t = pd.read_csv('10foldcatboost80features.csv')\n",
    "u = pd.read_csv('avg6.csv')\n",
    "v = pd.read_csv('avg7.csv')\n",
    "w = pd.read_csv('CAT-CAT-CAT-LG.csv')\n",
    "x = pd.read_csv('avg8.csv')\n",
    "y = pd.read_csv('81-features-catboost.csv')\n",
    "z = pd.read_csv('81-features-lightboost.csv')                \n",
    "a1 = pd.read_csv('10foldcatboost85features.csv')                \n",
    "a2 = pd.read_csv('avg9.csv')   #0.844365\n",
    "a3 = pd.read_csv('avg10.csv')   #0.8443866             \n",
    "a4 = pd.read_csv('mvg1.csv')    #0.844376        \n",
    "a5 = pd.read_csv('mvg2.csv')    #0.8443299            \n",
    "a6 = pd.read_csv('avg12.csv')   #0.844394            \n",
    "a7 = pd.read_csv('avg13.csv')   #0.8443919  \n",
    "a8 = pd.read_csv('4-stack-xgb')\n",
    "a9 = pd.read_csv('6-4-stack-xgb')                "
   ]
  },
  {
   "cell_type": "code",
   "execution_count": 26,
   "metadata": {},
   "outputs": [],
   "source": [
    "avg17 = ((((a6.default_status)*0.455 + (a7.default_status)*0.555)*0.7356 + \n",
    "         ((a4.default_status)*0.86+ (a3.default_status)*0.14)*0.2644) * 0.7 + \n",
    "         (a2.default_status * 0.6 + a5.default_status*0.4) * 0.3)"
   ]
  },
  {
   "cell_type": "code",
   "execution_count": 29,
   "metadata": {},
   "outputs": [],
   "source": [
    "avg19 = (avg17 + avg18 + avg16)/3"
   ]
  },
  {
   "cell_type": "code",
   "execution_count": 12,
   "metadata": {},
   "outputs": [],
   "source": [
    "avg14 = (a.default_status + b.default_status + c.default_status + d.default_status + e.default_status + \n",
    "         f.default_status + g.default_status + h.default_status + i.default_status + j.default_status + \n",
    "         k.default_status + l.default_status + m.default_status + n.default_status + o.default_status + \n",
    "         p.default_status + q.default_status + r.default_status + s.default_status + t.default_status + \n",
    "         u.default_status + v.default_status + w.default_status + x.default_status + y.default_status + \n",
    "         z.default_status + a1.default_status + a2.default_status + a3.default_status + a4.default_status + \n",
    "         a5.default_status + a6.default_status + a7.default_status + a8.default_status + a9.default_status)/35"
   ]
  },
  {
   "cell_type": "code",
   "execution_count": 31,
   "metadata": {},
   "outputs": [],
   "source": [
    "make_submission(avg19, 'avg19.csv')"
   ]
  },
  {
   "cell_type": "code",
   "execution_count": null,
   "metadata": {},
   "outputs": [],
   "source": [
    "avg20"
   ]
  },
  {
   "cell_type": "code",
   "execution_count": 30,
   "metadata": {},
   "outputs": [
    {
     "data": {
      "text/plain": [
       "0        0.238853\n",
       "1        0.290747\n",
       "2        0.298420\n",
       "3        0.569074\n",
       "4        0.138100\n",
       "           ...   \n",
       "23995    0.531323\n",
       "23996    0.206472\n",
       "23997    0.215839\n",
       "23998    0.400812\n",
       "23999    0.152255\n",
       "Name: default_status, Length: 24000, dtype: float64"
      ]
     },
     "execution_count": 30,
     "metadata": {},
     "output_type": "execute_result"
    }
   ],
   "source": [
    "avg19"
   ]
  },
  {
   "cell_type": "code",
   "execution_count": 21,
   "metadata": {},
   "outputs": [
    {
     "data": {
      "text/plain": [
       "0        0.249785\n",
       "1        0.302736\n",
       "2        0.312969\n",
       "3        0.595971\n",
       "4        0.144286\n",
       "           ...   \n",
       "23995    0.556336\n",
       "23996    0.219087\n",
       "23997    0.226231\n",
       "23998    0.419847\n",
       "23999    0.158646\n",
       "Name: default_status, Length: 24000, dtype: float64"
      ]
     },
     "execution_count": 21,
     "metadata": {},
     "output_type": "execute_result"
    }
   ],
   "source": [
    "avg16"
   ]
  },
  {
   "cell_type": "code",
   "execution_count": 144,
   "metadata": {},
   "outputs": [],
   "source": [
    "avg13 = (f.default_status + o.default_status)/2"
   ]
  },
  {
   "cell_type": "code",
   "execution_count": 114,
   "metadata": {},
   "outputs": [],
   "source": [
    "avg10 = (m.default_status + o.default_status + p.default_status)/3"
   ]
  },
  {
   "cell_type": "code",
   "execution_count": 140,
   "metadata": {},
   "outputs": [],
   "source": [
    "avg12 = ((t.default_status)*0.2 + (l.default_status)*0.8)*0.9 + ((o.default_status)*0.7 + (a.default_status)*0.3)*0.1 "
   ]
  },
  {
   "cell_type": "code",
   "execution_count": 25,
   "metadata": {},
   "outputs": [],
   "source": [
    "avg6 = (p.default_status + a.default_status + b.default_status + c.default_status + k.default_status)/5"
   ]
  },
  {
   "cell_type": "code",
   "execution_count": 29,
   "metadata": {},
   "outputs": [],
   "source": [
    "avg7 = (avg6*0.7) + (p.default_status*0.3)"
   ]
  },
  {
   "cell_type": "code",
   "execution_count": 34,
   "metadata": {},
   "outputs": [],
   "source": [
    "make_submission(avg8, 'avg8.csv')"
   ]
  },
  {
   "cell_type": "code",
   "execution_count": 35,
   "metadata": {},
   "outputs": [
    {
     "data": {
      "text/plain": [
       "0        0.255973\n",
       "1        0.306266\n",
       "2        0.320923\n",
       "3        0.609143\n",
       "4        0.145961\n",
       "           ...   \n",
       "23995    0.567275\n",
       "23996    0.225072\n",
       "23997    0.231543\n",
       "23998    0.430957\n",
       "23999    0.161361\n",
       "Name: default_status, Length: 24000, dtype: float64"
      ]
     },
     "execution_count": 35,
     "metadata": {},
     "output_type": "execute_result"
    }
   ],
   "source": [
    "avg8"
   ]
  },
  {
   "cell_type": "code",
   "execution_count": 33,
   "metadata": {},
   "outputs": [],
   "source": [
    "avg8 = (avg7*0.9) + ((avg6*0.7+n.default_status*0.3)*0.1)"
   ]
  },
  {
   "cell_type": "code",
   "execution_count": 12,
   "metadata": {},
   "outputs": [
    {
     "data": {
      "text/plain": [
       "0        0.287776\n",
       "1        0.333733\n",
       "2        0.355539\n",
       "3        0.685824\n",
       "4        0.161376\n",
       "           ...   \n",
       "23995    0.637286\n",
       "23996    0.242239\n",
       "23997    0.266154\n",
       "23998    0.480112\n",
       "23999    0.183126\n",
       "Name: default_status, Length: 24000, dtype: float64"
      ]
     },
     "execution_count": 12,
     "metadata": {},
     "output_type": "execute_result"
    }
   ],
   "source": [
    "avg10 = (a.default_status + b.default_status + c.default_status + d.default_status + e.default_status + \n",
    "         f.default_status + g.default_status + h.default_status + i.default_status + j.default_status)/10\n",
    "avg10"
   ]
  },
  {
   "cell_type": "code",
   "execution_count": 32,
   "metadata": {},
   "outputs": [],
   "source": [
    "avg1 = ((a.default_status)*0.9 + ((b.default_status)*0.6 + (f.default_status)*0.4)*0.1)*0.8+ ((d.default_status)*0.4 + (e.default_status)*0.6)*0.2"
   ]
  },
  {
   "cell_type": "code",
   "execution_count": 36,
   "metadata": {},
   "outputs": [
    {
     "data": {
      "text/plain": [
       "0    0.156168\n",
       "1    0.186879\n",
       "2    0.191676\n",
       "3    0.369668\n",
       "4    0.090156\n",
       "5    0.182883\n",
       "6    0.184644\n",
       "7    0.300827\n",
       "8    0.208737\n",
       "9    0.158362\n",
       "Name: default_status, dtype: float64"
      ]
     },
     "execution_count": 36,
     "metadata": {},
     "output_type": "execute_result"
    }
   ],
   "source": [
    "avg5[:10]"
   ]
  },
  {
   "cell_type": "code",
   "execution_count": 37,
   "metadata": {},
   "outputs": [
    {
     "data": {
      "text/plain": [
       "0    0.306544\n",
       "1    0.379391\n",
       "2    0.382733\n",
       "3    0.732123\n",
       "4    0.184963\n",
       "5    0.367723\n",
       "6    0.376904\n",
       "7    0.609829\n",
       "8    0.401287\n",
       "9    0.314871\n",
       "Name: default_status, dtype: float64"
      ]
     },
     "execution_count": 37,
     "metadata": {},
     "output_type": "execute_result"
    }
   ],
   "source": [
    "avg1[:10]"
   ]
  },
  {
   "cell_type": "code",
   "execution_count": 42,
   "metadata": {},
   "outputs": [
    {
     "data": {
      "text/plain": [
       "0    0.238585\n",
       "1    0.293042\n",
       "2    0.296727\n",
       "3    0.568657\n",
       "4    0.142532\n",
       "5    0.284643\n",
       "6    0.290768\n",
       "7    0.471187\n",
       "8    0.313830\n",
       "9    0.244349\n",
       "Name: default_status, dtype: float64"
      ]
     },
     "execution_count": 42,
     "metadata": {},
     "output_type": "execute_result"
    }
   ],
   "source": [
    "avg2 = (avg1*1.2 + avg5*0.7)/2\n",
    "avg2[:10]"
   ]
  },
  {
   "cell_type": "code",
   "execution_count": 49,
   "metadata": {},
   "outputs": [
    {
     "data": {
      "text/plain": [
       "0    0.246689\n",
       "1    0.284098\n",
       "2    0.293306\n",
       "3    0.573866\n",
       "4    0.146320\n",
       "5    0.282250\n",
       "6    0.290898\n",
       "7    0.471240\n",
       "8    0.317318\n",
       "9    0.246584\n",
       "Name: default_status, dtype: float64"
      ]
     },
     "execution_count": 49,
     "metadata": {},
     "output_type": "execute_result"
    }
   ],
   "source": [
    "avg4 = (avg1*0.2 + avg3*0.8)*0.6 + (avg5)*0.4\n",
    "avg4[:10]"
   ]
  },
  {
   "cell_type": "code",
   "execution_count": 45,
   "metadata": {},
   "outputs": [
    {
     "data": {
      "text/plain": [
       "0    0.307159\n",
       "1    0.341291\n",
       "2    0.355641\n",
       "3    0.704467\n",
       "4    0.183463\n",
       "5    0.343687\n",
       "6    0.357942\n",
       "7    0.578605\n",
       "8    0.386811\n",
       "9    0.303030\n",
       "Name: default_status, dtype: float64"
      ]
     },
     "execution_count": 45,
     "metadata": {},
     "output_type": "execute_result"
    }
   ],
   "source": [
    "avg3 = (avg1 + avg5 + g.default_status + h.default_status + i.default_status)/5\n",
    "avg3[:10]"
   ]
  },
  {
   "cell_type": "code",
   "execution_count": 39,
   "metadata": {},
   "outputs": [
    {
     "data": {
      "text/html": [
       "<div>\n",
       "<style scoped>\n",
       "    .dataframe tbody tr th:only-of-type {\n",
       "        vertical-align: middle;\n",
       "    }\n",
       "\n",
       "    .dataframe tbody tr th {\n",
       "        vertical-align: top;\n",
       "    }\n",
       "\n",
       "    .dataframe thead th {\n",
       "        text-align: right;\n",
       "    }\n",
       "</style>\n",
       "<table border=\"1\" class=\"dataframe\">\n",
       "  <thead>\n",
       "    <tr style=\"text-align: right;\">\n",
       "      <th></th>\n",
       "      <th>Applicant_ID</th>\n",
       "      <th>default_status</th>\n",
       "    </tr>\n",
       "  </thead>\n",
       "  <tbody>\n",
       "    <tr>\n",
       "      <th>0</th>\n",
       "      <td>Apcnt_1000032</td>\n",
       "      <td>0.303753</td>\n",
       "    </tr>\n",
       "    <tr>\n",
       "      <th>1</th>\n",
       "      <td>Apcnt_1000048</td>\n",
       "      <td>0.383076</td>\n",
       "    </tr>\n",
       "    <tr>\n",
       "      <th>2</th>\n",
       "      <td>Apcnt_1000052</td>\n",
       "      <td>0.380495</td>\n",
       "    </tr>\n",
       "    <tr>\n",
       "      <th>3</th>\n",
       "      <td>Apcnt_1000076</td>\n",
       "      <td>0.724759</td>\n",
       "    </tr>\n",
       "    <tr>\n",
       "      <th>4</th>\n",
       "      <td>Apcnt_1000080</td>\n",
       "      <td>0.190117</td>\n",
       "    </tr>\n",
       "    <tr>\n",
       "      <th>5</th>\n",
       "      <td>Apcnt_1000084</td>\n",
       "      <td>0.367904</td>\n",
       "    </tr>\n",
       "    <tr>\n",
       "      <th>6</th>\n",
       "      <td>Apcnt_1000104</td>\n",
       "      <td>0.384217</td>\n",
       "    </tr>\n",
       "    <tr>\n",
       "      <th>7</th>\n",
       "      <td>Apcnt_1000116</td>\n",
       "      <td>0.616027</td>\n",
       "    </tr>\n",
       "    <tr>\n",
       "      <th>8</th>\n",
       "      <td>Apcnt_1000128</td>\n",
       "      <td>0.386746</td>\n",
       "    </tr>\n",
       "    <tr>\n",
       "      <th>9</th>\n",
       "      <td>Apcnt_1000156</td>\n",
       "      <td>0.313836</td>\n",
       "    </tr>\n",
       "  </tbody>\n",
       "</table>\n",
       "</div>"
      ],
      "text/plain": [
       "    Applicant_ID  default_status\n",
       "0  Apcnt_1000032        0.303753\n",
       "1  Apcnt_1000048        0.383076\n",
       "2  Apcnt_1000052        0.380495\n",
       "3  Apcnt_1000076        0.724759\n",
       "4  Apcnt_1000080        0.190117\n",
       "5  Apcnt_1000084        0.367904\n",
       "6  Apcnt_1000104        0.384217\n",
       "7  Apcnt_1000116        0.616027\n",
       "8  Apcnt_1000128        0.386746\n",
       "9  Apcnt_1000156        0.313836"
      ]
     },
     "execution_count": 39,
     "metadata": {},
     "output_type": "execute_result"
    }
   ],
   "source": [
    "submission1 = pd.read_csv('baseline_all_features.csv')\n",
    "submission1.head(10)"
   ]
  },
  {
   "cell_type": "code",
   "execution_count": 214,
   "metadata": {},
   "outputs": [
    {
     "data": {
      "text/html": [
       "<div>\n",
       "<style scoped>\n",
       "    .dataframe tbody tr th:only-of-type {\n",
       "        vertical-align: middle;\n",
       "    }\n",
       "\n",
       "    .dataframe tbody tr th {\n",
       "        vertical-align: top;\n",
       "    }\n",
       "\n",
       "    .dataframe thead th {\n",
       "        text-align: right;\n",
       "    }\n",
       "</style>\n",
       "<table border=\"1\" class=\"dataframe\">\n",
       "  <thead>\n",
       "    <tr style=\"text-align: right;\">\n",
       "      <th></th>\n",
       "      <th>Applicant_ID</th>\n",
       "      <th>default_status</th>\n",
       "    </tr>\n",
       "  </thead>\n",
       "  <tbody>\n",
       "    <tr>\n",
       "      <th>0</th>\n",
       "      <td>Apcnt_1000032</td>\n",
       "      <td>0.352908</td>\n",
       "    </tr>\n",
       "    <tr>\n",
       "      <th>1</th>\n",
       "      <td>Apcnt_1000048</td>\n",
       "      <td>0.310231</td>\n",
       "    </tr>\n",
       "    <tr>\n",
       "      <th>2</th>\n",
       "      <td>Apcnt_1000052</td>\n",
       "      <td>0.331209</td>\n",
       "    </tr>\n",
       "    <tr>\n",
       "      <th>3</th>\n",
       "      <td>Apcnt_1000076</td>\n",
       "      <td>0.751772</td>\n",
       "    </tr>\n",
       "    <tr>\n",
       "      <th>4</th>\n",
       "      <td>Apcnt_1000080</td>\n",
       "      <td>0.229558</td>\n",
       "    </tr>\n",
       "    <tr>\n",
       "      <th>...</th>\n",
       "      <td>...</td>\n",
       "      <td>...</td>\n",
       "    </tr>\n",
       "    <tr>\n",
       "      <th>23995</th>\n",
       "      <td>Apcnt_999940</td>\n",
       "      <td>0.635556</td>\n",
       "    </tr>\n",
       "    <tr>\n",
       "      <th>23996</th>\n",
       "      <td>Apcnt_999956</td>\n",
       "      <td>0.170295</td>\n",
       "    </tr>\n",
       "    <tr>\n",
       "      <th>23997</th>\n",
       "      <td>Apcnt_999976</td>\n",
       "      <td>0.377394</td>\n",
       "    </tr>\n",
       "    <tr>\n",
       "      <th>23998</th>\n",
       "      <td>Apcnt_999984</td>\n",
       "      <td>0.571092</td>\n",
       "    </tr>\n",
       "    <tr>\n",
       "      <th>23999</th>\n",
       "      <td>Apcnt_999992</td>\n",
       "      <td>0.234302</td>\n",
       "    </tr>\n",
       "  </tbody>\n",
       "</table>\n",
       "<p>24000 rows × 2 columns</p>\n",
       "</div>"
      ],
      "text/plain": [
       "        Applicant_ID  default_status\n",
       "0      Apcnt_1000032        0.352908\n",
       "1      Apcnt_1000048        0.310231\n",
       "2      Apcnt_1000052        0.331209\n",
       "3      Apcnt_1000076        0.751772\n",
       "4      Apcnt_1000080        0.229558\n",
       "...              ...             ...\n",
       "23995   Apcnt_999940        0.635556\n",
       "23996   Apcnt_999956        0.170295\n",
       "23997   Apcnt_999976        0.377394\n",
       "23998   Apcnt_999984        0.571092\n",
       "23999   Apcnt_999992        0.234302\n",
       "\n",
       "[24000 rows x 2 columns]"
      ]
     },
     "execution_count": 214,
     "metadata": {},
     "output_type": "execute_result"
    }
   ],
   "source": [
    "submission = pd.read_csv('baseline_model.csv')\n",
    "submission"
   ]
  },
  {
   "cell_type": "code",
   "execution_count": 274,
   "metadata": {},
   "outputs": [
    {
     "data": {
      "text/html": [
       "<div>\n",
       "<style scoped>\n",
       "    .dataframe tbody tr th:only-of-type {\n",
       "        vertical-align: middle;\n",
       "    }\n",
       "\n",
       "    .dataframe tbody tr th {\n",
       "        vertical-align: top;\n",
       "    }\n",
       "\n",
       "    .dataframe thead th {\n",
       "        text-align: right;\n",
       "    }\n",
       "</style>\n",
       "<table border=\"1\" class=\"dataframe\">\n",
       "  <thead>\n",
       "    <tr style=\"text-align: right;\">\n",
       "      <th></th>\n",
       "      <th>Applicant_ID</th>\n",
       "      <th>default_status</th>\n",
       "    </tr>\n",
       "  </thead>\n",
       "  <tbody>\n",
       "    <tr>\n",
       "      <th>0</th>\n",
       "      <td>Apcnt_1000032</td>\n",
       "      <td>0.322118</td>\n",
       "    </tr>\n",
       "    <tr>\n",
       "      <th>1</th>\n",
       "      <td>Apcnt_1000048</td>\n",
       "      <td>0.367092</td>\n",
       "    </tr>\n",
       "    <tr>\n",
       "      <th>2</th>\n",
       "      <td>Apcnt_1000052</td>\n",
       "      <td>0.388731</td>\n",
       "    </tr>\n",
       "    <tr>\n",
       "      <th>3</th>\n",
       "      <td>Apcnt_1000076</td>\n",
       "      <td>0.743791</td>\n",
       "    </tr>\n",
       "    <tr>\n",
       "      <th>4</th>\n",
       "      <td>Apcnt_1000080</td>\n",
       "      <td>0.182554</td>\n",
       "    </tr>\n",
       "    <tr>\n",
       "      <th>...</th>\n",
       "      <td>...</td>\n",
       "      <td>...</td>\n",
       "    </tr>\n",
       "    <tr>\n",
       "      <th>23995</th>\n",
       "      <td>Apcnt_999940</td>\n",
       "      <td>0.707418</td>\n",
       "    </tr>\n",
       "    <tr>\n",
       "      <th>23996</th>\n",
       "      <td>Apcnt_999956</td>\n",
       "      <td>0.280780</td>\n",
       "    </tr>\n",
       "    <tr>\n",
       "      <th>23997</th>\n",
       "      <td>Apcnt_999976</td>\n",
       "      <td>0.289889</td>\n",
       "    </tr>\n",
       "    <tr>\n",
       "      <th>23998</th>\n",
       "      <td>Apcnt_999984</td>\n",
       "      <td>0.539345</td>\n",
       "    </tr>\n",
       "    <tr>\n",
       "      <th>23999</th>\n",
       "      <td>Apcnt_999992</td>\n",
       "      <td>0.195100</td>\n",
       "    </tr>\n",
       "  </tbody>\n",
       "</table>\n",
       "<p>24000 rows × 2 columns</p>\n",
       "</div>"
      ],
      "text/plain": [
       "        Applicant_ID  default_status\n",
       "0      Apcnt_1000032        0.322118\n",
       "1      Apcnt_1000048        0.367092\n",
       "2      Apcnt_1000052        0.388731\n",
       "3      Apcnt_1000076        0.743791\n",
       "4      Apcnt_1000080        0.182554\n",
       "...              ...             ...\n",
       "23995   Apcnt_999940        0.707418\n",
       "23996   Apcnt_999956        0.280780\n",
       "23997   Apcnt_999976        0.289889\n",
       "23998   Apcnt_999984        0.539345\n",
       "23999   Apcnt_999992        0.195100\n",
       "\n",
       "[24000 rows x 2 columns]"
      ]
     },
     "execution_count": 274,
     "metadata": {},
     "output_type": "execute_result"
    }
   ],
   "source": [
    "submission = pd.read_csv('catboost_baseline.csv')\n",
    "submission"
   ]
  },
  {
   "cell_type": "code",
   "execution_count": 101,
   "metadata": {},
   "outputs": [],
   "source": [
    "submission.replace({2:0}, inplace=True)"
   ]
  },
  {
   "cell_type": "code",
   "execution_count": 104,
   "metadata": {},
   "outputs": [],
   "source": [
    "submission.to_csv('baseline_model.csv',index=False)"
   ]
  },
  {
   "cell_type": "code",
   "execution_count": 276,
   "metadata": {},
   "outputs": [],
   "source": [
    "avg = (submission1.default_status + submission.default_status)/2"
   ]
  },
  {
   "cell_type": "code",
   "execution_count": 277,
   "metadata": {},
   "outputs": [
    {
     "data": {
      "text/plain": [
       "0        0.302993\n",
       "1        0.367357\n",
       "2        0.404657\n",
       "3        0.762418\n",
       "4        0.161324\n",
       "           ...   \n",
       "23995    0.720801\n",
       "23996    0.257145\n",
       "23997    0.270479\n",
       "23998    0.506813\n",
       "23999    0.189106\n",
       "Name: default_status, Length: 24000, dtype: float64"
      ]
     },
     "execution_count": 277,
     "metadata": {},
     "output_type": "execute_result"
    }
   ],
   "source": [
    "avg"
   ]
  },
  {
   "cell_type": "code",
   "execution_count": null,
   "metadata": {},
   "outputs": [],
   "source": []
  }
 ],
 "metadata": {
  "kernelspec": {
   "display_name": "Python 3",
   "language": "python",
   "name": "python3"
  },
  "language_info": {
   "codemirror_mode": {
    "name": "ipython",
    "version": 3
   },
   "file_extension": ".py",
   "mimetype": "text/x-python",
   "name": "python",
   "nbconvert_exporter": "python",
   "pygments_lexer": "ipython3",
   "version": "3.7.6"
  }
 },
 "nbformat": 4,
 "nbformat_minor": 2
}
