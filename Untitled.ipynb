{
 "cells": [
  {
   "cell_type": "code",
   "execution_count": 1,
   "metadata": {},
   "outputs": [],
   "source": [
    "import pandas as pd\n",
    "import numpy as np\n",
    "import matplotlib.pyplot as plt\n",
    "import seaborn as sns\n",
    "import sklearn\n",
    "from sklearn.ensemble import RandomForestClassifier\n",
    "#!pip install catboost\n",
    "#import catboost as cat\n",
    "from sklearn.linear_model import LinearRegression, LogisticRegression\n",
    "from catboost import CatBoostClassifier\n",
    "from sklearn import preprocessing\n",
    "import sklearn.model_selection as ms\n",
    "from sklearn.model_selection import GridSearchCV, KFold, StratifiedKFold\n",
    "from sklearn.metrics import log_loss, confusion_matrix, accuracy_score, f1_score, roc_auc_score\n",
    "from xgboost import XGBClassifier\n",
    "from lightgbm import LGBMClassifier"
   ]
  },
  {
   "cell_type": "code",
   "execution_count": 92,
   "metadata": {},
   "outputs": [],
   "source": [
    "#train.info()"
   ]
  },
  {
   "cell_type": "code",
   "execution_count": 3,
   "metadata": {},
   "outputs": [],
   "source": [
    "#sns.heatmap(df)"
   ]
  },
  {
   "cell_type": "code",
   "execution_count": 2,
   "metadata": {},
   "outputs": [],
   "source": [
    "def fill_missing_values(data):\n",
    "    \n",
    "    '''\n",
    "    Function to input missing values based on the column object type\n",
    "    '''\n",
    "    \n",
    "    cols = list(data.columns)\n",
    "    for col in cols:\n",
    "        if data[col].dtype == 'int64' or data[col].dtype == 'float64':\n",
    "        \n",
    "            data[col] = data[col].fillna(data[col].mean())\n",
    "        \n",
    "        #elif data[col].dtype == 'O' or data[col].dtype == 'object':\n",
    "        #    data[col] = data[col].fillna(data[col].mode()[0])\n",
    "            \n",
    "        else:\n",
    "            data[col] = data[col].fillna(data[col].mode()[0])\n",
    "            \n",
    "    return data\n",
    " \n",
    "def one_hot_encoding(traindata, *args):\n",
    "    \n",
    "    for ii in args:\n",
    "        traindata = pd.get_dummies(traindata, prefix=[ii], columns=[ii])\n",
    "        \n",
    "    return traindata\n",
    " \n",
    "def drop_columns(traindata, *args):\n",
    "    \n",
    "    #labels = np.array(traindata[target])\n",
    "    \n",
    "    columns = []\n",
    "    for _ in args:\n",
    "        columns.append(_)\n",
    "        \n",
    "    traindata = traindata.drop(columns, axis=1)\n",
    "    #traindata = traindata.drop(target, axis=1)\n",
    "    #testdata = testdata.drop(columns, axis=1)\n",
    "        \n",
    "    return traindata\n",
    " \n",
    "def process(traindata):\n",
    "    \n",
    "    cols = list(traindata.columns)\n",
    "    for _ in cols:\n",
    "        traindata[_] = np.where(traindata[_] == np.inf, -999, traindata[_])\n",
    "        traindata[_] = np.where(traindata[_] == np.nan, -999, traindata[_])\n",
    "        traindata[_] = np.where(traindata[_] == -np.inf, -999, traindata[_])\n",
    "        \n",
    "    return traindata\n",
    " \n",
    "def show_evaluation(pred, true):\n",
    "  print(f'Default score: {score(true.values, pred)}')\n",
    "  print(f'Accuracy is: {accuracy_score(true, pred)}')\n",
    "  print(f'F1 is: {f1_score(pred, true.values, average=\"weighted\")}')\n",
    " \n",
    "def freq_encode(data, cols):\n",
    "    for i in cols:\n",
    "        encoding = data.groupby(i).size()\n",
    "        encoding = encoding/len(data)\n",
    "        data[i + '_enc'] = data[i].map(encoding)\n",
    "    return data\n",
    " \n",
    " \n",
    "def mean_target(data, cols):\n",
    "    kf = KFold(5)\n",
    "    a = pd.DataFrame()\n",
    "    for tr_ind, val_ind in kf.split(data):\n",
    "        X_tr, X_val= data.iloc[tr_ind].copy(), data.iloc[val_ind].copy()\n",
    "        for col in cols:\n",
    "            means = X_val[col].map(X_tr.groupby(col).default_status_no.mean())\n",
    "            X_val[col + '_mean_target'] = means + 0.0001\n",
    "        a = pd.concat((a, X_val))\n",
    "    #prior = FORCE_2020_LITHOFACIES_LITHOLOGY.mean()\n",
    "    #a.fillna(prior, inplace=True)\n",
    "    return a\n"
   ]
  },
  {
   "cell_type": "code",
   "execution_count": 69,
   "metadata": {},
   "outputs": [],
   "source": [
    "train = pd.read_csv('Train.csv')\n",
    "test = pd.read_csv('Test.csv')\n",
    "sample = pd.read_csv('SampleSubmission.csv')"
   ]
  },
  {
   "cell_type": "code",
   "execution_count": 70,
   "metadata": {},
   "outputs": [],
   "source": [
    "target = train.default_status\n",
    "target_numbers = {'yes': 1,\n",
    "                  'no': 0}\n",
    "\n",
    "target = target.map(target_numbers)"
   ]
  },
  {
   "cell_type": "code",
   "execution_count": 6,
   "metadata": {},
   "outputs": [
    {
     "data": {
      "text/plain": [
       "Applicant_ID       0.000000\n",
       "form_field1        4.516071\n",
       "form_field2        6.864286\n",
       "form_field3        0.633929\n",
       "form_field4        0.633929\n",
       "form_field5        0.633929\n",
       "form_field6       23.857143\n",
       "form_field7        9.219643\n",
       "form_field8       23.857143\n",
       "form_field9       14.300000\n",
       "form_field10       0.633929\n",
       "form_field11      56.108929\n",
       "form_field12      17.669643\n",
       "form_field13      10.516071\n",
       "form_field14       0.000000\n",
       "form_field15      40.133929\n",
       "form_field16      23.278571\n",
       "form_field17      19.912500\n",
       "form_field18      18.575000\n",
       "form_field19       0.007143\n",
       "form_field20       0.633929\n",
       "form_field21      28.310714\n",
       "form_field22      36.428571\n",
       "form_field23      50.219643\n",
       "form_field24      23.744643\n",
       "form_field25       9.732143\n",
       "form_field26      13.282143\n",
       "form_field27      16.605357\n",
       "form_field28       0.633929\n",
       "form_field29       0.633929\n",
       "form_field30      45.551786\n",
       "form_field31      70.371429\n",
       "form_field32       9.732143\n",
       "form_field33       2.242857\n",
       "form_field34       0.633929\n",
       "form_field35      41.335714\n",
       "form_field36       3.562500\n",
       "form_field37       9.732143\n",
       "form_field38       0.633929\n",
       "form_field39       7.519643\n",
       "form_field40      78.087500\n",
       "form_field41      68.266071\n",
       "form_field42       2.362500\n",
       "form_field43       1.014286\n",
       "form_field44       9.612500\n",
       "form_field45      55.923214\n",
       "form_field46      28.400000\n",
       "form_field47       0.000000\n",
       "form_field48      37.301786\n",
       "form_field49       0.633929\n",
       "form_field50      19.742857\n",
       "default_status     0.000000\n",
       "dtype: float64"
      ]
     },
     "execution_count": 6,
     "metadata": {},
     "output_type": "execute_result"
    }
   ],
   "source": [
    "(train.isna().sum()/train.shape[0])*100"
   ]
  },
  {
   "cell_type": "code",
   "execution_count": 8,
   "metadata": {},
   "outputs": [
    {
     "data": {
      "text/plain": [
       "((56000, 52), (24000, 51))"
      ]
     },
     "execution_count": 8,
     "metadata": {},
     "output_type": "execute_result"
    }
   ],
   "source": [
    "train.shape, test.shape"
   ]
  },
  {
   "cell_type": "code",
   "execution_count": 9,
   "metadata": {},
   "outputs": [
    {
     "data": {
      "text/html": [
       "<div>\n",
       "<style scoped>\n",
       "    .dataframe tbody tr th:only-of-type {\n",
       "        vertical-align: middle;\n",
       "    }\n",
       "\n",
       "    .dataframe tbody tr th {\n",
       "        vertical-align: top;\n",
       "    }\n",
       "\n",
       "    .dataframe thead th {\n",
       "        text-align: right;\n",
       "    }\n",
       "</style>\n",
       "<table border=\"1\" class=\"dataframe\">\n",
       "  <thead>\n",
       "    <tr style=\"text-align: right;\">\n",
       "      <th></th>\n",
       "      <th>Applicant_ID</th>\n",
       "      <th>form_field1</th>\n",
       "      <th>form_field2</th>\n",
       "      <th>form_field3</th>\n",
       "      <th>form_field4</th>\n",
       "      <th>form_field5</th>\n",
       "      <th>form_field6</th>\n",
       "      <th>form_field7</th>\n",
       "      <th>form_field8</th>\n",
       "      <th>form_field9</th>\n",
       "      <th>...</th>\n",
       "      <th>form_field42</th>\n",
       "      <th>form_field43</th>\n",
       "      <th>form_field44</th>\n",
       "      <th>form_field45</th>\n",
       "      <th>form_field46</th>\n",
       "      <th>form_field47</th>\n",
       "      <th>form_field48</th>\n",
       "      <th>form_field49</th>\n",
       "      <th>form_field50</th>\n",
       "      <th>default_status</th>\n",
       "    </tr>\n",
       "  </thead>\n",
       "  <tbody>\n",
       "    <tr>\n",
       "      <th>0</th>\n",
       "      <td>Apcnt_1000000</td>\n",
       "      <td>3436.0</td>\n",
       "      <td>0.28505</td>\n",
       "      <td>1.6560</td>\n",
       "      <td>0.0</td>\n",
       "      <td>0.000</td>\n",
       "      <td>0.0</td>\n",
       "      <td>10689720.0</td>\n",
       "      <td>252072.0</td>\n",
       "      <td>4272776.0</td>\n",
       "      <td>...</td>\n",
       "      <td>0.392854</td>\n",
       "      <td>2.02</td>\n",
       "      <td>0.711632</td>\n",
       "      <td>0.0</td>\n",
       "      <td>0.0</td>\n",
       "      <td>charge</td>\n",
       "      <td>NaN</td>\n",
       "      <td>1.129518</td>\n",
       "      <td>0.044335</td>\n",
       "      <td>no</td>\n",
       "    </tr>\n",
       "    <tr>\n",
       "      <th>1</th>\n",
       "      <td>Apcnt_1000004</td>\n",
       "      <td>3456.0</td>\n",
       "      <td>0.67400</td>\n",
       "      <td>0.2342</td>\n",
       "      <td>0.0</td>\n",
       "      <td>0.000</td>\n",
       "      <td>0.0</td>\n",
       "      <td>898979.0</td>\n",
       "      <td>497531.0</td>\n",
       "      <td>9073814.0</td>\n",
       "      <td>...</td>\n",
       "      <td>0.314281</td>\n",
       "      <td>8.08</td>\n",
       "      <td>0.183584</td>\n",
       "      <td>NaN</td>\n",
       "      <td>0.0</td>\n",
       "      <td>charge</td>\n",
       "      <td>349.805730</td>\n",
       "      <td>1.620483</td>\n",
       "      <td>0.322436</td>\n",
       "      <td>no</td>\n",
       "    </tr>\n",
       "    <tr>\n",
       "      <th>2</th>\n",
       "      <td>Apcnt_1000008</td>\n",
       "      <td>3276.0</td>\n",
       "      <td>0.53845</td>\n",
       "      <td>3.1510</td>\n",
       "      <td>0.0</td>\n",
       "      <td>6.282</td>\n",
       "      <td>NaN</td>\n",
       "      <td>956940.0</td>\n",
       "      <td>NaN</td>\n",
       "      <td>192944.0</td>\n",
       "      <td>...</td>\n",
       "      <td>0.162965</td>\n",
       "      <td>18.18</td>\n",
       "      <td>0.791136</td>\n",
       "      <td>0.0</td>\n",
       "      <td>0.0</td>\n",
       "      <td>charge</td>\n",
       "      <td>NaN</td>\n",
       "      <td>1.513370</td>\n",
       "      <td>0.011640</td>\n",
       "      <td>yes</td>\n",
       "    </tr>\n",
       "    <tr>\n",
       "      <th>3</th>\n",
       "      <td>Apcnt_1000012</td>\n",
       "      <td>3372.0</td>\n",
       "      <td>0.17005</td>\n",
       "      <td>0.5050</td>\n",
       "      <td>0.0</td>\n",
       "      <td>0.000</td>\n",
       "      <td>192166.0</td>\n",
       "      <td>3044703.0</td>\n",
       "      <td>385499.0</td>\n",
       "      <td>3986472.0</td>\n",
       "      <td>...</td>\n",
       "      <td>0.488884</td>\n",
       "      <td>2.02</td>\n",
       "      <td>0.685168</td>\n",
       "      <td>NaN</td>\n",
       "      <td>0.0</td>\n",
       "      <td>charge</td>\n",
       "      <td>89.940100</td>\n",
       "      <td>0.664452</td>\n",
       "      <td>0.082729</td>\n",
       "      <td>no</td>\n",
       "    </tr>\n",
       "    <tr>\n",
       "      <th>4</th>\n",
       "      <td>Apcnt_1000016</td>\n",
       "      <td>3370.0</td>\n",
       "      <td>0.77270</td>\n",
       "      <td>1.1010</td>\n",
       "      <td>0.0</td>\n",
       "      <td>0.000</td>\n",
       "      <td>1556.0</td>\n",
       "      <td>214728.0</td>\n",
       "      <td>214728.0</td>\n",
       "      <td>1284089.0</td>\n",
       "      <td>...</td>\n",
       "      <td>0.275000</td>\n",
       "      <td>12.12</td>\n",
       "      <td>0.438168</td>\n",
       "      <td>0.0</td>\n",
       "      <td>0.0</td>\n",
       "      <td>charge</td>\n",
       "      <td>97.887502</td>\n",
       "      <td>1.427891</td>\n",
       "      <td>0.045630</td>\n",
       "      <td>no</td>\n",
       "    </tr>\n",
       "  </tbody>\n",
       "</table>\n",
       "<p>5 rows × 52 columns</p>\n",
       "</div>"
      ],
      "text/plain": [
       "    Applicant_ID  form_field1  form_field2  form_field3  form_field4  \\\n",
       "0  Apcnt_1000000       3436.0      0.28505       1.6560          0.0   \n",
       "1  Apcnt_1000004       3456.0      0.67400       0.2342          0.0   \n",
       "2  Apcnt_1000008       3276.0      0.53845       3.1510          0.0   \n",
       "3  Apcnt_1000012       3372.0      0.17005       0.5050          0.0   \n",
       "4  Apcnt_1000016       3370.0      0.77270       1.1010          0.0   \n",
       "\n",
       "   form_field5  form_field6  form_field7  form_field8  form_field9  ...  \\\n",
       "0        0.000          0.0   10689720.0     252072.0    4272776.0  ...   \n",
       "1        0.000          0.0     898979.0     497531.0    9073814.0  ...   \n",
       "2        6.282          NaN     956940.0          NaN     192944.0  ...   \n",
       "3        0.000     192166.0    3044703.0     385499.0    3986472.0  ...   \n",
       "4        0.000       1556.0     214728.0     214728.0    1284089.0  ...   \n",
       "\n",
       "   form_field42  form_field43  form_field44  form_field45  form_field46  \\\n",
       "0      0.392854          2.02      0.711632           0.0           0.0   \n",
       "1      0.314281          8.08      0.183584           NaN           0.0   \n",
       "2      0.162965         18.18      0.791136           0.0           0.0   \n",
       "3      0.488884          2.02      0.685168           NaN           0.0   \n",
       "4      0.275000         12.12      0.438168           0.0           0.0   \n",
       "\n",
       "   form_field47  form_field48  form_field49  form_field50  default_status  \n",
       "0        charge           NaN      1.129518      0.044335              no  \n",
       "1        charge    349.805730      1.620483      0.322436              no  \n",
       "2        charge           NaN      1.513370      0.011640             yes  \n",
       "3        charge     89.940100      0.664452      0.082729              no  \n",
       "4        charge     97.887502      1.427891      0.045630              no  \n",
       "\n",
       "[5 rows x 52 columns]"
      ]
     },
     "execution_count": 9,
     "metadata": {},
     "output_type": "execute_result"
    }
   ],
   "source": [
    "train.head()"
   ]
  },
  {
   "cell_type": "code",
   "execution_count": 71,
   "metadata": {},
   "outputs": [
    {
     "data": {
      "text/plain": [
       "(80000, 52)"
      ]
     },
     "execution_count": 71,
     "metadata": {},
     "output_type": "execute_result"
    }
   ],
   "source": [
    "ntrain = train.shape[0]\n",
    "ntest = test.shape[0]\n",
    "#target = train.default_status.copy()\n",
    "df = pd.concat((train, test)).reset_index(drop=True)\n",
    "df.shape"
   ]
  },
  {
   "cell_type": "code",
   "execution_count": 72,
   "metadata": {},
   "outputs": [
    {
     "name": "stdout",
     "output_type": "stream",
     "text": [
      "(80000, 52)\n",
      "(80000, 52)\n"
     ]
    }
   ],
   "source": [
    "print(df.shape)\n",
    "cols = ['form_field31', 'form_field40']\n",
    "#df = drop_columns(df, *cols)\n",
    "print(df.shape)"
   ]
  },
  {
   "cell_type": "code",
   "execution_count": 73,
   "metadata": {},
   "outputs": [
    {
     "name": "stdout",
     "output_type": "stream",
     "text": [
      "(80000, 53)\n"
     ]
    },
    {
     "data": {
      "text/plain": [
       "(80000, 53)"
      ]
     },
     "execution_count": 73,
     "metadata": {},
     "output_type": "execute_result"
    }
   ],
   "source": [
    "df = freq_encode(df, ['form_field47'])\n",
    "print(df.shape)\n",
    "#df = mean_target(df, ['form_field47'])\n",
    "df.shape"
   ]
  },
  {
   "cell_type": "code",
   "execution_count": 74,
   "metadata": {},
   "outputs": [
    {
     "data": {
      "text/plain": [
       "(80000, 54)"
      ]
     },
     "execution_count": 74,
     "metadata": {},
     "output_type": "execute_result"
    }
   ],
   "source": [
    "col = ['form_field47']\n",
    " \n",
    "df = one_hot_encoding(df, *col)\n",
    "df.shape"
   ]
  },
  {
   "cell_type": "code",
   "execution_count": 57,
   "metadata": {},
   "outputs": [
    {
     "data": {
      "text/html": [
       "<div>\n",
       "<style scoped>\n",
       "    .dataframe tbody tr th:only-of-type {\n",
       "        vertical-align: middle;\n",
       "    }\n",
       "\n",
       "    .dataframe tbody tr th {\n",
       "        vertical-align: top;\n",
       "    }\n",
       "\n",
       "    .dataframe thead th {\n",
       "        text-align: right;\n",
       "    }\n",
       "</style>\n",
       "<table border=\"1\" class=\"dataframe\">\n",
       "  <thead>\n",
       "    <tr style=\"text-align: right;\">\n",
       "      <th></th>\n",
       "      <th>form_field1</th>\n",
       "      <th>form_field2</th>\n",
       "      <th>form_field3</th>\n",
       "      <th>form_field4</th>\n",
       "      <th>form_field5</th>\n",
       "      <th>form_field6</th>\n",
       "      <th>form_field7</th>\n",
       "      <th>form_field8</th>\n",
       "      <th>form_field9</th>\n",
       "      <th>form_field10</th>\n",
       "      <th>...</th>\n",
       "      <th>form_field44</th>\n",
       "      <th>form_field45</th>\n",
       "      <th>form_field46</th>\n",
       "      <th>form_field48</th>\n",
       "      <th>form_field49</th>\n",
       "      <th>form_field50</th>\n",
       "      <th>form_field47_charge</th>\n",
       "      <th>form_field47_lending</th>\n",
       "      <th>default_status_no_enc</th>\n",
       "      <th>default_status_no_mean_target</th>\n",
       "    </tr>\n",
       "  </thead>\n",
       "  <tbody>\n",
       "    <tr>\n",
       "      <th>count</th>\n",
       "      <td>76361.000000</td>\n",
       "      <td>74447.000000</td>\n",
       "      <td>79499.000000</td>\n",
       "      <td>79499.000000</td>\n",
       "      <td>79499.000000</td>\n",
       "      <td>6.103600e+04</td>\n",
       "      <td>7.260600e+04</td>\n",
       "      <td>6.103600e+04</td>\n",
       "      <td>6.859200e+04</td>\n",
       "      <td>7.949800e+04</td>\n",
       "      <td>...</td>\n",
       "      <td>72255.000000</td>\n",
       "      <td>35145.000000</td>\n",
       "      <td>57211.000000</td>\n",
       "      <td>5.018900e+04</td>\n",
       "      <td>79499.000000</td>\n",
       "      <td>6.414700e+04</td>\n",
       "      <td>80000.000000</td>\n",
       "      <td>80000.000000</td>\n",
       "      <td>80000.000000</td>\n",
       "      <td>80000.000000</td>\n",
       "    </tr>\n",
       "    <tr>\n",
       "      <th>mean</th>\n",
       "      <td>3491.942169</td>\n",
       "      <td>0.552815</td>\n",
       "      <td>1.056191</td>\n",
       "      <td>0.854130</td>\n",
       "      <td>2.024495</td>\n",
       "      <td>6.250072e+05</td>\n",
       "      <td>6.844769e+06</td>\n",
       "      <td>2.634964e+06</td>\n",
       "      <td>1.326390e+07</td>\n",
       "      <td>1.186153e+07</td>\n",
       "      <td>...</td>\n",
       "      <td>0.564228</td>\n",
       "      <td>0.070736</td>\n",
       "      <td>0.096135</td>\n",
       "      <td>3.041331e+05</td>\n",
       "      <td>1.053579</td>\n",
       "      <td>6.228580e+05</td>\n",
       "      <td>0.648000</td>\n",
       "      <td>0.352000</td>\n",
       "      <td>0.501632</td>\n",
       "      <td>0.528662</td>\n",
       "    </tr>\n",
       "    <tr>\n",
       "      <th>std</th>\n",
       "      <td>189.075233</td>\n",
       "      <td>0.822650</td>\n",
       "      <td>2.163093</td>\n",
       "      <td>3.233269</td>\n",
       "      <td>10.791811</td>\n",
       "      <td>1.440721e+06</td>\n",
       "      <td>1.831476e+07</td>\n",
       "      <td>3.939693e+06</td>\n",
       "      <td>2.076362e+07</td>\n",
       "      <td>2.613218e+07</td>\n",
       "      <td>...</td>\n",
       "      <td>0.196703</td>\n",
       "      <td>0.287365</td>\n",
       "      <td>0.346109</td>\n",
       "      <td>1.717065e+06</td>\n",
       "      <td>1.809372</td>\n",
       "      <td>6.066510e+06</td>\n",
       "      <td>0.477597</td>\n",
       "      <td>0.477597</td>\n",
       "      <td>0.028516</td>\n",
       "      <td>0.499187</td>\n",
       "    </tr>\n",
       "    <tr>\n",
       "      <th>min</th>\n",
       "      <td>2986.000000</td>\n",
       "      <td>0.000000</td>\n",
       "      <td>0.000000</td>\n",
       "      <td>0.000000</td>\n",
       "      <td>0.000000</td>\n",
       "      <td>0.000000e+00</td>\n",
       "      <td>0.000000e+00</td>\n",
       "      <td>0.000000e+00</td>\n",
       "      <td>0.000000e+00</td>\n",
       "      <td>0.000000e+00</td>\n",
       "      <td>...</td>\n",
       "      <td>0.048528</td>\n",
       "      <td>0.000000</td>\n",
       "      <td>0.000000</td>\n",
       "      <td>0.000000e+00</td>\n",
       "      <td>0.000000</td>\n",
       "      <td>0.000000e+00</td>\n",
       "      <td>0.000000</td>\n",
       "      <td>0.000000</td>\n",
       "      <td>0.471438</td>\n",
       "      <td>0.000100</td>\n",
       "    </tr>\n",
       "    <tr>\n",
       "      <th>25%</th>\n",
       "      <td>3358.000000</td>\n",
       "      <td>0.070050</td>\n",
       "      <td>0.000000</td>\n",
       "      <td>0.000000</td>\n",
       "      <td>0.000000</td>\n",
       "      <td>1.400400e+04</td>\n",
       "      <td>6.830840e+05</td>\n",
       "      <td>1.906100e+05</td>\n",
       "      <td>1.360722e+06</td>\n",
       "      <td>4.411260e+05</td>\n",
       "      <td>...</td>\n",
       "      <td>0.412176</td>\n",
       "      <td>0.000000</td>\n",
       "      <td>0.000000</td>\n",
       "      <td>7.706548e+01</td>\n",
       "      <td>0.000000</td>\n",
       "      <td>4.545456e-02</td>\n",
       "      <td>0.000000</td>\n",
       "      <td>0.000000</td>\n",
       "      <td>0.471438</td>\n",
       "      <td>0.000100</td>\n",
       "    </tr>\n",
       "    <tr>\n",
       "      <th>50%</th>\n",
       "      <td>3484.000000</td>\n",
       "      <td>0.269450</td>\n",
       "      <td>0.060000</td>\n",
       "      <td>0.000000</td>\n",
       "      <td>0.000000</td>\n",
       "      <td>1.155330e+05</td>\n",
       "      <td>2.710163e+06</td>\n",
       "      <td>9.639420e+05</td>\n",
       "      <td>5.512519e+06</td>\n",
       "      <td>3.692582e+06</td>\n",
       "      <td>...</td>\n",
       "      <td>0.589624</td>\n",
       "      <td>0.000000</td>\n",
       "      <td>0.000000</td>\n",
       "      <td>3.167076e+02</td>\n",
       "      <td>0.000000</td>\n",
       "      <td>1.697604e-01</td>\n",
       "      <td>1.000000</td>\n",
       "      <td>0.000000</td>\n",
       "      <td>0.528563</td>\n",
       "      <td>1.000100</td>\n",
       "    </tr>\n",
       "    <tr>\n",
       "      <th>75%</th>\n",
       "      <td>3620.000000</td>\n",
       "      <td>0.722525</td>\n",
       "      <td>1.289400</td>\n",
       "      <td>0.000000</td>\n",
       "      <td>0.000000</td>\n",
       "      <td>5.225242e+05</td>\n",
       "      <td>7.023687e+06</td>\n",
       "      <td>3.767173e+06</td>\n",
       "      <td>1.705911e+07</td>\n",
       "      <td>1.323592e+07</td>\n",
       "      <td>...</td>\n",
       "      <td>0.754780</td>\n",
       "      <td>0.000000</td>\n",
       "      <td>0.000000</td>\n",
       "      <td>1.167000e+03</td>\n",
       "      <td>1.200961</td>\n",
       "      <td>4.999999e-01</td>\n",
       "      <td>1.000000</td>\n",
       "      <td>1.000000</td>\n",
       "      <td>0.528563</td>\n",
       "      <td>1.000100</td>\n",
       "    </tr>\n",
       "    <tr>\n",
       "      <th>max</th>\n",
       "      <td>3900.000000</td>\n",
       "      <td>22.315050</td>\n",
       "      <td>57.371600</td>\n",
       "      <td>206.452800</td>\n",
       "      <td>407.748600</td>\n",
       "      <td>5.313546e+07</td>\n",
       "      <td>2.158794e+09</td>\n",
       "      <td>1.135141e+08</td>\n",
       "      <td>1.443921e+09</td>\n",
       "      <td>2.191361e+09</td>\n",
       "      <td>...</td>\n",
       "      <td>0.800000</td>\n",
       "      <td>5.000000</td>\n",
       "      <td>19.000000</td>\n",
       "      <td>1.213991e+08</td>\n",
       "      <td>28.000000</td>\n",
       "      <td>2.524591e+08</td>\n",
       "      <td>1.000000</td>\n",
       "      <td>1.000000</td>\n",
       "      <td>0.528563</td>\n",
       "      <td>1.000100</td>\n",
       "    </tr>\n",
       "  </tbody>\n",
       "</table>\n",
       "<p>8 rows × 53 columns</p>\n",
       "</div>"
      ],
      "text/plain": [
       "        form_field1   form_field2   form_field3   form_field4   form_field5  \\\n",
       "count  76361.000000  74447.000000  79499.000000  79499.000000  79499.000000   \n",
       "mean    3491.942169      0.552815      1.056191      0.854130      2.024495   \n",
       "std      189.075233      0.822650      2.163093      3.233269     10.791811   \n",
       "min     2986.000000      0.000000      0.000000      0.000000      0.000000   \n",
       "25%     3358.000000      0.070050      0.000000      0.000000      0.000000   \n",
       "50%     3484.000000      0.269450      0.060000      0.000000      0.000000   \n",
       "75%     3620.000000      0.722525      1.289400      0.000000      0.000000   \n",
       "max     3900.000000     22.315050     57.371600    206.452800    407.748600   \n",
       "\n",
       "        form_field6   form_field7   form_field8   form_field9  form_field10  \\\n",
       "count  6.103600e+04  7.260600e+04  6.103600e+04  6.859200e+04  7.949800e+04   \n",
       "mean   6.250072e+05  6.844769e+06  2.634964e+06  1.326390e+07  1.186153e+07   \n",
       "std    1.440721e+06  1.831476e+07  3.939693e+06  2.076362e+07  2.613218e+07   \n",
       "min    0.000000e+00  0.000000e+00  0.000000e+00  0.000000e+00  0.000000e+00   \n",
       "25%    1.400400e+04  6.830840e+05  1.906100e+05  1.360722e+06  4.411260e+05   \n",
       "50%    1.155330e+05  2.710163e+06  9.639420e+05  5.512519e+06  3.692582e+06   \n",
       "75%    5.225242e+05  7.023687e+06  3.767173e+06  1.705911e+07  1.323592e+07   \n",
       "max    5.313546e+07  2.158794e+09  1.135141e+08  1.443921e+09  2.191361e+09   \n",
       "\n",
       "       ...  form_field44  form_field45  form_field46  form_field48  \\\n",
       "count  ...  72255.000000  35145.000000  57211.000000  5.018900e+04   \n",
       "mean   ...      0.564228      0.070736      0.096135  3.041331e+05   \n",
       "std    ...      0.196703      0.287365      0.346109  1.717065e+06   \n",
       "min    ...      0.048528      0.000000      0.000000  0.000000e+00   \n",
       "25%    ...      0.412176      0.000000      0.000000  7.706548e+01   \n",
       "50%    ...      0.589624      0.000000      0.000000  3.167076e+02   \n",
       "75%    ...      0.754780      0.000000      0.000000  1.167000e+03   \n",
       "max    ...      0.800000      5.000000     19.000000  1.213991e+08   \n",
       "\n",
       "       form_field49  form_field50  form_field47_charge  form_field47_lending  \\\n",
       "count  79499.000000  6.414700e+04         80000.000000          80000.000000   \n",
       "mean       1.053579  6.228580e+05             0.648000              0.352000   \n",
       "std        1.809372  6.066510e+06             0.477597              0.477597   \n",
       "min        0.000000  0.000000e+00             0.000000              0.000000   \n",
       "25%        0.000000  4.545456e-02             0.000000              0.000000   \n",
       "50%        0.000000  1.697604e-01             1.000000              0.000000   \n",
       "75%        1.200961  4.999999e-01             1.000000              1.000000   \n",
       "max       28.000000  2.524591e+08             1.000000              1.000000   \n",
       "\n",
       "       default_status_no_enc  default_status_no_mean_target  \n",
       "count           80000.000000                   80000.000000  \n",
       "mean                0.501632                       0.528662  \n",
       "std                 0.028516                       0.499187  \n",
       "min                 0.471438                       0.000100  \n",
       "25%                 0.471438                       0.000100  \n",
       "50%                 0.528563                       1.000100  \n",
       "75%                 0.528563                       1.000100  \n",
       "max                 0.528563                       1.000100  \n",
       "\n",
       "[8 rows x 53 columns]"
      ]
     },
     "execution_count": 57,
     "metadata": {},
     "output_type": "execute_result"
    }
   ],
   "source": [
    "df.describe()"
   ]
  },
  {
   "cell_type": "code",
   "execution_count": 97,
   "metadata": {},
   "outputs": [
    {
     "name": "stderr",
     "output_type": "stream",
     "text": [
      "/home/olawale/anaconda3/lib/python3.7/site-packages/pandas/core/series.py:726: RuntimeWarning: divide by zero encountered in log10\n",
      "  result = getattr(ufunc, method)(*inputs, **kwargs)\n"
     ]
    }
   ],
   "source": [
    "df['new1'] = df['form_field3']/df['form_field1']\n",
    "df['new2'] = df['form_field2']/df['form_field4']\n",
    "df['new3'] = df['form_field5']/df['form_field6']\n",
    "df['new4'] = np.log10(df.form_field8)\n",
    "df['new5'] = np.log10(df.form_field9)\n",
    "df['new6'] = np.log10(df.form_field10)\n",
    "df['new7'] = np.log10(df.form_field11)\n",
    "df['new8'] = np.log10(df.form_field12)\n",
    "df['new9'] = np.log10(df.form_field13)\n",
    "df['new10'] = np.log10(df.form_field14)\n",
    "df['new11'] = df['form_field43']/df['form_field31']\n",
    "df['new12'] = df['form_field22']/df['form_field34']\n",
    "df['new13'] = df['form_field15']/df['form_field16']"
   ]
  },
  {
   "cell_type": "code",
   "execution_count": 75,
   "metadata": {},
   "outputs": [],
   "source": [
    "from sklearn.decomposition import PCA\n",
    "pca = PCA(n_components=30)"
   ]
  },
  {
   "cell_type": "code",
   "execution_count": 76,
   "metadata": {},
   "outputs": [
    {
     "name": "stdout",
     "output_type": "stream",
     "text": [
      "(56000, 52) (24000, 52)\n"
     ]
    }
   ],
   "source": [
    "df = df.drop(['Applicant_ID'], axis=1)\n",
    "df.shape\n",
    " \n",
    "df = df.fillna(-999)\n",
    "df = process(df)\n",
    "data = df.copy()\n",
    " \n",
    "train2 = data[:ntrain].copy()\n",
    "target = train2.default_status.copy()\n",
    "#validation1_target = valid1.FORCE_2020_LITHOFACIES_LITHOLOGY.copy()\n",
    "#validation2_target = valid2.FORCE_2020_LITHOFACIES_LITHOLOGY.copy()\n",
    "train2.drop(['default_status'], axis=1, inplace=True)\n",
    " \n",
    "test2 = data[ntrain:(ntest+ntrain)].copy()\n",
    "test2.drop(['default_status'], axis=1, inplace=True)\n",
    "test2 = test2.reset_index(drop=True)\n",
    " \n",
    "#validation1 = data[(ntest+ntrain):(ntest+ntrain+nvalid1)].copy()\n",
    "#validation1.drop(['FORCE_2020_LITHOFACIES_LITHOLOGY'], axis=1, inplace=True)\n",
    "#validation1 = validation1.reset_index(drop=True)\n",
    " \n",
    "#validation2 = data[(ntrain+ntest+nvalid1): (ntrain+ntest+nvalid1+nvalid2)].copy()\n",
    "#validation2.drop(['FORCE_2020_LITHOFACIES_LITHOLOGY'], axis=1, inplace=True)\n",
    "#validation2 = validation2.reset_index(drop=True)\n",
    " \n",
    " \n",
    "#validation3 = data[(ntrain+ntest+nvalid1+nvalid2):].copy()\n",
    "#validation3.drop(['FORCE_2020_LITHOFACIES_LITHOLOGY'], axis=1, inplace=True)\n",
    "#validation3 = validation3.reset_index(drop=True)\n",
    " \n",
    "print(train2.shape, test2.shape)"
   ]
  },
  {
   "cell_type": "code",
   "execution_count": 77,
   "metadata": {},
   "outputs": [
    {
     "name": "stdout",
     "output_type": "stream",
     "text": [
      "(56000, 82) (24000, 82)\n"
     ]
    }
   ],
   "source": [
    "pca.fit(train2)\n",
    "\n",
    "train3 = pca.transform(train2)\n",
    "train2 = pd.concat((train2, pd.DataFrame(train3)), axis=1)\n",
    "test3 = pca.transform(test2)\n",
    "test2 = pd.concat((test2, pd.DataFrame(test3)), axis=1)\n",
    "print(train2.shape, test2.shape)"
   ]
  },
  {
   "cell_type": "code",
   "execution_count": 78,
   "metadata": {},
   "outputs": [],
   "source": [
    "traindata = train2\n",
    "testdata = test2\n",
    " \n",
    "scaler = preprocessing.StandardScaler().fit(traindata)\n",
    "def scale_data(data):\n",
    "  \n",
    "  data = scaler.transform(data)\n",
    "  #testdata = scaler.transform(testdata)\n",
    "  data = pd.DataFrame(data, columns=testdata.columns)\n",
    " \n",
    "  return data"
   ]
  },
  {
   "cell_type": "code",
   "execution_count": 79,
   "metadata": {},
   "outputs": [],
   "source": [
    "traindata = scale_data(traindata)\n",
    "testdata = scale_data(testdata)"
   ]
  },
  {
   "cell_type": "code",
   "execution_count": 28,
   "metadata": {},
   "outputs": [
    {
     "name": "stdout",
     "output_type": "stream",
     "text": [
      "(22400, 82) (22400,) (33600, 82) (56000,)\n"
     ]
    }
   ],
   "source": [
    "validation, traindata, valid_target, lithology = ms.train_test_split(traindata, target, random_state=405, test_size=0.6, stratify=target)\n",
    "print(validation.shape, valid_target.shape, traindata.shape, target.shape)"
   ]
  },
  {
   "cell_type": "code",
   "execution_count": 32,
   "metadata": {},
   "outputs": [
    {
     "data": {
      "text/plain": [
       "form_field1    0\n",
       "form_field2    0\n",
       "form_field3    0\n",
       "form_field4    0\n",
       "form_field5    0\n",
       "              ..\n",
       "25             0\n",
       "26             0\n",
       "27             0\n",
       "28             0\n",
       "29             0\n",
       "Length: 82, dtype: int64"
      ]
     },
     "execution_count": 32,
     "metadata": {},
     "output_type": "execute_result"
    }
   ],
   "source": [
    "traindata.isna().sum()"
   ]
  },
  {
   "cell_type": "code",
   "execution_count": null,
   "metadata": {},
   "outputs": [],
   "source": [
    "traindata_batch1 = traindata.drop(['form_field1', 'form_field2', 'form_field3', 'form_field4'], axis=1)\n",
    "traindata_batch2 = traindata.drop(['form_field5', 'form_field6', 'form_field7', 'form_field8'], axis=1)\n",
    "traindata_batch3 = traindata.drop(['form_field9', 'form_field10', 'form_field11', 'form_field12'], axis=1)\n",
    "traindata_batch4 = traindata.drop(['form_field13', 'form_field14', 'form_field15', 'form_field16'], axis=1)\n",
    "traindata_batch5 = traindata.drop(['form_field17', 'form_field18', 'form_field19', 'form_field20'], axis=1)\n",
    "traindata_batch6 = traindata.drop(['form_field24', 'form_field23', 'form_field22', 'form_field21'], axis=1)\n",
    "traindata_batch7 = traindata.drop(['form_field28', 'form_field27', 'form_field26', 'form_field25'], axis=1)\n",
    "traindata_batch8 = traindata.drop(['form_field32', 'form_field31', 'form_field30', 'form_field29'], axis=1)\n",
    " \n",
    "validation_batch1 = validation.drop(['form_field1', 'form_field2', 'form_field3', 'form_field4'], axis=1)\n",
    "validation_batch2 = validation.drop(['form_field5', 'form_field6', 'form_field7', 'form_field8'], axis=1)\n",
    "validation_batch3 = validation.drop(['form_field9', 'form_field10', 'form_field11', 'form_field12'], axis=1)\n",
    "validation_batch4 = validation.drop(['form_field13', 'form_field14', 'form_field15', 'form_field16'], axis=1)\n",
    "validation_batch5 = validation.drop(['form_field17', 'form_field18', 'form_field19', 'form_field20'], axis=1)\n",
    "validation_batch6 = validation.drop(['form_field24', 'form_field23', 'form_field22', 'form_field21'], axis=1)\n",
    "validation_batch7 = validation.drop(['form_field28', 'form_field27', 'form_field26', 'form_field25'], axis=1)\n",
    "validation_batch8 = validation.drop(['form_field32', 'form_field31', 'form_field30', 'form_field29'], axis=1)"
   ]
  },
  {
   "cell_type": "code",
   "execution_count": null,
   "metadata": {},
   "outputs": [],
   "source": []
  },
  {
   "cell_type": "code",
   "execution_count": 93,
   "metadata": {},
   "outputs": [
    {
     "name": "stdout",
     "output_type": "stream",
     "text": [
      "0:\tlearn: 0.6701479\ttest: 0.6709518\tbest: 0.6709518 (0)\ttotal: 824ms\tremaining: 11h 26m 17s\n",
      "50:\tlearn: 0.4042043\ttest: 0.4315764\tbest: 0.4315764 (50)\ttotal: 37.8s\tremaining: 10h 16m 53s\n",
      "100:\tlearn: 0.3769651\ttest: 0.4208715\tbest: 0.4208095 (99)\ttotal: 1m 12s\tremaining: 9h 59m 52s\n",
      "150:\tlearn: 0.3598804\ttest: 0.4176543\tbest: 0.4176511 (149)\ttotal: 1m 48s\tremaining: 9h 54m 51s\n",
      "200:\tlearn: 0.3461405\ttest: 0.4162133\tbest: 0.4162133 (200)\ttotal: 2m 23s\tremaining: 9h 53m 56s\n",
      "250:\tlearn: 0.3339238\ttest: 0.4151238\tbest: 0.4151238 (250)\ttotal: 2m 58s\tremaining: 9h 50m 48s\n",
      "300:\tlearn: 0.3214727\ttest: 0.4147184\tbest: 0.4145871 (298)\ttotal: 3m 33s\tremaining: 9h 48m 13s\n",
      "350:\tlearn: 0.3096958\ttest: 0.4142612\tbest: 0.4142563 (349)\ttotal: 4m 8s\tremaining: 9h 46m 22s\n",
      "400:\tlearn: 0.2977649\ttest: 0.4143586\tbest: 0.4141756 (394)\ttotal: 4m 43s\tremaining: 9h 43m 45s\n",
      "450:\tlearn: 0.2856659\ttest: 0.4145382\tbest: 0.4141756 (394)\ttotal: 5m 17s\tremaining: 9h 41m 50s\n",
      "500:\tlearn: 0.2736035\ttest: 0.4139375\tbest: 0.4139053 (499)\ttotal: 5m 53s\tremaining: 9h 41m 21s\n",
      "550:\tlearn: 0.2622817\ttest: 0.4144579\tbest: 0.4139053 (499)\ttotal: 6m 28s\tremaining: 9h 41m 25s\n",
      "600:\tlearn: 0.2519478\ttest: 0.4146901\tbest: 0.4139053 (499)\ttotal: 7m 3s\tremaining: 9h 40m 22s\n",
      "650:\tlearn: 0.2424335\ttest: 0.4151468\tbest: 0.4139053 (499)\ttotal: 7m 38s\tremaining: 9h 39m 8s\n",
      "Stopped by overfitting detector  (200 iterations wait)\n",
      "\n",
      "bestTest = 0.4139053357\n",
      "bestIteration = 499\n",
      "\n",
      "Shrink model to first 500 iterations.\n",
      "0:\tlearn: 0.6704080\ttest: 0.6704431\tbest: 0.6704431 (0)\ttotal: 749ms\tremaining: 10h 24m 32s\n",
      "50:\tlearn: 0.4060514\ttest: 0.4194468\tbest: 0.4194468 (50)\ttotal: 36.8s\tremaining: 10h 1m 16s\n",
      "100:\tlearn: 0.3792629\ttest: 0.4053246\tbest: 0.4053246 (100)\ttotal: 1m 11s\tremaining: 9h 49m 51s\n",
      "150:\tlearn: 0.3624381\ttest: 0.4016412\tbest: 0.4016412 (150)\ttotal: 1m 46s\tremaining: 9h 47m 49s\n",
      "200:\tlearn: 0.3478330\ttest: 0.4000061\tbest: 0.3998842 (194)\ttotal: 2m 21s\tremaining: 9h 46m 12s\n",
      "250:\tlearn: 0.3356385\ttest: 0.3986637\tbest: 0.3986637 (250)\ttotal: 2m 56s\tremaining: 9h 44m 29s\n",
      "300:\tlearn: 0.3234914\ttest: 0.3981466\tbest: 0.3981258 (298)\ttotal: 3m 32s\tremaining: 9h 43m 53s\n",
      "350:\tlearn: 0.3113591\ttest: 0.3978242\tbest: 0.3977211 (341)\ttotal: 4m 7s\tremaining: 9h 42m 37s\n",
      "400:\tlearn: 0.2996778\ttest: 0.3975486\tbest: 0.3972712 (390)\ttotal: 4m 41s\tremaining: 9h 41m 3s\n",
      "450:\tlearn: 0.2877005\ttest: 0.3971830\tbest: 0.3970329 (444)\ttotal: 5m 16s\tremaining: 9h 39m 54s\n",
      "500:\tlearn: 0.2766628\ttest: 0.3972224\tbest: 0.3970329 (444)\ttotal: 5m 51s\tremaining: 9h 39m 20s\n",
      "550:\tlearn: 0.2648761\ttest: 0.3975188\tbest: 0.3970329 (444)\ttotal: 6m 26s\tremaining: 9h 38m 47s\n",
      "600:\tlearn: 0.2542216\ttest: 0.3980246\tbest: 0.3970329 (444)\ttotal: 7m 2s\tremaining: 9h 38m 10s\n",
      "Stopped by overfitting detector  (200 iterations wait)\n",
      "\n",
      "bestTest = 0.3970328961\n",
      "bestIteration = 444\n",
      "\n",
      "Shrink model to first 445 iterations.\n",
      "0:\tlearn: 0.6701572\ttest: 0.6702626\tbest: 0.6702626 (0)\ttotal: 748ms\tremaining: 10h 23m 36s\n",
      "50:\tlearn: 0.4061326\ttest: 0.4235318\tbest: 0.4235318 (50)\ttotal: 37s\tremaining: 10h 3m 21s\n",
      "100:\tlearn: 0.3790095\ttest: 0.4112514\tbest: 0.4112514 (100)\ttotal: 1m 12s\tremaining: 9h 54m 15s\n",
      "150:\tlearn: 0.3620667\ttest: 0.4078330\tbest: 0.4077855 (149)\ttotal: 1m 47s\tremaining: 9h 48m 46s\n",
      "200:\tlearn: 0.3473019\ttest: 0.4060783\tbest: 0.4060783 (200)\ttotal: 2m 22s\tremaining: 9h 48m 8s\n",
      "250:\tlearn: 0.3340503\ttest: 0.4052906\tbest: 0.4052906 (250)\ttotal: 2m 57s\tremaining: 9h 46m 4s\n",
      "300:\tlearn: 0.3219801\ttest: 0.4048154\tbest: 0.4047079 (291)\ttotal: 3m 32s\tremaining: 9h 44m 33s\n",
      "350:\tlearn: 0.3095478\ttest: 0.4045715\tbest: 0.4044978 (348)\ttotal: 4m 7s\tremaining: 9h 43m 15s\n",
      "400:\tlearn: 0.2973252\ttest: 0.4045488\tbest: 0.4044089 (377)\ttotal: 4m 42s\tremaining: 9h 41m 37s\n",
      "450:\tlearn: 0.2852357\ttest: 0.4037083\tbest: 0.4037083 (450)\ttotal: 5m 17s\tremaining: 9h 40m 48s\n",
      "500:\tlearn: 0.2734901\ttest: 0.4038305\tbest: 0.4036479 (467)\ttotal: 5m 52s\tremaining: 9h 40m 36s\n",
      "550:\tlearn: 0.2628259\ttest: 0.4039654\tbest: 0.4036479 (467)\ttotal: 6m 27s\tremaining: 9h 40m\n",
      "600:\tlearn: 0.2529986\ttest: 0.4045933\tbest: 0.4036479 (467)\ttotal: 7m 2s\tremaining: 9h 38m 46s\n",
      "650:\tlearn: 0.2438815\ttest: 0.4046014\tbest: 0.4036479 (467)\ttotal: 7m 37s\tremaining: 9h 37m 45s\n",
      "Stopped by overfitting detector  (200 iterations wait)\n",
      "\n",
      "bestTest = 0.4036478847\n",
      "bestIteration = 467\n",
      "\n",
      "Shrink model to first 468 iterations.\n",
      "0:\tlearn: 0.6701079\ttest: 0.6718006\tbest: 0.6718006 (0)\ttotal: 808ms\tremaining: 11h 13m 1s\n",
      "50:\tlearn: 0.4047945\ttest: 0.4302075\tbest: 0.4302075 (50)\ttotal: 37.2s\tremaining: 10h 6m 38s\n",
      "100:\tlearn: 0.3780617\ttest: 0.4172865\tbest: 0.4172865 (100)\ttotal: 1m 14s\tremaining: 10h 10m 57s\n",
      "150:\tlearn: 0.3612892\ttest: 0.4143517\tbest: 0.4143517 (150)\ttotal: 1m 59s\tremaining: 10h 58m 29s\n",
      "200:\tlearn: 0.3470106\ttest: 0.4134784\tbest: 0.4133985 (180)\ttotal: 2m 35s\tremaining: 10h 40m 47s\n",
      "250:\tlearn: 0.3340301\ttest: 0.4130007\tbest: 0.4130007 (250)\ttotal: 3m 10s\tremaining: 10h 29m 5s\n",
      "300:\tlearn: 0.3204210\ttest: 0.4128076\tbest: 0.4126840 (291)\ttotal: 3m 46s\tremaining: 10h 23m 57s\n",
      "350:\tlearn: 0.3090402\ttest: 0.4125154\tbest: 0.4124703 (341)\ttotal: 4m 23s\tremaining: 10h 21m 32s\n",
      "400:\tlearn: 0.2971547\ttest: 0.4126155\tbest: 0.4122676 (364)\ttotal: 4m 58s\tremaining: 10h 15m 16s\n",
      "450:\tlearn: 0.2852159\ttest: 0.4130015\tbest: 0.4122676 (364)\ttotal: 5m 33s\tremaining: 10h 10m 23s\n",
      "500:\tlearn: 0.2729992\ttest: 0.4135892\tbest: 0.4122676 (364)\ttotal: 6m 8s\tremaining: 10h 7m 10s\n",
      "550:\tlearn: 0.2620802\ttest: 0.4141269\tbest: 0.4122676 (364)\ttotal: 6m 43s\tremaining: 10h 3m 47s\n",
      "Stopped by overfitting detector  (200 iterations wait)\n",
      "\n",
      "bestTest = 0.4122676292\n",
      "bestIteration = 364\n",
      "\n",
      "Shrink model to first 365 iterations.\n",
      "0:\tlearn: 0.6702621\ttest: 0.6708931\tbest: 0.6708931 (0)\ttotal: 731ms\tremaining: 10h 9m 28s\n",
      "50:\tlearn: 0.4057232\ttest: 0.4237886\tbest: 0.4237886 (50)\ttotal: 37.1s\tremaining: 10h 4m 59s\n",
      "100:\tlearn: 0.3784771\ttest: 0.4105741\tbest: 0.4105741 (100)\ttotal: 1m 12s\tremaining: 9h 57m 56s\n",
      "150:\tlearn: 0.3618722\ttest: 0.4067491\tbest: 0.4067220 (149)\ttotal: 1m 47s\tremaining: 9h 52m 58s\n",
      "200:\tlearn: 0.3469780\ttest: 0.4050574\tbest: 0.4050138 (197)\ttotal: 2m 22s\tremaining: 9h 50m 11s\n",
      "250:\tlearn: 0.3348868\ttest: 0.4044271\tbest: 0.4044271 (250)\ttotal: 2m 57s\tremaining: 9h 46m 46s\n",
      "300:\tlearn: 0.3230816\ttest: 0.4038541\tbest: 0.4038493 (295)\ttotal: 3m 32s\tremaining: 9h 46m 7s\n",
      "350:\tlearn: 0.3106313\ttest: 0.4039690\tbest: 0.4037949 (322)\ttotal: 4m 9s\tremaining: 9h 48m 11s\n",
      "400:\tlearn: 0.2983933\ttest: 0.4041121\tbest: 0.4037949 (322)\ttotal: 4m 44s\tremaining: 9h 46m 9s\n",
      "450:\tlearn: 0.2868966\ttest: 0.4040924\tbest: 0.4037949 (322)\ttotal: 5m 19s\tremaining: 9h 44m 39s\n",
      "500:\tlearn: 0.2756207\ttest: 0.4038662\tbest: 0.4036839 (481)\ttotal: 5m 54s\tremaining: 9h 43m 59s\n",
      "550:\tlearn: 0.2649537\ttest: 0.4039011\tbest: 0.4036839 (481)\ttotal: 6m 29s\tremaining: 9h 42m 47s\n",
      "600:\tlearn: 0.2543947\ttest: 0.4041159\tbest: 0.4036839 (481)\ttotal: 7m 4s\tremaining: 9h 41m 59s\n",
      "650:\tlearn: 0.2440416\ttest: 0.4042356\tbest: 0.4036839 (481)\ttotal: 7m 40s\tremaining: 9h 41m 45s\n",
      "Stopped by overfitting detector  (200 iterations wait)\n",
      "\n",
      "bestTest = 0.4036838915\n",
      "bestIteration = 481\n",
      "\n",
      "Shrink model to first 482 iterations.\n",
      "0:\tlearn: 0.6702112\ttest: 0.6709667\tbest: 0.6709667 (0)\ttotal: 757ms\tremaining: 10h 30m 28s\n",
      "50:\tlearn: 0.4050152\ttest: 0.4255770\tbest: 0.4255770 (50)\ttotal: 37s\tremaining: 10h 3m 22s\n",
      "100:\tlearn: 0.3780729\ttest: 0.4127973\tbest: 0.4127973 (100)\ttotal: 1m 13s\tremaining: 10h 6m 47s\n",
      "150:\tlearn: 0.3614524\ttest: 0.4092920\tbest: 0.4092920 (150)\ttotal: 1m 50s\tremaining: 10h 10m 6s\n",
      "200:\tlearn: 0.3469665\ttest: 0.4079087\tbest: 0.4079087 (200)\ttotal: 2m 35s\tremaining: 10h 43m\n",
      "250:\tlearn: 0.3347299\ttest: 0.4072216\tbest: 0.4072006 (246)\ttotal: 3m 16s\tremaining: 10h 50m 22s\n",
      "300:\tlearn: 0.3229034\ttest: 0.4075653\tbest: 0.4071770 (253)\ttotal: 3m 58s\tremaining: 10h 57m 35s\n",
      "350:\tlearn: 0.3114174\ttest: 0.4076287\tbest: 0.4071770 (253)\ttotal: 4m 38s\tremaining: 10h 57m 4s\n",
      "400:\tlearn: 0.2998462\ttest: 0.4077527\tbest: 0.4071770 (253)\ttotal: 5m 19s\tremaining: 10h 59m 19s\n",
      "450:\tlearn: 0.2879932\ttest: 0.4078268\tbest: 0.4071770 (253)\ttotal: 6m 2s\tremaining: 11h 2m 53s\n",
      "Stopped by overfitting detector  (200 iterations wait)\n",
      "\n",
      "bestTest = 0.4071770476\n",
      "bestIteration = 253\n",
      "\n",
      "Shrink model to first 254 iterations.\n",
      "0:\tlearn: 0.6699177\ttest: 0.6717947\tbest: 0.6717947 (0)\ttotal: 856ms\tremaining: 11h 53m 25s\n"
     ]
    },
    {
     "name": "stdout",
     "output_type": "stream",
     "text": [
      "50:\tlearn: 0.4030356\ttest: 0.4404463\tbest: 0.4404463 (50)\ttotal: 42.5s\tremaining: 11h 33m 30s\n",
      "100:\tlearn: 0.3756048\ttest: 0.4303215\tbest: 0.4303215 (100)\ttotal: 1m 24s\tremaining: 11h 33m 17s\n",
      "150:\tlearn: 0.3591468\ttest: 0.4286208\tbest: 0.4286208 (150)\ttotal: 2m 5s\tremaining: 11h 32m 29s\n",
      "200:\tlearn: 0.3451762\ttest: 0.4276658\tbest: 0.4276658 (200)\ttotal: 2m 46s\tremaining: 11h 27m 56s\n",
      "250:\tlearn: 0.3325813\ttest: 0.4273719\tbest: 0.4272091 (234)\ttotal: 3m 28s\tremaining: 11h 28m 26s\n",
      "300:\tlearn: 0.3199514\ttest: 0.4271417\tbest: 0.4269721 (287)\ttotal: 4m 10s\tremaining: 11h 28m 7s\n",
      "350:\tlearn: 0.3072996\ttest: 0.4271458\tbest: 0.4269721 (287)\ttotal: 4m 51s\tremaining: 11h 26m 43s\n",
      "400:\tlearn: 0.2954897\ttest: 0.4271256\tbest: 0.4268998 (388)\ttotal: 5m 33s\tremaining: 11h 26m 50s\n",
      "450:\tlearn: 0.2837636\ttest: 0.4272315\tbest: 0.4267725 (432)\ttotal: 6m 13s\tremaining: 11h 23m 16s\n",
      "500:\tlearn: 0.2726792\ttest: 0.4277480\tbest: 0.4267725 (432)\ttotal: 6m 53s\tremaining: 11h 20m 22s\n",
      "550:\tlearn: 0.2619081\ttest: 0.4274271\tbest: 0.4267725 (432)\ttotal: 7m 33s\tremaining: 11h 17m 55s\n",
      "600:\tlearn: 0.2525475\ttest: 0.4279021\tbest: 0.4267725 (432)\ttotal: 8m 12s\tremaining: 11h 15m 11s\n",
      "Stopped by overfitting detector  (200 iterations wait)\n",
      "\n",
      "bestTest = 0.4267724502\n",
      "bestIteration = 432\n",
      "\n",
      "Shrink model to first 433 iterations.\n",
      "0:\tlearn: 0.6702937\ttest: 0.6709582\tbest: 0.6709582 (0)\ttotal: 859ms\tremaining: 11h 55m 39s\n",
      "50:\tlearn: 0.4052551\ttest: 0.4245967\tbest: 0.4245967 (50)\ttotal: 40.1s\tremaining: 10h 54m 18s\n",
      "100:\tlearn: 0.3784738\ttest: 0.4112208\tbest: 0.4112208 (100)\ttotal: 1m 19s\tremaining: 10h 50m 34s\n",
      "150:\tlearn: 0.3620036\ttest: 0.4072228\tbest: 0.4072228 (150)\ttotal: 1m 53s\tremaining: 10h 26m 17s\n",
      "200:\tlearn: 0.3480343\ttest: 0.4064992\tbest: 0.4063916 (197)\ttotal: 2m 29s\tremaining: 10h 16m 13s\n",
      "250:\tlearn: 0.3361135\ttest: 0.4050637\tbest: 0.4050637 (250)\ttotal: 3m 4s\tremaining: 10h 9m 27s\n",
      "300:\tlearn: 0.3238170\ttest: 0.4047616\tbest: 0.4046989 (299)\ttotal: 3m 39s\tremaining: 10h 4m 33s\n",
      "350:\tlearn: 0.3119095\ttest: 0.4045065\tbest: 0.4043278 (337)\ttotal: 4m 14s\tremaining: 9h 59m 59s\n",
      "400:\tlearn: 0.2999591\ttest: 0.4051172\tbest: 0.4042363 (360)\ttotal: 4m 49s\tremaining: 9h 57m 13s\n",
      "450:\tlearn: 0.2881101\ttest: 0.4049608\tbest: 0.4042363 (360)\ttotal: 5m 24s\tremaining: 9h 54m 33s\n",
      "500:\tlearn: 0.2765021\ttest: 0.4053371\tbest: 0.4042363 (360)\ttotal: 5m 59s\tremaining: 9h 52m 23s\n",
      "550:\tlearn: 0.2653405\ttest: 0.4054993\tbest: 0.4042363 (360)\ttotal: 6m 34s\tremaining: 9h 50m 47s\n",
      "Stopped by overfitting detector  (200 iterations wait)\n",
      "\n",
      "bestTest = 0.4042362502\n",
      "bestIteration = 360\n",
      "\n",
      "Shrink model to first 361 iterations.\n",
      "0:\tlearn: 0.6723697\ttest: 0.6694737\tbest: 0.6694737 (0)\ttotal: 697ms\tremaining: 9h 40m 36s\n",
      "50:\tlearn: 0.4072196\ttest: 0.4094091\tbest: 0.4094091 (50)\ttotal: 37.2s\tremaining: 10h 6m 59s\n",
      "100:\tlearn: 0.3805371\ttest: 0.4020262\tbest: 0.4020262 (100)\ttotal: 1m 12s\tremaining: 9h 56m 51s\n",
      "150:\tlearn: 0.3644025\ttest: 0.4006697\tbest: 0.4006697 (150)\ttotal: 1m 47s\tremaining: 9h 51m 9s\n",
      "200:\tlearn: 0.3508711\ttest: 0.3999052\tbest: 0.3998828 (198)\ttotal: 2m 22s\tremaining: 9h 46m 48s\n",
      "250:\tlearn: 0.3378923\ttest: 0.3997500\tbest: 0.3996316 (234)\ttotal: 2m 57s\tremaining: 9h 45m 4s\n",
      "300:\tlearn: 0.3249971\ttest: 0.3994860\tbest: 0.3994371 (299)\ttotal: 3m 32s\tremaining: 9h 43m 59s\n",
      "350:\tlearn: 0.3135188\ttest: 0.3999084\tbest: 0.3994371 (299)\ttotal: 4m 7s\tremaining: 9h 42m 43s\n",
      "400:\tlearn: 0.3020953\ttest: 0.4007143\tbest: 0.3994371 (299)\ttotal: 4m 42s\tremaining: 9h 42m 3s\n",
      "450:\tlearn: 0.2892955\ttest: 0.4007038\tbest: 0.3994371 (299)\ttotal: 5m 17s\tremaining: 9h 41m 31s\n",
      "Stopped by overfitting detector  (200 iterations wait)\n",
      "\n",
      "bestTest = 0.3994371173\n",
      "bestIteration = 299\n",
      "\n",
      "Shrink model to first 300 iterations.\n",
      "0:\tlearn: 0.6705583\ttest: 0.6710151\tbest: 0.6710151 (0)\ttotal: 744ms\tremaining: 10h 19m 42s\n",
      "50:\tlearn: 0.4064188\ttest: 0.4212480\tbest: 0.4212480 (50)\ttotal: 37.1s\tremaining: 10h 6m 18s\n",
      "100:\tlearn: 0.3786360\ttest: 0.4086143\tbest: 0.4086143 (100)\ttotal: 1m 12s\tremaining: 9h 55m 7s\n",
      "150:\tlearn: 0.3618092\ttest: 0.4048273\tbest: 0.4048273 (150)\ttotal: 1m 47s\tremaining: 9h 52m 58s\n",
      "200:\tlearn: 0.3477904\ttest: 0.4031613\tbest: 0.4031432 (199)\ttotal: 2m 22s\tremaining: 9h 48m 43s\n",
      "250:\tlearn: 0.3359002\ttest: 0.4020220\tbest: 0.4020024 (249)\ttotal: 2m 57s\tremaining: 9h 46m 9s\n",
      "300:\tlearn: 0.3232380\ttest: 0.4015972\tbest: 0.4015366 (298)\ttotal: 3m 32s\tremaining: 9h 45m 31s\n",
      "350:\tlearn: 0.3111613\ttest: 0.4012165\tbest: 0.4011639 (342)\ttotal: 4m 7s\tremaining: 9h 44m 35s\n",
      "400:\tlearn: 0.2994753\ttest: 0.4004630\tbest: 0.4004296 (388)\ttotal: 4m 42s\tremaining: 9h 43m 5s\n",
      "450:\tlearn: 0.2881852\ttest: 0.4002827\tbest: 0.4000855 (409)\ttotal: 5m 18s\tremaining: 9h 42m 20s\n",
      "500:\tlearn: 0.2762413\ttest: 0.4003549\tbest: 0.4000855 (409)\ttotal: 5m 54s\tremaining: 9h 44m 16s\n",
      "550:\tlearn: 0.2647452\ttest: 0.4004357\tbest: 0.4000855 (409)\ttotal: 6m 30s\tremaining: 9h 43m 22s\n",
      "600:\tlearn: 0.2545433\ttest: 0.4008248\tbest: 0.4000855 (409)\ttotal: 7m 16s\tremaining: 9h 57m 20s\n",
      "Stopped by overfitting detector  (200 iterations wait)\n",
      "\n",
      "bestTest = 0.4000854586\n",
      "bestIteration = 409\n",
      "\n",
      "Shrink model to first 410 iterations.\n"
     ]
    }
   ],
   "source": [
    "kf = StratifiedKFold(n_splits=10,shuffle=False)\n",
    "#lgbm = lgb.LGBMClassifier(num_leaves=32, learning_rate=0.01, reg_alpha=20, n_estimators=50000, subsample=0.9, subsample_freq=1, colsample_bytree=0.9, eval_metric='auc', random_state=42)\n",
    "lgbm = CatBoostClassifier(n_estimators=50000, max_depth=10,\n",
    "                          random_state=101, subsample=0.9, learning_rate=0.033,use_best_model=True,\n",
    "                          task_type='CPU')\n",
    "scores = []\n",
    "pred_test_lg = np.zeros((len(test2), 2))\n",
    "for (train_index,test_index) in kf.split(pd.DataFrame(traindata),target):\n",
    "    X_train,X_test = pd.DataFrame(traindata).iloc[train_index], pd.DataFrame(traindata).iloc[test_index]\n",
    "    y_train,y_test = train.default_status.iloc[train_index],train.default_status.iloc[test_index]\n",
    "    #lgbm.fit(X_train,y_train,early_stopping_rounds=200,eval_set=[(X_test,y_test)], eval_metric='auc')\n",
    "    lgbm.fit(X_train,y_train,early_stopping_rounds=200,eval_set=[(X_test,y_test)], verbose=50)\n",
    "    #scores.append(metric(lgbm.predict_proba(X_test),y_test))\n",
    "    pred_test_lg+=lgbm.predict_proba(testdata)"
   ]
  },
  {
   "cell_type": "code",
   "execution_count": 26,
   "metadata": {},
   "outputs": [
    {
     "name": "stdout",
     "output_type": "stream",
     "text": [
      "(28000, 52) (28000,) (28000, 52) (28000,)\n"
     ]
    }
   ],
   "source": [
    "validation, traindata, valid_target, target = ms.train_test_split(traindata, target, random_state=405, test_size=0.5, stratify=target)\n",
    "print(validation.shape, valid_target.shape, traindata.shape, target.shape)"
   ]
  },
  {
   "cell_type": "code",
   "execution_count": 94,
   "metadata": {},
   "outputs": [
    {
     "data": {
      "text/plain": [
       "array([[3.58774814, 1.41225186],\n",
       "       [2.92247409, 2.07752591],\n",
       "       [3.09645369, 1.90354631],\n",
       "       ...,\n",
       "       [3.71648626, 1.28351374],\n",
       "       [2.18644979, 2.81355021],\n",
       "       [4.03997252, 0.96002748]])"
      ]
     },
     "execution_count": 94,
     "metadata": {},
     "output_type": "execute_result"
    }
   ],
   "source": [
    "pred_test_lg/2"
   ]
  },
  {
   "cell_type": "code",
   "execution_count": 95,
   "metadata": {},
   "outputs": [
    {
     "data": {
      "text/plain": [
       "array([[0.71754963, 0.28245037],\n",
       "       [0.58449482, 0.41550518],\n",
       "       [0.61929074, 0.38070926],\n",
       "       ...,\n",
       "       [0.74329725, 0.25670275],\n",
       "       [0.43728996, 0.56271004],\n",
       "       [0.8079945 , 0.1920055 ]])"
      ]
     },
     "execution_count": 95,
     "metadata": {},
     "output_type": "execute_result"
    }
   ],
   "source": [
    "pred_test_avg = pred_test_lg/10\n",
    "pred_test_avg"
   ]
  },
  {
   "cell_type": "code",
   "execution_count": 96,
   "metadata": {},
   "outputs": [],
   "source": [
    "prediction2 = pred_test_avg[:,1]"
   ]
  },
  {
   "cell_type": "code",
   "execution_count": 206,
   "metadata": {},
   "outputs": [
    {
     "name": "stdout",
     "output_type": "stream",
     "text": [
      "(6720, 50) (6720,) (26880, 50)\n"
     ]
    }
   ],
   "source": [
    "train1, sample1, ytrain1, ysample1 = ms.train_test_split(traindata, target, random_state=405, test_size=0.8, stratify=target)\n",
    "print(train1.shape, ytrain1.shape, sample1.shape)"
   ]
  },
  {
   "cell_type": "code",
   "execution_count": 207,
   "metadata": {},
   "outputs": [
    {
     "name": "stdout",
     "output_type": "stream",
     "text": [
      "(6720, 50) (6720,) (20160, 50)\n"
     ]
    }
   ],
   "source": [
    "train2, sample2, ytrain2, ysample2 = ms.train_test_split(sample1, ysample1, random_state=405, test_size=0.75, stratify=ysample1)\n",
    "print(train2.shape, ytrain2.shape, sample2.shape)"
   ]
  },
  {
   "cell_type": "code",
   "execution_count": 208,
   "metadata": {},
   "outputs": [
    {
     "name": "stdout",
     "output_type": "stream",
     "text": [
      "(6719, 50) (6719,) (13441, 50)\n"
     ]
    }
   ],
   "source": [
    "train3, sample3, ytrain3, ysample3 = ms.train_test_split(sample2, ysample2, random_state=405, test_size=0.666666667, stratify=ysample2)\n",
    "print(train3.shape, ytrain3.shape, sample3.shape)"
   ]
  },
  {
   "cell_type": "code",
   "execution_count": 209,
   "metadata": {},
   "outputs": [
    {
     "name": "stdout",
     "output_type": "stream",
     "text": [
      "(6720, 50) (6720,) (6721, 50) (6721,)\n"
     ]
    }
   ],
   "source": [
    "train4, train5, ytrain4, ytrain5 = ms.train_test_split(sample3, ysample3, random_state=405, test_size=0.5, stratify=ysample3)\n",
    "print(train4.shape, ytrain4.shape, train5.shape, ytrain5.shape)"
   ]
  },
  {
   "cell_type": "code",
   "execution_count": 27,
   "metadata": {},
   "outputs": [],
   "source": [
    "class Xgboost():\n",
    "    \n",
    "    def __init__(self, train, test, open_test, train_label, test_label):\n",
    "        \n",
    "        \n",
    "        self.train = train\n",
    "        self.test = test\n",
    "        self.open_test = open_test\n",
    "        #self.validation = validation\n",
    "        self.train_label = train_label\n",
    "        self.test_label = test_label\n",
    "        \n",
    "    def __call__(self, plot = True):\n",
    "        return self.fit(plot)\n",
    "    \n",
    "    def fit(self, plot):\n",
    " \n",
    "      self.x_train, self.x_test, self.y_train, self.y_test = ms.train_test_split(self.train, \n",
    "                                                                                   pd.DataFrame(np.array(self.train_label)), \n",
    "                                                                                   test_size=0.2,\n",
    "                                                                                   random_state=212)\n",
    "      \n",
    "      def show_evaluation(pred, true):\n",
    "        \n",
    "        #print(f'Default score: {confusion_matrix(true.values, pred)}')\n",
    "        print(f'AUC is: {roc_auc_score(true, pred)}')\n",
    "        #print(f'Accuracy is: {accuracy_score(true, pred)}')\n",
    "        #print(f'Logloss is: {log_loss(pred, true.values)}')\n",
    " \n",
    " \n",
    "      model = XGBClassifier(n_estimators=5000, max_depth=10, booster='gbtree', base_score=0.7,\n",
    "                            learning_rate=0.033, reg_lambda=1,\n",
    "                            subsample=1, colsample_bytree=1,\n",
    "                                 eval_metric='auc', verbose=2020, random_state=9090)\n",
    "      \n",
    "      model.fit(self.x_train, self.y_train, early_stopping_rounds=200, eval_set=[(self.x_test, self.y_test)], verbose=20)\n",
    " \n",
    "      pred = model.predict_proba(self.test)\n",
    "      #val = model.predict(self.validation)\n",
    "      open_pred = model.predict_proba(self.open_test)\n",
    "        \n",
    " \n",
    "      print('----------------TEST EVALUATION------------------')\n",
    "      print(show_evaluation(pred[:,1], self.test_label))\n",
    "                  \n",
    "      if plot: self.plot_feat_imp(model)\n",
    "      return pred[:,1], open_pred[:,1], model\n",
    "              \n",
    "              \n",
    "    def plot_feat_imp(self, model):\n",
    "        feat_imp = pd.Series(model.feature_importances_).sort_values(ascending=False)\n",
    "        plt.figure(figsize=(12,8))\n",
    "        feat_imp.plot(kind='bar', title='Feature Importances')\n",
    "        plt.ylabel('Feature Importance Score')"
   ]
  },
  {
   "cell_type": "code",
   "execution_count": 28,
   "metadata": {},
   "outputs": [
    {
     "ename": "NameError",
     "evalue": "name 'train1' is not defined",
     "output_type": "error",
     "traceback": [
      "\u001b[0;31m---------------------------------------------------------------------------\u001b[0m",
      "\u001b[0;31mNameError\u001b[0m                                 Traceback (most recent call last)",
      "\u001b[0;32m<ipython-input-28-995c1a0f5315>\u001b[0m in \u001b[0;36m<module>\u001b[0;34m\u001b[0m\n\u001b[0;32m----> 1\u001b[0;31m \u001b[0mfunc1_\u001b[0m\u001b[0;34m=\u001b[0m \u001b[0mXgboost\u001b[0m\u001b[0;34m(\u001b[0m\u001b[0mtrain1\u001b[0m\u001b[0;34m,\u001b[0m \u001b[0mvalidation\u001b[0m\u001b[0;34m,\u001b[0m \u001b[0mtestdata\u001b[0m\u001b[0;34m,\u001b[0m \u001b[0mytrain1\u001b[0m\u001b[0;34m,\u001b[0m \u001b[0mvalid_target\u001b[0m\u001b[0;34m)\u001b[0m\u001b[0;34m\u001b[0m\u001b[0;34m\u001b[0m\u001b[0m\n\u001b[0m\u001b[1;32m      2\u001b[0m \u001b[0mpred1\u001b[0m\u001b[0;34m,\u001b[0m \u001b[0mopen_test1\u001b[0m\u001b[0;34m,\u001b[0m \u001b[0mmodel1\u001b[0m \u001b[0;34m=\u001b[0m \u001b[0mfunc1_\u001b[0m\u001b[0;34m(\u001b[0m\u001b[0;34m)\u001b[0m\u001b[0;34m\u001b[0m\u001b[0;34m\u001b[0m\u001b[0m\n",
      "\u001b[0;31mNameError\u001b[0m: name 'train1' is not defined"
     ]
    }
   ],
   "source": [
    "func1_= Xgboost(train1, validation, testdata, ytrain1, valid_target)\n",
    "pred1, open_test1, model1 = func1_()"
   ]
  },
  {
   "cell_type": "code",
   "execution_count": 154,
   "metadata": {},
   "outputs": [
    {
     "name": "stdout",
     "output_type": "stream",
     "text": [
      "[17:17:26] WARNING: /workspace/src/learner.cc:480: \n",
      "Parameters: { verbose } might not be used.\n",
      "\n",
      "  This may not be accurate due to some parameters are only used in language bindings but\n",
      "  passed down to XGBoost core.  Or some parameters are not used but slip through this\n",
      "  verification. Please open an issue if you find above cases.\n",
      "\n",
      "\n",
      "[0]\tvalidation_0-auc:0.73713\n",
      "Will train until validation_0-auc hasn't improved in 200 rounds.\n"
     ]
    },
    {
     "name": "stderr",
     "output_type": "stream",
     "text": [
      "/home/olawale/anaconda3/lib/python3.7/site-packages/sklearn/utils/validation.py:73: DataConversionWarning: A column-vector y was passed when a 1d array was expected. Please change the shape of y to (n_samples, ), for example using ravel().\n",
      "  return f(**kwargs)\n"
     ]
    },
    {
     "name": "stdout",
     "output_type": "stream",
     "text": [
      "[20]\tvalidation_0-auc:0.77426\n",
      "[40]\tvalidation_0-auc:0.77950\n",
      "[60]\tvalidation_0-auc:0.78150\n",
      "[80]\tvalidation_0-auc:0.78568\n",
      "[100]\tvalidation_0-auc:0.78951\n",
      "[120]\tvalidation_0-auc:0.79032\n",
      "[140]\tvalidation_0-auc:0.79268\n",
      "[160]\tvalidation_0-auc:0.79579\n",
      "[180]\tvalidation_0-auc:0.79748\n",
      "[200]\tvalidation_0-auc:0.79883\n",
      "[220]\tvalidation_0-auc:0.80055\n",
      "[240]\tvalidation_0-auc:0.80215\n",
      "[260]\tvalidation_0-auc:0.80268\n",
      "[280]\tvalidation_0-auc:0.80354\n",
      "[300]\tvalidation_0-auc:0.80469\n",
      "[320]\tvalidation_0-auc:0.80583\n",
      "[340]\tvalidation_0-auc:0.80601\n",
      "[360]\tvalidation_0-auc:0.80676\n",
      "[380]\tvalidation_0-auc:0.80741\n",
      "[400]\tvalidation_0-auc:0.80768\n",
      "[420]\tvalidation_0-auc:0.80797\n",
      "[440]\tvalidation_0-auc:0.80832\n",
      "[460]\tvalidation_0-auc:0.80879\n",
      "[480]\tvalidation_0-auc:0.80882\n",
      "[500]\tvalidation_0-auc:0.80922\n",
      "[520]\tvalidation_0-auc:0.80961\n",
      "[540]\tvalidation_0-auc:0.80966\n",
      "[560]\tvalidation_0-auc:0.80978\n",
      "[580]\tvalidation_0-auc:0.81025\n",
      "[600]\tvalidation_0-auc:0.81027\n",
      "[620]\tvalidation_0-auc:0.81062\n",
      "[640]\tvalidation_0-auc:0.81105\n",
      "[660]\tvalidation_0-auc:0.81123\n",
      "[680]\tvalidation_0-auc:0.81145\n",
      "[700]\tvalidation_0-auc:0.81155\n",
      "[720]\tvalidation_0-auc:0.81183\n",
      "[740]\tvalidation_0-auc:0.81211\n",
      "[760]\tvalidation_0-auc:0.81227\n",
      "[780]\tvalidation_0-auc:0.81236\n",
      "[800]\tvalidation_0-auc:0.81234\n",
      "[820]\tvalidation_0-auc:0.81243\n",
      "[840]\tvalidation_0-auc:0.81253\n",
      "[860]\tvalidation_0-auc:0.81248\n",
      "[880]\tvalidation_0-auc:0.81255\n",
      "[900]\tvalidation_0-auc:0.81260\n",
      "[920]\tvalidation_0-auc:0.81257\n",
      "[940]\tvalidation_0-auc:0.81273\n",
      "[960]\tvalidation_0-auc:0.81289\n",
      "[980]\tvalidation_0-auc:0.81309\n",
      "[1000]\tvalidation_0-auc:0.81295\n",
      "[1020]\tvalidation_0-auc:0.81284\n",
      "[1040]\tvalidation_0-auc:0.81287\n",
      "[1060]\tvalidation_0-auc:0.81297\n",
      "[1080]\tvalidation_0-auc:0.81299\n",
      "[1100]\tvalidation_0-auc:0.81317\n",
      "[1120]\tvalidation_0-auc:0.81299\n",
      "[1140]\tvalidation_0-auc:0.81301\n",
      "[1160]\tvalidation_0-auc:0.81318\n",
      "[1180]\tvalidation_0-auc:0.81311\n",
      "[1200]\tvalidation_0-auc:0.81310\n",
      "[1220]\tvalidation_0-auc:0.81296\n",
      "[1240]\tvalidation_0-auc:0.81290\n",
      "[1260]\tvalidation_0-auc:0.81281\n",
      "[1280]\tvalidation_0-auc:0.81271\n",
      "[1300]\tvalidation_0-auc:0.81258\n",
      "[1320]\tvalidation_0-auc:0.81239\n",
      "[1340]\tvalidation_0-auc:0.81235\n",
      "[1360]\tvalidation_0-auc:0.81234\n",
      "Stopping. Best iteration:\n",
      "[1160]\tvalidation_0-auc:0.81318\n",
      "\n",
      "----------------TEST EVALUATION------------------\n",
      "AUC is: 0.8288254167433451\n",
      "None\n"
     ]
    },
    {
     "data": {
      "image/png": "[encoded data removed]",
      "text/plain": [
       "<Figure size 864x576 with 1 Axes>"
      ]
     },
     "metadata": {
      "needs_background": "light"
     },
     "output_type": "display_data"
    }
   ],
   "source": [
    "func2_= Xgboost(train2, validation, testdata, ytrain2, valid_target)\n",
    "pred2, open_test2, model2 = func2_()"
   ]
  },
  {
   "cell_type": "code",
   "execution_count": 156,
   "metadata": {},
   "outputs": [
    {
     "name": "stdout",
     "output_type": "stream",
     "text": [
      "[17:18:27] WARNING: /workspace/src/learner.cc:480: \n",
      "Parameters: { verbose } might not be used.\n",
      "\n",
      "  This may not be accurate due to some parameters are only used in language bindings but\n",
      "  passed down to XGBoost core.  Or some parameters are not used but slip through this\n",
      "  verification. Please open an issue if you find above cases.\n",
      "\n",
      "\n",
      "[0]\tvalidation_0-auc:0.70865\n",
      "Will train until validation_0-auc hasn't improved in 200 rounds.\n"
     ]
    },
    {
     "name": "stderr",
     "output_type": "stream",
     "text": [
      "/home/olawale/anaconda3/lib/python3.7/site-packages/sklearn/utils/validation.py:73: DataConversionWarning: A column-vector y was passed when a 1d array was expected. Please change the shape of y to (n_samples, ), for example using ravel().\n",
      "  return f(**kwargs)\n"
     ]
    },
    {
     "name": "stdout",
     "output_type": "stream",
     "text": [
      "[20]\tvalidation_0-auc:0.80914\n",
      "[40]\tvalidation_0-auc:0.80451\n",
      "[60]\tvalidation_0-auc:0.79804\n",
      "[80]\tvalidation_0-auc:0.79530\n",
      "[100]\tvalidation_0-auc:0.79230\n",
      "[120]\tvalidation_0-auc:0.79063\n",
      "[140]\tvalidation_0-auc:0.79109\n",
      "[160]\tvalidation_0-auc:0.79046\n",
      "[180]\tvalidation_0-auc:0.78939\n",
      "[200]\tvalidation_0-auc:0.78829\n",
      "Stopping. Best iteration:\n",
      "[11]\tvalidation_0-auc:0.81253\n",
      "\n",
      "----------------TEST EVALUATION------------------\n",
      "AUC is: 0.8226300375414628\n",
      "None\n"
     ]
    },
    {
     "data": {
      "image/png": "[encoded data removed]",
      "text/plain": [
       "<Figure size 864x576 with 1 Axes>"
      ]
     },
     "metadata": {
      "needs_background": "light"
     },
     "output_type": "display_data"
    }
   ],
   "source": [
    "func3_= Xgboost(train3, validation, testdata, ytrain3, valid_target)\n",
    "pred3, open_test3, model3 = func3_()"
   ]
  },
  {
   "cell_type": "code",
   "execution_count": 158,
   "metadata": {},
   "outputs": [
    {
     "name": "stdout",
     "output_type": "stream",
     "text": [
      "[17:19:29] WARNING: /workspace/src/learner.cc:480: \n",
      "Parameters: { verbose } might not be used.\n",
      "\n",
      "  This may not be accurate due to some parameters are only used in language bindings but\n",
      "  passed down to XGBoost core.  Or some parameters are not used but slip through this\n",
      "  verification. Please open an issue if you find above cases.\n",
      "\n",
      "\n",
      "[0]\tvalidation_0-auc:0.75985\n",
      "Will train until validation_0-auc hasn't improved in 200 rounds.\n"
     ]
    },
    {
     "name": "stderr",
     "output_type": "stream",
     "text": [
      "/home/olawale/anaconda3/lib/python3.7/site-packages/sklearn/utils/validation.py:73: DataConversionWarning: A column-vector y was passed when a 1d array was expected. Please change the shape of y to (n_samples, ), for example using ravel().\n",
      "  return f(**kwargs)\n"
     ]
    },
    {
     "name": "stdout",
     "output_type": "stream",
     "text": [
      "[20]\tvalidation_0-auc:0.82149\n",
      "[40]\tvalidation_0-auc:0.82413\n",
      "[60]\tvalidation_0-auc:0.82749\n",
      "[80]\tvalidation_0-auc:0.82789\n",
      "[100]\tvalidation_0-auc:0.82883\n",
      "[120]\tvalidation_0-auc:0.82855\n",
      "[140]\tvalidation_0-auc:0.82876\n",
      "[160]\tvalidation_0-auc:0.82889\n",
      "[180]\tvalidation_0-auc:0.82883\n",
      "[200]\tvalidation_0-auc:0.82911\n",
      "[220]\tvalidation_0-auc:0.82928\n",
      "[240]\tvalidation_0-auc:0.82900\n",
      "[260]\tvalidation_0-auc:0.82931\n",
      "[280]\tvalidation_0-auc:0.82969\n",
      "[300]\tvalidation_0-auc:0.83010\n",
      "[320]\tvalidation_0-auc:0.83074\n",
      "[340]\tvalidation_0-auc:0.83079\n",
      "[360]\tvalidation_0-auc:0.83103\n",
      "[380]\tvalidation_0-auc:0.83117\n",
      "[400]\tvalidation_0-auc:0.83143\n",
      "[420]\tvalidation_0-auc:0.83187\n",
      "[440]\tvalidation_0-auc:0.83195\n",
      "[460]\tvalidation_0-auc:0.83248\n",
      "[480]\tvalidation_0-auc:0.83274\n",
      "[500]\tvalidation_0-auc:0.83307\n",
      "[520]\tvalidation_0-auc:0.83308\n",
      "[540]\tvalidation_0-auc:0.83335\n",
      "[560]\tvalidation_0-auc:0.83357\n",
      "[580]\tvalidation_0-auc:0.83376\n",
      "[600]\tvalidation_0-auc:0.83428\n",
      "[620]\tvalidation_0-auc:0.83425\n",
      "[640]\tvalidation_0-auc:0.83427\n",
      "[660]\tvalidation_0-auc:0.83428\n",
      "[680]\tvalidation_0-auc:0.83440\n",
      "[700]\tvalidation_0-auc:0.83444\n",
      "[720]\tvalidation_0-auc:0.83458\n",
      "[740]\tvalidation_0-auc:0.83463\n",
      "[760]\tvalidation_0-auc:0.83466\n",
      "[780]\tvalidation_0-auc:0.83472\n",
      "[800]\tvalidation_0-auc:0.83488\n",
      "[820]\tvalidation_0-auc:0.83498\n",
      "[840]\tvalidation_0-auc:0.83506\n",
      "[860]\tvalidation_0-auc:0.83499\n",
      "[880]\tvalidation_0-auc:0.83506\n",
      "[900]\tvalidation_0-auc:0.83506\n",
      "[920]\tvalidation_0-auc:0.83519\n",
      "[940]\tvalidation_0-auc:0.83515\n",
      "[960]\tvalidation_0-auc:0.83520\n",
      "[980]\tvalidation_0-auc:0.83531\n",
      "[1000]\tvalidation_0-auc:0.83540\n",
      "[1020]\tvalidation_0-auc:0.83562\n",
      "[1040]\tvalidation_0-auc:0.83566\n",
      "[1060]\tvalidation_0-auc:0.83554\n",
      "[1080]\tvalidation_0-auc:0.83567\n",
      "[1100]\tvalidation_0-auc:0.83566\n",
      "[1120]\tvalidation_0-auc:0.83577\n",
      "[1140]\tvalidation_0-auc:0.83572\n",
      "[1160]\tvalidation_0-auc:0.83567\n",
      "[1180]\tvalidation_0-auc:0.83556\n",
      "[1200]\tvalidation_0-auc:0.83558\n",
      "[1220]\tvalidation_0-auc:0.83566\n",
      "[1240]\tvalidation_0-auc:0.83576\n",
      "[1260]\tvalidation_0-auc:0.83576\n",
      "[1280]\tvalidation_0-auc:0.83572\n",
      "[1300]\tvalidation_0-auc:0.83562\n",
      "[1320]\tvalidation_0-auc:0.83555\n",
      "Stopping. Best iteration:\n",
      "[1133]\tvalidation_0-auc:0.83582\n",
      "\n",
      "----------------TEST EVALUATION------------------\n",
      "AUC is: 0.827182021283195\n",
      "None\n"
     ]
    },
    {
     "data": {
      "image/png": "[encoded data removed]",
      "text/plain": [
       "<Figure size 864x576 with 1 Axes>"
      ]
     },
     "metadata": {
      "needs_background": "light"
     },
     "output_type": "display_data"
    }
   ],
   "source": [
    "func4_= Xgboost(train4, validation, testdata, ytrain4, valid_target)\n",
    "pred4, open_test4, model4 = func4_()"
   ]
  },
  {
   "cell_type": "code",
   "execution_count": 160,
   "metadata": {},
   "outputs": [
    {
     "name": "stdout",
     "output_type": "stream",
     "text": [
      "[17:33:24] WARNING: /workspace/src/learner.cc:480: \n",
      "Parameters: { verbose } might not be used.\n",
      "\n",
      "  This may not be accurate due to some parameters are only used in language bindings but\n",
      "  passed down to XGBoost core.  Or some parameters are not used but slip through this\n",
      "  verification. Please open an issue if you find above cases.\n",
      "\n",
      "\n",
      "[0]\tvalidation_0-auc:0.69784\n",
      "Will train until validation_0-auc hasn't improved in 200 rounds.\n"
     ]
    },
    {
     "name": "stderr",
     "output_type": "stream",
     "text": [
      "/home/olawale/anaconda3/lib/python3.7/site-packages/sklearn/utils/validation.py:73: DataConversionWarning: A column-vector y was passed when a 1d array was expected. Please change the shape of y to (n_samples, ), for example using ravel().\n",
      "  return f(**kwargs)\n"
     ]
    },
    {
     "name": "stdout",
     "output_type": "stream",
     "text": [
      "[20]\tvalidation_0-auc:0.81124\n",
      "[40]\tvalidation_0-auc:0.82737\n",
      "[60]\tvalidation_0-auc:0.83235\n",
      "[80]\tvalidation_0-auc:0.83503\n",
      "[100]\tvalidation_0-auc:0.83551\n",
      "[120]\tvalidation_0-auc:0.83618\n",
      "[140]\tvalidation_0-auc:0.83624\n",
      "[160]\tvalidation_0-auc:0.83746\n",
      "[180]\tvalidation_0-auc:0.83701\n",
      "[200]\tvalidation_0-auc:0.83676\n",
      "[220]\tvalidation_0-auc:0.83670\n",
      "[240]\tvalidation_0-auc:0.83655\n",
      "[260]\tvalidation_0-auc:0.83629\n",
      "[280]\tvalidation_0-auc:0.83622\n",
      "[300]\tvalidation_0-auc:0.83607\n",
      "[320]\tvalidation_0-auc:0.83542\n",
      "[340]\tvalidation_0-auc:0.83519\n",
      "Stopping. Best iteration:\n",
      "[156]\tvalidation_0-auc:0.83758\n",
      "\n",
      "----------------TEST EVALUATION------------------\n",
      "AUC is: 0.8250697455089117\n",
      "None\n"
     ]
    },
    {
     "data": {
      "image/png": "[encoded data removed]",
      "text/plain": [
       "<Figure size 864x576 with 1 Axes>"
      ]
     },
     "metadata": {
      "needs_background": "light"
     },
     "output_type": "display_data"
    }
   ],
   "source": [
    "func5_= Xgboost(train5, validation, testdata, ytrain5, valid_target)\n",
    "pred5, open_test5, model5 = func5_()"
   ]
  },
  {
   "cell_type": "code",
   "execution_count": 161,
   "metadata": {},
   "outputs": [],
   "source": [
    "stack = np.column_stack((pred1, pred2, pred3, pred4, pred5))\n",
    "#stack_p = np.column_stack((val1, val2, val3, val4, val5, val6, val7, val8))\n",
    "stack_open = np.column_stack((open_test1, open_test2, open_test3, open_test4, open_test5))"
   ]
  },
  {
   "cell_type": "code",
   "execution_count": 162,
   "metadata": {},
   "outputs": [
    {
     "data": {
      "text/plain": [
       "array([[0.6453316 , 0.6243318 , 0.66647714, 0.7049684 , 0.56432563],\n",
       "       [0.5559749 , 0.6147881 , 0.4235459 , 0.43022174, 0.44133762],\n",
       "       [0.30772358, 0.18915437, 0.13541855, 0.26620027, 0.2274061 ],\n",
       "       ...,\n",
       "       [0.29806408, 0.38621995, 0.33637828, 0.25780267, 0.6317501 ],\n",
       "       [0.49934736, 0.35815364, 0.20410308, 0.42244744, 0.3460878 ],\n",
       "       [0.35214263, 0.43790308, 0.48020968, 0.24657845, 0.3745236 ]],\n",
       "      dtype=float32)"
      ]
     },
     "execution_count": 162,
     "metadata": {},
     "output_type": "execute_result"
    }
   ],
   "source": [
    "stack"
   ]
  },
  {
   "cell_type": "code",
   "execution_count": null,
   "metadata": {},
   "outputs": [],
   "source": []
  },
  {
   "cell_type": "code",
   "execution_count": 210,
   "metadata": {},
   "outputs": [],
   "source": [
    "meta_model = LinearRegression()\n",
    "#meta_model = RandomForestClassifier(n_estimators=200, random_state=42, class_weight='balanced', verbose=2)\n",
    "meta_model.fit(stack, valid_target)\n",
    "#final_val_pred = meta_model.predict(stack_p)\n",
    "final_open_pred = meta_model.predict(stack_open)\n",
    " \n",
    "#print(show_evaluation(final_val_pred, valid2_lithology))"
   ]
  },
  {
   "cell_type": "code",
   "execution_count": 211,
   "metadata": {},
   "outputs": [
    {
     "data": {
      "text/plain": [
       "35345    0\n",
       "41374    1\n",
       "21599    0\n",
       "33493    1\n",
       "36767    0\n",
       "        ..\n",
       "35720    0\n",
       "5626     1\n",
       "17561    1\n",
       "24679    1\n",
       "9835     0\n",
       "Name: default_status, Length: 22400, dtype: int64"
      ]
     },
     "execution_count": 211,
     "metadata": {},
     "output_type": "execute_result"
    }
   ],
   "source": [
    "valid_target"
   ]
  },
  {
   "cell_type": "code",
   "execution_count": 37,
   "metadata": {},
   "outputs": [],
   "source": [
    "def make_submission(prediction, filename):\n",
    "    sample = pd.read_csv('SampleSubmission.csv')\n",
    "    test = pd.read_csv('Test.csv')\n",
    "    sample.Applicant_ID = test.Applicant_ID\n",
    "    sample.default_status = prediction\n",
    "    sample.to_csv(filename, index = False)"
   ]
  },
  {
   "cell_type": "code",
   "execution_count": 132,
   "metadata": {},
   "outputs": [
    {
     "data": {
      "text/plain": [
       "(0.68, 0.0)"
      ]
     },
     "execution_count": 132,
     "metadata": {},
     "output_type": "execute_result"
    }
   ],
   "source": [
    "o.default_status.max(), o.default_status.min()"
   ]
  },
  {
   "cell_type": "code",
   "execution_count": 141,
   "metadata": {},
   "outputs": [
    {
     "data": {
      "text/plain": [
       "count    24000.000000\n",
       "mean         0.191779\n",
       "std          0.181008\n",
       "min          0.002197\n",
       "25%          0.036927\n",
       "50%          0.133790\n",
       "75%          0.301472\n",
       "max          0.733601\n",
       "Name: default_status, dtype: float64"
      ]
     },
     "execution_count": 141,
     "metadata": {},
     "output_type": "execute_result"
    }
   ],
   "source": [
    "avg12.describe()"
   ]
  },
  {
   "cell_type": "code",
   "execution_count": 8,
   "metadata": {},
   "outputs": [],
   "source": [
    "#max_avg_3_9_11 = (max_avg.CHURN + cat3_9.CHURN + cat3_11.CHURN)/3\n",
    "o = pd.read_csv('mvg1.csv')\n",
    "o['default_status'] = np.where(o['default_status'] < 0.05, 0, o['default_status'])\n",
    "o['default_status'] = o['default_status'] \n",
    "o.to_csv('mvg2.csv', index=False)"
   ]
  },
  {
   "cell_type": "code",
   "execution_count": 97,
   "metadata": {},
   "outputs": [],
   "source": [
    "make_submission(prediction2, 'avg26.csv')"
   ]
  },
  {
   "cell_type": "code",
   "execution_count": 98,
   "metadata": {},
   "outputs": [],
   "source": [
    "a = pd.read_csv('baseline_model.csv')  #0.84419\n",
    "b = pd.read_csv('cat_xgstack.csv')  #0.84394\n",
    "c = pd.read_csv('catboost_baseline.csv')     #0.84393\n",
    "d = pd.read_csv('baseline_all_features.csv')   #0.84287\n",
    "e = pd.read_csv('cat_80features.csv')   #0.84366\n",
    "f = pd.read_csv('80features_and_baseline.csv')          #0.84117\n",
    "g = pd.read_csv('allfeatures_catboostbaseline.csv')\n",
    "h = pd.read_csv('LGB_all_features.csv')\n",
    "i = pd.read_csv('cat_LGB_all_features.csv')\n",
    "j = pd.read_csv('20-FOLD-catboost.csv')\n",
    "k = pd.read_csv('RF-XG-CAT.csv')\n",
    "l = pd.read_csv('avg5.csv')\n",
    "m = pd.read_csv('stack1.csv')\n",
    "n = pd.read_csv('avg1.csv')\n",
    "o = pd.read_csv('avg3.csv')\n",
    "p = pd.read_csv('avg4.csv')\n",
    "q = pd.read_csv('avg16.csv')\n",
    "r = pd.read_csv('avg10.csv')\n",
    "s= pd.read_csv('RF-XG-CAT-LG.csv')\n",
    "t = pd.read_csv('10foldcatboost80features.csv')\n",
    "u = pd.read_csv('avg6.csv')\n",
    "v = pd.read_csv('avg7.csv')\n",
    "w = pd.read_csv('CAT-CAT-CAT-LG.csv')\n",
    "x = pd.read_csv('avg8.csv')\n",
    "y = pd.read_csv('81-features-catboost.csv')\n",
    "z = pd.read_csv('81-features-lightboost.csv')                \n",
    "a1 = pd.read_csv('10foldcatboost85features.csv')                \n",
    "a2 = pd.read_csv('avg9.csv')   #0.844365\n",
    "a3 = pd.read_csv('avg10.csv')   #0.8443866             \n",
    "a4 = pd.read_csv('mvg1.csv')    #0.844376        \n",
    "a5 = pd.read_csv('mvg2.csv')    #0.8443299            \n",
    "a6 = pd.read_csv('avg12.csv')   #0.844394            \n",
    "a7 = pd.read_csv('avg13.csv')   #0.8443919  \n",
    "a8 = pd.read_csv('4-stack-xgb')\n",
    "a9 = pd.read_csv('6-4-stack-xgb')       \n",
    "a10 = pd.read_csv('avg17.csv')           \n",
    "a11 = pd.read_csv('avg18.csv')            \n",
    "a12 = pd.read_csv('avg19.csv') \n",
    "a13 = pd.read_csv('avg20.csv') \n",
    "a14 = pd.read_csv('avg21.csv') \n",
    "a15 = pd.read_csv('avg22.csv') \n",
    "a16 = pd.read_csv('avg23.csv') \n",
    "a17 = pd.read_csv('avg24.csv') \n",
    "a18 = pd.read_csv('catboost-5-max-depth.csv') "
   ]
  },
  {
   "cell_type": "code",
   "execution_count": 101,
   "metadata": {},
   "outputs": [],
   "source": [
    "a28 = (a15.default_status + a17.default_status)/2"
   ]
  },
  {
   "cell_type": "code",
   "execution_count": 104,
   "metadata": {},
   "outputs": [],
   "source": [
    "a29 = (a28*0.8) + (a15.default_status*0.2)"
   ]
  },
  {
   "cell_type": "code",
   "execution_count": 99,
   "metadata": {},
   "outputs": [],
   "source": [
    "a27 = (a12.default_status + a13.default_status + a14.default_status + a15.default_status + a16.default_status + \n",
    "       a17.default_status + a18.default_status)/7"
   ]
  },
  {
   "cell_type": "code",
   "execution_count": 105,
   "metadata": {},
   "outputs": [],
   "source": [
    "make_submission(a29, 'a29.csv')"
   ]
  },
  {
   "cell_type": "code",
   "execution_count": 26,
   "metadata": {},
   "outputs": [],
   "source": [
    "avg17 = ((((a6.default_status)*0.455 + (a7.default_status)*0.555)*0.7356 + \n",
    "         ((a4.default_status)*0.86+ (a3.default_status)*0.14)*0.2644) * 0.7 + \n",
    "         (a2.default_status * 0.6 + a5.default_status*0.4) * 0.3)"
   ]
  },
  {
   "cell_type": "code",
   "execution_count": 48,
   "metadata": {},
   "outputs": [],
   "source": [
    "avg24 = (a10.default_status*0.7 + a12.default_status*0.3) *0.2 + a10.default_status*1.2"
   ]
  },
  {
   "cell_type": "code",
   "execution_count": 47,
   "metadata": {},
   "outputs": [
    {
     "data": {
      "text/plain": [
       "0.9944628553546865"
      ]
     },
     "execution_count": 47,
     "metadata": {},
     "output_type": "execute_result"
    }
   ],
   "source": [
    "avg22.max()"
   ]
  },
  {
   "cell_type": "code",
   "execution_count": 12,
   "metadata": {},
   "outputs": [],
   "source": [
    "avg14 = (a.default_status + b.default_status + c.default_status + d.default_status + e.default_status + \n",
    "         f.default_status + g.default_status + h.default_status + i.default_status + j.default_status + \n",
    "         k.default_status + l.default_status + m.default_status + n.default_status + o.default_status + \n",
    "         p.default_status + q.default_status + r.default_status + s.default_status + t.default_status + \n",
    "         u.default_status + v.default_status + w.default_status + x.default_status + y.default_status + \n",
    "         z.default_status + a1.default_status + a2.default_status + a3.default_status + a4.default_status + \n",
    "         a5.default_status + a6.default_status + a7.default_status + a8.default_status + a9.default_status)/35"
   ]
  },
  {
   "cell_type": "code",
   "execution_count": 84,
   "metadata": {},
   "outputs": [],
   "source": [
    "make_submission(prediction, 'catboost-5-max-depth.csv')"
   ]
  },
  {
   "cell_type": "code",
   "execution_count": 39,
   "metadata": {},
   "outputs": [],
   "source": [
    "avg21 = (a12.default_status*0.8 + a11.default_status*0.2)*1.2 + (a10.default_status*1.2)"
   ]
  },
  {
   "cell_type": "code",
   "execution_count": 44,
   "metadata": {},
   "outputs": [
    {
     "data": {
      "text/plain": [
       "0        0.245438\n",
       "1        0.297881\n",
       "2        0.307271\n",
       "3        0.585389\n",
       "4        0.141826\n",
       "           ...   \n",
       "23995    0.546494\n",
       "23996    0.214358\n",
       "23997    0.222133\n",
       "23998    0.412331\n",
       "23999    0.156057\n",
       "Name: default_status, Length: 24000, dtype: float64"
      ]
     },
     "execution_count": 44,
     "metadata": {},
     "output_type": "execute_result"
    }
   ],
   "source": [
    "avg23 = (a7.default_status + avg22)/2\n",
    "avg23"
   ]
  },
  {
   "cell_type": "code",
   "execution_count": 33,
   "metadata": {},
   "outputs": [
    {
     "data": {
      "text/plain": [
       "0        0.239088\n",
       "1        0.291006\n",
       "2        0.298733\n",
       "3        0.569654\n",
       "4        0.138233\n",
       "           ...   \n",
       "23995    0.531861\n",
       "23996    0.206744\n",
       "23997    0.216063\n",
       "23998    0.401222\n",
       "23999    0.152393\n",
       "Name: default_status, Length: 24000, dtype: float64"
      ]
     },
     "execution_count": 33,
     "metadata": {},
     "output_type": "execute_result"
    }
   ],
   "source": [
    "avg20"
   ]
  },
  {
   "cell_type": "code",
   "execution_count": 21,
   "metadata": {},
   "outputs": [
    {
     "data": {
      "text/plain": [
       "0        0.249785\n",
       "1        0.302736\n",
       "2        0.312969\n",
       "3        0.595971\n",
       "4        0.144286\n",
       "           ...   \n",
       "23995    0.556336\n",
       "23996    0.219087\n",
       "23997    0.226231\n",
       "23998    0.419847\n",
       "23999    0.158646\n",
       "Name: default_status, Length: 24000, dtype: float64"
      ]
     },
     "execution_count": 21,
     "metadata": {},
     "output_type": "execute_result"
    }
   ],
   "source": [
    "avg16"
   ]
  },
  {
   "cell_type": "code",
   "execution_count": 144,
   "metadata": {},
   "outputs": [],
   "source": [
    "avg13 = (f.default_status + o.default_status)/2"
   ]
  },
  {
   "cell_type": "code",
   "execution_count": 114,
   "metadata": {},
   "outputs": [],
   "source": [
    "avg10 = (m.default_status + o.default_status + p.default_status)/3"
   ]
  },
  {
   "cell_type": "code",
   "execution_count": 140,
   "metadata": {},
   "outputs": [],
   "source": [
    "avg12 = ((t.default_status)*0.2 + (l.default_status)*0.8)*0.9 + ((o.default_status)*0.7 + (a.default_status)*0.3)*0.1 "
   ]
  },
  {
   "cell_type": "code",
   "execution_count": 25,
   "metadata": {},
   "outputs": [],
   "source": [
    "avg6 = (p.default_status + a.default_status + b.default_status + c.default_status + k.default_status)/5"
   ]
  },
  {
   "cell_type": "code",
   "execution_count": 29,
   "metadata": {},
   "outputs": [],
   "source": [
    "avg7 = (avg6*0.7) + (p.default_status*0.3)"
   ]
  },
  {
   "cell_type": "code",
   "execution_count": 34,
   "metadata": {},
   "outputs": [],
   "source": [
    "make_submission(avg8, 'avg8.csv')"
   ]
  },
  {
   "cell_type": "code",
   "execution_count": 35,
   "metadata": {},
   "outputs": [
    {
     "data": {
      "text/plain": [
       "0        0.255973\n",
       "1        0.306266\n",
       "2        0.320923\n",
       "3        0.609143\n",
       "4        0.145961\n",
       "           ...   \n",
       "23995    0.567275\n",
       "23996    0.225072\n",
       "23997    0.231543\n",
       "23998    0.430957\n",
       "23999    0.161361\n",
       "Name: default_status, Length: 24000, dtype: float64"
      ]
     },
     "execution_count": 35,
     "metadata": {},
     "output_type": "execute_result"
    }
   ],
   "source": [
    "avg8"
   ]
  },
  {
   "cell_type": "code",
   "execution_count": 33,
   "metadata": {},
   "outputs": [],
   "source": [
    "avg8 = (avg7*0.9) + ((avg6*0.7+n.default_status*0.3)*0.1)"
   ]
  },
  {
   "cell_type": "code",
   "execution_count": 12,
   "metadata": {},
   "outputs": [
    {
     "data": {
      "text/plain": [
       "0        0.287776\n",
       "1        0.333733\n",
       "2        0.355539\n",
       "3        0.685824\n",
       "4        0.161376\n",
       "           ...   \n",
       "23995    0.637286\n",
       "23996    0.242239\n",
       "23997    0.266154\n",
       "23998    0.480112\n",
       "23999    0.183126\n",
       "Name: default_status, Length: 24000, dtype: float64"
      ]
     },
     "execution_count": 12,
     "metadata": {},
     "output_type": "execute_result"
    }
   ],
   "source": [
    "avg10 = (a.default_status + b.default_status + c.default_status + d.default_status + e.default_status + \n",
    "         f.default_status + g.default_status + h.default_status + i.default_status + j.default_status)/10\n",
    "avg10"
   ]
  },
  {
   "cell_type": "code",
   "execution_count": 32,
   "metadata": {},
   "outputs": [],
   "source": [
    "avg1 = ((a.default_status)*0.9 + ((b.default_status)*0.6 + (f.default_status)*0.4)*0.1)*0.8+ ((d.default_status)*0.4 + (e.default_status)*0.6)*0.2"
   ]
  },
  {
   "cell_type": "code",
   "execution_count": 36,
   "metadata": {},
   "outputs": [
    {
     "data": {
      "text/plain": [
       "0    0.156168\n",
       "1    0.186879\n",
       "2    0.191676\n",
       "3    0.369668\n",
       "4    0.090156\n",
       "5    0.182883\n",
       "6    0.184644\n",
       "7    0.300827\n",
       "8    0.208737\n",
       "9    0.158362\n",
       "Name: default_status, dtype: float64"
      ]
     },
     "execution_count": 36,
     "metadata": {},
     "output_type": "execute_result"
    }
   ],
   "source": [
    "avg5[:10]"
   ]
  },
  {
   "cell_type": "code",
   "execution_count": 37,
   "metadata": {},
   "outputs": [
    {
     "data": {
      "text/plain": [
       "0    0.306544\n",
       "1    0.379391\n",
       "2    0.382733\n",
       "3    0.732123\n",
       "4    0.184963\n",
       "5    0.367723\n",
       "6    0.376904\n",
       "7    0.609829\n",
       "8    0.401287\n",
       "9    0.314871\n",
       "Name: default_status, dtype: float64"
      ]
     },
     "execution_count": 37,
     "metadata": {},
     "output_type": "execute_result"
    }
   ],
   "source": [
    "avg1[:10]"
   ]
  },
  {
   "cell_type": "code",
   "execution_count": 42,
   "metadata": {},
   "outputs": [
    {
     "data": {
      "text/plain": [
       "0    0.238585\n",
       "1    0.293042\n",
       "2    0.296727\n",
       "3    0.568657\n",
       "4    0.142532\n",
       "5    0.284643\n",
       "6    0.290768\n",
       "7    0.471187\n",
       "8    0.313830\n",
       "9    0.244349\n",
       "Name: default_status, dtype: float64"
      ]
     },
     "execution_count": 42,
     "metadata": {},
     "output_type": "execute_result"
    }
   ],
   "source": [
    "avg2 = (avg1*1.2 + avg5*0.7)/2\n",
    "avg2[:10]"
   ]
  },
  {
   "cell_type": "code",
   "execution_count": 49,
   "metadata": {},
   "outputs": [
    {
     "data": {
      "text/plain": [
       "0    0.246689\n",
       "1    0.284098\n",
       "2    0.293306\n",
       "3    0.573866\n",
       "4    0.146320\n",
       "5    0.282250\n",
       "6    0.290898\n",
       "7    0.471240\n",
       "8    0.317318\n",
       "9    0.246584\n",
       "Name: default_status, dtype: float64"
      ]
     },
     "execution_count": 49,
     "metadata": {},
     "output_type": "execute_result"
    }
   ],
   "source": [
    "avg4 = (avg1*0.2 + avg3*0.8)*0.6 + (avg5)*0.4\n",
    "avg4[:10]"
   ]
  },
  {
   "cell_type": "code",
   "execution_count": 45,
   "metadata": {},
   "outputs": [
    {
     "data": {
      "text/plain": [
       "0    0.307159\n",
       "1    0.341291\n",
       "2    0.355641\n",
       "3    0.704467\n",
       "4    0.183463\n",
       "5    0.343687\n",
       "6    0.357942\n",
       "7    0.578605\n",
       "8    0.386811\n",
       "9    0.303030\n",
       "Name: default_status, dtype: float64"
      ]
     },
     "execution_count": 45,
     "metadata": {},
     "output_type": "execute_result"
    }
   ],
   "source": [
    "avg3 = (avg1 + avg5 + g.default_status + h.default_status + i.default_status)/5\n",
    "avg3[:10]"
   ]
  },
  {
   "cell_type": "code",
   "execution_count": 39,
   "metadata": {},
   "outputs": [
    {
     "data": {
      "text/html": [
       "<div>\n",
       "<style scoped>\n",
       "    .dataframe tbody tr th:only-of-type {\n",
       "        vertical-align: middle;\n",
       "    }\n",
       "\n",
       "    .dataframe tbody tr th {\n",
       "        vertical-align: top;\n",
       "    }\n",
       "\n",
       "    .dataframe thead th {\n",
       "        text-align: right;\n",
       "    }\n",
       "</style>\n",
       "<table border=\"1\" class=\"dataframe\">\n",
       "  <thead>\n",
       "    <tr style=\"text-align: right;\">\n",
       "      <th></th>\n",
       "      <th>Applicant_ID</th>\n",
       "      <th>default_status</th>\n",
       "    </tr>\n",
       "  </thead>\n",
       "  <tbody>\n",
       "    <tr>\n",
       "      <th>0</th>\n",
       "      <td>Apcnt_1000032</td>\n",
       "      <td>0.303753</td>\n",
       "    </tr>\n",
       "    <tr>\n",
       "      <th>1</th>\n",
       "      <td>Apcnt_1000048</td>\n",
       "      <td>0.383076</td>\n",
       "    </tr>\n",
       "    <tr>\n",
       "      <th>2</th>\n",
       "      <td>Apcnt_1000052</td>\n",
       "      <td>0.380495</td>\n",
       "    </tr>\n",
       "    <tr>\n",
       "      <th>3</th>\n",
       "      <td>Apcnt_1000076</td>\n",
       "      <td>0.724759</td>\n",
       "    </tr>\n",
       "    <tr>\n",
       "      <th>4</th>\n",
       "      <td>Apcnt_1000080</td>\n",
       "      <td>0.190117</td>\n",
       "    </tr>\n",
       "    <tr>\n",
       "      <th>5</th>\n",
       "      <td>Apcnt_1000084</td>\n",
       "      <td>0.367904</td>\n",
       "    </tr>\n",
       "    <tr>\n",
       "      <th>6</th>\n",
       "      <td>Apcnt_1000104</td>\n",
       "      <td>0.384217</td>\n",
       "    </tr>\n",
       "    <tr>\n",
       "      <th>7</th>\n",
       "      <td>Apcnt_1000116</td>\n",
       "      <td>0.616027</td>\n",
       "    </tr>\n",
       "    <tr>\n",
       "      <th>8</th>\n",
       "      <td>Apcnt_1000128</td>\n",
       "      <td>0.386746</td>\n",
       "    </tr>\n",
       "    <tr>\n",
       "      <th>9</th>\n",
       "      <td>Apcnt_1000156</td>\n",
       "      <td>0.313836</td>\n",
       "    </tr>\n",
       "  </tbody>\n",
       "</table>\n",
       "</div>"
      ],
      "text/plain": [
       "    Applicant_ID  default_status\n",
       "0  Apcnt_1000032        0.303753\n",
       "1  Apcnt_1000048        0.383076\n",
       "2  Apcnt_1000052        0.380495\n",
       "3  Apcnt_1000076        0.724759\n",
       "4  Apcnt_1000080        0.190117\n",
       "5  Apcnt_1000084        0.367904\n",
       "6  Apcnt_1000104        0.384217\n",
       "7  Apcnt_1000116        0.616027\n",
       "8  Apcnt_1000128        0.386746\n",
       "9  Apcnt_1000156        0.313836"
      ]
     },
     "execution_count": 39,
     "metadata": {},
     "output_type": "execute_result"
    }
   ],
   "source": [
    "submission1 = pd.read_csv('baseline_all_features.csv')\n",
    "submission1.head(10)"
   ]
  },
  {
   "cell_type": "code",
   "execution_count": 214,
   "metadata": {},
   "outputs": [
    {
     "data": {
      "text/html": [
       "<div>\n",
       "<style scoped>\n",
       "    .dataframe tbody tr th:only-of-type {\n",
       "        vertical-align: middle;\n",
       "    }\n",
       "\n",
       "    .dataframe tbody tr th {\n",
       "        vertical-align: top;\n",
       "    }\n",
       "\n",
       "    .dataframe thead th {\n",
       "        text-align: right;\n",
       "    }\n",
       "</style>\n",
       "<table border=\"1\" class=\"dataframe\">\n",
       "  <thead>\n",
       "    <tr style=\"text-align: right;\">\n",
       "      <th></th>\n",
       "      <th>Applicant_ID</th>\n",
       "      <th>default_status</th>\n",
       "    </tr>\n",
       "  </thead>\n",
       "  <tbody>\n",
       "    <tr>\n",
       "      <th>0</th>\n",
       "      <td>Apcnt_1000032</td>\n",
       "      <td>0.352908</td>\n",
       "    </tr>\n",
       "    <tr>\n",
       "      <th>1</th>\n",
       "      <td>Apcnt_1000048</td>\n",
       "      <td>0.310231</td>\n",
       "    </tr>\n",
       "    <tr>\n",
       "      <th>2</th>\n",
       "      <td>Apcnt_1000052</td>\n",
       "      <td>0.331209</td>\n",
       "    </tr>\n",
       "    <tr>\n",
       "      <th>3</th>\n",
       "      <td>Apcnt_1000076</td>\n",
       "      <td>0.751772</td>\n",
       "    </tr>\n",
       "    <tr>\n",
       "      <th>4</th>\n",
       "      <td>Apcnt_1000080</td>\n",
       "      <td>0.229558</td>\n",
       "    </tr>\n",
       "    <tr>\n",
       "      <th>...</th>\n",
       "      <td>...</td>\n",
       "      <td>...</td>\n",
       "    </tr>\n",
       "    <tr>\n",
       "      <th>23995</th>\n",
       "      <td>Apcnt_999940</td>\n",
       "      <td>0.635556</td>\n",
       "    </tr>\n",
       "    <tr>\n",
       "      <th>23996</th>\n",
       "      <td>Apcnt_999956</td>\n",
       "      <td>0.170295</td>\n",
       "    </tr>\n",
       "    <tr>\n",
       "      <th>23997</th>\n",
       "      <td>Apcnt_999976</td>\n",
       "      <td>0.377394</td>\n",
       "    </tr>\n",
       "    <tr>\n",
       "      <th>23998</th>\n",
       "      <td>Apcnt_999984</td>\n",
       "      <td>0.571092</td>\n",
       "    </tr>\n",
       "    <tr>\n",
       "      <th>23999</th>\n",
       "      <td>Apcnt_999992</td>\n",
       "      <td>0.234302</td>\n",
       "    </tr>\n",
       "  </tbody>\n",
       "</table>\n",
       "<p>24000 rows × 2 columns</p>\n",
       "</div>"
      ],
      "text/plain": [
       "        Applicant_ID  default_status\n",
       "0      Apcnt_1000032        0.352908\n",
       "1      Apcnt_1000048        0.310231\n",
       "2      Apcnt_1000052        0.331209\n",
       "3      Apcnt_1000076        0.751772\n",
       "4      Apcnt_1000080        0.229558\n",
       "...              ...             ...\n",
       "23995   Apcnt_999940        0.635556\n",
       "23996   Apcnt_999956        0.170295\n",
       "23997   Apcnt_999976        0.377394\n",
       "23998   Apcnt_999984        0.571092\n",
       "23999   Apcnt_999992        0.234302\n",
       "\n",
       "[24000 rows x 2 columns]"
      ]
     },
     "execution_count": 214,
     "metadata": {},
     "output_type": "execute_result"
    }
   ],
   "source": [
    "submission = pd.read_csv('baseline_model.csv')\n",
    "submission"
   ]
  },
  {
   "cell_type": "code",
   "execution_count": 274,
   "metadata": {},
   "outputs": [
    {
     "data": {
      "text/html": [
       "<div>\n",
       "<style scoped>\n",
       "    .dataframe tbody tr th:only-of-type {\n",
       "        vertical-align: middle;\n",
       "    }\n",
       "\n",
       "    .dataframe tbody tr th {\n",
       "        vertical-align: top;\n",
       "    }\n",
       "\n",
       "    .dataframe thead th {\n",
       "        text-align: right;\n",
       "    }\n",
       "</style>\n",
       "<table border=\"1\" class=\"dataframe\">\n",
       "  <thead>\n",
       "    <tr style=\"text-align: right;\">\n",
       "      <th></th>\n",
       "      <th>Applicant_ID</th>\n",
       "      <th>default_status</th>\n",
       "    </tr>\n",
       "  </thead>\n",
       "  <tbody>\n",
       "    <tr>\n",
       "      <th>0</th>\n",
       "      <td>Apcnt_1000032</td>\n",
       "      <td>0.322118</td>\n",
       "    </tr>\n",
       "    <tr>\n",
       "      <th>1</th>\n",
       "      <td>Apcnt_1000048</td>\n",
       "      <td>0.367092</td>\n",
       "    </tr>\n",
       "    <tr>\n",
       "      <th>2</th>\n",
       "      <td>Apcnt_1000052</td>\n",
       "      <td>0.388731</td>\n",
       "    </tr>\n",
       "    <tr>\n",
       "      <th>3</th>\n",
       "      <td>Apcnt_1000076</td>\n",
       "      <td>0.743791</td>\n",
       "    </tr>\n",
       "    <tr>\n",
       "      <th>4</th>\n",
       "      <td>Apcnt_1000080</td>\n",
       "      <td>0.182554</td>\n",
       "    </tr>\n",
       "    <tr>\n",
       "      <th>...</th>\n",
       "      <td>...</td>\n",
       "      <td>...</td>\n",
       "    </tr>\n",
       "    <tr>\n",
       "      <th>23995</th>\n",
       "      <td>Apcnt_999940</td>\n",
       "      <td>0.707418</td>\n",
       "    </tr>\n",
       "    <tr>\n",
       "      <th>23996</th>\n",
       "      <td>Apcnt_999956</td>\n",
       "      <td>0.280780</td>\n",
       "    </tr>\n",
       "    <tr>\n",
       "      <th>23997</th>\n",
       "      <td>Apcnt_999976</td>\n",
       "      <td>0.289889</td>\n",
       "    </tr>\n",
       "    <tr>\n",
       "      <th>23998</th>\n",
       "      <td>Apcnt_999984</td>\n",
       "      <td>0.539345</td>\n",
       "    </tr>\n",
       "    <tr>\n",
       "      <th>23999</th>\n",
       "      <td>Apcnt_999992</td>\n",
       "      <td>0.195100</td>\n",
       "    </tr>\n",
       "  </tbody>\n",
       "</table>\n",
       "<p>24000 rows × 2 columns</p>\n",
       "</div>"
      ],
      "text/plain": [
       "        Applicant_ID  default_status\n",
       "0      Apcnt_1000032        0.322118\n",
       "1      Apcnt_1000048        0.367092\n",
       "2      Apcnt_1000052        0.388731\n",
       "3      Apcnt_1000076        0.743791\n",
       "4      Apcnt_1000080        0.182554\n",
       "...              ...             ...\n",
       "23995   Apcnt_999940        0.707418\n",
       "23996   Apcnt_999956        0.280780\n",
       "23997   Apcnt_999976        0.289889\n",
       "23998   Apcnt_999984        0.539345\n",
       "23999   Apcnt_999992        0.195100\n",
       "\n",
       "[24000 rows x 2 columns]"
      ]
     },
     "execution_count": 274,
     "metadata": {},
     "output_type": "execute_result"
    }
   ],
   "source": [
    "submission = pd.read_csv('catboost_baseline.csv')\n",
    "submission"
   ]
  },
  {
   "cell_type": "code",
   "execution_count": 101,
   "metadata": {},
   "outputs": [],
   "source": [
    "submission.replace({2:0}, inplace=True)"
   ]
  },
  {
   "cell_type": "code",
   "execution_count": 104,
   "metadata": {},
   "outputs": [],
   "source": [
    "submission.to_csv('baseline_model.csv',index=False)"
   ]
  },
  {
   "cell_type": "code",
   "execution_count": 276,
   "metadata": {},
   "outputs": [],
   "source": [
    "avg = (submission1.default_status + submission.default_status)/2"
   ]
  },
  {
   "cell_type": "code",
   "execution_count": 277,
   "metadata": {},
   "outputs": [
    {
     "data": {
      "text/plain": [
       "0        0.302993\n",
       "1        0.367357\n",
       "2        0.404657\n",
       "3        0.762418\n",
       "4        0.161324\n",
       "           ...   \n",
       "23995    0.720801\n",
       "23996    0.257145\n",
       "23997    0.270479\n",
       "23998    0.506813\n",
       "23999    0.189106\n",
       "Name: default_status, Length: 24000, dtype: float64"
      ]
     },
     "execution_count": 277,
     "metadata": {},
     "output_type": "execute_result"
    }
   ],
   "source": [
    "avg"
   ]
  },
  {
   "cell_type": "code",
   "execution_count": null,
   "metadata": {},
   "outputs": [],
   "source": []
  }
 ],
 "metadata": {
  "kernelspec": {
   "display_name": "Python 3",
   "language": "python",
   "name": "python3"
  },
  "language_info": {
   "codemirror_mode": {
    "name": "ipython",
    "version": 3
   },
   "file_extension": ".py",
   "mimetype": "text/x-python",
   "name": "python",
   "nbconvert_exporter": "python",
   "pygments_lexer": "ipython3",
   "version": "3.7.6"
  }
 },
 "nbformat": 4,
 "nbformat_minor": 2
}
