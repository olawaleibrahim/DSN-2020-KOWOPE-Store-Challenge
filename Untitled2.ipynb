{
 "cells": [
  {
   "cell_type": "code",
   "execution_count": 1,
   "metadata": {},
   "outputs": [],
   "source": [
    "import pandas as pd\n",
    "import numpy as np\n",
    "\n",
    "def make_submission(prediction, filename):\n",
    "    sample = pd.read_csv('SampleSubmission.csv')\n",
    "    test = pd.read_csv('Test.csv')\n",
    "    sample.Applicant_ID = test.Applicant_ID\n",
    "    sample.default_status = prediction\n",
    "    sample.to_csv(filename, index = False)"
   ]
  },
  {
   "cell_type": "code",
   "execution_count": 6,
   "metadata": {},
   "outputs": [],
   "source": [
    "a47 = pd.read_csv('a47.csv')\n",
    "a57 = pd.read_csv('a57.csv')\n",
    "a55 = pd.read_csv('a55.csv')\n",
    "a51 = pd.read_csv('a51.csv')\n",
    "a39 = pd.read_csv('a39.csv')\n",
    "a53 = pd.read_csv('a53.csv')\n",
    "a62 = pd.read_csv('a62.csv')\n",
    "a = pd.read_csv('20catfold-8max-depth2.csv')\n",
    "b = pd.read_csv('10catfold-8max-depth2.csv')\n",
    "c = pd.read_csv('10catfold-8max-depth2.csv')\n",
    "a64 = pd.read_csv('a64.csv')\n",
    "a63 = pd.read_csv('a63.csv')\n",
    "a61 = pd.read_csv('a61.csv')\n",
    "a62 = pd.read_csv('a62.csv')\n",
    "a60 = pd.read_csv('a60.csv')\n",
    "a59 = pd.read_csv('a59.csv')\n",
    "a58 = pd.read_csv('a58.csv')\n",
    "a47 = pd.read_csv('a47.csv')\n",
    "a68 = pd.read_csv('a68.csv')\n",
    "a67 = pd.read_csv('a67.csv')\n",
    "a65 = pd.read_csv('a65.csv')\n",
    "a75 = pd.read_csv('a75.csv')\n",
    "b3 = pd.read_csv('b3.csv')\n",
    "b9 = pd.read_csv('b9.csv')\n",
    "b15 = pd.read_csv('b15.csv')"
   ]
  },
  {
   "cell_type": "code",
   "execution_count": 9,
   "metadata": {},
   "outputs": [],
   "source": [
    "lg = pd.read_csv('LGB_all_features.csv')  #0.8428\n",
    "lg2 = pd.read_csv('20lgbfold-8max-depth1.csv')  #0.8428\n",
    "lg1 = pd.read_csv('lgb-7maxdepth-features.csv')\n",
    "xg = pd.read_csv('20xgbfold-8max-depth1.csv')  #0.84323\n",
    "xg1 = pd.read_csv('4-stack-xgb')\n",
    "a75 = pd.read_csv('20xgbfold-8max-depth1.csv')  #0.844578\n",
    "cat1 = pd.read_csv('20catfold-8max-depth2.csv')  #0.84442\n",
    "cat2 = pd.read_csv('10catfold-8max-depth2.csv')   #0.84441\n",
    "cat0 = pd.read_csv('cat_80features.csv')   #0.84393\n",
    "cat3 = pd.read_csv('10catfold-8max-depth3_.csv')  #0.84384\n",
    "cat4 = pd.read_csv('5fold-7max-depth.csv')  #0.84418\n",
    "cat5 = pd.read_csv('5catfold-8max-depth1_.csv')  #0.84408"
   ]
  },
  {
   "cell_type": "code",
   "execution_count": 8,
   "metadata": {},
   "outputs": [
    {
     "data": {
      "text/plain": [
       "0        0.294939\n",
       "1        0.364129\n",
       "2        0.374488\n",
       "3        0.740652\n",
       "4        0.136310\n",
       "           ...   \n",
       "23995    0.687433\n",
       "23996    0.247484\n",
       "23997    0.271670\n",
       "23998    0.505528\n",
       "23999    0.191372\n",
       "Name: default_status, Length: 24000, dtype: float64"
      ]
     },
     "execution_count": 8,
     "metadata": {},
     "output_type": "execute_result"
    }
   ],
   "source": [
    "b2 = (b9.default_status * 0.5 + xg1.default_status*0.3 + a.default_status*0.2)\n",
    "make_submission(b2, 'b2.csv')\n",
    "b2"
   ]
  },
  {
   "cell_type": "code",
   "execution_count": 7,
   "metadata": {},
   "outputs": [
    {
     "data": {
      "text/plain": [
       "0        0.291133\n",
       "1        0.375591\n",
       "2        0.393312\n",
       "3        0.740360\n",
       "4        0.150740\n",
       "           ...   \n",
       "23995    0.697543\n",
       "23996    0.261832\n",
       "23997    0.272906\n",
       "23998    0.529475\n",
       "23999    0.187069\n",
       "Name: default_status, Length: 24000, dtype: float64"
      ]
     },
     "execution_count": 7,
     "metadata": {},
     "output_type": "execute_result"
    }
   ],
   "source": [
    "b3 = (lg.default_status*0.1 + xg.default_status*0.2 + \n",
    "      cat1.default_status*0.4 + cat2.default_status * 0.3)\n",
    "make_submission(b3, 'b3.csv')\n",
    "b3"
   ]
  },
  {
   "cell_type": "code",
   "execution_count": 13,
   "metadata": {},
   "outputs": [
    {
     "data": {
      "text/plain": [
       "0        0.276659\n",
       "1        0.365707\n",
       "2        0.370423\n",
       "3        0.702870\n",
       "4        0.144227\n",
       "           ...   \n",
       "23995    0.659942\n",
       "23996    0.246153\n",
       "23997    0.262657\n",
       "23998    0.503465\n",
       "23999    0.181468\n",
       "Name: default_status, Length: 24000, dtype: float64"
      ]
     },
     "execution_count": 13,
     "metadata": {},
     "output_type": "execute_result"
    }
   ],
   "source": [
    "b20 = (lg.default_status*0.1 + xg.default_status*0.1 +  cat0.default_status*0.1 +  \n",
    "      cat1.default_status*0.3 + cat2.default_status * 0.3 + lg2.default_status * 0.1)\n",
    "make_submission(b20, 'b20.csv')\n",
    "b20"
   ]
  },
  {
   "cell_type": "code",
   "execution_count": null,
   "metadata": {},
   "outputs": [],
   "source": [
    "b21 = (b1*)"
   ]
  },
  {
   "cell_type": "code",
   "execution_count": 9,
   "metadata": {},
   "outputs": [
    {
     "data": {
      "text/plain": [
       "0        0.276687\n",
       "1        0.352988\n",
       "2        0.375885\n",
       "3        0.703480\n",
       "4        0.142282\n",
       "           ...   \n",
       "23995    0.662513\n",
       "23996    0.248851\n",
       "23997    0.256638\n",
       "23998    0.502493\n",
       "23999    0.178829\n",
       "Name: default_status, Length: 24000, dtype: float64"
      ]
     },
     "execution_count": 9,
     "metadata": {},
     "output_type": "execute_result"
    }
   ],
   "source": [
    "b9 = (lg.default_status*0.1 + xg.default_status*0.2 +  cat0.default_status*0.1 +  \n",
    "      cat1.default_status*0.3 + cat2.default_status * 0.3)\n",
    "make_submission(b9, 'b9.csv')\n",
    "b9"
   ]
  },
  {
   "cell_type": "code",
   "execution_count": 4,
   "metadata": {},
   "outputs": [
    {
     "data": {
      "text/plain": [
       "0        0.277688\n",
       "1        0.360887\n",
       "2        0.370735\n",
       "3        0.697788\n",
       "4        0.140920\n",
       "           ...   \n",
       "23995    0.657540\n",
       "23996    0.249894\n",
       "23997    0.262673\n",
       "23998    0.510114\n",
       "23999    0.179612\n",
       "Name: default_status, Length: 24000, dtype: float64"
      ]
     },
     "execution_count": 4,
     "metadata": {},
     "output_type": "execute_result"
    }
   ],
   "source": [
    "b15 = (lg2.default_status*0.1 + xg.default_status*0.2 +  cat0.default_status*0.1 +  \n",
    "      cat1.default_status*0.3 + cat2.default_status * 0.3)\n",
    "make_submission(b15, 'b15.csv')\n",
    "b15"
   ]
  },
  {
   "cell_type": "code",
   "execution_count": 5,
   "metadata": {},
   "outputs": [
    {
     "data": {
      "text/plain": [
       "0        0.262170\n",
       "1        0.330288\n",
       "2        0.361567\n",
       "3        0.671535\n",
       "4        0.131791\n",
       "           ...   \n",
       "23995    0.632305\n",
       "23996    0.233672\n",
       "23997    0.238082\n",
       "23998    0.469360\n",
       "23999    0.169003\n",
       "Name: default_status, Length: 24000, dtype: float64"
      ]
     },
     "execution_count": 5,
     "metadata": {},
     "output_type": "execute_result"
    }
   ],
   "source": [
    "b16 = (lg.default_status + xg.default_status +  cat0.default_status +  \n",
    "      cat1.default_status + cat2.default_status)/5\n",
    "make_submission(b16, 'b16.csv')\n",
    "b16"
   ]
  },
  {
   "cell_type": "code",
   "execution_count": 24,
   "metadata": {},
   "outputs": [
    {
     "data": {
      "text/plain": [
       "0        0.283995\n",
       "1        0.364133\n",
       "2        0.364521\n",
       "3        0.701410\n",
       "4        0.154981\n",
       "           ...   \n",
       "23995    0.654522\n",
       "23996    0.253994\n",
       "23997    0.262470\n",
       "23998    0.509249\n",
       "23999    0.182821\n",
       "Name: default_status, Length: 24000, dtype: float64"
      ]
     },
     "execution_count": 24,
     "metadata": {},
     "output_type": "execute_result"
    }
   ],
   "source": [
    "b13 = (cat4.default_status*0.2 + xg.default_status*0.1 +  cat0.default_status*0.1 +  cat1.default_status*0.3 + cat2.default_status * 0.3)\n",
    "make_submission(b13, 'b13.csv')\n",
    "b13"
   ]
  },
  {
   "cell_type": "code",
   "execution_count": 10,
   "metadata": {},
   "outputs": [
    {
     "data": {
      "text/plain": [
       "0        0.292162\n",
       "1        0.370772\n",
       "2        0.393624\n",
       "3        0.735278\n",
       "4        0.147434\n",
       "           ...   \n",
       "23995    0.695141\n",
       "23996    0.265573\n",
       "23997    0.272922\n",
       "23998    0.536123\n",
       "23999    0.185213\n",
       "Name: default_status, Length: 24000, dtype: float64"
      ]
     },
     "execution_count": 10,
     "metadata": {},
     "output_type": "execute_result"
    }
   ],
   "source": [
    "b6 = (a75.default_status*0.1 + xg.default_status*0.2 + cat1.default_status*0.4 + cat2.default_status * 0.3)\n",
    "make_submission(b6, 'b6.csv')\n",
    "b6"
   ]
  },
  {
   "cell_type": "code",
   "execution_count": 11,
   "metadata": {},
   "outputs": [
    {
     "data": {
      "text/plain": [
       "0        0.290883\n",
       "1        0.374725\n",
       "2        0.394240\n",
       "3        0.741145\n",
       "4        0.150182\n",
       "           ...   \n",
       "23995    0.698411\n",
       "23996    0.261120\n",
       "23997    0.272159\n",
       "23998    0.528303\n",
       "23999    0.186923\n",
       "Name: default_status, Length: 24000, dtype: float64"
      ]
     },
     "execution_count": 11,
     "metadata": {},
     "output_type": "execute_result"
    }
   ],
   "source": [
    "b7 = (b3*0.8 + b5*0.2)\n",
    "make_submission(b7, 'b7.csv')\n",
    "b7"
   ]
  },
  {
   "cell_type": "code",
   "execution_count": 6,
   "metadata": {},
   "outputs": [
    {
     "data": {
      "text/plain": [
       "0        0.293677\n",
       "1        0.347122\n",
       "2        0.411006\n",
       "3        0.738191\n",
       "4        0.125575\n",
       "           ...   \n",
       "23995    0.707716\n",
       "23996    0.266732\n",
       "23997    0.260509\n",
       "23998    0.532145\n",
       "23999    0.172866\n",
       "Name: default_status, Length: 24000, dtype: float64"
      ]
     },
     "execution_count": 6,
     "metadata": {},
     "output_type": "execute_result"
    }
   ],
   "source": [
    "b2 = (b1 + a75.default_status)/2\n",
    "make_submission(b2, 'b2.csv')\n",
    "b2"
   ]
  },
  {
   "cell_type": "code",
   "execution_count": 15,
   "metadata": {},
   "outputs": [
    {
     "data": {
      "text/plain": [
       "0        0.290461\n",
       "1        0.379707\n",
       "2        0.371007\n",
       "3        0.716115\n",
       "4        0.168508\n",
       "           ...   \n",
       "23995    0.671893\n",
       "23996    0.247830\n",
       "23997    0.275311\n",
       "23998    0.513719\n",
       "23999    0.190742\n",
       "Name: default_status, Length: 24000, dtype: float64"
      ]
     },
     "execution_count": 15,
     "metadata": {},
     "output_type": "execute_result"
    }
   ],
   "source": [
    "a73 = ((a67.default_status * 0.15 + a55.default_status*0.15  + a68.default_status * 0.3 + a65.default_status * 0.4) * 0.25 + \n",
    "       (a67.default_status * 0.25 + a68.default_status * 0.15 + a65.default_status * 0.6) * 0.75)\n",
    "make_submission(a73, 'a73.csv')\n",
    "a73"
   ]
  },
  {
   "cell_type": "code",
   "execution_count": 16,
   "metadata": {},
   "outputs": [
    {
     "data": {
      "text/plain": [
       "0        0.297331\n",
       "1        0.388790\n",
       "2        0.379729\n",
       "3        0.733067\n",
       "4        0.172469\n",
       "           ...   \n",
       "23995    0.687761\n",
       "23996    0.253788\n",
       "23997    0.281842\n",
       "23998    0.525882\n",
       "23999    0.195215\n",
       "Name: default_status, Length: 24000, dtype: float64"
      ]
     },
     "execution_count": 16,
     "metadata": {},
     "output_type": "execute_result"
    }
   ],
   "source": [
    "a74 = (a69 + a72 + a71)/3\n",
    "make_submission(a74, 'a74.csv')\n",
    "a74"
   ]
  },
  {
   "cell_type": "code",
   "execution_count": 17,
   "metadata": {},
   "outputs": [
    {
     "data": {
      "text/plain": [
       "0        0.289105\n",
       "1        0.378340\n",
       "2        0.369067\n",
       "3        0.712397\n",
       "4        0.167558\n",
       "           ...   \n",
       "23995    0.668514\n",
       "23996    0.247068\n",
       "23997    0.273991\n",
       "23998    0.511163\n",
       "23999    0.189607\n",
       "Name: default_status, Length: 24000, dtype: float64"
      ]
     },
     "execution_count": 17,
     "metadata": {},
     "output_type": "execute_result"
    }
   ],
   "source": [
    "a75 = (a71 * 0.8 + a72 * 0.2) * 0.7 + (a71 * 0.3)\n",
    "make_submission(a75, 'a75.csv')\n",
    "a75"
   ]
  },
  {
   "cell_type": "code",
   "execution_count": 8,
   "metadata": {},
   "outputs": [
    {
     "data": {
      "text/plain": [
       "0        0.278292\n",
       "1        0.360518\n",
       "2        0.354835\n",
       "3        0.679819\n",
       "4        0.161127\n",
       "           ...   \n",
       "23995    0.640030\n",
       "23996    0.236562\n",
       "23997    0.261350\n",
       "23998    0.488175\n",
       "23999    0.181770\n",
       "Name: default_status, Length: 24000, dtype: float64"
      ]
     },
     "execution_count": 8,
     "metadata": {},
     "output_type": "execute_result"
    }
   ],
   "source": [
    "a66 = (a60.default_status + a59.default_status + a60.default_status+ a65)/4\n",
    "make_submission(a66, 'a66.csv')\n",
    "a66"
   ]
  },
  {
   "cell_type": "code",
   "execution_count": 6,
   "metadata": {},
   "outputs": [
    {
     "data": {
      "text/plain": [
       "0        0.280802\n",
       "1        0.368704\n",
       "2        0.357635\n",
       "3        0.689422\n",
       "4        0.162023\n",
       "           ...   \n",
       "23995    0.647885\n",
       "23996    0.241395\n",
       "23997    0.265638\n",
       "23998    0.495273\n",
       "23999    0.183040\n",
       "Name: default_status, Length: 24000, dtype: float64"
      ]
     },
     "execution_count": 6,
     "metadata": {},
     "output_type": "execute_result"
    }
   ],
   "source": [
    "a65 = (a64.default_status + a63.default_status + a62.default_status+ a61.default_status)/4\n",
    "make_submission(a65, 'a65.csv')\n",
    "a65"
   ]
  },
  {
   "cell_type": "code",
   "execution_count": 15,
   "metadata": {},
   "outputs": [
    {
     "data": {
      "text/plain": [
       "0        0.286017\n",
       "1        0.370197\n",
       "2        0.366372\n",
       "3        0.702542\n",
       "4        0.166342\n",
       "           ...   \n",
       "23995    0.660706\n",
       "23996    0.241766\n",
       "23997    0.269756\n",
       "23998    0.503888\n",
       "23999    0.188305\n",
       "Name: default_status, Length: 24000, dtype: float64"
      ]
     },
     "execution_count": 15,
     "metadata": {},
     "output_type": "execute_result"
    }
   ],
   "source": [
    "a62 = (a61 + a60 + a59)/3\n",
    "make_submission(a62, 'a62.csv')\n",
    "a62"
   ]
  },
  {
   "cell_type": "code",
   "execution_count": 10,
   "metadata": {},
   "outputs": [
    {
     "data": {
      "text/plain": [
       "0        0.273998\n",
       "1        0.352477\n",
       "2        0.348724\n",
       "3        0.665757\n",
       "4        0.158574\n",
       "           ...   \n",
       "23995    0.627619\n",
       "23996    0.232289\n",
       "23997    0.255765\n",
       "23998    0.478140\n",
       "23999    0.178424\n",
       "Name: default_status, Length: 24000, dtype: float64"
      ]
     },
     "execution_count": 10,
     "metadata": {},
     "output_type": "execute_result"
    }
   ],
   "source": [
    "a60 = (a39.default_status + a53.default_status + a58)/3\n",
    "make_submission(a60, 'a60.csv')\n",
    "a60"
   ]
  },
  {
   "cell_type": "code",
   "execution_count": 7,
   "metadata": {},
   "outputs": [
    {
     "data": {
      "text/plain": [
       "0        0.284369\n",
       "1        0.368416\n",
       "2        0.364258\n",
       "3        0.698339\n",
       "4        0.165338\n",
       "           ...   \n",
       "23995    0.656997\n",
       "23996    0.240273\n",
       "23997    0.268229\n",
       "23998    0.501148\n",
       "23999    0.187190\n",
       "Name: default_status, Length: 24000, dtype: float64"
      ]
     },
     "execution_count": 7,
     "metadata": {},
     "output_type": "execute_result"
    }
   ],
   "source": [
    "a59 = (a55.default_status * 0.2 + a57.default_status * 0.8) * 0.8 + (a57.default_status) * 0.2\n",
    "make_submission(a59, 'a59.csv')\n",
    "a59"
   ]
  },
  {
   "cell_type": "code",
   "execution_count": null,
   "metadata": {},
   "outputs": [],
   "source": []
  }
 ],
 "metadata": {
  "kernelspec": {
   "display_name": "Python 3",
   "language": "python",
   "name": "python3"
  },
  "language_info": {
   "codemirror_mode": {
    "name": "ipython",
    "version": 3
   },
   "file_extension": ".py",
   "mimetype": "text/x-python",
   "name": "python",
   "nbconvert_exporter": "python",
   "pygments_lexer": "ipython3",
   "version": "3.7.6"
  }
 },
 "nbformat": 4,
 "nbformat_minor": 2
}
